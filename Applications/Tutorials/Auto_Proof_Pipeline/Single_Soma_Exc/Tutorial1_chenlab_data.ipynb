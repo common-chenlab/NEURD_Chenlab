{
 "cells": [
  {
   "cell_type": "code",
   "execution_count": 17,
   "id": "077350ae",
   "metadata": {},
   "outputs": [
    {
     "name": "stdout",
     "output_type": "stream",
     "text": [
      "The autoreload extension is already loaded. To reload it, use:\n",
      "  %reload_ext autoreload\n"
     ]
    }
   ],
   "source": [
    "%load_ext autoreload\n",
    "%autoreload 2"
   ]
  },
  {
   "cell_type": "code",
   "execution_count": 18,
   "id": "c0765d62",
   "metadata": {
    "scrolled": true
   },
   "outputs": [],
   "source": [
    "import neurd"
   ]
  },
  {
   "cell_type": "code",
   "execution_count": 19,
   "id": "f59f25d5",
   "metadata": {
    "scrolled": true
   },
   "outputs": [
    {
     "name": "stdout",
     "output_type": "stream",
     "text": [
      "/usr/local/lib/python3.8/dist-packages/mesh_tools/trimesh_utils.py\n"
     ]
    }
   ],
   "source": [
    "from mesh_tools import trimesh_utils as tu\n",
    "from datasci_tools import ipyvolume_utils as ipvu\n",
    "from neurd import neuron_visualizations as nviz\n",
    "from pathlib import Path\n",
    "import os\n",
    "\n",
    "import inspect\n",
    "print(inspect.getfile(tu))\n"
   ]
  },
  {
   "cell_type": "markdown",
   "id": "a4a1285f-b1d1-4ea3-89ed-38d99ff2b421",
   "metadata": {},
   "source": [
    "Use MeshParty to Upload ChenLab Data "
   ]
  },
  {
   "cell_type": "code",
   "execution_count": 20,
   "id": "87e82616-a29a-483d-80bd-c1794d687348",
   "metadata": {},
   "outputs": [
    {
     "name": "stdout",
     "output_type": "stream",
     "text": [
      "Mesh has been saved to /NEURD_Chenlab/Applications/Tutorials/Auto_Proof_Pipeline/Single_Soma_Exc/32414.off\n"
     ]
    }
   ],
   "source": [
    "#  ChenLab script...\n",
    "\n",
    "from meshparty import trimesh_io  # for grabbing a mesh\n",
    "from meshparty import trimesh_vtk  # for visualizing meshes and skeletons\n",
    "    \n",
    "# provide the DENDRITIC segmentation ID for the cell of interest\n",
    "dend_id = 75719036679410195  \n",
    "\n",
    "# Get the DENDRITIC segmentation mesh from neuroglancer\n",
    "mm = trimesh_io.MeshMeta(\n",
    "        cv_path=\"precomputed://gs://zetta_jchen_mouse_cortex_001_segmentation/cell/lowres/240820_emb24_lowres_x1/seg\", \n",
    "        map_gs_to_https=True)\n",
    "\n",
    "mesh = mm.mesh(seg_id=dend_id) \n",
    "\n",
    "# visualize the mesh\n",
    "mesh_actor = trimesh_vtk.mesh_actor(mesh,  color=(1,0,0),  opacity=0.25)\n",
    "#trimesh_vtk.render_actors([mesh_actor]) #NOTE: need to close the window when done to unpause python\n",
    "\n",
    "# store the mesh\n",
    "# Define the local file path where you want to save the mesh (with .off extension)\n",
    "local_file_path = \"32414.off\"\n",
    "# Export the mesh to a .off file\n",
    "mesh.export(local_file_path)\n",
    "# Confirm the file has been saved\n",
    "print(f\"Mesh has been saved to {os.path.abspath(local_file_path)}\")\n",
    "\n",
    "\n",
    "#import skeletor as sk\n",
    "# pre-process the mesh (may not be necessary)\n",
    "#mesh_fix = sk.pre.fix_mesh(mesh) #\n",
    "#mesh_fix_actor = trimesh_vtk.mesh_actor(mesh_fix,  color=(1,0,0),  opacity=0.25)\n",
    "#trimesh_vtk.render_actors([mesh_actor, mesh_fix_actor]) \n",
    "\n"
   ]
  },
  {
   "cell_type": "markdown",
   "id": "8c857d7b",
   "metadata": {},
   "source": [
    "# Load the appropriate volume data inferface object"
   ]
  },
  {
   "cell_type": "code",
   "execution_count": 21,
   "id": "863967b7",
   "metadata": {},
   "outputs": [],
   "source": [
    "from neurd.vdi_microns import volume_data_interface as vdi\n",
    "vdi.set_parameters_for_directory_modules()"
   ]
  },
  {
   "cell_type": "markdown",
   "id": "6f9b75c9",
   "metadata": {},
   "source": [
    "# Data Prep: Loading mesh"
   ]
  },
  {
   "cell_type": "code",
   "execution_count": 22,
   "id": "ad55fde0-6dab-4af5-a657-64bb10d87a82",
   "metadata": {},
   "outputs": [
    {
     "name": "stderr",
     "output_type": "stream",
     "text": [
      "/usr/local/lib/python3.8/dist-packages/traittypes/traittypes.py:97: UserWarning: Given trait value dtype \"float64\" does not match required type \"float64\". A coerced copy has been created.\n",
      "  warnings.warn(\n"
     ]
    },
    {
     "data": {
      "application/vnd.jupyter.widget-view+json": {
       "model_id": "52bc756c72d048708da845616fbdb9bc",
       "version_major": 2,
       "version_minor": 0
      },
      "text/plain": [
       "Container(figure=Figure(box_center=[0.5, 0.5, 0.5], box_size=[1.0, 1.0, 1.0], camera=PerspectiveCamera(fov=45.…"
      ]
     },
     "metadata": {},
     "output_type": "display_data"
    },
    {
     "data": {
      "text/plain": [
       "<trimesh.Trimesh(vertices.shape=(365198, 3), faces.shape=(730572, 3), name=`32414.off`)>"
      ]
     },
     "execution_count": 22,
     "metadata": {},
     "output_type": "execute_result"
    }
   ],
   "source": [
    "# ChenLab MESH!!!\n",
    "segment_id = 32414\n",
    "\n",
    "mesh = vdi.fetch_segment_id_mesh(\n",
    "    segment_id,\n",
    "    plot = True\n",
    ")\n",
    "\n",
    "mesh"
   ]
  },
  {
   "cell_type": "code",
   "execution_count": 23,
   "id": "ca761cd9-6852-4f40-a684-2c99665df28b",
   "metadata": {},
   "outputs": [
    {
     "name": "stdout",
     "output_type": "stream",
     "text": [
      "mesh size 36116418 bytes\n"
     ]
    }
   ],
   "source": [
    "# analyze dataset properties (ChenLab)\n",
    "\n",
    "filepath = '32414.off'\n",
    "print(f'mesh size {os.path.getsize(filepath)} bytes')\n"
   ]
  },
  {
   "cell_type": "code",
   "execution_count": 24,
   "id": "0cfc1789",
   "metadata": {},
   "outputs": [
    {
     "data": {
      "text/plain": [
       "<datasci_tools.pipeline.PipelineProducts at 0x7f7a218fa730>"
      ]
     },
     "execution_count": 24,
     "metadata": {},
     "output_type": "execute_result"
    }
   ],
   "source": [
    "from datasci_tools import pipeline\n",
    "\n",
    "products = pipeline.PipelineProducts()\n",
    "products"
   ]
  },
  {
   "cell_type": "markdown",
   "id": "7a30c933",
   "metadata": {},
   "source": [
    "# Step 1: Decimation"
   ]
  },
  {
   "cell_type": "markdown",
   "id": "128122bb-3c47-4de9-b325-bc0c802edaa3",
   "metadata": {},
   "source": [
    "Decimation involves\n"
   ]
  },
  {
   "cell_type": "code",
   "execution_count": 25,
   "id": "29e0844f",
   "metadata": {},
   "outputs": [
    {
     "data": {
      "text/plain": [
       "\"\\nNOTE: an already decimated mesh is used for the example\\nin order to speed up time, that's why the mesh_dec\\nobject will be overwritten with original mesh object\\n\""
      ]
     },
     "execution_count": 25,
     "metadata": {},
     "output_type": "execute_result"
    }
   ],
   "source": [
    "\"\"\"\n",
    "NOTE: an already decimated mesh is used for the example\n",
    "in order to speed up time, that's why the mesh_dec\n",
    "object will be overwritten with original mesh object\n",
    "\"\"\""
   ]
  },
  {
   "cell_type": "code",
   "execution_count": 26,
   "id": "cdbb6e70",
   "metadata": {},
   "outputs": [],
   "source": [
    "decimation_parameters = dict(\n",
    "    decimation_ratio =0.25,\n",
    ")"
   ]
  },
  {
   "cell_type": "code",
   "execution_count": 27,
   "id": "b3973f2c",
   "metadata": {},
   "outputs": [
    {
     "name": "stdout",
     "output_type": "stream",
     "text": [
      "xvfb-run -n 6097 -s \"-screen 0 800x600x24\" meshlabserver $@  -i /NEURD_Chenlab/Applications/Tutorials/Auto_Proof_Pipeline/Single_Soma_Exc/temp/neuron_87697.off -o /NEURD_Chenlab/Applications/Tutorials/Auto_Proof_Pipeline/Single_Soma_Exc/temp/neuron_87697_decimated.off -s /NEURD_Chenlab/Applications/Tutorials/Auto_Proof_Pipeline/Single_Soma_Exc/temp/decimation_meshlab_25378983.mls\n",
      "Total time = 22.671700477600098\n"
     ]
    }
   ],
   "source": [
    "import time\n",
    "\n",
    "# tu\n",
    "\n",
    "st = time.time()\n",
    "mesh_decimated = tu.decimate(\n",
    "    mesh,\n",
    "    **decimation_parameters\n",
    ")\n",
    "\n",
    "print(f\"Total time = {time.time() - st}\")"
   ]
  },
  {
   "cell_type": "code",
   "execution_count": 28,
   "id": "bbf7c8d0",
   "metadata": {},
   "outputs": [
    {
     "name": "stdout",
     "output_type": "stream",
     "text": [
      "{\n",
      "  'decimation':\n",
      "  {\n",
      "    'decimation_parameters':\n",
      "    {\n",
      "      'decimation_ratio':0.25,\n",
      "    },\n",
      "    'segment_id':32414,\n",
      "  },\n",
      "}\n",
      "\n"
     ]
    }
   ],
   "source": [
    "# saving any parameters used or output products for later use\n",
    "products.set_stage_attrs(\n",
    "    stage = \"decimation\",\n",
    "    attr_dict = dict(\n",
    "        decimation_parameters = decimation_parameters,\n",
    "        segment_id = segment_id,\n",
    "    ),\n",
    ")\n",
    "\n",
    "print(products)"
   ]
  },
  {
   "cell_type": "markdown",
   "id": "bc57fd52",
   "metadata": {},
   "source": [
    "# Step 2: Soma Identification"
   ]
  },
  {
   "cell_type": "code",
   "execution_count": 29,
   "id": "8866641c",
   "metadata": {},
   "outputs": [],
   "source": [
    "from neurd import soma_extraction_utils as sm\n",
    "soma_extraction_parameters = dict()"
   ]
  },
  {
   "cell_type": "code",
   "execution_count": 30,
   "id": "b65f18a1",
   "metadata": {},
   "outputs": [
    {
     "data": {
      "text/plain": [
       "{'glia_volume_threshold_in_um_global': 2500,\n",
       " 'glia_n_faces_threshold_global': 400000,\n",
       " 'glia_n_faces_min_global': 100000}"
      ]
     },
     "execution_count": 30,
     "metadata": {},
     "output_type": "execute_result"
    }
   ],
   "source": [
    "# could inspect the parameters of a certain category\n",
    "from neurd import parameter_utils as paru\n",
    "paru.category_param_from_module(\n",
    "        module = sm,\n",
    "        category = \"glia\",\n",
    ")"
   ]
  },
  {
   "cell_type": "code",
   "execution_count": 31,
   "id": "b6ff9777",
   "metadata": {},
   "outputs": [
    {
     "name": "stdout",
     "output_type": "stream",
     "text": [
      "Current Arguments Using (adjusted for decimation):\n",
      " large_mesh_threshold= 5000.0 \n",
      "large_mesh_threshold_inner = 3250.0 \n",
      "soma_size_threshold = 562.5 \n",
      "soma_size_threshold_max = 75000.0\n",
      "outer_decimation_ratio = 0.25\n",
      "inner_decimation_ratio = 0.25\n",
      "max_mesh_sized_filtered_away = 22500.0\n",
      "xvfb-run -n 3761 -s \"-screen 0 800x600x24\" meshlabserver $@  -i /NEURD_Chenlab/Applications/Tutorials/Auto_Proof_Pipeline/Single_Soma_Exc/temp/neuron_39653.off -o /NEURD_Chenlab/Applications/Tutorials/Auto_Proof_Pipeline/Single_Soma_Exc/temp/neuron_39653_remove_interior.off -s /NEURD_Chenlab/Applications/Tutorials/Auto_Proof_Pipeline/Single_Soma_Exc/temp/remove_interior_139021.mls\n",
      "removed temporary input file: /NEURD_Chenlab/Applications/Tutorials/Auto_Proof_Pipeline/Single_Soma_Exc/temp/neuron_39653.off\n",
      "removed temporary output file: /NEURD_Chenlab/Applications/Tutorials/Auto_Proof_Pipeline/Single_Soma_Exc/temp/neuron_39653_remove_interior.off\n",
      "/NEURD_Chenlab/Applications/Tutorials/Auto_Proof_Pipeline/Single_Soma_Exc/temp/remove_interior_139021.mls is being deleted....\n",
      "There were 1 total interior meshes\n",
      "Pieces satisfying glia requirements (volume) (x >= 2500000000000): 0\n",
      "Pieces satisfying nuclie requirements: n_faces (700 <= x) and volume (x < 2500000000000) : 1\n",
      "inside remove_mesh_interior and using precomputed inside_pieces\n",
      "Removing the following inside neurons: [<trimesh.Trimesh(vertices.shape=(4492, 3), faces.shape=(8984, 3))>]\n",
      "\n",
      "\n",
      "Original Mesh size: 182642, Final mesh size: 173658\n",
      "Total time = 10.316670894622803\n",
      "xvfb-run -n 9684 -s \"-screen 0 800x600x24\" meshlabserver $@  -i /NEURD_Chenlab/Applications/Tutorials/Auto_Proof_Pipeline/Single_Soma_Exc/12345/neuron_12345.off -o /NEURD_Chenlab/Applications/Tutorials/Auto_Proof_Pipeline/Single_Soma_Exc/12345/neuron_12345_decimated.off -s /NEURD_Chenlab/Applications/Tutorials/Auto_Proof_Pipeline/Single_Soma_Exc/12345/decimation_meshlab_25641631.mls\n",
      "Total found significant pieces before Poisson = [<trimesh.Trimesh(vertices.shape=(21068, 3), faces.shape=(42628, 3), name=`neuron_12345_decimated.off`)>]\n",
      "----- working on large mesh #0: <trimesh.Trimesh(vertices.shape=(21068, 3), faces.shape=(42628, 3), name=`neuron_12345_decimated.off`)>\n",
      "remove_inside_pieces requested \n",
      "xvfb-run -n 6205 -s \"-screen 0 800x600x24\" meshlabserver $@  -i /NEURD_Chenlab/Applications/Tutorials/Auto_Proof_Pipeline/Single_Soma_Exc/temp/neuron_12318.off -o /NEURD_Chenlab/Applications/Tutorials/Auto_Proof_Pipeline/Single_Soma_Exc/temp/neuron_12318_remove_interior.off -s /NEURD_Chenlab/Applications/Tutorials/Auto_Proof_Pipeline/Single_Soma_Exc/temp/remove_interior_365160.mls\n",
      "removed temporary input file: /NEURD_Chenlab/Applications/Tutorials/Auto_Proof_Pipeline/Single_Soma_Exc/temp/neuron_12318.off\n",
      "removed temporary output file: /NEURD_Chenlab/Applications/Tutorials/Auto_Proof_Pipeline/Single_Soma_Exc/temp/neuron_12318_remove_interior.off\n",
      "/NEURD_Chenlab/Applications/Tutorials/Auto_Proof_Pipeline/Single_Soma_Exc/temp/remove_interior_365160.mls is being deleted....\n",
      "No significant (1000) interior meshes present\n",
      "largest is 52\n",
      "pre_largest_mesh_path = /NEURD_Chenlab/Applications/Tutorials/Auto_Proof_Pipeline/Single_Soma_Exc/12345/neuron_12345_decimated_largest_piece.off\n",
      "xvfb-run -n 5507 -s \"-screen 0 800x600x24\" meshlabserver $@  -i /NEURD_Chenlab/Applications/Tutorials/Auto_Proof_Pipeline/Single_Soma_Exc/12345/neuron_12345_decimated_largest_piece.off -o /NEURD_Chenlab/Applications/Tutorials/Auto_Proof_Pipeline/Single_Soma_Exc/12345/neuron_12345_decimated_largest_piece_poisson.off -s /NEURD_Chenlab/Applications/Tutorials/Auto_Proof_Pipeline/Single_Soma_Exc/12345/poisson_164809.mls\n",
      "Total found significant pieces AFTER Poisson = [<trimesh.Trimesh(vertices.shape=(51109, 3), faces.shape=(102214, 3), name=`neuron_12345_decimated_largest_piece_poisson.off`)>, <trimesh.Trimesh(vertices.shape=(4229, 3), faces.shape=(8454, 3), name=`neuron_12345_decimated_largest_piece_poisson.off`)>]\n",
      "----- working on mesh after poisson #0: <trimesh.Trimesh(vertices.shape=(51109, 3), faces.shape=(102214, 3), name=`neuron_12345_decimated_largest_piece_poisson.off`)>\n",
      "xvfb-run -n 1035 -s \"-screen 0 800x600x24\" meshlabserver $@  -i /NEURD_Chenlab/Applications/Tutorials/Auto_Proof_Pipeline/Single_Soma_Exc/12345/neuron_12345_decimated_largest_piece_poisson_largest_inner.off -o /NEURD_Chenlab/Applications/Tutorials/Auto_Proof_Pipeline/Single_Soma_Exc/12345/neuron_12345_decimated_largest_piece_poisson_largest_inner_decimated.off -s /NEURD_Chenlab/Applications/Tutorials/Auto_Proof_Pipeline/Single_Soma_Exc/12345/decimation_meshlab_25814414.mls\n",
      "\n",
      "-------Splits after inner decimation len = 1--------\n",
      "\n",
      "done exporting decimated mesh: neuron_12345_decimated_largest_piece_poisson_largest_inner.off\n",
      "\n",
      "    --- On segmentation loop 0 --\n",
      "largest_mesh_path_inner_decimated_clean = <trimesh.Trimesh(vertices.shape=(12777, 3), faces.shape=(25550, 3), name=`neuron_12345_decimated_largest_piece_poisson_largest_inner_decimated.off`)>\n",
      "\n",
      "largest_mesh_path_inner_decimated_clean = <trimesh.Trimesh(vertices.shape=(12777, 3), faces.shape=(25550, 3), name=`neuron_12345_decimated_largest_piece_poisson_largest_inner_decimated.off`)>\n",
      "soma_size_threshold = 562.5\n",
      "soma_size_threshold_max = 75000.0\n",
      "soma_width_threshold = 0.32\n",
      "\n",
      "Number of segments: 14\n",
      "\n"
     ]
    },
    {
     "data": {
      "application/vnd.jupyter.widget-view+json": {
       "model_id": "4d26bff0ca23412d90ca37abdee5fe58",
       "version_major": 2,
       "version_minor": 0
      },
      "text/plain": [
       "  0%|          | 0/14 [00:00<?, ?it/s]"
      ]
     },
     "metadata": {},
     "output_type": "display_data"
    },
    {
     "name": "stdout",
     "output_type": "stream",
     "text": [
      "      ------ Found 1 viable somas: [0.8670964999999999]\n",
      "Using Poisson Surface Reconstruction for watertightness in soma_volume_ratio\n",
      "xvfb-run -n 5263 -s \"-screen 0 800x600x24\" meshlabserver $@  -i /NEURD_Chenlab/Applications/Tutorials/Auto_Proof_Pipeline/Single_Soma_Exc/Poisson_temp/neuron_716048.off -o /NEURD_Chenlab/Applications/Tutorials/Auto_Proof_Pipeline/Single_Soma_Exc/Poisson_temp/neuron_716048_poisson.off -s /NEURD_Chenlab/Applications/Tutorials/Auto_Proof_Pipeline/Single_Soma_Exc/Poisson_temp/poisson_662911.mls\n",
      "removed temporary input file: /NEURD_Chenlab/Applications/Tutorials/Auto_Proof_Pipeline/Single_Soma_Exc/Poisson_temp/neuron_716048.off\n",
      "removed temporary output file: /NEURD_Chenlab/Applications/Tutorials/Auto_Proof_Pipeline/Single_Soma_Exc/Poisson_temp/neuron_716048_poisson.off\n",
      "mesh.is_watertight = True\n",
      "/NEURD_Chenlab/Applications/Tutorials/Auto_Proof_Pipeline/Single_Soma_Exc/Poisson_temp/poisson_662911.mls is being deleted....\n",
      "Inside sphere validater: ratio_val = 2.486329499435363\n",
      "----- working on mesh after poisson #1: <trimesh.Trimesh(vertices.shape=(4229, 3), faces.shape=(8454, 3), name=`neuron_12345_decimated_largest_piece_poisson.off`)>\n",
      "xvfb-run -n 657 -s \"-screen 0 800x600x24\" meshlabserver $@  -i /NEURD_Chenlab/Applications/Tutorials/Auto_Proof_Pipeline/Single_Soma_Exc/12345/neuron_12345_decimated_largest_piece_poisson_largest_inner.off -o /NEURD_Chenlab/Applications/Tutorials/Auto_Proof_Pipeline/Single_Soma_Exc/12345/neuron_12345_decimated_largest_piece_poisson_largest_inner_decimated.off -s /NEURD_Chenlab/Applications/Tutorials/Auto_Proof_Pipeline/Single_Soma_Exc/12345/decimation_meshlab_25814414.mls\n",
      "\n",
      "-------Splits after inner decimation len = 1--------\n",
      "\n",
      "done exporting decimated mesh: neuron_12345_decimated_largest_piece_poisson_largest_inner.off\n",
      "\n",
      "    --- On segmentation loop 0 --\n",
      "largest_mesh_path_inner_decimated_clean = <trimesh.Trimesh(vertices.shape=(1058, 3), faces.shape=(2112, 3), name=`neuron_12345_decimated_largest_piece_poisson_largest_inner_decimated.off`)>\n",
      "\n",
      "largest_mesh_path_inner_decimated_clean = <trimesh.Trimesh(vertices.shape=(1058, 3), faces.shape=(2112, 3), name=`neuron_12345_decimated_largest_piece_poisson_largest_inner_decimated.off`)>\n",
      "soma_size_threshold = 562.5\n",
      "soma_size_threshold_max = 75000.0\n",
      "soma_width_threshold = 0.32\n",
      "\n",
      "Number of segments: 5\n",
      "\n"
     ]
    },
    {
     "data": {
      "application/vnd.jupyter.widget-view+json": {
       "model_id": "7380907ec83e4c52ad147e09403df263",
       "version_major": 2,
       "version_minor": 0
      },
      "text/plain": [
       "  0%|          | 0/5 [00:00<?, ?it/s]"
      ]
     },
     "metadata": {},
     "output_type": "display_data"
    },
    {
     "name": "stdout",
     "output_type": "stream",
     "text": [
      "      ------ Found 1 viable somas: [0.577805]\n",
      "xz = 6.232575437305518 ratio was beyong 6 multiplier\n",
      "yz = 7.309074290114619 ratio was beyong 6 multiplier\n",
      "mesh.is_watertight = True\n",
      "/NEURD_Chenlab/Applications/Tutorials/Auto_Proof_Pipeline/Single_Soma_Exc/Poisson_temp/poisson_719686.mls is being deleted....\n",
      "Inside sphere validater: ratio_val = 455.11247054898183\n",
      "->Attempting retry of soma because failed first checks: soma_mesh = <trimesh.Trimesh(vertices.shape=(542, 3), faces.shape=(1077, 3), name=`neuron_12345_decimated_largest_piece_poisson_largest_inner_decimated.off`)>, curr_side_len_check = False, curr_volume_check = False\n",
      "perc_0_faces = 0.002785515320334262\n",
      "Going to run cgal segmentation with:\n",
      "File: /NEURD_Chenlab/Applications/Tutorials/Auto_Proof_Pipeline/Single_Soma_Exc/522_mesh \n",
      "clusters:3 \n",
      "smoothness:0.2\n",
      "\n",
      "Number of segments: 3\n",
      "\n"
     ]
    },
    {
     "data": {
      "application/vnd.jupyter.widget-view+json": {
       "model_id": "9ec3e5af401a488591c485546a94deb8",
       "version_major": 2,
       "version_minor": 0
      },
      "text/plain": [
       "  0%|          | 0/3 [00:00<?, ?it/s]"
      ]
     },
     "metadata": {},
     "output_type": "display_data"
    },
    {
     "name": "stdout",
     "output_type": "stream",
     "text": [
      "yz = 6.041267222886148 ratio was beyong 6 multiplier\n",
      "mesh.is_watertight = True\n",
      "/NEURD_Chenlab/Applications/Tutorials/Auto_Proof_Pipeline/Single_Soma_Exc/Poisson_temp/poisson_824506.mls is being deleted....\n",
      "Inside sphere validater: ratio_val = 393.3269542168001\n",
      "--->This soma mesh was not added because failed retry of sphere validation:\n",
      " soma_mesh = <trimesh.Trimesh(vertices.shape=(457, 3), faces.shape=(908, 3), name=`neuron_12345_decimated_largest_piece_poisson_largest_inner_decimated.off`)>, curr_side_len_check = False, curr_volume_check = False\n",
      "\n",
      "\n",
      "\n",
      " Total time for run = 52.932541847229004\n",
      "Before Filtering the number of somas found = 1\n",
      "\n",
      "---Performing Soma Mesh Backtracking to original mesh for poisson soma 0\n",
      "backtrack_soma_size_threshold = 8000\n",
      "xvfb-run -n 1091 -s \"-screen 0 800x600x24\" meshlabserver $@  -i /NEURD_Chenlab/Applications/Tutorials/Auto_Proof_Pipeline/Single_Soma_Exc/temp/neuron_13927.off -o /NEURD_Chenlab/Applications/Tutorials/Auto_Proof_Pipeline/Single_Soma_Exc/temp/neuron_13927_fill_holes.off -s /NEURD_Chenlab/Applications/Tutorials/Auto_Proof_Pipeline/Single_Soma_Exc/temp/fill_holes_518824.mls\n",
      "removed temporary input file: /NEURD_Chenlab/Applications/Tutorials/Auto_Proof_Pipeline/Single_Soma_Exc/temp/neuron_13927.off\n",
      "removed temporary output file: /NEURD_Chenlab/Applications/Tutorials/Auto_Proof_Pipeline/Single_Soma_Exc/temp/neuron_13927_fill_holes.off\n",
      "/NEURD_Chenlab/Applications/Tutorials/Auto_Proof_Pipeline/Single_Soma_Exc/temp/fill_holes_518824.mls is being deleted....\n",
      "xvfb-run -n 6933 -s \"-screen 0 800x600x24\" meshlabserver $@  -i /NEURD_Chenlab/Applications/Tutorials/Auto_Proof_Pipeline/Single_Soma_Exc/temp/neuron_91055.off -o /NEURD_Chenlab/Applications/Tutorials/Auto_Proof_Pipeline/Single_Soma_Exc/temp/neuron_91055_remove_interior.off -s /NEURD_Chenlab/Applications/Tutorials/Auto_Proof_Pipeline/Single_Soma_Exc/temp/remove_interior_831452.mls\n",
      "removed temporary input file: /NEURD_Chenlab/Applications/Tutorials/Auto_Proof_Pipeline/Single_Soma_Exc/temp/neuron_91055.off\n",
      "removed temporary output file: /NEURD_Chenlab/Applications/Tutorials/Auto_Proof_Pipeline/Single_Soma_Exc/temp/neuron_91055_remove_interior.off\n",
      "/NEURD_Chenlab/Applications/Tutorials/Auto_Proof_Pipeline/Single_Soma_Exc/temp/remove_interior_831452.mls is being deleted....\n",
      "No significant (300) interior meshes present\n",
      "largest is 206\n",
      "split_meshes_after_backtrack = [<trimesh.Trimesh(vertices.shape=(8836, 3), faces.shape=(17487, 3))>]\n",
      "soma_size_threshold = 8000\n",
      "After backtrack the found 1 possible somas: [<trimesh.Trimesh(vertices.shape=(8836, 3), faces.shape=(17487, 3))>] \n",
      "\n",
      "--- working on backtrack soma 0: <trimesh.Trimesh(vertices.shape=(8836, 3), faces.shape=(17487, 3))>\n",
      "poisson_backtrack_distance_threshold = None\n",
      "Using Poisson Surface Reconstruction for watertightness in soma_volume_ratio\n",
      "xvfb-run -n 4900 -s \"-screen 0 800x600x24\" meshlabserver $@  -i /NEURD_Chenlab/Applications/Tutorials/Auto_Proof_Pipeline/Single_Soma_Exc/Poisson_temp/neuron_615971.off -o /NEURD_Chenlab/Applications/Tutorials/Auto_Proof_Pipeline/Single_Soma_Exc/Poisson_temp/neuron_615971_poisson.off -s /NEURD_Chenlab/Applications/Tutorials/Auto_Proof_Pipeline/Single_Soma_Exc/Poisson_temp/poisson_406.mls\n",
      "removed temporary input file: /NEURD_Chenlab/Applications/Tutorials/Auto_Proof_Pipeline/Single_Soma_Exc/Poisson_temp/neuron_615971.off\n",
      "removed temporary output file: /NEURD_Chenlab/Applications/Tutorials/Auto_Proof_Pipeline/Single_Soma_Exc/Poisson_temp/neuron_615971_poisson.off\n",
      "mesh.is_watertight = True\n",
      "/NEURD_Chenlab/Applications/Tutorials/Auto_Proof_Pipeline/Single_Soma_Exc/Poisson_temp/poisson_406.mls is being deleted....\n",
      "Inside sphere validater: ratio_val = 3.8851124950154654\n",
      "Skipping the segmentatio filter at end\n",
      "removing mesh interior before segmentation\n",
      "xvfb-run -n 9606 -s \"-screen 0 800x600x24\" meshlabserver $@  -i /NEURD_Chenlab/Applications/Tutorials/Auto_Proof_Pipeline/Single_Soma_Exc/temp/neuron_21244.off -o /NEURD_Chenlab/Applications/Tutorials/Auto_Proof_Pipeline/Single_Soma_Exc/temp/neuron_21244_fill_holes.off -s /NEURD_Chenlab/Applications/Tutorials/Auto_Proof_Pipeline/Single_Soma_Exc/temp/fill_holes_188033.mls\n",
      "removed temporary input file: /NEURD_Chenlab/Applications/Tutorials/Auto_Proof_Pipeline/Single_Soma_Exc/temp/neuron_21244.off\n",
      "removed temporary output file: /NEURD_Chenlab/Applications/Tutorials/Auto_Proof_Pipeline/Single_Soma_Exc/temp/neuron_21244_fill_holes.off\n",
      "/NEURD_Chenlab/Applications/Tutorials/Auto_Proof_Pipeline/Single_Soma_Exc/temp/fill_holes_188033.mls is being deleted....\n",
      "xvfb-run -n 5045 -s \"-screen 0 800x600x24\" meshlabserver $@  -i /NEURD_Chenlab/Applications/Tutorials/Auto_Proof_Pipeline/Single_Soma_Exc/temp/neuron_12741.off -o /NEURD_Chenlab/Applications/Tutorials/Auto_Proof_Pipeline/Single_Soma_Exc/temp/neuron_12741_remove_interior.off -s /NEURD_Chenlab/Applications/Tutorials/Auto_Proof_Pipeline/Single_Soma_Exc/temp/remove_interior_705735.mls\n",
      "removed temporary input file: /NEURD_Chenlab/Applications/Tutorials/Auto_Proof_Pipeline/Single_Soma_Exc/temp/neuron_12741.off\n",
      "removed temporary output file: /NEURD_Chenlab/Applications/Tutorials/Auto_Proof_Pipeline/Single_Soma_Exc/temp/neuron_12741_remove_interior.off\n",
      "/NEURD_Chenlab/Applications/Tutorials/Auto_Proof_Pipeline/Single_Soma_Exc/temp/remove_interior_705735.mls is being deleted....\n",
      "No significant (1000) interior meshes present\n",
      "largest is 66\n",
      "Doing the soma segmentation filter at end\n",
      "\n",
      "Number of segments: 1\n",
      "\n"
     ]
    },
    {
     "data": {
      "application/vnd.jupyter.widget-view+json": {
       "model_id": "fec644f650114f779568317a5ac4a54f",
       "version_major": 2,
       "version_minor": 0
      },
      "text/plain": [
       "  0%|          | 0/1 [00:00<?, ?it/s]"
      ]
     },
     "metadata": {},
     "output_type": "display_data"
    },
    {
     "name": "stdout",
     "output_type": "stream",
     "text": [
      "Largest hole before segmentation = 131857.2229139092, after = 131857.2229139092,\n",
      "\n",
      "ratio = 1.0, difference = 0.0\n",
      "filtered_soma_list_components = [<trimesh.Trimesh(vertices.shape=(8836, 3), faces.shape=(17487, 3))>]\n",
      "Not need to do a second pass because already found a soma\n"
     ]
    },
    {
     "name": "stdout",
     "output_type": "stream",
     "text": [
      "xvfb-run -n 8875 -s \"-screen 0 800x600x24\" meshlabserver $@  -i /neurd_packages/NEURD/Applications/Tutorials/Auto_Proof_Pipeline/Single_Soma_Exc/temp/neuron_12305.off -o /neurd_packages/NEURD/Applications/Tutorials/Auto_Proof_Pipeline/Single_Soma_Exc/temp/neuron_12305_fill_holes.off -s /neurd_packages/NEURD/Applications/Tutorials/Auto_Proof_Pipeline/Single_Soma_Exc/temp/fill_holes_342455.mls\n",
      "removed temporary input file: /neurd_packages/NEURD/Applications/Tutorials/Auto_Proof_Pipeline/Single_Soma_Exc/temp/neuron_12305.off\n",
      "removed temporary output file: /neurd_packages/NEURD/Applications/Tutorials/Auto_Proof_Pipeline/Single_Soma_Exc/temp/neuron_12305_fill_holes.off\n",
      "/neurd_packages/NEURD/Applications/Tutorials/Auto_Proof_Pipeline/Single_Soma_Exc/temp/fill_holes_342455.mls is being deleted....\n",
      "xvfb-run -n 1623 -s \"-screen 0 800x600x24\" meshlabserver $@  -i /neurd_packages/NEURD/Applications/Tutorials/Auto_Proof_Pipeline/Single_Soma_Exc/temp/neuron_242.off -o /neurd_packages/NEURD/Applications/Tutorials/Auto_Proof_Pipeline/Single_Soma_Exc/temp/neuron_242_remove_interior.off -s /neurd_packages/NEURD/Applications/Tutorials/Auto_Proof_Pipeline/Single_Soma_Exc/temp/remove_interior_465329.mls\n",
      "removed temporary input file: /neurd_packages/NEURD/Applications/Tutorials/Auto_Proof_Pipeline/Single_Soma_Exc/temp/neuron_242.off\n",
      "removed temporary output file: /neurd_packages/NEURD/Applications/Tutorials/Auto_Proof_Pipeline/Single_Soma_Exc/temp/neuron_242_remove_interior.off\n",
      "/neurd_packages/NEURD/Applications/Tutorials/Auto_Proof_Pipeline/Single_Soma_Exc/temp/remove_interior_465329.mls is being deleted....\n",
      "No significant (1000) interior meshes present\n",
      "largest is 456\n",
      "Doing the soma segmentation filter at end\n",
      "\n",
      "Number of segments: 19\n",
      "\n",
      "Largest hole before segmentation = 195442.17366895775, after = 578941.165186773,\n",
      "\n",
      "ratio = 2.9622120667128398, difference = 383498.9915178153\n",
      "filtered_soma_list_components = [<trimesh.Trimesh(vertices.shape=(19848, 3), faces.shape=(39717, 3))>]\n",
      "Not need to do a second pass because already found a soma\n"
     ]
    }
   ],
   "source": [
    "from neurd import neuron_visualizations as nviz\n",
    "\n",
    "verbose = True\n",
    "\n",
    "soma_products = sm.soma_indentification(\n",
    "    mesh_decimated,\n",
    "    verbose=verbose,\n",
    "    **soma_extraction_parameters\n",
    ")"
   ]
  },
  {
   "cell_type": "code",
   "execution_count": 32,
   "id": "6a79d754",
   "metadata": {},
   "outputs": [
    {
     "name": "stdout",
     "output_type": "stream",
     "text": [
      "# of somas = 1\n",
      "# of glia = 0\n",
      "# of nuclei = 1\n"
     ]
    },
    {
     "data": {
      "application/vnd.jupyter.widget-view+json": {
       "model_id": "008138f14d8140d99523d04b60e4dbf7",
       "version_major": 2,
       "version_minor": 0
      },
      "text/plain": [
       "Container(figure=Figure(box_center=[0.5, 0.5, 0.5], box_size=[1.0, 1.0, 1.0], camera=PerspectiveCamera(fov=45.…"
      ]
     },
     "metadata": {},
     "output_type": "display_data"
    }
   ],
   "source": [
    "sm.plot_soma_products(\n",
    "    mesh_decimated,\n",
    "    soma_products = soma_products,\n",
    "    verbose = True\n",
    ")"
   ]
  },
  {
   "cell_type": "code",
   "execution_count": 33,
   "id": "e43e9f14",
   "metadata": {},
   "outputs": [
    {
     "data": {
      "text/plain": [
       "<datasci_tools.pipeline.StageProducts at 0x7f7a13eec2b0>"
      ]
     },
     "execution_count": 33,
     "metadata": {},
     "output_type": "execute_result"
    }
   ],
   "source": [
    "soma_products.soma_extraction_parameters = soma_extraction_parameters\n",
    "soma_products"
   ]
  },
  {
   "cell_type": "code",
   "execution_count": 34,
   "id": "a5056278",
   "metadata": {
    "scrolled": true
   },
   "outputs": [
    {
     "name": "stdout",
     "output_type": "stream",
     "text": [
      "{\n",
      "  'decimation':\n",
      "  {\n",
      "    'decimation_parameters':\n",
      "    {\n",
      "      'decimation_ratio':0.25,\n",
      "    },\n",
      "    'segment_id':32414,\n",
      "  },\n",
      "  'soma_identification':\n",
      "  {\n",
      "    'glia_meshes':[],\n",
      "    'nuclei_meshes':[<trimesh.Trimesh(vertices.shape=(4492, 3), faces.shape=(8984, 3))>],\n",
      "    'soma_extraction_parameters':\n",
      "    {\n",
      "    },\n",
      "    'soma_meshes':[<trimesh.Trimesh(vertices.shape=(8836, 3), faces.shape=(17487, 3))>],\n",
      "    'soma_run_time':52.93254089355469,\n",
      "    'soma_sdfs':array([0.8670965]),\n",
      "  },\n",
      "}\n",
      "\n"
     ]
    }
   ],
   "source": [
    "products.set_stage_attrs(\n",
    "    stage = \"soma_identification\",\n",
    "    attr_dict = soma_products,\n",
    ")\n",
    "\n",
    "print(products)"
   ]
  },
  {
   "cell_type": "markdown",
   "id": "da45be47",
   "metadata": {},
   "source": [
    "# Step 2b: Saving off pipeline products"
   ]
  },
  {
   "cell_type": "code",
   "execution_count": 35,
   "id": "c99ef858",
   "metadata": {},
   "outputs": [
    {
     "name": "stdout",
     "output_type": "stream",
     "text": [
      "Saved object at /NEURD_Chenlab/Applications/Tutorials/Auto_Proof_Pipeline/Single_Soma_Exc/products_up_to_soma_stage.pkl\n",
      "File size is 7.846925 MB\n",
      "Cleared mesh: <trimesh.Trimesh(vertices.shape=(4492, 3), faces.shape=(8984, 3))>:140162526462448\n",
      "Cleared mesh: <trimesh.Trimesh(vertices.shape=(8836, 3), faces.shape=(17487, 3))>:140162294571360\n"
     ]
    }
   ],
   "source": [
    "from datasci_tools import system_utils as su\n",
    "su.save_object(\n",
    "    products,\"products_up_to_soma_stage\"\n",
    ")"
   ]
  },
  {
   "cell_type": "markdown",
   "id": "bfdbcc82",
   "metadata": {},
   "source": [
    "# Step 3: Decomposition"
   ]
  },
  {
   "cell_type": "code",
   "execution_count": 36,
   "id": "5b3f9c44-1b58-48ba-905b-e81ceb1f119d",
   "metadata": {},
   "outputs": [
    {
     "data": {
      "text/plain": [
       "'2.8.8'"
      ]
     },
     "execution_count": 36,
     "metadata": {},
     "output_type": "execute_result"
    }
   ],
   "source": [
    "import networkx as nx\n",
    "nx.__version__"
   ]
  },
  {
   "cell_type": "code",
   "execution_count": 37,
   "id": "84193a27",
   "metadata": {},
   "outputs": [
    {
     "name": "stdout",
     "output_type": "stream",
     "text": [
      "--- 0) Having to preprocess the Neuron becuase no preprocessed data\n",
      "Please wait this could take a while.....\n",
      "Skipping the hole filling\n",
      "limb_remove_mesh_interior_face_threshold = 0\n",
      "use_meshafterparty = True\n",
      "Using pre-computed somas: soma_mesh_list = [<trimesh.Trimesh(vertices.shape=(8836, 3), faces.shape=(17487, 3))>]\n",
      "Soma List = [<trimesh.Trimesh(vertices.shape=(8836, 3), faces.shape=(17487, 3))>]\n",
      "soma_mesh_list_centers = [array([1493644.32163875,  906203.41836804,   80231.07457673])]\n",
      "Getting Glia and Nuclei Pieces Subtracted Away 0.3420708179473877\n",
      " Splitting mesh after soma cancellation 0.6517734527587891\n",
      "# of split_meshes = 58\n",
      " Containing Mesh Indices 0.06932401657104492\n",
      "containing_mesh_indices = {0: 0}\n",
      " non_soma_touching_meshes 5.9604644775390625e-05\n",
      "There were 57 pieces found after size threshold\n",
      " Finding inside pieces and non_soma_touching meshes 2.081627607345581\n",
      "soma_containing_meshes = {0: [0]}\n",
      "\n",
      "-----Before combining multiple mesh pieces-----\n",
      "soma_containing_meshes = {0: [0]}\n",
      "\n",
      "-----After combining multiple mesh pieces-----\n",
      "soma_containing_meshes = {0: [0]}\n",
      "\n",
      "\n",
      "----Working on soma-containing mesh piece 0----\n",
      "Total time for Subtract Soma and Original_mesh_faces_map for somas= 0.49001193046569824\n",
      "new_floating_pieces = []\n",
      "Total time for sig_non_soma_pieces= 1.465132236480713\n",
      "Not applying expansions\n",
      "Total time for split= 4.5299530029296875e-06\n",
      "Total time for mesh_pieces_connectivity= 0.38901829719543457\n",
      "# of insignificant_limbs = 0 with trimesh : []\n",
      "# of not_processed_soma_containing_meshes = 0 with trimesh : []\n",
      "\n",
      "\n",
      "----- Working on Proper Limb # 0 ---------\n",
      "meshparty_segment_size = 100\n",
      "invalidation_d = 12000\n",
      "use_adaptive_invalidation_d= False\n",
      "axon_width_preprocess_limb_max = 200\n",
      "filter_end_node_length= 4000\n",
      "filter_end_node_length_meshparty = 4000\n",
      "invalidation_d = 12000\n",
      "root_curr = [1497899.875      904530.3125      75624.9296875]\n",
      "Time for preparing soma vertices and root: 0.0002484321594238281\n",
      "invalidation_d = 12000\n",
      "smooth_neighborhood = 1\n",
      "cc_vertex_thresh = 10\n"
     ]
    },
    {
     "name": "stderr",
     "output_type": "stream",
     "text": [
      "  0%|                                                                                             | 0/1 [00:00<?, ?it/s]"
     ]
    },
    {
     "data": {
      "application/vnd.jupyter.widget-view+json": {
       "model_id": "f8ff18a625a54e0c86a4c8f323a8ad51",
       "version_major": 2,
       "version_minor": 0
      },
      "text/plain": [
       "  0%|          | 0/341429 [00:00<?, ?it/s]"
      ]
     },
     "metadata": {},
     "output_type": "display_data"
    },
    {
     "name": "stderr",
     "output_type": "stream",
     "text": [
      "100%|█████████████████████████████████████████████████████████████████████████████████████| 1/1 [00:04<00:00,  4.66s/it]\n"
     ]
    },
    {
     "name": "stdout",
     "output_type": "stream",
     "text": [
      "meshparty_segment_size = 100\n",
      "Time for 1st pass MP skeletonization: 7.111762523651123\n",
      "connecting at the root\n",
      "branches_touching_root = [40]\n",
      "combining close nodes\n",
      "combine_threshold = 700\n",
      "length of Graph = 14077\n",
      "After combining close endpoints max(kept_branches_idx) = 40, len(kept_branches_idx) = 41\n",
      "empty_indices % = 0.0\n",
      " conflict_indices % = 0.00812614326479842\n"
     ]
    },
    {
     "data": {
      "application/vnd.jupyter.widget-view+json": {
       "model_id": "f4fe41a963c14b868f973c94753a6346",
       "version_major": 2,
       "version_minor": 0
      },
      "text/plain": [
       "  0%|          | 0/16 [00:00<?, ?it/s]"
      ]
     },
     "metadata": {},
     "output_type": "display_data"
    },
    {
     "data": {
      "application/vnd.jupyter.widget-view+json": {
       "model_id": "45fd3f0ef3ad4ba8bf5600d2966aac83",
       "version_major": 2,
       "version_minor": 0
      },
      "text/plain": [
       "  0%|          | 0/41 [00:00<?, ?it/s]"
      ]
     },
     "metadata": {},
     "output_type": "display_data"
    },
    {
     "name": "stdout",
     "output_type": "stream",
     "text": [
      "Decomposing first pass: 31.808095693588257\n",
      "Attempting to use MeshAfterParty Skeletonization and Mesh Correspondence\n",
      "Another print\n",
      "Found len(mesh_large_idx) MAP candidates: [15983, 8468, 7676, 52604, 64783, 7802, 19097, 16031, 9458, 1371, 11806, 4295, 8559, 65325, 6775, 9166, 17336, 10457, 13756, 4977, 18965, 27310, 17524, 6028, 1089, 18529, 46875, 9531, 29589, 2205, 3847, 634, 7771, 19266, 17331, 11752, 8669, 23122, 12779, 23961, 20848]\n",
      "mesh_large_connectivity: 5.148449897766113\n",
      "Finding MAP candidates connected components: 0.0005960464477539062\n",
      "len(filtered_pieces) = 1\n",
      "skeleton_connectivity_MP : 0.17461347579956055\n",
      "Grouping MP Sublimbs by Graph: 5.817413330078125e-05\n",
      "Divinding into MP and MAP pieces: 4.76837158203125e-07\n",
      "--- Working on MAP piece 0---\n",
      "MAP Filtering Soma Pieces: 0.07820844650268555\n",
      "inside skeletonize_connected_branch and use_surface_after_CGAL=True, surface_reconstruction_size=1000\n",
      "keep_idx = [0]\n",
      "     Starting Screened Poisson\n",
      "xvfb-run -n 9560 -s \"-screen 0 800x600x24\" meshlabserver $@  -i /NEURD_Chenlab/Applications/Tutorials/Auto_Proof_Pipeline/Single_Soma_Exc/temp/None.off -o /NEURD_Chenlab/Applications/Tutorials/Auto_Proof_Pipeline/Single_Soma_Exc/temp/None_poisson.off -s /NEURD_Chenlab/Applications/Tutorials/Auto_Proof_Pipeline/Single_Soma_Exc/temp/poisson_924559.mls\n",
      "removed temporary input file: /NEURD_Chenlab/Applications/Tutorials/Auto_Proof_Pipeline/Single_Soma_Exc/temp/None.off\n",
      "removed temporary output file: /NEURD_Chenlab/Applications/Tutorials/Auto_Proof_Pipeline/Single_Soma_Exc/temp/None_poisson.off\n",
      "Using the close holes feature\n",
      "xvfb-run -n 121 -s \"-screen 0 800x600x24\" meshlabserver $@  -i /NEURD_Chenlab/Applications/Tutorials/Auto_Proof_Pipeline/Single_Soma_Exc/temp/neuron_3707.off -o /NEURD_Chenlab/Applications/Tutorials/Auto_Proof_Pipeline/Single_Soma_Exc/temp/neuron_3707_fill_holes.off -s /NEURD_Chenlab/Applications/Tutorials/Auto_Proof_Pipeline/Single_Soma_Exc/temp/fill_holes_510853.mls\n",
      "removed temporary input file: /NEURD_Chenlab/Applications/Tutorials/Auto_Proof_Pipeline/Single_Soma_Exc/temp/neuron_3707.off\n",
      "removed temporary output file: /NEURD_Chenlab/Applications/Tutorials/Auto_Proof_Pipeline/Single_Soma_Exc/temp/neuron_3707_fill_holes.off\n",
      "/NEURD_Chenlab/Applications/Tutorials/Auto_Proof_Pipeline/Single_Soma_Exc/temp/fill_holes_510853.mls is being deleted....\n",
      "-----Time for Screened Poisson= 69.59634041786194\n",
      "mesh_pieces = [<trimesh.Trimesh(vertices.shape=(291058, 3), faces.shape=(582164, 3), name=`neuron_3707_fill_holes.off`)>]\n",
      "     Starting Calcification (Changed back where stitches large poissons)\n",
      "Manifold status before skeletonization = True\n",
      "Watertight status before skeletonization = True\n",
      "min_edge_length = 75\n",
      "node_degrees = [3 2 3 3 2 2 2 2 2 3 2 2]\n",
      "node_degrees = [3 3 2 2 2 2]\n",
      "node_degrees = [2 2 2 2 5]\n",
      "node_degrees = [3 2 3 2]\n",
      "node_degrees = [3 2 3 2]\n",
      "node_degrees = [4 2 2]\n",
      "node_degrees = [3 2 2]\n",
      "Before mesh subtraction number of skeleton edges = 10694\n"
     ]
    },
    {
     "data": {
      "application/vnd.jupyter.widget-view+json": {
       "model_id": "f5a35941bd5b405e943d776076832bb2",
       "version_major": 2,
       "version_minor": 0
      },
      "text/plain": [
       "0it [00:00, ?it/s]"
      ]
     },
     "metadata": {},
     "output_type": "display_data"
    },
    {
     "name": "stdout",
     "output_type": "stream",
     "text": [
      "len(leftover_meshes_sig) = []\n"
     ]
    },
    {
     "data": {
      "application/vnd.jupyter.widget-view+json": {
       "model_id": "91e2f150d0e54f729180e66f23b1809e",
       "version_major": 2,
       "version_minor": 0
      },
      "text/plain": [
       "0it [00:00, ?it/s]"
      ]
     },
     "metadata": {},
     "output_type": "display_data"
    },
    {
     "name": "stdout",
     "output_type": "stream",
     "text": [
      "No skeletons to stack so returning empty list\n",
      "STacking the leftover and significant poisson skeleton\n",
      "max_stitch_distance = 5000\n",
      "len_subgraphs AT BEGINNING of the loop\n"
     ]
    },
    {
     "data": {
      "application/vnd.jupyter.widget-view+json": {
       "model_id": "e299ac76aa0d4b4784d9159d238b3c06",
       "version_major": 2,
       "version_minor": 0
      },
      "text/plain": [
       "  0%|          | 0/1 [00:00<?, ?it/s]"
      ]
     },
     "metadata": {},
     "output_type": "display_data"
    },
    {
     "name": "stdout",
     "output_type": "stream",
     "text": [
      "all graph is one component!\n",
      "Total time for skeleton stitching = 0.30304598808288574\n",
      "The process was using a temp folder\n",
      "Checking connected components after skeletonize_connected_branch\n",
      "    Total time for skeletonizing branch: 318.46705317497253\n",
      "Checking connected components after removing cycles\n",
      "Total time for mesh KDTree = 4.943996429443359\n",
      "sbv[0].reshape(-1,3) = [[1497899.875      904530.3125      75624.9296875]]\n",
      "closest_sk_pt_coord BEFORE = [1495460.   902495.    77538.6]\n",
      "current_skeleton.shape = (10693, 2, 3)\n",
      "node_for_stitch = 3900: [1495460.   902495.    77538.6]\n",
      "node_for_stitch AFTER = 3900: [1495460.   902495.    77538.6]\n",
      "possible_node_loc = [    0    13    60    61    89   102   116   173   180   248   257   273\n",
      "   293   294   316   343   356   372   395   418   432   499   506   571\n",
      "   584   588   624   632   674   679   697   705   721   732   801   807\n",
      "   823   857   876   897   906   960  1015  1076  1150  1157  1168  1180\n",
      "  1185  1192  1232  1259  1274  1355  1467  1468  1566  1613  1626  1641\n",
      "  1691  1713  1749  1750  1776  1816  1822  1885  1917  1927  1951  1960\n",
      "  2000  2023  2032  2069  2083  2149  2213  2236  2257  2304  2395  2476\n",
      "  2497  2504  2506  2510  2774  2907  2923  3021  3046  3049  3068  3101\n",
      "  3232  3316  3349  3366  3370  3456  3476  3535  3555  3602  3678  3773\n",
      "  3796  3894  3914  3933  3953  3977  3998  4008  4012  4029  4034  4038\n",
      "  4093  4097  4107  4136  4160  4220  4439  4450  4513  4570  4584  4590\n",
      "  4641  4659  4673  4717  4732  4761  4783  4784  4791  4796  4814  4816\n",
      "  4839  4856  4873  4881  4909  4999  5032  5052  5089  5156  5187  5197\n",
      "  5218  5238  5256  5271  5273  5296  5301  5342  5398  5408  5453  5477\n",
      "  5522  5523  5581  5591  5612  5613  5627  5664  5673  5700  5722  5758\n",
      "  5810  5837  5838  5929  5936  5976  5982  5993  5996  6054  6057  6074\n",
      "  6100  6124  6157  6212  6248  6254  6269  6275  6318  6376  6394  6442\n",
      "  6464  6477  6498  6570  6580  6582  6616  6680  6706  6725  6728  6762\n",
      "  6771  6778  6828  6831  6836  6867  6946  6978  6987  6990  7005  7036\n",
      "  7048  7052  7072  7094  7113  7176  7197  7201  7283  7288  7415  7427\n",
      "  7485  7527  7537  7547  7567  7653  7655  7786  7788  7807  8043  8196\n",
      "  8214  8255  8271  8449  8754  8776  8853  8904  9004  9115  9124  9190\n",
      "  9512  9527  9556  9753 10019 10066 10151 10208 10235 10353 10510 10617\n",
      " 10654 10692]\n",
      "possible_node_loc AFTER = [    0    13    60    61    89   102   116   173   180   248   257   273\n",
      "   293   294   316   343   356   372   395   418   432   499   506   571\n",
      "   584   588   624   632   674   679   697   705   721   732   801   807\n",
      "   823   857   876   897   906   960  1015  1076  1150  1157  1168  1180\n",
      "  1185  1192  1232  1259  1274  1355  1467  1468  1566  1613  1626  1641\n",
      "  1691  1713  1749  1750  1776  1816  1822  1885  1917  1927  1951  1960\n",
      "  2000  2023  2032  2069  2083  2149  2213  2236  2257  2304  2395  2476\n",
      "  2497  2504  2506  2510  2774  2907  2923  3021  3046  3049  3068  3101\n",
      "  3232  3316  3349  3366  3370  3456  3476  3535  3555  3602  3678  3773\n",
      "  3796  3894  3914  3933  3953  3977  3998  4008  4012  4029  4034  4038\n",
      "  4093  4097  4107  4136  4160  4220  4439  4450  4513  4570  4584  4590\n",
      "  4641  4659  4673  4717  4732  4761  4783  4784  4791  4796  4814  4816\n",
      "  4839  4856  4873  4881  4909  4999  5032  5052  5089  5156  5187  5197\n",
      "  5218  5238  5256  5271  5273  5296  5301  5342  5398  5408  5453  5477\n",
      "  5522  5523  5581  5591  5612  5613  5627  5664  5673  5700  5722  5758\n",
      "  5810  5837  5838  5929  5936  5976  5982  5993  5996  6054  6057  6074\n",
      "  6100  6124  6157  6212  6248  6254  6269  6275  6318  6376  6394  6442\n",
      "  6464  6477  6498  6570  6580  6582  6616  6680  6706  6725  6728  6762\n",
      "  6771  6778  6828  6831  6836  6867  6946  6978  6987  6990  7005  7036\n",
      "  7048  7052  7072  7094  7113  7176  7197  7201  7283  7288  7415  7427\n",
      "  7485  7527  7537  7547  7567  7653  7655  7786  7788  7807  8043  8196\n",
      "  8214  8255  8271  8449  8754  8776  8853  8904  9004  9115  9124  9190\n",
      "  9512  9527  9556  9753 10019 10066 10151 10208 10235 10353 10510 10617\n",
      " 10654 10692]\n",
      "curr_shortest_path = [3900, 3877.0, 3832.0, 3884.0, 3890.0, 3901.0, 3902.0, 3913.0, 3925.0, 3938.0, 3951.0, 3953.0]\n",
      "Current stitch point was not a branch or endpoint, shortest_path_length to one = 2585.1357802120606\n",
      "change_status for create soma extending pieces = False\n",
      "closest_sk_pt_coord AFTER = [1495460.   902495.    77538.6]\n",
      "Adding new branch to skeleton\n",
      "border_average_coordinate = [1498049.33333333  904424.83333333   75730.26302083]\n",
      "sbv[0].reshape(-1,3) = [[1498324.25       907750.625       84367.4765625]]\n",
      "closest_sk_pt_coord BEFORE = [1497630.   909031.    82138.9]\n",
      "current_skeleton.shape = (10694, 2, 3)\n",
      "node_for_stitch = 4073: [1497630.   909031.    82138.9]\n",
      "node_for_stitch AFTER = 4073: [1497630.   909031.    82138.9]\n",
      "possible_node_loc = [    0    13    60    61    89   102   116   173   180   248   257   273\n",
      "   293   294   316   343   356   372   395   418   432   499   506   571\n",
      "   584   588   624   632   674   679   697   705   721   732   801   807\n",
      "   823   857   876   897   906   960  1015  1076  1150  1157  1168  1180\n",
      "  1185  1192  1232  1259  1274  1355  1467  1468  1566  1613  1626  1641\n",
      "  1691  1713  1749  1750  1776  1816  1822  1885  1917  1927  1951  1960\n",
      "  2000  2023  2032  2069  2083  2149  2213  2236  2257  2304  2395  2476\n",
      "  2497  2504  2506  2510  2774  2907  2923  3021  3046  3049  3068  3101\n",
      "  3232  3316  3349  3366  3370  3456  3476  3535  3555  3602  3678  3773\n",
      "  3796  3894  3914  3933  3953  3977  3998  4008  4012  4029  4034  4038\n",
      "  4093  4097  4107  4110  4137  4161  4221  4440  4451  4514  4571  4585\n",
      "  4591  4642  4660  4674  4718  4733  4762  4784  4785  4792  4797  4815\n",
      "  4817  4840  4857  4874  4882  4910  5000  5033  5053  5090  5157  5188\n",
      "  5198  5219  5239  5257  5272  5274  5297  5302  5343  5399  5409  5454\n",
      "  5478  5523  5524  5582  5592  5613  5614  5628  5665  5674  5701  5723\n",
      "  5759  5811  5838  5839  5930  5937  5977  5983  5994  5997  6055  6058\n",
      "  6075  6101  6125  6158  6213  6249  6255  6270  6276  6319  6377  6395\n",
      "  6443  6465  6478  6499  6571  6581  6583  6617  6681  6707  6726  6729\n",
      "  6763  6772  6779  6829  6832  6837  6868  6947  6979  6988  6991  7006\n",
      "  7037  7049  7053  7073  7095  7114  7177  7198  7202  7284  7289  7416\n",
      "  7428  7486  7528  7538  7548  7568  7654  7656  7787  7789  7808  8044\n",
      "  8197  8215  8256  8272  8450  8755  8777  8854  8905  9005  9116  9125\n",
      "  9191  9513  9528  9557  9754 10020 10067 10152 10209 10236 10354 10511\n",
      " 10618 10655 10693]\n",
      "possible_node_loc AFTER = [    0    13    60    61    89   102   116   173   180   248   257   273\n",
      "   293   294   316   343   356   372   395   418   432   499   506   571\n",
      "   584   588   624   632   674   679   697   705   721   732   801   807\n",
      "   823   857   876   897   906   960  1015  1076  1150  1157  1168  1180\n",
      "  1185  1192  1232  1259  1274  1355  1467  1468  1566  1613  1626  1641\n",
      "  1691  1713  1749  1750  1776  1816  1822  1885  1917  1927  1951  1960\n",
      "  2000  2023  2032  2069  2083  2149  2213  2236  2257  2304  2395  2476\n",
      "  2497  2504  2506  2510  2774  2907  2923  3021  3046  3049  3068  3101\n",
      "  3232  3316  3349  3366  3370  3456  3476  3535  3555  3602  3678  3773\n",
      "  3796  3894  3914  3933  3953  3977  3998  4008  4012  4029  4034  4038\n",
      "  4093  4097  4107  4110  4137  4161  4221  4440  4451  4514  4571  4585\n",
      "  4591  4642  4660  4674  4718  4733  4762  4784  4785  4792  4797  4815\n",
      "  4817  4840  4857  4874  4882  4910  5000  5033  5053  5090  5157  5188\n",
      "  5198  5219  5239  5257  5272  5274  5297  5302  5343  5399  5409  5454\n",
      "  5478  5523  5524  5582  5592  5613  5614  5628  5665  5674  5701  5723\n",
      "  5759  5811  5838  5839  5930  5937  5977  5983  5994  5997  6055  6058\n",
      "  6075  6101  6125  6158  6213  6249  6255  6270  6276  6319  6377  6395\n",
      "  6443  6465  6478  6499  6571  6581  6583  6617  6681  6707  6726  6729\n",
      "  6763  6772  6779  6829  6832  6837  6868  6947  6979  6988  6991  7006\n",
      "  7037  7049  7053  7073  7095  7114  7177  7198  7202  7284  7289  7416\n",
      "  7428  7486  7528  7538  7548  7568  7654  7656  7787  7789  7808  8044\n",
      "  8197  8215  8256  8272  8450  8755  8777  8854  8905  9005  9116  9125\n",
      "  9191  9513  9528  9557  9754 10020 10067 10152 10209 10236 10354 10511\n",
      " 10618 10655 10693]\n",
      "curr_shortest_path = [4073, 4086.0, 4108.0, 4120.0, 4131.0, 4140.0, 4146.0, 4153.0, 4164.0, 4169.0, 4195.0, 4197.0, 4198.0, 4199.0, 4200.0, 4201.0, 4202.0, 4203.0, 4204.0, 4205.0, 4206.0, 4207.0, 4208.0, 4209.0, 4210.0, 4211.0, 4212.0, 4213.0, 4214.0, 4215.0, 4216.0, 4217.0, 4218.0, 4219.0, 4220.0, 4222.0, 4224.0, 4225.0, 4227.0, 4226.0, 4223.0, 4221.0]\n",
      "Current stitch point was not a branch or endpoint, shortest_path_length to one = 7740.4178222975615\n",
      "change_status for create soma extending pieces = False\n",
      "closest_sk_pt_coord AFTER = [1497630.   909031.    82138.9]\n",
      "Adding new branch to skeleton\n",
      "border_average_coordinate = [1498321.33333333  908023.5          84405.89322917]\n",
      "endpoints_must_keep = {0: array([[1498049.33333333,  904424.83333333,   75730.26302083],\n",
      "       [1498321.33333333,  908023.5       ,   84405.89322917]])}\n",
      "    Total time for Fixing Skeleton Soma Endpoint Extension : 9.721598386764526\n",
      "filter_end_node_length = 4000\n"
     ]
    },
    {
     "data": {
      "application/vnd.jupyter.widget-view+json": {
       "model_id": "3cee343115224369a81ab6beba95e416",
       "version_major": 2,
       "version_minor": 0
      },
      "text/plain": [
       "  0%|          | 0/262 [00:00<?, ?it/s]"
      ]
     },
     "metadata": {},
     "output_type": "display_data"
    },
    {
     "name": "stdout",
     "output_type": "stream",
     "text": [
      "Checking connected components after clean_skeleton\n",
      "after DISTANCE cleaning limb size of skeleton = (9309, 2, 3)\n",
      "********COMBINING CLOSE SKELETON NODES WITHIN 700 DISTANCE**********\n",
      "combine_threshold = 700\n",
      "Found 2 valid paths to replace\n",
      "valid_paths = [array([1978., 2004.]), array([4614., 4618., 4623., 4627.])]\n",
      "valid_path_lengths = [336.37718412520513, 598.8813948692622]\n",
      "length of Graph = 9309\n",
      "Working on path [1978. 2004.]\n",
      "path_degrees = [3, 3]\n",
      "Working on path [4614. 4618. 4623. 4627.]\n",
      "path_degrees = [3, 2, 2, 3]\n",
      "node_degrees = [2 4 2 2 2 2 2 3 2]\n",
      "skeletonize_and_clean_connected_branch_CGAL: 384.31022810935974\n",
      "Working on limb correspondence for #0 MAP piece\n",
      "xvfb-run -n 3331 -s \"-screen 0 800x600x24\" meshlabserver $@  -i /NEURD_Chenlab/Applications/Tutorials/Auto_Proof_Pipeline/Single_Soma_Exc/temp/neuron_38292.off -o /NEURD_Chenlab/Applications/Tutorials/Auto_Proof_Pipeline/Single_Soma_Exc/temp/neuron_38292_remove_interior.off -s /NEURD_Chenlab/Applications/Tutorials/Auto_Proof_Pipeline/Single_Soma_Exc/temp/remove_interior_708730.mls\n",
      "removed temporary input file: /NEURD_Chenlab/Applications/Tutorials/Auto_Proof_Pipeline/Single_Soma_Exc/temp/neuron_38292.off\n",
      "removed temporary output file: /NEURD_Chenlab/Applications/Tutorials/Auto_Proof_Pipeline/Single_Soma_Exc/temp/neuron_38292_remove_interior.off\n",
      "/NEURD_Chenlab/Applications/Tutorials/Auto_Proof_Pipeline/Single_Soma_Exc/temp/remove_interior_708730.mls is being deleted....\n",
      "Removing the following inside neurons: [<trimesh.Trimesh(vertices.shape=(315, 3), faces.shape=(592, 3), name=`neuron_38292_remove_interior.off`)>, <trimesh.Trimesh(vertices.shape=(220, 3), faces.shape=(377, 3), name=`neuron_38292_remove_interior.off`)>, <trimesh.Trimesh(vertices.shape=(215, 3), faces.shape=(423, 3), name=`neuron_38292_remove_interior.off`)>, <trimesh.Trimesh(vertices.shape=(143, 3), faces.shape=(277, 3), name=`neuron_38292_remove_interior.off`)>, <trimesh.Trimesh(vertices.shape=(137, 3), faces.shape=(232, 3), name=`neuron_38292_remove_interior.off`)>, <trimesh.Trimesh(vertices.shape=(135, 3), faces.shape=(257, 3), name=`neuron_38292_remove_interior.off`)>, <trimesh.Trimesh(vertices.shape=(134, 3), faces.shape=(251, 3), name=`neuron_38292_remove_interior.off`)>, <trimesh.Trimesh(vertices.shape=(132, 3), faces.shape=(242, 3), name=`neuron_38292_remove_interior.off`)>, <trimesh.Trimesh(vertices.shape=(124, 3), faces.shape=(191, 3), name=`neuron_38292_remove_interior.off`)>, <trimesh.Trimesh(vertices.shape=(124, 3), faces.shape=(209, 3), name=`neuron_38292_remove_interior.off`)>, <trimesh.Trimesh(vertices.shape=(116, 3), faces.shape=(227, 3), name=`neuron_38292_remove_interior.off`)>, <trimesh.Trimesh(vertices.shape=(112, 3), faces.shape=(194, 3), name=`neuron_38292_remove_interior.off`)>, <trimesh.Trimesh(vertices.shape=(110, 3), faces.shape=(172, 3), name=`neuron_38292_remove_interior.off`)>, <trimesh.Trimesh(vertices.shape=(109, 3), faces.shape=(199, 3), name=`neuron_38292_remove_interior.off`)>, <trimesh.Trimesh(vertices.shape=(105, 3), faces.shape=(205, 3), name=`neuron_38292_remove_interior.off`)>, <trimesh.Trimesh(vertices.shape=(103, 3), faces.shape=(144, 3), name=`neuron_38292_remove_interior.off`)>, <trimesh.Trimesh(vertices.shape=(100, 3), faces.shape=(180, 3), name=`neuron_38292_remove_interior.off`)>, <trimesh.Trimesh(vertices.shape=(92, 3), faces.shape=(137, 3), name=`neuron_38292_remove_interior.off`)>, <trimesh.Trimesh(vertices.shape=(87, 3), faces.shape=(116, 3), name=`neuron_38292_remove_interior.off`)>, <trimesh.Trimesh(vertices.shape=(87, 3), faces.shape=(154, 3), name=`neuron_38292_remove_interior.off`)>, <trimesh.Trimesh(vertices.shape=(84, 3), faces.shape=(131, 3), name=`neuron_38292_remove_interior.off`)>, <trimesh.Trimesh(vertices.shape=(83, 3), faces.shape=(126, 3), name=`neuron_38292_remove_interior.off`)>, <trimesh.Trimesh(vertices.shape=(81, 3), faces.shape=(143, 3), name=`neuron_38292_remove_interior.off`)>, <trimesh.Trimesh(vertices.shape=(77, 3), faces.shape=(116, 3), name=`neuron_38292_remove_interior.off`)>, <trimesh.Trimesh(vertices.shape=(75, 3), faces.shape=(143, 3), name=`neuron_38292_remove_interior.off`)>, <trimesh.Trimesh(vertices.shape=(74, 3), faces.shape=(123, 3), name=`neuron_38292_remove_interior.off`)>, <trimesh.Trimesh(vertices.shape=(70, 3), faces.shape=(131, 3), name=`neuron_38292_remove_interior.off`)>, <trimesh.Trimesh(vertices.shape=(64, 3), faces.shape=(113, 3), name=`neuron_38292_remove_interior.off`)>]\n"
     ]
    },
    {
     "data": {
      "application/vnd.jupyter.widget-view+json": {
       "model_id": "8eb3b4f7eaa948368c4ca32e0a30a2fd",
       "version_major": 2,
       "version_minor": 0
      },
      "text/plain": [
       "0it [00:00, ?it/s]"
      ]
     },
     "metadata": {},
     "output_type": "display_data"
    },
    {
     "name": "stdout",
     "output_type": "stream",
     "text": [
      "empty mesh_correspondence_indices_2 returned so returning original mesh correspondence\n",
      "Got nothing from first pass so expanding the mesh correspondnece parameters \n",
      "empty mesh_correspondence_indices_2 returned so returning original mesh correspondence\n",
      "empty mesh_correspondence_indices_2 returned so returning original mesh correspondence\n",
      "Total time for decomposition = 96.28262543678284\n",
      "mesh_correspondence_first_pass: 96.28267431259155\n",
      "Limb decomposed into 60 branches\n",
      "divided_skeleton_graph_recovered = (9299, 2, 3) and \n",
      "current_mesh_data[0]['branch_skeletons_cleaned'].shape = (9299, 2, 3)\n",
      "\n",
      "Number of connected components in deocmposed recovered graph = 1\n",
      "Number of connected components in cleaned skeleton graph= 1\n",
      "The downsampled branches number of connected components = 1\n",
      "Empty submeshes = []\n",
      "\n",
      "\n",
      "--- Working on 1-to-1 correspondence-----\n",
      "max(original_labels),len(original_labels) = (59, 60)\n",
      "empty_indices % = 0.10492719689763665\n",
      " conflict_indices % = 0.029191483134557692\n"
     ]
    },
    {
     "data": {
      "application/vnd.jupyter.widget-view+json": {
       "model_id": "0694d901f10f42d9be1e96bb1b96ca43",
       "version_major": 2,
       "version_minor": 0
      },
      "text/plain": [
       "  0%|          | 0/568 [00:00<?, ?it/s]"
      ]
     },
     "metadata": {},
     "output_type": "display_data"
    },
    {
     "name": "stdout",
     "output_type": "stream",
     "text": [
      "Took 0 iterations to expand the label back\n",
      "empty_indices % = 0.0\n",
      " conflict_indices % = 0.0\n"
     ]
    },
    {
     "data": {
      "application/vnd.jupyter.widget-view+json": {
       "model_id": "7ec71fb4839447ffbed13c83ea47bbc9",
       "version_major": 2,
       "version_minor": 0
      },
      "text/plain": [
       "0it [00:00, ?it/s]"
      ]
     },
     "metadata": {},
     "output_type": "display_data"
    },
    {
     "name": "stdout",
     "output_type": "stream",
     "text": [
      "Took 2 iterations to expand the label back\n",
      "empty_indices % = 0.0\n",
      " conflict_indices % = 0.0012263115533767469\n"
     ]
    },
    {
     "data": {
      "application/vnd.jupyter.widget-view+json": {
       "model_id": "93709f886ebb4911920956675d7afc5d",
       "version_major": 2,
       "version_minor": 0
      },
      "text/plain": [
       "  0%|          | 0/1 [00:00<?, ?it/s]"
      ]
     },
     "metadata": {},
     "output_type": "display_data"
    },
    {
     "data": {
      "application/vnd.jupyter.widget-view+json": {
       "model_id": "58cabd8890a342bdbbfaa9e24c1dbe0e",
       "version_major": 2,
       "version_minor": 0
      },
      "text/plain": [
       "  0%|          | 0/60 [00:00<?, ?it/s]"
      ]
     },
     "metadata": {},
     "output_type": "display_data"
    },
    {
     "name": "stdout",
     "output_type": "stream",
     "text": [
      "Total time for MAP sublimb #0 mesh processing = 584.4842419624329\n",
      "correspondence_1_to_1: 103.81300234794617\n",
      "Total time for MAP sublimb processing 584.4843745231628\n",
      "There were not both MAP and MP pieces so skipping the stitch resolving phase\n",
      "Time for decomp of Limb = 629.0801026821136\n",
      "Number of matching vertices = 3\n",
      "Number of matching vertices = 0\n",
      "Number of matching vertices = 0\n",
      "Number of matching vertices = 3\n",
      "Only one endpoint after filtering away the endpoints that are not on the skeleton\n",
      "Only one endpoint after filtering away the endpoints that are not on the skeleton\n",
      "Removed 0 skeletal branches\n"
     ]
    },
    {
     "data": {
      "application/vnd.jupyter.widget-view+json": {
       "model_id": "4cfe7c80f7244981a76c3bdd344a9ecc",
       "version_major": 2,
       "version_minor": 0
      },
      "text/plain": [
       "  0%|          | 0/60 [00:00<?, ?it/s]"
      ]
     },
     "metadata": {},
     "output_type": "display_data"
    },
    {
     "name": "stdout",
     "output_type": "stream",
     "text": [
      "683349 683350\n",
      "For marked faces: None\n",
      "empty_indices % = 0.0\n",
      " conflict_indices % = 0.0\n"
     ]
    },
    {
     "data": {
      "application/vnd.jupyter.widget-view+json": {
       "model_id": "20827809762240b1afbab9527174876e",
       "version_major": 2,
       "version_minor": 0
      },
      "text/plain": [
       "0it [00:00, ?it/s]"
      ]
     },
     "metadata": {},
     "output_type": "display_data"
    },
    {
     "data": {
      "application/vnd.jupyter.widget-view+json": {
       "model_id": "4218fa01b87b4745ae7d74c145c59a9e",
       "version_major": 2,
       "version_minor": 0
      },
      "text/plain": [
       "  0%|          | 0/60 [00:00<?, ?it/s]"
      ]
     },
     "metadata": {},
     "output_type": "display_data"
    },
    {
     "name": "stdout",
     "output_type": "stream",
     "text": [
      "Successful Limb Decomposition\n",
      "Total time for Skeletonization and Mesh Correspondence = 656.1076619625092\n",
      "\n",
      "\n",
      " ----- Working on Stitching ----------\n",
      "Starting the floating pieces preprocessing\n",
      "Floating 0: <trimesh.Trimesh(vertices.shape=(326, 3), faces.shape=(652, 3))>\n",
      "invalidation_d = 12000\n",
      "use_adaptive_invalidation_d= True\n",
      "axon_width_preprocess_limb_max = 200\n",
      "filter_end_node_length= 4000\n",
      "filter_end_node_length_meshparty = 1000\n",
      "invalidation_d = 12000\n",
      "root_curr = None\n",
      "Time for preparing soma vertices and root: 5.4836273193359375e-06\n",
      "invalidation_d = 12000\n",
      "smooth_neighborhood = 1\n",
      "cc_vertex_thresh = 10\n"
     ]
    },
    {
     "name": "stderr",
     "output_type": "stream",
     "text": [
      "  0%|                                                                                             | 0/1 [00:00<?, ?it/s]"
     ]
    },
    {
     "data": {
      "application/vnd.jupyter.widget-view+json": {
       "model_id": "619bb2cb98364886adce0f23436da7b7",
       "version_major": 2,
       "version_minor": 0
      },
      "text/plain": [
       "  0%|          | 0/325 [00:00<?, ?it/s]"
      ]
     },
     "metadata": {},
     "output_type": "display_data"
    },
    {
     "name": "stderr",
     "output_type": "stream",
     "text": [
      "100%|█████████████████████████████████████████████████████████████████████████████████████| 1/1 [00:00<00:00, 71.73it/s]"
     ]
    },
    {
     "name": "stdout",
     "output_type": "stream",
     "text": [
      "meshparty_segment_size = 100\n",
      "Time for 1st pass MP skeletonization: 0.03408002853393555\n",
      "branches_touching_root = [0]\n",
      "combining close nodes\n",
      "combine_threshold = 700\n",
      "length of Graph = 28\n",
      "After combining close endpoints max(kept_branches_idx) = 0, len(kept_branches_idx) = 1\n",
      "empty_indices % = 0.0\n",
      " conflict_indices % = 0.0\n"
     ]
    },
    {
     "name": "stderr",
     "output_type": "stream",
     "text": [
      "\n"
     ]
    },
    {
     "data": {
      "application/vnd.jupyter.widget-view+json": {
       "model_id": "0c9f79e88dec4bdbbc298036810d9940",
       "version_major": 2,
       "version_minor": 0
      },
      "text/plain": [
       "0it [00:00, ?it/s]"
      ]
     },
     "metadata": {},
     "output_type": "display_data"
    },
    {
     "data": {
      "application/vnd.jupyter.widget-view+json": {
       "model_id": "f337a9b5c4914de088845f58049d2906",
       "version_major": 2,
       "version_minor": 0
      },
      "text/plain": [
       "  0%|          | 0/1 [00:00<?, ?it/s]"
      ]
     },
     "metadata": {},
     "output_type": "display_data"
    },
    {
     "name": "stdout",
     "output_type": "stream",
     "text": [
      "widths = [443.24933205]\n",
      "width_median= 443.2493320473115\n",
      "segment_widths_median = [443.24933205]\n",
      "Decomposing first pass: 0.06735706329345703\n",
      "Attempting to use MeshAfterParty Skeletonization and Mesh Correspondence\n",
      "Another print\n",
      "Divinding into MP and MAP pieces: 2.384185791015625e-05\n",
      "Total time for MAP sublimb processing 1.9073486328125e-06\n",
      "---- Working on MP Decomposition #0 ----\n",
      "Using Quicker soma_to_piece_touching_vertices because no MAP and only one sublimb_mesh piece \n",
      "MP filtering soma verts: 1.8835067749023438e-05\n",
      "Do Not Need to Fix MP Decomposition 0 so just continuing\n",
      "There were not both MAP and MP pieces so skipping the stitch resolving phase\n",
      "Time for decomp of Limb = 0.10337638854980469\n"
     ]
    },
    {
     "data": {
      "application/vnd.jupyter.widget-view+json": {
       "model_id": "7957ab0d58a9440d896827f1182d9f3b",
       "version_major": 2,
       "version_minor": 0
      },
      "text/plain": [
       "  0%|          | 0/2 [00:00<?, ?it/s]"
      ]
     },
     "metadata": {},
     "output_type": "display_data"
    },
    {
     "name": "stdout",
     "output_type": "stream",
     "text": [
      "Removed 2 skeletal branches\n",
      "There were no branches after cleaning limb correspondence\n"
     ]
    },
    {
     "data": {
      "application/vnd.jupyter.widget-view+json": {
       "model_id": "0a6754224dfa47e7855b5972dbb7b41e",
       "version_major": 2,
       "version_minor": 0
      },
      "text/plain": [
       "Container(figure=Figure(box_center=[0.5, 0.5, 0.5], box_size=[1.0, 1.0, 1.0], camera=PerspectiveCamera(fov=45.…"
      ]
     },
     "metadata": {},
     "output_type": "display_data"
    },
    {
     "name": "stdout",
     "output_type": "stream",
     "text": [
      "--> time = 0.17836952209472656\n",
      "Floating 1: <trimesh.Trimesh(vertices.shape=(192, 3), faces.shape=(380, 3))>\n",
      "invalidation_d = 12000\n",
      "use_adaptive_invalidation_d= True\n",
      "axon_width_preprocess_limb_max = 200\n",
      "filter_end_node_length= 4000\n",
      "filter_end_node_length_meshparty = 1000\n",
      "invalidation_d = 12000\n",
      "root_curr = None\n",
      "Time for preparing soma vertices and root: 9.775161743164062e-06\n",
      "invalidation_d = 12000\n",
      "smooth_neighborhood = 1\n",
      "cc_vertex_thresh = 10\n"
     ]
    },
    {
     "name": "stderr",
     "output_type": "stream",
     "text": [
      "  0%|                                                                                             | 0/1 [00:00<?, ?it/s]"
     ]
    },
    {
     "data": {
      "application/vnd.jupyter.widget-view+json": {
       "model_id": "e929fb23bd3c4da1bbf84ed157fda6ba",
       "version_major": 2,
       "version_minor": 0
      },
      "text/plain": [
       "  0%|          | 0/191 [00:00<?, ?it/s]"
      ]
     },
     "metadata": {},
     "output_type": "display_data"
    },
    {
     "name": "stderr",
     "output_type": "stream",
     "text": [
      "100%|█████████████████████████████████████████████████████████████████████████████████████| 1/1 [00:00<00:00, 51.09it/s]\n"
     ]
    },
    {
     "name": "stdout",
     "output_type": "stream",
     "text": [
      "meshparty_segment_size = 100\n",
      "Time for 1st pass MP skeletonization: 0.04872250556945801\n",
      "branches_touching_root = [0]\n",
      "combining close nodes\n",
      "combine_threshold = 700\n",
      "length of Graph = 9\n",
      "After combining close endpoints max(kept_branches_idx) = 0, len(kept_branches_idx) = 1\n",
      "empty_indices % = 0.0\n",
      " conflict_indices % = 0.0\n"
     ]
    },
    {
     "data": {
      "application/vnd.jupyter.widget-view+json": {
       "model_id": "f39b9159e9174258abb3f2b4c11d9350",
       "version_major": 2,
       "version_minor": 0
      },
      "text/plain": [
       "0it [00:00, ?it/s]"
      ]
     },
     "metadata": {},
     "output_type": "display_data"
    },
    {
     "data": {
      "application/vnd.jupyter.widget-view+json": {
       "model_id": "8278cb2f77f44ac480439c2fa6d37830",
       "version_major": 2,
       "version_minor": 0
      },
      "text/plain": [
       "  0%|          | 0/1 [00:00<?, ?it/s]"
      ]
     },
     "metadata": {},
     "output_type": "display_data"
    },
    {
     "name": "stdout",
     "output_type": "stream",
     "text": [
      "widths = [inf]\n",
      "width_median= inf\n",
      "segment_widths_median = [inf]\n",
      "Decomposing first pass: 0.05915498733520508\n",
      "Attempting to use MeshAfterParty Skeletonization and Mesh Correspondence\n",
      "Another print\n",
      "Found len(mesh_large_idx) MAP candidates: [380]\n",
      "mesh_large_connectivity: 0.00016546249389648438\n",
      "Finding MAP candidates connected components: 8.273124694824219e-05\n",
      "Divinding into MP and MAP pieces: 2.6226043701171875e-06\n",
      "Total time for MAP sublimb processing 3.0994415283203125e-06\n",
      "---- Working on MP Decomposition #0 ----\n",
      "Using Quicker soma_to_piece_touching_vertices because no MAP and only one sublimb_mesh piece \n",
      "MP filtering soma verts: 2.574920654296875e-05\n",
      "Do Not Need to Fix MP Decomposition 0 so just continuing\n",
      "There were not both MAP and MP pieces so skipping the stitch resolving phase\n",
      "Time for decomp of Limb = 0.1107797622680664\n"
     ]
    },
    {
     "data": {
      "application/vnd.jupyter.widget-view+json": {
       "model_id": "e68e96726dc94e8286debe783701679a",
       "version_major": 2,
       "version_minor": 0
      },
      "text/plain": [
       "  0%|          | 0/2 [00:00<?, ?it/s]"
      ]
     },
     "metadata": {},
     "output_type": "display_data"
    },
    {
     "name": "stdout",
     "output_type": "stream",
     "text": [
      "Removed 2 skeletal branches\n",
      "There were no branches after cleaning limb correspondence\n"
     ]
    },
    {
     "data": {
      "application/vnd.jupyter.widget-view+json": {
       "model_id": "a98ba32cdccb41159f4cfbb6660e4527",
       "version_major": 2,
       "version_minor": 0
      },
      "text/plain": [
       "Container(figure=Figure(box_center=[0.5, 0.5, 0.5], box_size=[1.0, 1.0, 1.0], camera=PerspectiveCamera(fov=45.…"
      ]
     },
     "metadata": {},
     "output_type": "display_data"
    },
    {
     "name": "stdout",
     "output_type": "stream",
     "text": [
      "--> time = 0.17460417747497559\n",
      "Floating 2: <trimesh.Trimesh(vertices.shape=(178, 3), faces.shape=(352, 3))>\n",
      "invalidation_d = 12000\n",
      "use_adaptive_invalidation_d= True\n",
      "axon_width_preprocess_limb_max = 200\n",
      "filter_end_node_length= 4000\n",
      "filter_end_node_length_meshparty = 1000\n",
      "invalidation_d = 12000\n",
      "root_curr = None\n",
      "Time for preparing soma vertices and root: 6.67572021484375e-06\n",
      "invalidation_d = 12000\n",
      "smooth_neighborhood = 1\n",
      "cc_vertex_thresh = 10\n"
     ]
    },
    {
     "name": "stderr",
     "output_type": "stream",
     "text": [
      "  0%|                                                                                             | 0/1 [00:00<?, ?it/s]"
     ]
    },
    {
     "data": {
      "application/vnd.jupyter.widget-view+json": {
       "model_id": "1eb5214598184d8ba65697843d6b81ac",
       "version_major": 2,
       "version_minor": 0
      },
      "text/plain": [
       "  0%|          | 0/177 [00:00<?, ?it/s]"
      ]
     },
     "metadata": {},
     "output_type": "display_data"
    },
    {
     "name": "stderr",
     "output_type": "stream",
     "text": [
      "100%|█████████████████████████████████████████████████████████████████████████████████████| 1/1 [00:00<00:00, 73.22it/s]\n"
     ]
    },
    {
     "name": "stdout",
     "output_type": "stream",
     "text": [
      "meshparty_segment_size = 100\n",
      "Time for 1st pass MP skeletonization: 0.035162925720214844\n",
      "branches_touching_root = [0]\n",
      "combining close nodes\n",
      "combine_threshold = 700\n",
      "length of Graph = 7\n",
      "After combining close endpoints max(kept_branches_idx) = 0, len(kept_branches_idx) = 1\n",
      "empty_indices % = 0.0\n",
      " conflict_indices % = 0.0\n"
     ]
    },
    {
     "data": {
      "application/vnd.jupyter.widget-view+json": {
       "model_id": "0a296e2306e942df85deba984ed90fd9",
       "version_major": 2,
       "version_minor": 0
      },
      "text/plain": [
       "0it [00:00, ?it/s]"
      ]
     },
     "metadata": {},
     "output_type": "display_data"
    },
    {
     "data": {
      "application/vnd.jupyter.widget-view+json": {
       "model_id": "99f42197a1374e309a9a88c80a90d8ea",
       "version_major": 2,
       "version_minor": 0
      },
      "text/plain": [
       "  0%|          | 0/1 [00:00<?, ?it/s]"
      ]
     },
     "metadata": {},
     "output_type": "display_data"
    },
    {
     "name": "stdout",
     "output_type": "stream",
     "text": [
      "widths = [inf]\n",
      "width_median= inf\n",
      "segment_widths_median = [inf]\n",
      "Decomposing first pass: 0.04590725898742676\n",
      "Attempting to use MeshAfterParty Skeletonization and Mesh Correspondence\n",
      "Another print\n",
      "Found len(mesh_large_idx) MAP candidates: [352]\n",
      "mesh_large_connectivity: 0.00010609626770019531\n",
      "Finding MAP candidates connected components: 5.817413330078125e-05\n",
      "Divinding into MP and MAP pieces: 1.1920928955078125e-06\n",
      "Total time for MAP sublimb processing 2.384185791015625e-06\n",
      "---- Working on MP Decomposition #0 ----\n",
      "Using Quicker soma_to_piece_touching_vertices because no MAP and only one sublimb_mesh piece \n",
      "MP filtering soma verts: 1.8596649169921875e-05\n",
      "Do Not Need to Fix MP Decomposition 0 so just continuing\n",
      "There were not both MAP and MP pieces so skipping the stitch resolving phase\n",
      "Time for decomp of Limb = 0.08257770538330078\n"
     ]
    },
    {
     "data": {
      "application/vnd.jupyter.widget-view+json": {
       "model_id": "ef2b467c877f4e76985ec98144e01f26",
       "version_major": 2,
       "version_minor": 0
      },
      "text/plain": [
       "  0%|          | 0/2 [00:00<?, ?it/s]"
      ]
     },
     "metadata": {},
     "output_type": "display_data"
    },
    {
     "name": "stdout",
     "output_type": "stream",
     "text": [
      "Removed 2 skeletal branches\n",
      "There were no branches after cleaning limb correspondence\n"
     ]
    },
    {
     "data": {
      "application/vnd.jupyter.widget-view+json": {
       "model_id": "09697dd9a9514351be1a5f8199bf02d8",
       "version_major": 2,
       "version_minor": 0
      },
      "text/plain": [
       "Container(figure=Figure(box_center=[0.5, 0.5, 0.5], box_size=[1.0, 1.0, 1.0], camera=PerspectiveCamera(fov=45.…"
      ]
     },
     "metadata": {},
     "output_type": "display_data"
    },
    {
     "name": "stdout",
     "output_type": "stream",
     "text": [
      "--> time = 0.13368630409240723\n",
      "Floating 3: <trimesh.Trimesh(vertices.shape=(169, 3), faces.shape=(334, 3))>\n",
      "invalidation_d = 12000\n",
      "use_adaptive_invalidation_d= True\n",
      "axon_width_preprocess_limb_max = 200\n",
      "filter_end_node_length= 4000\n",
      "filter_end_node_length_meshparty = 1000\n",
      "invalidation_d = 12000\n",
      "root_curr = None\n",
      "Time for preparing soma vertices and root: 5.7220458984375e-06\n",
      "invalidation_d = 12000\n",
      "smooth_neighborhood = 1\n",
      "cc_vertex_thresh = 10\n"
     ]
    },
    {
     "name": "stderr",
     "output_type": "stream",
     "text": [
      "  0%|                                                                                             | 0/1 [00:00<?, ?it/s]"
     ]
    },
    {
     "data": {
      "application/vnd.jupyter.widget-view+json": {
       "model_id": "b976e9fd1ca74954be9d1c8e5d5a79c9",
       "version_major": 2,
       "version_minor": 0
      },
      "text/plain": [
       "  0%|          | 0/168 [00:00<?, ?it/s]"
      ]
     },
     "metadata": {},
     "output_type": "display_data"
    },
    {
     "name": "stderr",
     "output_type": "stream",
     "text": [
      "100%|█████████████████████████████████████████████████████████████████████████████████████| 1/1 [00:00<00:00, 50.12it/s]"
     ]
    },
    {
     "name": "stdout",
     "output_type": "stream",
     "text": [
      "meshparty_segment_size = 100\n",
      "Time for 1st pass MP skeletonization: 0.041066884994506836\n",
      "branches_touching_root = [0]\n",
      "combining close nodes\n",
      "combine_threshold = 700\n",
      "length of Graph = 12\n",
      "After combining close endpoints max(kept_branches_idx) = 0, len(kept_branches_idx) = 1\n",
      "empty_indices % = 0.0\n",
      " conflict_indices % = 0.0\n"
     ]
    },
    {
     "name": "stderr",
     "output_type": "stream",
     "text": [
      "\n"
     ]
    },
    {
     "data": {
      "application/vnd.jupyter.widget-view+json": {
       "model_id": "11dd7e84e46847069f0625cb96906779",
       "version_major": 2,
       "version_minor": 0
      },
      "text/plain": [
       "0it [00:00, ?it/s]"
      ]
     },
     "metadata": {},
     "output_type": "display_data"
    },
    {
     "data": {
      "application/vnd.jupyter.widget-view+json": {
       "model_id": "284944e4c0b5437faa537416cb65d1a1",
       "version_major": 2,
       "version_minor": 0
      },
      "text/plain": [
       "  0%|          | 0/1 [00:00<?, ?it/s]"
      ]
     },
     "metadata": {},
     "output_type": "display_data"
    },
    {
     "name": "stdout",
     "output_type": "stream",
     "text": [
      "widths = [inf]\n",
      "width_median= inf\n",
      "segment_widths_median = [inf]\n",
      "Decomposing first pass: 0.04947400093078613\n",
      "Attempting to use MeshAfterParty Skeletonization and Mesh Correspondence\n",
      "Another print\n",
      "Found len(mesh_large_idx) MAP candidates: [334]\n",
      "mesh_large_connectivity: 0.00010156631469726562\n",
      "Finding MAP candidates connected components: 5.698204040527344e-05\n",
      "Divinding into MP and MAP pieces: 1.430511474609375e-06\n",
      "Total time for MAP sublimb processing 2.384185791015625e-06\n",
      "---- Working on MP Decomposition #0 ----\n",
      "Using Quicker soma_to_piece_touching_vertices because no MAP and only one sublimb_mesh piece \n",
      "MP filtering soma verts: 1.8835067749023438e-05\n",
      "Do Not Need to Fix MP Decomposition 0 so just continuing\n",
      "There were not both MAP and MP pieces so skipping the stitch resolving phase\n",
      "Time for decomp of Limb = 0.09241795539855957\n"
     ]
    },
    {
     "data": {
      "application/vnd.jupyter.widget-view+json": {
       "model_id": "b7a30294b43345a180a4df3d76bce226",
       "version_major": 2,
       "version_minor": 0
      },
      "text/plain": [
       "  0%|          | 0/2 [00:00<?, ?it/s]"
      ]
     },
     "metadata": {},
     "output_type": "display_data"
    },
    {
     "name": "stdout",
     "output_type": "stream",
     "text": [
      "Removed 2 skeletal branches\n",
      "There were no branches after cleaning limb correspondence\n"
     ]
    },
    {
     "data": {
      "application/vnd.jupyter.widget-view+json": {
       "model_id": "963e6211e9754240b6afeeb66c6a03d3",
       "version_major": 2,
       "version_minor": 0
      },
      "text/plain": [
       "Container(figure=Figure(box_center=[0.5, 0.5, 0.5], box_size=[1.0, 1.0, 1.0], camera=PerspectiveCamera(fov=45.…"
      ]
     },
     "metadata": {},
     "output_type": "display_data"
    },
    {
     "name": "stdout",
     "output_type": "stream",
     "text": [
      "--> time = 0.14814233779907227\n",
      "Floating 4: <trimesh.Trimesh(vertices.shape=(162, 3), faces.shape=(320, 3))>\n",
      "invalidation_d = 12000\n",
      "use_adaptive_invalidation_d= True\n",
      "axon_width_preprocess_limb_max = 200\n",
      "filter_end_node_length= 4000\n",
      "filter_end_node_length_meshparty = 1000\n",
      "invalidation_d = 12000\n",
      "root_curr = None\n",
      "Time for preparing soma vertices and root: 6.9141387939453125e-06\n",
      "invalidation_d = 12000\n",
      "smooth_neighborhood = 1\n",
      "cc_vertex_thresh = 10\n"
     ]
    },
    {
     "name": "stderr",
     "output_type": "stream",
     "text": [
      "  0%|                                                                                             | 0/1 [00:00<?, ?it/s]"
     ]
    },
    {
     "data": {
      "application/vnd.jupyter.widget-view+json": {
       "model_id": "5ba4b1921e2f4a27bb8f98d66f00c0af",
       "version_major": 2,
       "version_minor": 0
      },
      "text/plain": [
       "  0%|          | 0/161 [00:00<?, ?it/s]"
      ]
     },
     "metadata": {},
     "output_type": "display_data"
    },
    {
     "name": "stderr",
     "output_type": "stream",
     "text": [
      "100%|█████████████████████████████████████████████████████████████████████████████████████| 1/1 [00:00<00:00, 71.52it/s]"
     ]
    },
    {
     "name": "stdout",
     "output_type": "stream",
     "text": [
      "meshparty_segment_size = 100\n",
      "Time for 1st pass MP skeletonization: 0.04123210906982422\n",
      "branches_touching_root = [0]\n",
      "combining close nodes\n",
      "combine_threshold = 700\n",
      "length of Graph = 14\n",
      "After combining close endpoints max(kept_branches_idx) = 0, len(kept_branches_idx) = 1\n"
     ]
    },
    {
     "name": "stderr",
     "output_type": "stream",
     "text": [
      "\n"
     ]
    },
    {
     "name": "stdout",
     "output_type": "stream",
     "text": [
      "empty_indices % = 0.0\n",
      " conflict_indices % = 0.0\n"
     ]
    },
    {
     "data": {
      "application/vnd.jupyter.widget-view+json": {
       "model_id": "b47ce0ad2883485fab728a29a03e0449",
       "version_major": 2,
       "version_minor": 0
      },
      "text/plain": [
       "0it [00:00, ?it/s]"
      ]
     },
     "metadata": {},
     "output_type": "display_data"
    },
    {
     "data": {
      "application/vnd.jupyter.widget-view+json": {
       "model_id": "87eb053e5ee74b3985a565bf343154e4",
       "version_major": 2,
       "version_minor": 0
      },
      "text/plain": [
       "  0%|          | 0/1 [00:00<?, ?it/s]"
      ]
     },
     "metadata": {},
     "output_type": "display_data"
    },
    {
     "name": "stdout",
     "output_type": "stream",
     "text": [
      "widths = [396.96785751]\n",
      "width_median= 396.96785750577834\n",
      "segment_widths_median = [396.96785751]\n",
      "Decomposing first pass: 0.05710554122924805\n",
      "Attempting to use MeshAfterParty Skeletonization and Mesh Correspondence\n",
      "Another print\n",
      "Divinding into MP and MAP pieces: 3.552436828613281e-05\n",
      "Total time for MAP sublimb processing 3.0994415283203125e-06\n",
      "---- Working on MP Decomposition #0 ----\n",
      "Using Quicker soma_to_piece_touching_vertices because no MAP and only one sublimb_mesh piece \n",
      "MP filtering soma verts: 2.6226043701171875e-05\n",
      "Do Not Need to Fix MP Decomposition 0 so just continuing\n",
      "There were not both MAP and MP pieces so skipping the stitch resolving phase\n",
      "Time for decomp of Limb = 0.10029220581054688\n"
     ]
    },
    {
     "data": {
      "application/vnd.jupyter.widget-view+json": {
       "model_id": "3f3634a02c994da281cdb31587b042b2",
       "version_major": 2,
       "version_minor": 0
      },
      "text/plain": [
       "  0%|          | 0/2 [00:00<?, ?it/s]"
      ]
     },
     "metadata": {},
     "output_type": "display_data"
    },
    {
     "name": "stdout",
     "output_type": "stream",
     "text": [
      "Removed 2 skeletal branches\n",
      "There were no branches after cleaning limb correspondence\n"
     ]
    },
    {
     "data": {
      "application/vnd.jupyter.widget-view+json": {
       "model_id": "93cd57e286ac4dc58b702cce587054d2",
       "version_major": 2,
       "version_minor": 0
      },
      "text/plain": [
       "Container(figure=Figure(box_center=[0.5, 0.5, 0.5], box_size=[1.0, 1.0, 1.0], camera=PerspectiveCamera(fov=45.…"
      ]
     },
     "metadata": {},
     "output_type": "display_data"
    },
    {
     "name": "stdout",
     "output_type": "stream",
     "text": [
      "--> time = 0.17118048667907715\n",
      "Floating 5: <trimesh.Trimesh(vertices.shape=(145, 3), faces.shape=(286, 3))>\n",
      "invalidation_d = 12000\n",
      "use_adaptive_invalidation_d= True\n",
      "axon_width_preprocess_limb_max = 200\n",
      "filter_end_node_length= 4000\n",
      "filter_end_node_length_meshparty = 1000\n",
      "invalidation_d = 12000\n",
      "root_curr = None\n",
      "Time for preparing soma vertices and root: 8.344650268554688e-06\n",
      "invalidation_d = 12000\n",
      "smooth_neighborhood = 1\n",
      "cc_vertex_thresh = 10\n"
     ]
    },
    {
     "name": "stderr",
     "output_type": "stream",
     "text": [
      "  0%|                                                                                             | 0/1 [00:00<?, ?it/s]"
     ]
    },
    {
     "data": {
      "application/vnd.jupyter.widget-view+json": {
       "model_id": "5cfb8541ad8d4087b4f0fd6451dece0a",
       "version_major": 2,
       "version_minor": 0
      },
      "text/plain": [
       "  0%|          | 0/144 [00:00<?, ?it/s]"
      ]
     },
     "metadata": {},
     "output_type": "display_data"
    },
    {
     "name": "stderr",
     "output_type": "stream",
     "text": [
      "100%|█████████████████████████████████████████████████████████████████████████████████████| 1/1 [00:00<00:00, 43.17it/s]\n"
     ]
    },
    {
     "name": "stdout",
     "output_type": "stream",
     "text": [
      "meshparty_segment_size = 100\n",
      "Time for 1st pass MP skeletonization: 0.053462982177734375\n",
      "branches_touching_root = [0]\n",
      "combining close nodes\n",
      "combine_threshold = 700\n",
      "length of Graph = 7\n",
      "After combining close endpoints max(kept_branches_idx) = 0, len(kept_branches_idx) = 1\n",
      "empty_indices % = 0.0\n",
      " conflict_indices % = 0.0\n"
     ]
    },
    {
     "data": {
      "application/vnd.jupyter.widget-view+json": {
       "model_id": "6b4f09caad46452299686b9ec01cc2dc",
       "version_major": 2,
       "version_minor": 0
      },
      "text/plain": [
       "0it [00:00, ?it/s]"
      ]
     },
     "metadata": {},
     "output_type": "display_data"
    },
    {
     "data": {
      "application/vnd.jupyter.widget-view+json": {
       "model_id": "5493c05415744044807ee8d44435cad9",
       "version_major": 2,
       "version_minor": 0
      },
      "text/plain": [
       "  0%|          | 0/1 [00:00<?, ?it/s]"
      ]
     },
     "metadata": {},
     "output_type": "display_data"
    },
    {
     "name": "stdout",
     "output_type": "stream",
     "text": [
      "widths = [inf]\n",
      "width_median= inf\n",
      "segment_widths_median = [inf]\n",
      "Decomposing first pass: 0.055191755294799805\n",
      "Attempting to use MeshAfterParty Skeletonization and Mesh Correspondence\n",
      "Another print\n",
      "Found len(mesh_large_idx) MAP candidates: [286]\n",
      "mesh_large_connectivity: 0.0001442432403564453\n",
      "Finding MAP candidates connected components: 6.365776062011719e-05\n",
      "Divinding into MP and MAP pieces: 1.1920928955078125e-06\n",
      "Total time for MAP sublimb processing 2.86102294921875e-06\n",
      "---- Working on MP Decomposition #0 ----\n",
      "Using Quicker soma_to_piece_touching_vertices because no MAP and only one sublimb_mesh piece \n",
      "MP filtering soma verts: 1.9311904907226562e-05\n",
      "Do Not Need to Fix MP Decomposition 0 so just continuing\n",
      "There were not both MAP and MP pieces so skipping the stitch resolving phase\n",
      "Time for decomp of Limb = 0.11073923110961914\n"
     ]
    },
    {
     "data": {
      "application/vnd.jupyter.widget-view+json": {
       "model_id": "8ad028ceb14d473eb9d27c1ee309da6b",
       "version_major": 2,
       "version_minor": 0
      },
      "text/plain": [
       "  0%|          | 0/2 [00:00<?, ?it/s]"
      ]
     },
     "metadata": {},
     "output_type": "display_data"
    },
    {
     "name": "stdout",
     "output_type": "stream",
     "text": [
      "Removed 2 skeletal branches\n",
      "There were no branches after cleaning limb correspondence\n"
     ]
    },
    {
     "data": {
      "application/vnd.jupyter.widget-view+json": {
       "model_id": "9ad2d47e222b4b398466ea9825d49093",
       "version_major": 2,
       "version_minor": 0
      },
      "text/plain": [
       "Container(figure=Figure(box_center=[0.5, 0.5, 0.5], box_size=[1.0, 1.0, 1.0], camera=PerspectiveCamera(fov=45.…"
      ]
     },
     "metadata": {},
     "output_type": "display_data"
    },
    {
     "name": "stdout",
     "output_type": "stream",
     "text": [
      "--> time = 0.1682267189025879\n",
      "Floating 6: <trimesh.Trimesh(vertices.shape=(141, 3), faces.shape=(290, 3))>\n",
      "invalidation_d = 12000\n",
      "use_adaptive_invalidation_d= True\n",
      "axon_width_preprocess_limb_max = 200\n",
      "filter_end_node_length= 4000\n",
      "filter_end_node_length_meshparty = 1000\n",
      "invalidation_d = 12000\n",
      "root_curr = None\n",
      "Time for preparing soma vertices and root: 5.7220458984375e-06\n",
      "invalidation_d = 12000\n",
      "smooth_neighborhood = 1\n",
      "cc_vertex_thresh = 10\n"
     ]
    },
    {
     "name": "stderr",
     "output_type": "stream",
     "text": [
      "  0%|                                                                                             | 0/1 [00:00<?, ?it/s]"
     ]
    },
    {
     "data": {
      "application/vnd.jupyter.widget-view+json": {
       "model_id": "a1d0c5d345a8437ea1292bb1dec3afc0",
       "version_major": 2,
       "version_minor": 0
      },
      "text/plain": [
       "  0%|          | 0/140 [00:00<?, ?it/s]"
      ]
     },
     "metadata": {},
     "output_type": "display_data"
    },
    {
     "name": "stderr",
     "output_type": "stream",
     "text": [
      "100%|█████████████████████████████████████████████████████████████████████████████████████| 1/1 [00:00<00:00, 43.51it/s]\n"
     ]
    },
    {
     "name": "stdout",
     "output_type": "stream",
     "text": [
      "meshparty_segment_size = 100\n",
      "Time for 1st pass MP skeletonization: 0.05357527732849121\n",
      "branches_touching_root = [0]\n",
      "combining close nodes\n",
      "combine_threshold = 700\n",
      "length of Graph = 17\n",
      "After combining close endpoints max(kept_branches_idx) = 0, len(kept_branches_idx) = 1\n",
      "empty_indices % = 0.0\n",
      " conflict_indices % = 0.0\n"
     ]
    },
    {
     "data": {
      "application/vnd.jupyter.widget-view+json": {
       "model_id": "00bcf7ad8f73426aa59caed0934529ea",
       "version_major": 2,
       "version_minor": 0
      },
      "text/plain": [
       "0it [00:00, ?it/s]"
      ]
     },
     "metadata": {},
     "output_type": "display_data"
    },
    {
     "data": {
      "application/vnd.jupyter.widget-view+json": {
       "model_id": "b55a1d19611b4769b1f3094b76f4ed6a",
       "version_major": 2,
       "version_minor": 0
      },
      "text/plain": [
       "  0%|          | 0/1 [00:00<?, ?it/s]"
      ]
     },
     "metadata": {},
     "output_type": "display_data"
    },
    {
     "name": "stdout",
     "output_type": "stream",
     "text": [
      "widths = [inf]\n",
      "width_median= inf\n",
      "segment_widths_median = [inf]\n",
      "Decomposing first pass: 0.05389213562011719\n",
      "Attempting to use MeshAfterParty Skeletonization and Mesh Correspondence\n",
      "Another print\n",
      "Found len(mesh_large_idx) MAP candidates: [290]\n",
      "mesh_large_connectivity: 0.00013136863708496094\n",
      "Finding MAP candidates connected components: 8.821487426757812e-05\n",
      "Divinding into MP and MAP pieces: 1.9073486328125e-06\n",
      "Total time for MAP sublimb processing 4.5299530029296875e-06\n",
      "---- Working on MP Decomposition #0 ----\n",
      "Using Quicker soma_to_piece_touching_vertices because no MAP and only one sublimb_mesh piece \n",
      "MP filtering soma verts: 2.8133392333984375e-05\n",
      "Do Not Need to Fix MP Decomposition 0 so just continuing\n",
      "There were not both MAP and MP pieces so skipping the stitch resolving phase\n",
      "Time for decomp of Limb = 0.1099233627319336\n"
     ]
    },
    {
     "data": {
      "application/vnd.jupyter.widget-view+json": {
       "model_id": "0204403460674596b441cc244e2ea33a",
       "version_major": 2,
       "version_minor": 0
      },
      "text/plain": [
       "  0%|          | 0/2 [00:00<?, ?it/s]"
      ]
     },
     "metadata": {},
     "output_type": "display_data"
    },
    {
     "name": "stdout",
     "output_type": "stream",
     "text": [
      "Removed 2 skeletal branches\n",
      "There were no branches after cleaning limb correspondence\n"
     ]
    },
    {
     "data": {
      "application/vnd.jupyter.widget-view+json": {
       "model_id": "d91110bcd02d43fa8ca01b8e01b82390",
       "version_major": 2,
       "version_minor": 0
      },
      "text/plain": [
       "Container(figure=Figure(box_center=[0.5, 0.5, 0.5], box_size=[1.0, 1.0, 1.0], camera=PerspectiveCamera(fov=45.…"
      ]
     },
     "metadata": {},
     "output_type": "display_data"
    },
    {
     "name": "stdout",
     "output_type": "stream",
     "text": [
      "--> time = 0.17197322845458984\n",
      "Floating 7: <trimesh.Trimesh(vertices.shape=(131, 3), faces.shape=(258, 3))>\n",
      "invalidation_d = 12000\n",
      "use_adaptive_invalidation_d= True\n",
      "axon_width_preprocess_limb_max = 200\n",
      "filter_end_node_length= 4000\n",
      "filter_end_node_length_meshparty = 1000\n",
      "invalidation_d = 12000\n",
      "root_curr = None\n",
      "Time for preparing soma vertices and root: 6.67572021484375e-06\n",
      "invalidation_d = 12000\n",
      "smooth_neighborhood = 1\n",
      "cc_vertex_thresh = 10\n"
     ]
    },
    {
     "name": "stderr",
     "output_type": "stream",
     "text": [
      "  0%|                                                                                             | 0/1 [00:00<?, ?it/s]"
     ]
    },
    {
     "data": {
      "application/vnd.jupyter.widget-view+json": {
       "model_id": "4e7a5e2f496944989c669e07f2731511",
       "version_major": 2,
       "version_minor": 0
      },
      "text/plain": [
       "  0%|          | 0/130 [00:00<?, ?it/s]"
      ]
     },
     "metadata": {},
     "output_type": "display_data"
    },
    {
     "name": "stderr",
     "output_type": "stream",
     "text": [
      "100%|█████████████████████████████████████████████████████████████████████████████████████| 1/1 [00:00<00:00, 38.98it/s]\n"
     ]
    },
    {
     "name": "stdout",
     "output_type": "stream",
     "text": [
      "meshparty_segment_size = 100\n",
      "Time for 1st pass MP skeletonization: 0.05933833122253418\n",
      "branches_touching_root = [0]\n",
      "combining close nodes\n",
      "combine_threshold = 700\n",
      "length of Graph = 9\n",
      "After combining close endpoints max(kept_branches_idx) = 0, len(kept_branches_idx) = 1\n",
      "empty_indices % = 0.0\n",
      " conflict_indices % = 0.0\n"
     ]
    },
    {
     "data": {
      "application/vnd.jupyter.widget-view+json": {
       "model_id": "41b9aca5468942f3a5f852df305bc509",
       "version_major": 2,
       "version_minor": 0
      },
      "text/plain": [
       "0it [00:00, ?it/s]"
      ]
     },
     "metadata": {},
     "output_type": "display_data"
    },
    {
     "data": {
      "application/vnd.jupyter.widget-view+json": {
       "model_id": "f2d1a62b17264c27b21c10f2b83792b2",
       "version_major": 2,
       "version_minor": 0
      },
      "text/plain": [
       "  0%|          | 0/1 [00:00<?, ?it/s]"
      ]
     },
     "metadata": {},
     "output_type": "display_data"
    },
    {
     "name": "stdout",
     "output_type": "stream",
     "text": [
      "widths = [inf]\n",
      "width_median= inf\n",
      "segment_widths_median = [inf]\n",
      "Decomposing first pass: 0.04804396629333496\n",
      "Attempting to use MeshAfterParty Skeletonization and Mesh Correspondence\n",
      "Another print\n",
      "Found len(mesh_large_idx) MAP candidates: [258]\n",
      "mesh_large_connectivity: 0.00014472007751464844\n",
      "Finding MAP candidates connected components: 8.0108642578125e-05\n",
      "Divinding into MP and MAP pieces: 1.6689300537109375e-06\n",
      "Total time for MAP sublimb processing 2.86102294921875e-06\n",
      "---- Working on MP Decomposition #0 ----\n",
      "Using Quicker soma_to_piece_touching_vertices because no MAP and only one sublimb_mesh piece \n",
      "MP filtering soma verts: 2.4080276489257812e-05\n",
      "Do Not Need to Fix MP Decomposition 0 so just continuing\n",
      "There were not both MAP and MP pieces so skipping the stitch resolving phase\n",
      "Time for decomp of Limb = 0.11031794548034668\n"
     ]
    },
    {
     "data": {
      "application/vnd.jupyter.widget-view+json": {
       "model_id": "9c527345dbbd4856a57a409bda3d1f53",
       "version_major": 2,
       "version_minor": 0
      },
      "text/plain": [
       "  0%|          | 0/2 [00:00<?, ?it/s]"
      ]
     },
     "metadata": {},
     "output_type": "display_data"
    },
    {
     "name": "stdout",
     "output_type": "stream",
     "text": [
      "Removed 2 skeletal branches\n",
      "There were no branches after cleaning limb correspondence\n"
     ]
    },
    {
     "data": {
      "application/vnd.jupyter.widget-view+json": {
       "model_id": "754c77a76669456e92a52879bf6604e8",
       "version_major": 2,
       "version_minor": 0
      },
      "text/plain": [
       "Container(figure=Figure(box_center=[0.5, 0.5, 0.5], box_size=[1.0, 1.0, 1.0], camera=PerspectiveCamera(fov=45.…"
      ]
     },
     "metadata": {},
     "output_type": "display_data"
    },
    {
     "name": "stdout",
     "output_type": "stream",
     "text": [
      "--> time = 0.1706371307373047\n",
      "Floating 8: <trimesh.Trimesh(vertices.shape=(123, 3), faces.shape=(242, 3))>\n",
      "invalidation_d = 12000\n",
      "use_adaptive_invalidation_d= True\n",
      "axon_width_preprocess_limb_max = 200\n",
      "filter_end_node_length= 4000\n",
      "filter_end_node_length_meshparty = 1000\n",
      "invalidation_d = 12000\n",
      "root_curr = None\n",
      "Time for preparing soma vertices and root: 5.4836273193359375e-06\n",
      "invalidation_d = 12000\n",
      "smooth_neighborhood = 1\n",
      "cc_vertex_thresh = 10\n"
     ]
    },
    {
     "name": "stderr",
     "output_type": "stream",
     "text": [
      "  0%|                                                                                             | 0/1 [00:00<?, ?it/s]"
     ]
    },
    {
     "data": {
      "application/vnd.jupyter.widget-view+json": {
       "model_id": "5a68ba541697438e953d0a59bb982595",
       "version_major": 2,
       "version_minor": 0
      },
      "text/plain": [
       "  0%|          | 0/122 [00:00<?, ?it/s]"
      ]
     },
     "metadata": {},
     "output_type": "display_data"
    },
    {
     "name": "stderr",
     "output_type": "stream",
     "text": [
      "100%|█████████████████████████████████████████████████████████████████████████████████████| 1/1 [00:00<00:00, 73.82it/s]"
     ]
    },
    {
     "name": "stdout",
     "output_type": "stream",
     "text": [
      "meshparty_segment_size = 100\n",
      "Time for 1st pass MP skeletonization: 0.0323026180267334\n"
     ]
    },
    {
     "name": "stderr",
     "output_type": "stream",
     "text": [
      "\n"
     ]
    },
    {
     "name": "stdout",
     "output_type": "stream",
     "text": [
      "branches_touching_root = [0]\n",
      "combining close nodes\n",
      "combine_threshold = 700\n",
      "length of Graph = 9\n",
      "After combining close endpoints max(kept_branches_idx) = 0, len(kept_branches_idx) = 1\n",
      "empty_indices % = 0.0\n",
      " conflict_indices % = 0.0\n"
     ]
    },
    {
     "data": {
      "application/vnd.jupyter.widget-view+json": {
       "model_id": "016d3586544c44aeae00e1102707f290",
       "version_major": 2,
       "version_minor": 0
      },
      "text/plain": [
       "0it [00:00, ?it/s]"
      ]
     },
     "metadata": {},
     "output_type": "display_data"
    },
    {
     "data": {
      "application/vnd.jupyter.widget-view+json": {
       "model_id": "2da04d0f6e504cbca05b7224f43b875e",
       "version_major": 2,
       "version_minor": 0
      },
      "text/plain": [
       "  0%|          | 0/1 [00:00<?, ?it/s]"
      ]
     },
     "metadata": {},
     "output_type": "display_data"
    },
    {
     "name": "stdout",
     "output_type": "stream",
     "text": [
      "widths = [inf]\n",
      "width_median= inf\n",
      "segment_widths_median = [inf]\n",
      "Decomposing first pass: 0.0495297908782959\n",
      "Attempting to use MeshAfterParty Skeletonization and Mesh Correspondence\n",
      "Another print\n",
      "Found len(mesh_large_idx) MAP candidates: [242]\n",
      "mesh_large_connectivity: 0.00011324882507324219\n",
      "Finding MAP candidates connected components: 6.389617919921875e-05\n",
      "Divinding into MP and MAP pieces: 1.1920928955078125e-06\n",
      "Total time for MAP sublimb processing 3.337860107421875e-06\n",
      "---- Working on MP Decomposition #0 ----\n",
      "Using Quicker soma_to_piece_touching_vertices because no MAP and only one sublimb_mesh piece \n",
      "MP filtering soma verts: 1.9550323486328125e-05\n",
      "Do Not Need to Fix MP Decomposition 0 so just continuing\n",
      "There were not both MAP and MP pieces so skipping the stitch resolving phase\n",
      "Time for decomp of Limb = 0.08328437805175781\n"
     ]
    },
    {
     "data": {
      "application/vnd.jupyter.widget-view+json": {
       "model_id": "29512d29c271436298ae115122e4b160",
       "version_major": 2,
       "version_minor": 0
      },
      "text/plain": [
       "  0%|          | 0/2 [00:00<?, ?it/s]"
      ]
     },
     "metadata": {},
     "output_type": "display_data"
    },
    {
     "name": "stdout",
     "output_type": "stream",
     "text": [
      "Removed 2 skeletal branches\n",
      "There were no branches after cleaning limb correspondence\n"
     ]
    },
    {
     "data": {
      "application/vnd.jupyter.widget-view+json": {
       "model_id": "188a72eb044c44a49f0cf7d9eb7bb075",
       "version_major": 2,
       "version_minor": 0
      },
      "text/plain": [
       "Container(figure=Figure(box_center=[0.5, 0.5, 0.5], box_size=[1.0, 1.0, 1.0], camera=PerspectiveCamera(fov=45.…"
      ]
     },
     "metadata": {},
     "output_type": "display_data"
    },
    {
     "name": "stdout",
     "output_type": "stream",
     "text": [
      "--> time = 0.14106988906860352\n",
      "Floating 9: <trimesh.Trimesh(vertices.shape=(121, 3), faces.shape=(238, 3))>\n",
      "invalidation_d = 12000\n",
      "use_adaptive_invalidation_d= True\n",
      "axon_width_preprocess_limb_max = 200\n",
      "filter_end_node_length= 4000\n",
      "filter_end_node_length_meshparty = 1000\n",
      "invalidation_d = 12000\n",
      "root_curr = None\n",
      "Time for preparing soma vertices and root: 8.58306884765625e-06\n",
      "invalidation_d = 12000\n",
      "smooth_neighborhood = 1\n",
      "cc_vertex_thresh = 10\n"
     ]
    },
    {
     "name": "stderr",
     "output_type": "stream",
     "text": [
      "  0%|                                                                                             | 0/1 [00:00<?, ?it/s]"
     ]
    },
    {
     "data": {
      "application/vnd.jupyter.widget-view+json": {
       "model_id": "21c32c9dd40f4041a3227b2bb3d76126",
       "version_major": 2,
       "version_minor": 0
      },
      "text/plain": [
       "  0%|          | 0/120 [00:00<?, ?it/s]"
      ]
     },
     "metadata": {},
     "output_type": "display_data"
    },
    {
     "name": "stderr",
     "output_type": "stream",
     "text": [
      "100%|█████████████████████████████████████████████████████████████████████████████████████| 1/1 [00:00<00:00, 61.81it/s]"
     ]
    },
    {
     "name": "stdout",
     "output_type": "stream",
     "text": [
      "meshparty_segment_size = 100\n",
      "Time for 1st pass MP skeletonization: 0.04359579086303711\n",
      "branches_touching_root = [0]\n",
      "combining close nodes\n",
      "combine_threshold = 700\n",
      "length of Graph = 9\n",
      "After combining close endpoints max(kept_branches_idx) = 0, len(kept_branches_idx) = 1\n",
      "empty_indices % = 0.0\n",
      " conflict_indices % = 0.0\n"
     ]
    },
    {
     "name": "stderr",
     "output_type": "stream",
     "text": [
      "\n"
     ]
    },
    {
     "data": {
      "application/vnd.jupyter.widget-view+json": {
       "model_id": "ed6c8ec4161447fa8ffa7c29489d42cd",
       "version_major": 2,
       "version_minor": 0
      },
      "text/plain": [
       "0it [00:00, ?it/s]"
      ]
     },
     "metadata": {},
     "output_type": "display_data"
    },
    {
     "data": {
      "application/vnd.jupyter.widget-view+json": {
       "model_id": "8323858ab9334eb091265deff8e8accc",
       "version_major": 2,
       "version_minor": 0
      },
      "text/plain": [
       "  0%|          | 0/1 [00:00<?, ?it/s]"
      ]
     },
     "metadata": {},
     "output_type": "display_data"
    },
    {
     "name": "stdout",
     "output_type": "stream",
     "text": [
      "widths = [inf]\n",
      "width_median= inf\n",
      "segment_widths_median = [inf]\n",
      "Decomposing first pass: 0.05614948272705078\n",
      "Attempting to use MeshAfterParty Skeletonization and Mesh Correspondence\n",
      "Another print\n",
      "Found len(mesh_large_idx) MAP candidates: [238]\n",
      "mesh_large_connectivity: 0.00012969970703125\n",
      "Finding MAP candidates connected components: 6.985664367675781e-05\n",
      "Divinding into MP and MAP pieces: 1.430511474609375e-06\n",
      "Total time for MAP sublimb processing 2.86102294921875e-06\n",
      "---- Working on MP Decomposition #0 ----\n",
      "Using Quicker soma_to_piece_touching_vertices because no MAP and only one sublimb_mesh piece \n",
      "MP filtering soma verts: 2.6941299438476562e-05\n",
      "Do Not Need to Fix MP Decomposition 0 so just continuing\n",
      "There were not both MAP and MP pieces so skipping the stitch resolving phase\n",
      "Time for decomp of Limb = 0.10158729553222656\n"
     ]
    },
    {
     "data": {
      "application/vnd.jupyter.widget-view+json": {
       "model_id": "42c08f0b13a24f41b709b4b4fe463b03",
       "version_major": 2,
       "version_minor": 0
      },
      "text/plain": [
       "  0%|          | 0/2 [00:00<?, ?it/s]"
      ]
     },
     "metadata": {},
     "output_type": "display_data"
    },
    {
     "name": "stdout",
     "output_type": "stream",
     "text": [
      "Removed 2 skeletal branches\n",
      "There were no branches after cleaning limb correspondence\n"
     ]
    },
    {
     "data": {
      "application/vnd.jupyter.widget-view+json": {
       "model_id": "2ee3cc9fe8024caa9abe7d397217f4f7",
       "version_major": 2,
       "version_minor": 0
      },
      "text/plain": [
       "Container(figure=Figure(box_center=[0.5, 0.5, 0.5], box_size=[1.0, 1.0, 1.0], camera=PerspectiveCamera(fov=45.…"
      ]
     },
     "metadata": {},
     "output_type": "display_data"
    },
    {
     "name": "stdout",
     "output_type": "stream",
     "text": [
      "--> time = 0.1572895050048828\n",
      "Floating 10: <trimesh.Trimesh(vertices.shape=(85, 3), faces.shape=(166, 3))>\n",
      "invalidation_d = 12000\n",
      "use_adaptive_invalidation_d= True\n",
      "axon_width_preprocess_limb_max = 200\n",
      "filter_end_node_length= 4000\n",
      "filter_end_node_length_meshparty = 1000\n",
      "invalidation_d = 12000\n",
      "root_curr = None\n",
      "Time for preparing soma vertices and root: 5.245208740234375e-06\n",
      "invalidation_d = 12000\n",
      "smooth_neighborhood = 1\n",
      "cc_vertex_thresh = 10\n"
     ]
    },
    {
     "name": "stderr",
     "output_type": "stream",
     "text": [
      "  0%|                                                                                             | 0/1 [00:00<?, ?it/s]"
     ]
    },
    {
     "data": {
      "application/vnd.jupyter.widget-view+json": {
       "model_id": "327e9995163b485d903b1898f8dd8799",
       "version_major": 2,
       "version_minor": 0
      },
      "text/plain": [
       "  0%|          | 0/84 [00:00<?, ?it/s]"
      ]
     },
     "metadata": {},
     "output_type": "display_data"
    },
    {
     "name": "stderr",
     "output_type": "stream",
     "text": [
      "100%|█████████████████████████████████████████████████████████████████████████████████████| 1/1 [00:00<00:00, 48.96it/s]"
     ]
    },
    {
     "name": "stdout",
     "output_type": "stream",
     "text": [
      "meshparty_segment_size = 100\n",
      "Time for 1st pass MP skeletonization: 0.03855276107788086\n",
      "branches_touching_root = [0]\n",
      "combining close nodes\n",
      "combine_threshold = 700\n"
     ]
    },
    {
     "name": "stderr",
     "output_type": "stream",
     "text": [
      "\n"
     ]
    },
    {
     "name": "stdout",
     "output_type": "stream",
     "text": [
      "length of Graph = 7\n",
      "After combining close endpoints max(kept_branches_idx) = 0, len(kept_branches_idx) = 1\n",
      "empty_indices % = 0.0\n",
      " conflict_indices % = 0.0\n"
     ]
    },
    {
     "data": {
      "application/vnd.jupyter.widget-view+json": {
       "model_id": "6ddc750c85d542d8912352f4fa84c10d",
       "version_major": 2,
       "version_minor": 0
      },
      "text/plain": [
       "0it [00:00, ?it/s]"
      ]
     },
     "metadata": {},
     "output_type": "display_data"
    },
    {
     "data": {
      "application/vnd.jupyter.widget-view+json": {
       "model_id": "9d4002cf9ef74799a0e5b7832851b9e4",
       "version_major": 2,
       "version_minor": 0
      },
      "text/plain": [
       "  0%|          | 0/1 [00:00<?, ?it/s]"
      ]
     },
     "metadata": {},
     "output_type": "display_data"
    },
    {
     "name": "stdout",
     "output_type": "stream",
     "text": [
      "widths = [inf]\n",
      "width_median= inf\n",
      "segment_widths_median = [inf]\n",
      "Decomposing first pass: 0.045073747634887695\n",
      "Attempting to use MeshAfterParty Skeletonization and Mesh Correspondence\n",
      "Another print\n",
      "Found len(mesh_large_idx) MAP candidates: [166]\n",
      "mesh_large_connectivity: 0.00012874603271484375\n",
      "Finding MAP candidates connected components: 9.179115295410156e-05\n",
      "Divinding into MP and MAP pieces: 1.430511474609375e-06\n",
      "Total time for MAP sublimb processing 2.86102294921875e-06\n",
      "---- Working on MP Decomposition #0 ----\n",
      "Using Quicker soma_to_piece_touching_vertices because no MAP and only one sublimb_mesh piece \n",
      "MP filtering soma verts: 1.9550323486328125e-05\n",
      "Do Not Need to Fix MP Decomposition 0 so just continuing\n",
      "There were not both MAP and MP pieces so skipping the stitch resolving phase\n",
      "Time for decomp of Limb = 0.08570051193237305\n"
     ]
    },
    {
     "data": {
      "application/vnd.jupyter.widget-view+json": {
       "model_id": "535a8784f8e54888901d6fa4130abdda",
       "version_major": 2,
       "version_minor": 0
      },
      "text/plain": [
       "  0%|          | 0/2 [00:00<?, ?it/s]"
      ]
     },
     "metadata": {},
     "output_type": "display_data"
    },
    {
     "name": "stdout",
     "output_type": "stream",
     "text": [
      "Removed 2 skeletal branches\n",
      "There were no branches after cleaning limb correspondence\n"
     ]
    },
    {
     "data": {
      "application/vnd.jupyter.widget-view+json": {
       "model_id": "f90994374a7746669e1adac4ac8152c5",
       "version_major": 2,
       "version_minor": 0
      },
      "text/plain": [
       "Container(figure=Figure(box_center=[0.5, 0.5, 0.5], box_size=[1.0, 1.0, 1.0], camera=PerspectiveCamera(fov=45.…"
      ]
     },
     "metadata": {},
     "output_type": "display_data"
    },
    {
     "name": "stdout",
     "output_type": "stream",
     "text": [
      "--> time = 0.13475394248962402\n",
      "Floating 11: <trimesh.Trimesh(vertices.shape=(84, 3), faces.shape=(164, 3))>\n",
      "invalidation_d = 12000\n",
      "use_adaptive_invalidation_d= True\n",
      "axon_width_preprocess_limb_max = 200\n",
      "filter_end_node_length= 4000\n",
      "filter_end_node_length_meshparty = 1000\n",
      "invalidation_d = 12000\n",
      "root_curr = None\n",
      "Time for preparing soma vertices and root: 1.0013580322265625e-05\n",
      "invalidation_d = 12000\n",
      "smooth_neighborhood = 1\n",
      "cc_vertex_thresh = 10\n"
     ]
    },
    {
     "name": "stderr",
     "output_type": "stream",
     "text": [
      "  0%|                                                                                             | 0/1 [00:00<?, ?it/s]"
     ]
    },
    {
     "data": {
      "application/vnd.jupyter.widget-view+json": {
       "model_id": "7e4be9751e594314975af26be0c890af",
       "version_major": 2,
       "version_minor": 0
      },
      "text/plain": [
       "  0%|          | 0/83 [00:00<?, ?it/s]"
      ]
     },
     "metadata": {},
     "output_type": "display_data"
    },
    {
     "name": "stderr",
     "output_type": "stream",
     "text": [
      "100%|█████████████████████████████████████████████████████████████████████████████████████| 1/1 [00:00<00:00, 52.32it/s]"
     ]
    },
    {
     "name": "stdout",
     "output_type": "stream",
     "text": [
      "meshparty_segment_size = 100\n",
      "Time for 1st pass MP skeletonization: 0.04295635223388672\n",
      "branches_touching_root = [0]\n",
      "combining close nodes\n",
      "combine_threshold = 700\n",
      "length of Graph = 10\n",
      "After combining close endpoints max(kept_branches_idx) = 0, len(kept_branches_idx) = 1\n",
      "empty_indices % = 0.0\n",
      " conflict_indices % = 0.0\n"
     ]
    },
    {
     "name": "stderr",
     "output_type": "stream",
     "text": [
      "\n"
     ]
    },
    {
     "data": {
      "application/vnd.jupyter.widget-view+json": {
       "model_id": "f18d78f0c761405284b80b2318c125ab",
       "version_major": 2,
       "version_minor": 0
      },
      "text/plain": [
       "0it [00:00, ?it/s]"
      ]
     },
     "metadata": {},
     "output_type": "display_data"
    },
    {
     "data": {
      "application/vnd.jupyter.widget-view+json": {
       "model_id": "12b6909c91eb4b518a689ac4d297a552",
       "version_major": 2,
       "version_minor": 0
      },
      "text/plain": [
       "  0%|          | 0/1 [00:00<?, ?it/s]"
      ]
     },
     "metadata": {},
     "output_type": "display_data"
    },
    {
     "name": "stdout",
     "output_type": "stream",
     "text": [
      "widths = [inf]\n",
      "width_median= inf\n",
      "segment_widths_median = [inf]\n",
      "Decomposing first pass: 0.04213309288024902\n",
      "Attempting to use MeshAfterParty Skeletonization and Mesh Correspondence\n",
      "Another print\n",
      "Found len(mesh_large_idx) MAP candidates: [164]\n",
      "mesh_large_connectivity: 0.00013303756713867188\n",
      "Finding MAP candidates connected components: 8.988380432128906e-05\n",
      "Divinding into MP and MAP pieces: 1.430511474609375e-06\n",
      "Total time for MAP sublimb processing 2.86102294921875e-06\n",
      "---- Working on MP Decomposition #0 ----\n",
      "Using Quicker soma_to_piece_touching_vertices because no MAP and only one sublimb_mesh piece \n",
      "MP filtering soma verts: 2.288818359375e-05\n",
      "Do Not Need to Fix MP Decomposition 0 so just continuing\n",
      "There were not both MAP and MP pieces so skipping the stitch resolving phase\n",
      "Time for decomp of Limb = 0.08670425415039062\n"
     ]
    },
    {
     "data": {
      "application/vnd.jupyter.widget-view+json": {
       "model_id": "9de9422f763e463987339395e2610548",
       "version_major": 2,
       "version_minor": 0
      },
      "text/plain": [
       "  0%|          | 0/2 [00:00<?, ?it/s]"
      ]
     },
     "metadata": {},
     "output_type": "display_data"
    },
    {
     "name": "stdout",
     "output_type": "stream",
     "text": [
      "Removed 2 skeletal branches\n",
      "There were no branches after cleaning limb correspondence\n"
     ]
    },
    {
     "data": {
      "application/vnd.jupyter.widget-view+json": {
       "model_id": "b00aefcbcf104c61b1538cc005d7c4d7",
       "version_major": 2,
       "version_minor": 0
      },
      "text/plain": [
       "Container(figure=Figure(box_center=[0.5, 0.5, 0.5], box_size=[1.0, 1.0, 1.0], camera=PerspectiveCamera(fov=45.…"
      ]
     },
     "metadata": {},
     "output_type": "display_data"
    },
    {
     "name": "stdout",
     "output_type": "stream",
     "text": [
      "--> time = 0.14568114280700684\n",
      "Floating 12: <trimesh.Trimesh(vertices.shape=(83, 3), faces.shape=(162, 3))>\n",
      "invalidation_d = 12000\n",
      "use_adaptive_invalidation_d= True\n",
      "axon_width_preprocess_limb_max = 200\n",
      "filter_end_node_length= 4000\n",
      "filter_end_node_length_meshparty = 1000\n",
      "invalidation_d = 12000\n",
      "root_curr = None\n",
      "Time for preparing soma vertices and root: 1.1682510375976562e-05\n",
      "invalidation_d = 12000\n",
      "smooth_neighborhood = 1\n",
      "cc_vertex_thresh = 10\n"
     ]
    },
    {
     "name": "stderr",
     "output_type": "stream",
     "text": [
      "  0%|                                                                                             | 0/1 [00:00<?, ?it/s]"
     ]
    },
    {
     "data": {
      "application/vnd.jupyter.widget-view+json": {
       "model_id": "b2b6f90341894cb5afa6c4efe8af4478",
       "version_major": 2,
       "version_minor": 0
      },
      "text/plain": [
       "  0%|          | 0/82 [00:00<?, ?it/s]"
      ]
     },
     "metadata": {},
     "output_type": "display_data"
    },
    {
     "name": "stderr",
     "output_type": "stream",
     "text": [
      "100%|█████████████████████████████████████████████████████████████████████████████████████| 1/1 [00:00<00:00, 62.96it/s]"
     ]
    },
    {
     "name": "stdout",
     "output_type": "stream",
     "text": [
      "meshparty_segment_size = 100\n",
      "Time for 1st pass MP skeletonization: 0.04435133934020996\n",
      "branches_touching_root = [0]\n",
      "combining close nodes\n",
      "combine_threshold = 700\n",
      "length of Graph = 4\n",
      "After combining close endpoints max(kept_branches_idx) = 0, len(kept_branches_idx) = 1\n",
      "empty_indices % = 0.0\n",
      " conflict_indices % = 0.0\n"
     ]
    },
    {
     "name": "stderr",
     "output_type": "stream",
     "text": [
      "\n"
     ]
    },
    {
     "data": {
      "application/vnd.jupyter.widget-view+json": {
       "model_id": "4349a9cd30e24653ae4ecf479ce1f931",
       "version_major": 2,
       "version_minor": 0
      },
      "text/plain": [
       "0it [00:00, ?it/s]"
      ]
     },
     "metadata": {},
     "output_type": "display_data"
    },
    {
     "data": {
      "application/vnd.jupyter.widget-view+json": {
       "model_id": "992d7af9dfea4c428abc07ed75129fdf",
       "version_major": 2,
       "version_minor": 0
      },
      "text/plain": [
       "  0%|          | 0/1 [00:00<?, ?it/s]"
      ]
     },
     "metadata": {},
     "output_type": "display_data"
    },
    {
     "name": "stdout",
     "output_type": "stream",
     "text": [
      "widths = [inf]\n",
      "width_median= inf\n",
      "segment_widths_median = [inf]\n",
      "Decomposing first pass: 0.04929471015930176\n",
      "Attempting to use MeshAfterParty Skeletonization and Mesh Correspondence\n",
      "Another print\n",
      "Found len(mesh_large_idx) MAP candidates: [162]\n",
      "mesh_large_connectivity: 0.000102996826171875\n",
      "Finding MAP candidates connected components: 5.5789947509765625e-05\n",
      "Divinding into MP and MAP pieces: 1.6689300537109375e-06\n",
      "Total time for MAP sublimb processing 3.0994415283203125e-06\n",
      "---- Working on MP Decomposition #0 ----\n",
      "Using Quicker soma_to_piece_touching_vertices because no MAP and only one sublimb_mesh piece \n",
      "MP filtering soma verts: 3.409385681152344e-05\n",
      "Do Not Need to Fix MP Decomposition 0 so just continuing\n",
      "There were not both MAP and MP pieces so skipping the stitch resolving phase\n",
      "Time for decomp of Limb = 0.09529232978820801\n"
     ]
    },
    {
     "data": {
      "application/vnd.jupyter.widget-view+json": {
       "model_id": "6041a88d3dbd4a87a1c8a50e0fa7181f",
       "version_major": 2,
       "version_minor": 0
      },
      "text/plain": [
       "  0%|          | 0/2 [00:00<?, ?it/s]"
      ]
     },
     "metadata": {},
     "output_type": "display_data"
    },
    {
     "name": "stdout",
     "output_type": "stream",
     "text": [
      "Removed 2 skeletal branches\n",
      "There were no branches after cleaning limb correspondence\n"
     ]
    },
    {
     "data": {
      "application/vnd.jupyter.widget-view+json": {
       "model_id": "5b200c66d81e4217b82d5998e8baf9b1",
       "version_major": 2,
       "version_minor": 0
      },
      "text/plain": [
       "Container(figure=Figure(box_center=[0.5, 0.5, 0.5], box_size=[1.0, 1.0, 1.0], camera=PerspectiveCamera(fov=45.…"
      ]
     },
     "metadata": {},
     "output_type": "display_data"
    },
    {
     "name": "stdout",
     "output_type": "stream",
     "text": [
      "--> time = 0.15238189697265625\n",
      "Floating 13: <trimesh.Trimesh(vertices.shape=(80, 3), faces.shape=(156, 3))>\n",
      "invalidation_d = 12000\n",
      "use_adaptive_invalidation_d= True\n",
      "axon_width_preprocess_limb_max = 200\n",
      "filter_end_node_length= 4000\n",
      "filter_end_node_length_meshparty = 1000\n",
      "invalidation_d = 12000\n",
      "root_curr = None\n",
      "Time for preparing soma vertices and root: 5.245208740234375e-06\n",
      "invalidation_d = 12000\n",
      "smooth_neighborhood = 1\n",
      "cc_vertex_thresh = 10\n"
     ]
    },
    {
     "name": "stderr",
     "output_type": "stream",
     "text": [
      "  0%|                                                                                             | 0/1 [00:00<?, ?it/s]"
     ]
    },
    {
     "data": {
      "application/vnd.jupyter.widget-view+json": {
       "model_id": "385a2736927b4c3d9d184c46ac1ef5bb",
       "version_major": 2,
       "version_minor": 0
      },
      "text/plain": [
       "  0%|          | 0/79 [00:00<?, ?it/s]"
      ]
     },
     "metadata": {},
     "output_type": "display_data"
    },
    {
     "name": "stderr",
     "output_type": "stream",
     "text": [
      "100%|█████████████████████████████████████████████████████████████████████████████████████| 1/1 [00:00<00:00, 71.56it/s]"
     ]
    },
    {
     "name": "stdout",
     "output_type": "stream",
     "text": [
      "meshparty_segment_size = 100\n",
      "Time for 1st pass MP skeletonization: 0.044920921325683594\n",
      "branches_touching_root = [0]\n"
     ]
    },
    {
     "name": "stderr",
     "output_type": "stream",
     "text": [
      "\n"
     ]
    },
    {
     "name": "stdout",
     "output_type": "stream",
     "text": [
      "combining close nodes\n",
      "combine_threshold = 700\n",
      "length of Graph = 4\n",
      "After combining close endpoints max(kept_branches_idx) = 0, len(kept_branches_idx) = 1\n",
      "empty_indices % = 0.0\n",
      " conflict_indices % = 0.0\n"
     ]
    },
    {
     "data": {
      "application/vnd.jupyter.widget-view+json": {
       "model_id": "8805f9456ac04ddab3da0d6ec3100394",
       "version_major": 2,
       "version_minor": 0
      },
      "text/plain": [
       "0it [00:00, ?it/s]"
      ]
     },
     "metadata": {},
     "output_type": "display_data"
    },
    {
     "data": {
      "application/vnd.jupyter.widget-view+json": {
       "model_id": "50a516d531924866893465c1ffe52816",
       "version_major": 2,
       "version_minor": 0
      },
      "text/plain": [
       "  0%|          | 0/1 [00:00<?, ?it/s]"
      ]
     },
     "metadata": {},
     "output_type": "display_data"
    },
    {
     "name": "stdout",
     "output_type": "stream",
     "text": [
      "widths = [inf]\n",
      "width_median= inf\n",
      "segment_widths_median = [inf]\n",
      "Decomposing first pass: 0.04938101768493652\n",
      "Attempting to use MeshAfterParty Skeletonization and Mesh Correspondence\n",
      "Another print\n",
      "Found len(mesh_large_idx) MAP candidates: [156]\n",
      "mesh_large_connectivity: 0.00010538101196289062\n",
      "Finding MAP candidates connected components: 5.8650970458984375e-05\n",
      "Divinding into MP and MAP pieces: 1.430511474609375e-06\n",
      "Total time for MAP sublimb processing 2.6226043701171875e-06\n",
      "---- Working on MP Decomposition #0 ----\n",
      "Using Quicker soma_to_piece_touching_vertices because no MAP and only one sublimb_mesh piece \n",
      "MP filtering soma verts: 1.9073486328125e-05\n",
      "Do Not Need to Fix MP Decomposition 0 so just continuing\n",
      "There were not both MAP and MP pieces so skipping the stitch resolving phase\n",
      "Time for decomp of Limb = 0.09560728073120117\n"
     ]
    },
    {
     "data": {
      "application/vnd.jupyter.widget-view+json": {
       "model_id": "da42a4f3589d49858a88595c8e752ef1",
       "version_major": 2,
       "version_minor": 0
      },
      "text/plain": [
       "  0%|          | 0/2 [00:00<?, ?it/s]"
      ]
     },
     "metadata": {},
     "output_type": "display_data"
    },
    {
     "name": "stdout",
     "output_type": "stream",
     "text": [
      "Removed 2 skeletal branches\n",
      "There were no branches after cleaning limb correspondence\n"
     ]
    },
    {
     "data": {
      "application/vnd.jupyter.widget-view+json": {
       "model_id": "7d9cc2fdf63546ecb216e9daea51eb99",
       "version_major": 2,
       "version_minor": 0
      },
      "text/plain": [
       "Container(figure=Figure(box_center=[0.5, 0.5, 0.5], box_size=[1.0, 1.0, 1.0], camera=PerspectiveCamera(fov=45.…"
      ]
     },
     "metadata": {},
     "output_type": "display_data"
    },
    {
     "name": "stdout",
     "output_type": "stream",
     "text": [
      "--> time = 0.14790797233581543\n",
      "Floating 14: <trimesh.Trimesh(vertices.shape=(79, 3), faces.shape=(154, 3))>\n",
      "invalidation_d = 12000\n",
      "use_adaptive_invalidation_d= True\n",
      "axon_width_preprocess_limb_max = 200\n",
      "filter_end_node_length= 4000\n",
      "filter_end_node_length_meshparty = 1000\n",
      "invalidation_d = 12000\n",
      "root_curr = None\n",
      "Time for preparing soma vertices and root: 1.7881393432617188e-05\n",
      "invalidation_d = 12000\n",
      "smooth_neighborhood = 1\n",
      "cc_vertex_thresh = 10\n"
     ]
    },
    {
     "name": "stderr",
     "output_type": "stream",
     "text": [
      "  0%|                                                                                             | 0/1 [00:00<?, ?it/s]"
     ]
    },
    {
     "data": {
      "application/vnd.jupyter.widget-view+json": {
       "model_id": "a6e6cbf3b10c48e38c468b40868ef51d",
       "version_major": 2,
       "version_minor": 0
      },
      "text/plain": [
       "  0%|          | 0/78 [00:00<?, ?it/s]"
      ]
     },
     "metadata": {},
     "output_type": "display_data"
    },
    {
     "name": "stderr",
     "output_type": "stream",
     "text": [
      "100%|█████████████████████████████████████████████████████████████████████████████████████| 1/1 [00:00<00:00, 61.15it/s]"
     ]
    },
    {
     "name": "stdout",
     "output_type": "stream",
     "text": [
      "meshparty_segment_size = 100\n",
      "Time for 1st pass MP skeletonization: 0.03858160972595215\n",
      "branches_touching_root = [0]\n",
      "combining close nodes\n",
      "combine_threshold = 700\n",
      "length of Graph = 4\n",
      "After combining close endpoints max(kept_branches_idx) = 0, len(kept_branches_idx) = 1\n",
      "empty_indices % = 0.0\n",
      " conflict_indices % = 0.0\n"
     ]
    },
    {
     "name": "stderr",
     "output_type": "stream",
     "text": [
      "\n"
     ]
    },
    {
     "data": {
      "application/vnd.jupyter.widget-view+json": {
       "model_id": "677d2874e34d40c7bb77797d574368fd",
       "version_major": 2,
       "version_minor": 0
      },
      "text/plain": [
       "0it [00:00, ?it/s]"
      ]
     },
     "metadata": {},
     "output_type": "display_data"
    },
    {
     "data": {
      "application/vnd.jupyter.widget-view+json": {
       "model_id": "2873165ecb884246a5600a08f4ec7d2a",
       "version_major": 2,
       "version_minor": 0
      },
      "text/plain": [
       "  0%|          | 0/1 [00:00<?, ?it/s]"
      ]
     },
     "metadata": {},
     "output_type": "display_data"
    },
    {
     "name": "stdout",
     "output_type": "stream",
     "text": [
      "widths = [inf]\n",
      "width_median= inf\n",
      "segment_widths_median = [inf]\n",
      "Decomposing first pass: 0.04958462715148926\n",
      "Attempting to use MeshAfterParty Skeletonization and Mesh Correspondence\n",
      "Another print\n",
      "Found len(mesh_large_idx) MAP candidates: [154]\n",
      "mesh_large_connectivity: 0.00014662742614746094\n",
      "Finding MAP candidates connected components: 7.605552673339844e-05\n",
      "Divinding into MP and MAP pieces: 1.9073486328125e-06\n",
      "Total time for MAP sublimb processing 3.337860107421875e-06\n",
      "---- Working on MP Decomposition #0 ----\n",
      "Using Quicker soma_to_piece_touching_vertices because no MAP and only one sublimb_mesh piece \n",
      "MP filtering soma verts: 2.5987625122070312e-05\n",
      "Do Not Need to Fix MP Decomposition 0 so just continuing\n",
      "There were not both MAP and MP pieces so skipping the stitch resolving phase\n",
      "Time for decomp of Limb = 0.0900580883026123\n"
     ]
    },
    {
     "data": {
      "application/vnd.jupyter.widget-view+json": {
       "model_id": "4adf8a0be8084a5e95db9131885f9b68",
       "version_major": 2,
       "version_minor": 0
      },
      "text/plain": [
       "  0%|          | 0/2 [00:00<?, ?it/s]"
      ]
     },
     "metadata": {},
     "output_type": "display_data"
    },
    {
     "name": "stdout",
     "output_type": "stream",
     "text": [
      "Removed 2 skeletal branches\n",
      "There were no branches after cleaning limb correspondence\n"
     ]
    },
    {
     "data": {
      "application/vnd.jupyter.widget-view+json": {
       "model_id": "3d4f5480d54e4e1ca90ea4765a1bf9d0",
       "version_major": 2,
       "version_minor": 0
      },
      "text/plain": [
       "Container(figure=Figure(box_center=[0.5, 0.5, 0.5], box_size=[1.0, 1.0, 1.0], camera=PerspectiveCamera(fov=45.…"
      ]
     },
     "metadata": {},
     "output_type": "display_data"
    },
    {
     "name": "stdout",
     "output_type": "stream",
     "text": [
      "--> time = 0.16318082809448242\n",
      "Floating 15: <trimesh.Trimesh(vertices.shape=(69, 3), faces.shape=(134, 3))>\n",
      "invalidation_d = 12000\n",
      "use_adaptive_invalidation_d= True\n",
      "axon_width_preprocess_limb_max = 200\n",
      "filter_end_node_length= 4000\n",
      "filter_end_node_length_meshparty = 1000\n",
      "invalidation_d = 12000\n",
      "root_curr = None\n",
      "Time for preparing soma vertices and root: 6.198883056640625e-06\n",
      "invalidation_d = 12000\n",
      "smooth_neighborhood = 1\n",
      "cc_vertex_thresh = 10\n"
     ]
    },
    {
     "name": "stderr",
     "output_type": "stream",
     "text": [
      "  0%|                                                                                             | 0/1 [00:00<?, ?it/s]"
     ]
    },
    {
     "data": {
      "application/vnd.jupyter.widget-view+json": {
       "model_id": "e62359ef166545639d6ccfcb8207ed71",
       "version_major": 2,
       "version_minor": 0
      },
      "text/plain": [
       "  0%|          | 0/68 [00:00<?, ?it/s]"
      ]
     },
     "metadata": {},
     "output_type": "display_data"
    },
    {
     "name": "stderr",
     "output_type": "stream",
     "text": [
      "100%|█████████████████████████████████████████████████████████████████████████████████████| 1/1 [00:00<00:00, 69.88it/s]"
     ]
    },
    {
     "name": "stdout",
     "output_type": "stream",
     "text": [
      "meshparty_segment_size = 100\n",
      "Time for 1st pass MP skeletonization: 0.03395390510559082\n",
      "branches_touching_root = [0]\n",
      "combining close nodes\n",
      "combine_threshold = 700\n",
      "length of Graph = 3\n",
      "After combining close endpoints max(kept_branches_idx) = 0, len(kept_branches_idx) = 1\n"
     ]
    },
    {
     "name": "stderr",
     "output_type": "stream",
     "text": [
      "\n"
     ]
    },
    {
     "name": "stdout",
     "output_type": "stream",
     "text": [
      "empty_indices % = 0.0\n",
      " conflict_indices % = 0.0\n"
     ]
    },
    {
     "data": {
      "application/vnd.jupyter.widget-view+json": {
       "model_id": "a2c1aefe59f345bf870db1d7a22b7b9d",
       "version_major": 2,
       "version_minor": 0
      },
      "text/plain": [
       "0it [00:00, ?it/s]"
      ]
     },
     "metadata": {},
     "output_type": "display_data"
    },
    {
     "data": {
      "application/vnd.jupyter.widget-view+json": {
       "model_id": "f41da2a226f94587ab2fdafd4c984c40",
       "version_major": 2,
       "version_minor": 0
      },
      "text/plain": [
       "  0%|          | 0/1 [00:00<?, ?it/s]"
      ]
     },
     "metadata": {},
     "output_type": "display_data"
    },
    {
     "name": "stdout",
     "output_type": "stream",
     "text": [
      "widths = [inf]\n",
      "width_median= inf\n",
      "segment_widths_median = [inf]\n",
      "Decomposing first pass: 0.04009580612182617\n",
      "Attempting to use MeshAfterParty Skeletonization and Mesh Correspondence\n",
      "Another print\n",
      "Found len(mesh_large_idx) MAP candidates: [134]\n",
      "mesh_large_connectivity: 0.00010919570922851562\n",
      "Finding MAP candidates connected components: 5.984306335449219e-05\n",
      "Divinding into MP and MAP pieces: 1.1920928955078125e-06\n",
      "Total time for MAP sublimb processing 2.6226043701171875e-06\n",
      "---- Working on MP Decomposition #0 ----\n",
      "Using Quicker soma_to_piece_touching_vertices because no MAP and only one sublimb_mesh piece \n",
      "MP filtering soma verts: 1.9788742065429688e-05\n",
      "Do Not Need to Fix MP Decomposition 0 so just continuing\n",
      "There were not both MAP and MP pieces so skipping the stitch resolving phase\n",
      "Time for decomp of Limb = 0.0755758285522461\n"
     ]
    },
    {
     "data": {
      "application/vnd.jupyter.widget-view+json": {
       "model_id": "099edd7b6451438ea4a3745c76e8de5e",
       "version_major": 2,
       "version_minor": 0
      },
      "text/plain": [
       "  0%|          | 0/2 [00:00<?, ?it/s]"
      ]
     },
     "metadata": {},
     "output_type": "display_data"
    },
    {
     "name": "stdout",
     "output_type": "stream",
     "text": [
      "Removed 2 skeletal branches\n",
      "There were no branches after cleaning limb correspondence\n"
     ]
    },
    {
     "data": {
      "application/vnd.jupyter.widget-view+json": {
       "model_id": "bb9a7ffd91b5455aa403bce2897cdd1c",
       "version_major": 2,
       "version_minor": 0
      },
      "text/plain": [
       "Container(figure=Figure(box_center=[0.5, 0.5, 0.5], box_size=[1.0, 1.0, 1.0], camera=PerspectiveCamera(fov=45.…"
      ]
     },
     "metadata": {},
     "output_type": "display_data"
    },
    {
     "name": "stdout",
     "output_type": "stream",
     "text": [
      "--> time = 0.12672114372253418\n",
      "Floating 16: <trimesh.Trimesh(vertices.shape=(69, 3), faces.shape=(134, 3))>\n",
      "invalidation_d = 12000\n",
      "use_adaptive_invalidation_d= True\n",
      "axon_width_preprocess_limb_max = 200\n",
      "filter_end_node_length= 4000\n",
      "filter_end_node_length_meshparty = 1000\n",
      "invalidation_d = 12000\n",
      "root_curr = None\n",
      "Time for preparing soma vertices and root: 1.5020370483398438e-05\n",
      "invalidation_d = 12000\n",
      "smooth_neighborhood = 1\n",
      "cc_vertex_thresh = 10\n"
     ]
    },
    {
     "name": "stderr",
     "output_type": "stream",
     "text": [
      "  0%|                                                                                             | 0/1 [00:00<?, ?it/s]"
     ]
    },
    {
     "data": {
      "application/vnd.jupyter.widget-view+json": {
       "model_id": "4e4f91810312490eb8d81a3acbd35050",
       "version_major": 2,
       "version_minor": 0
      },
      "text/plain": [
       "  0%|          | 0/68 [00:00<?, ?it/s]"
      ]
     },
     "metadata": {},
     "output_type": "display_data"
    },
    {
     "name": "stderr",
     "output_type": "stream",
     "text": [
      "100%|█████████████████████████████████████████████████████████████████████████████████████| 1/1 [00:00<00:00, 58.02it/s]"
     ]
    },
    {
     "name": "stdout",
     "output_type": "stream",
     "text": [
      "meshparty_segment_size = 100\n",
      "Time for 1st pass MP skeletonization: 0.03930354118347168\n",
      "branches_touching_root = [0]\n",
      "combining close nodes\n",
      "combine_threshold = 700\n",
      "length of Graph = 4\n",
      "After combining close endpoints max(kept_branches_idx) = 0, len(kept_branches_idx) = 1\n",
      "empty_indices % = 0.0\n",
      " conflict_indices % = 0.0\n"
     ]
    },
    {
     "name": "stderr",
     "output_type": "stream",
     "text": [
      "\n"
     ]
    },
    {
     "data": {
      "application/vnd.jupyter.widget-view+json": {
       "model_id": "4a8108bcb6dd4e3e800b7dd90882e044",
       "version_major": 2,
       "version_minor": 0
      },
      "text/plain": [
       "0it [00:00, ?it/s]"
      ]
     },
     "metadata": {},
     "output_type": "display_data"
    },
    {
     "data": {
      "application/vnd.jupyter.widget-view+json": {
       "model_id": "685d98a8507f41db8631a324d9b5c829",
       "version_major": 2,
       "version_minor": 0
      },
      "text/plain": [
       "  0%|          | 0/1 [00:00<?, ?it/s]"
      ]
     },
     "metadata": {},
     "output_type": "display_data"
    },
    {
     "name": "stdout",
     "output_type": "stream",
     "text": [
      "widths = [inf]\n",
      "width_median= inf\n",
      "segment_widths_median = [inf]\n",
      "Decomposing first pass: 0.0404810905456543\n",
      "Attempting to use MeshAfterParty Skeletonization and Mesh Correspondence\n",
      "Another print\n",
      "Found len(mesh_large_idx) MAP candidates: [134]\n",
      "mesh_large_connectivity: 0.00011086463928222656\n",
      "Finding MAP candidates connected components: 9.894371032714844e-05\n",
      "Divinding into MP and MAP pieces: 1.6689300537109375e-06\n",
      "Total time for MAP sublimb processing 2.6226043701171875e-06\n",
      "---- Working on MP Decomposition #0 ----\n",
      "Using Quicker soma_to_piece_touching_vertices because no MAP and only one sublimb_mesh piece \n",
      "MP filtering soma verts: 2.0742416381835938e-05\n",
      "Do Not Need to Fix MP Decomposition 0 so just continuing\n",
      "There were not both MAP and MP pieces so skipping the stitch resolving phase\n",
      "Time for decomp of Limb = 0.08132338523864746\n"
     ]
    },
    {
     "data": {
      "application/vnd.jupyter.widget-view+json": {
       "model_id": "0789fe56d5244e9885cd7eb85e6f6018",
       "version_major": 2,
       "version_minor": 0
      },
      "text/plain": [
       "  0%|          | 0/2 [00:00<?, ?it/s]"
      ]
     },
     "metadata": {},
     "output_type": "display_data"
    },
    {
     "name": "stdout",
     "output_type": "stream",
     "text": [
      "Removed 2 skeletal branches\n",
      "There were no branches after cleaning limb correspondence\n"
     ]
    },
    {
     "data": {
      "application/vnd.jupyter.widget-view+json": {
       "model_id": "256acc3f084a4ea095547b16eed30fbb",
       "version_major": 2,
       "version_minor": 0
      },
      "text/plain": [
       "Container(figure=Figure(box_center=[0.5, 0.5, 0.5], box_size=[1.0, 1.0, 1.0], camera=PerspectiveCamera(fov=45.…"
      ]
     },
     "metadata": {},
     "output_type": "display_data"
    },
    {
     "name": "stdout",
     "output_type": "stream",
     "text": [
      "--> time = 0.13526248931884766\n",
      "Floating 17: <trimesh.Trimesh(vertices.shape=(62, 3), faces.shape=(120, 3))>\n",
      "invalidation_d = 12000\n",
      "use_adaptive_invalidation_d= True\n",
      "axon_width_preprocess_limb_max = 200\n",
      "filter_end_node_length= 4000\n",
      "filter_end_node_length_meshparty = 1000\n",
      "invalidation_d = 12000\n",
      "root_curr = None\n",
      "Time for preparing soma vertices and root: 6.67572021484375e-06\n",
      "invalidation_d = 12000\n",
      "smooth_neighborhood = 1\n",
      "cc_vertex_thresh = 10\n"
     ]
    },
    {
     "name": "stderr",
     "output_type": "stream",
     "text": [
      "  0%|                                                                                             | 0/1 [00:00<?, ?it/s]"
     ]
    },
    {
     "data": {
      "application/vnd.jupyter.widget-view+json": {
       "model_id": "9b6e073e8c9a4e4496814790eb7eb92d",
       "version_major": 2,
       "version_minor": 0
      },
      "text/plain": [
       "  0%|          | 0/61 [00:00<?, ?it/s]"
      ]
     },
     "metadata": {},
     "output_type": "display_data"
    },
    {
     "name": "stderr",
     "output_type": "stream",
     "text": [
      "100%|█████████████████████████████████████████████████████████████████████████████████████| 1/1 [00:00<00:00, 67.19it/s]"
     ]
    },
    {
     "name": "stdout",
     "output_type": "stream",
     "text": [
      "meshparty_segment_size = 100\n",
      "Time for 1st pass MP skeletonization: 0.032294273376464844\n",
      "branches_touching_root = [0]\n",
      "combining close nodes\n",
      "combine_threshold = 700\n",
      "length of Graph = 4\n",
      "After combining close endpoints max(kept_branches_idx) = 0, len(kept_branches_idx) = 1\n",
      "empty_indices % = 0.0\n",
      " conflict_indices % = 0.0\n"
     ]
    },
    {
     "name": "stderr",
     "output_type": "stream",
     "text": [
      "\n"
     ]
    },
    {
     "data": {
      "application/vnd.jupyter.widget-view+json": {
       "model_id": "9697b270fc864f24a9d7831c619d3e1b",
       "version_major": 2,
       "version_minor": 0
      },
      "text/plain": [
       "0it [00:00, ?it/s]"
      ]
     },
     "metadata": {},
     "output_type": "display_data"
    },
    {
     "data": {
      "application/vnd.jupyter.widget-view+json": {
       "model_id": "796f666760314dc2b9adc4385835cff2",
       "version_major": 2,
       "version_minor": 0
      },
      "text/plain": [
       "  0%|          | 0/1 [00:00<?, ?it/s]"
      ]
     },
     "metadata": {},
     "output_type": "display_data"
    },
    {
     "name": "stdout",
     "output_type": "stream",
     "text": [
      "widths = [inf]\n",
      "width_median= inf\n",
      "segment_widths_median = [inf]\n",
      "Decomposing first pass: 0.036943912506103516\n",
      "Attempting to use MeshAfterParty Skeletonization and Mesh Correspondence\n",
      "Another print\n",
      "Found len(mesh_large_idx) MAP candidates: [120]\n",
      "mesh_large_connectivity: 0.00013875961303710938\n",
      "Finding MAP candidates connected components: 0.00011420249938964844\n",
      "Divinding into MP and MAP pieces: 1.9073486328125e-06\n",
      "Total time for MAP sublimb processing 3.0994415283203125e-06\n",
      "---- Working on MP Decomposition #0 ----\n",
      "Using Quicker soma_to_piece_touching_vertices because no MAP and only one sublimb_mesh piece \n",
      "MP filtering soma verts: 2.5510787963867188e-05\n",
      "Do Not Need to Fix MP Decomposition 0 so just continuing\n",
      "There were not both MAP and MP pieces so skipping the stitch resolving phase\n",
      "Time for decomp of Limb = 0.07114672660827637\n"
     ]
    },
    {
     "data": {
      "application/vnd.jupyter.widget-view+json": {
       "model_id": "6d374646f482482d87e9994f06522e0d",
       "version_major": 2,
       "version_minor": 0
      },
      "text/plain": [
       "  0%|          | 0/2 [00:00<?, ?it/s]"
      ]
     },
     "metadata": {},
     "output_type": "display_data"
    },
    {
     "name": "stdout",
     "output_type": "stream",
     "text": [
      "Removed 2 skeletal branches\n",
      "There were no branches after cleaning limb correspondence\n"
     ]
    },
    {
     "data": {
      "application/vnd.jupyter.widget-view+json": {
       "model_id": "a5defeac235c4bc8922fae94113fb8c1",
       "version_major": 2,
       "version_minor": 0
      },
      "text/plain": [
       "Container(figure=Figure(box_center=[0.5, 0.5, 0.5], box_size=[1.0, 1.0, 1.0], camera=PerspectiveCamera(fov=45.…"
      ]
     },
     "metadata": {},
     "output_type": "display_data"
    },
    {
     "name": "stdout",
     "output_type": "stream",
     "text": [
      "--> time = 0.12260675430297852\n",
      "Floating 18: <trimesh.Trimesh(vertices.shape=(61, 3), faces.shape=(118, 3))>\n",
      "invalidation_d = 12000\n",
      "use_adaptive_invalidation_d= True\n",
      "axon_width_preprocess_limb_max = 200\n",
      "filter_end_node_length= 4000\n",
      "filter_end_node_length_meshparty = 1000\n",
      "invalidation_d = 12000\n",
      "root_curr = None\n",
      "Time for preparing soma vertices and root: 8.106231689453125e-06\n",
      "invalidation_d = 12000\n",
      "smooth_neighborhood = 1\n",
      "cc_vertex_thresh = 10\n"
     ]
    },
    {
     "name": "stderr",
     "output_type": "stream",
     "text": [
      "  0%|                                                                                             | 0/1 [00:00<?, ?it/s]"
     ]
    },
    {
     "data": {
      "application/vnd.jupyter.widget-view+json": {
       "model_id": "4d2f1522618140acae28857f8406d9d8",
       "version_major": 2,
       "version_minor": 0
      },
      "text/plain": [
       "  0%|          | 0/60 [00:00<?, ?it/s]"
      ]
     },
     "metadata": {},
     "output_type": "display_data"
    },
    {
     "name": "stderr",
     "output_type": "stream",
     "text": [
      "100%|█████████████████████████████████████████████████████████████████████████████████████| 1/1 [00:00<00:00, 57.67it/s]"
     ]
    },
    {
     "name": "stdout",
     "output_type": "stream",
     "text": [
      "meshparty_segment_size = 100\n",
      "Time for 1st pass MP skeletonization: 0.04105830192565918\n",
      "branches_touching_root = [0]\n",
      "combining close nodes\n",
      "combine_threshold = 700\n",
      "length of Graph = 3\n",
      "After combining close endpoints max(kept_branches_idx) = 0, len(kept_branches_idx) = 1\n",
      "empty_indices % = 0.0\n",
      " conflict_indices % = 0.0\n"
     ]
    },
    {
     "name": "stderr",
     "output_type": "stream",
     "text": [
      "\n"
     ]
    },
    {
     "data": {
      "application/vnd.jupyter.widget-view+json": {
       "model_id": "45c76d9133ac4d6ab52e943154ba5fe3",
       "version_major": 2,
       "version_minor": 0
      },
      "text/plain": [
       "0it [00:00, ?it/s]"
      ]
     },
     "metadata": {},
     "output_type": "display_data"
    },
    {
     "data": {
      "application/vnd.jupyter.widget-view+json": {
       "model_id": "d37aff05a48744b294297cf07f5f9343",
       "version_major": 2,
       "version_minor": 0
      },
      "text/plain": [
       "  0%|          | 0/1 [00:00<?, ?it/s]"
      ]
     },
     "metadata": {},
     "output_type": "display_data"
    },
    {
     "name": "stdout",
     "output_type": "stream",
     "text": [
      "widths = [inf]\n",
      "width_median= inf\n",
      "segment_widths_median = [inf]\n",
      "Decomposing first pass: 0.04798126220703125\n",
      "Attempting to use MeshAfterParty Skeletonization and Mesh Correspondence\n",
      "Another print\n",
      "Found len(mesh_large_idx) MAP candidates: [118]\n",
      "mesh_large_connectivity: 0.00011730194091796875\n",
      "Finding MAP candidates connected components: 0.0001308917999267578\n",
      "Divinding into MP and MAP pieces: 1.6689300537109375e-06\n",
      "Total time for MAP sublimb processing 2.86102294921875e-06\n",
      "---- Working on MP Decomposition #0 ----\n",
      "Using Quicker soma_to_piece_touching_vertices because no MAP and only one sublimb_mesh piece \n",
      "MP filtering soma verts: 2.574920654296875e-05\n",
      "Do Not Need to Fix MP Decomposition 0 so just continuing\n",
      "There were not both MAP and MP pieces so skipping the stitch resolving phase\n",
      "Time for decomp of Limb = 0.09076881408691406\n"
     ]
    },
    {
     "data": {
      "application/vnd.jupyter.widget-view+json": {
       "model_id": "7d5b31ba2ef24e28b44ed1a154509f0d",
       "version_major": 2,
       "version_minor": 0
      },
      "text/plain": [
       "  0%|          | 0/2 [00:00<?, ?it/s]"
      ]
     },
     "metadata": {},
     "output_type": "display_data"
    },
    {
     "name": "stdout",
     "output_type": "stream",
     "text": [
      "Removed 2 skeletal branches\n",
      "There were no branches after cleaning limb correspondence\n"
     ]
    },
    {
     "data": {
      "application/vnd.jupyter.widget-view+json": {
       "model_id": "d69b4fc0545245c48a681b5ee6a9498e",
       "version_major": 2,
       "version_minor": 0
      },
      "text/plain": [
       "Container(figure=Figure(box_center=[0.5, 0.5, 0.5], box_size=[1.0, 1.0, 1.0], camera=PerspectiveCamera(fov=45.…"
      ]
     },
     "metadata": {},
     "output_type": "display_data"
    },
    {
     "name": "stdout",
     "output_type": "stream",
     "text": [
      "--> time = 0.13962769508361816\n",
      "Floating 19: <trimesh.Trimesh(vertices.shape=(60, 3), faces.shape=(116, 3))>\n",
      "invalidation_d = 12000\n",
      "use_adaptive_invalidation_d= True\n",
      "axon_width_preprocess_limb_max = 200\n",
      "filter_end_node_length= 4000\n",
      "filter_end_node_length_meshparty = 1000\n",
      "invalidation_d = 12000\n",
      "root_curr = None\n",
      "Time for preparing soma vertices and root: 5.7220458984375e-06\n",
      "invalidation_d = 12000\n",
      "smooth_neighborhood = 1\n",
      "cc_vertex_thresh = 10\n"
     ]
    },
    {
     "name": "stderr",
     "output_type": "stream",
     "text": [
      "  0%|                                                                                             | 0/1 [00:00<?, ?it/s]"
     ]
    },
    {
     "data": {
      "application/vnd.jupyter.widget-view+json": {
       "model_id": "fa07badedbf849b2a858be5203020335",
       "version_major": 2,
       "version_minor": 0
      },
      "text/plain": [
       "  0%|          | 0/59 [00:00<?, ?it/s]"
      ]
     },
     "metadata": {},
     "output_type": "display_data"
    },
    {
     "name": "stderr",
     "output_type": "stream",
     "text": [
      "100%|█████████████████████████████████████████████████████████████████████████████████████| 1/1 [00:00<00:00, 74.92it/s]"
     ]
    },
    {
     "name": "stdout",
     "output_type": "stream",
     "text": [
      "meshparty_segment_size = 100\n",
      "Time for 1st pass MP skeletonization: 0.039406776428222656\n",
      "branches_touching_root = [0]\n",
      "combining close nodes\n",
      "combine_threshold = 700\n",
      "length of Graph = 3\n",
      "After combining close endpoints max(kept_branches_idx) = 0, len(kept_branches_idx) = 1\n",
      "empty_indices % = 0.0\n",
      " conflict_indices % = 0.0\n"
     ]
    },
    {
     "name": "stderr",
     "output_type": "stream",
     "text": [
      "\n"
     ]
    },
    {
     "data": {
      "application/vnd.jupyter.widget-view+json": {
       "model_id": "30a63ea2881147de9c6ab614825aab36",
       "version_major": 2,
       "version_minor": 0
      },
      "text/plain": [
       "0it [00:00, ?it/s]"
      ]
     },
     "metadata": {},
     "output_type": "display_data"
    },
    {
     "data": {
      "application/vnd.jupyter.widget-view+json": {
       "model_id": "63adaa880b7347be9803dfac7465df62",
       "version_major": 2,
       "version_minor": 0
      },
      "text/plain": [
       "  0%|          | 0/1 [00:00<?, ?it/s]"
      ]
     },
     "metadata": {},
     "output_type": "display_data"
    },
    {
     "name": "stdout",
     "output_type": "stream",
     "text": [
      "widths = [inf]\n",
      "width_median= inf\n",
      "segment_widths_median = [inf]\n",
      "Decomposing first pass: 0.03756856918334961\n",
      "Attempting to use MeshAfterParty Skeletonization and Mesh Correspondence\n",
      "Another print\n",
      "Found len(mesh_large_idx) MAP candidates: [116]\n",
      "mesh_large_connectivity: 0.00014781951904296875\n",
      "Finding MAP candidates connected components: 8.106231689453125e-05\n",
      "Divinding into MP and MAP pieces: 2.1457672119140625e-06\n",
      "Total time for MAP sublimb processing 3.337860107421875e-06\n",
      "---- Working on MP Decomposition #0 ----\n",
      "Using Quicker soma_to_piece_touching_vertices because no MAP and only one sublimb_mesh piece \n",
      "MP filtering soma verts: 3.123283386230469e-05\n",
      "Do Not Need to Fix MP Decomposition 0 so just continuing\n",
      "There were not both MAP and MP pieces so skipping the stitch resolving phase\n",
      "Time for decomp of Limb = 0.07930827140808105\n"
     ]
    },
    {
     "data": {
      "application/vnd.jupyter.widget-view+json": {
       "model_id": "14088a655f9f487cbecb8d9d4ee44e92",
       "version_major": 2,
       "version_minor": 0
      },
      "text/plain": [
       "  0%|          | 0/2 [00:00<?, ?it/s]"
      ]
     },
     "metadata": {},
     "output_type": "display_data"
    },
    {
     "name": "stdout",
     "output_type": "stream",
     "text": [
      "Removed 2 skeletal branches\n",
      "There were no branches after cleaning limb correspondence\n"
     ]
    },
    {
     "data": {
      "application/vnd.jupyter.widget-view+json": {
       "model_id": "327de13fea7e4569b66408675693814b",
       "version_major": 2,
       "version_minor": 0
      },
      "text/plain": [
       "Container(figure=Figure(box_center=[0.5, 0.5, 0.5], box_size=[1.0, 1.0, 1.0], camera=PerspectiveCamera(fov=45.…"
      ]
     },
     "metadata": {},
     "output_type": "display_data"
    },
    {
     "name": "stdout",
     "output_type": "stream",
     "text": [
      "--> time = 0.13171172142028809\n",
      "Floating 20: <trimesh.Trimesh(vertices.shape=(60, 3), faces.shape=(116, 3))>\n",
      "invalidation_d = 12000\n",
      "use_adaptive_invalidation_d= True\n",
      "axon_width_preprocess_limb_max = 200\n",
      "filter_end_node_length= 4000\n",
      "filter_end_node_length_meshparty = 1000\n",
      "invalidation_d = 12000\n",
      "root_curr = None\n",
      "Time for preparing soma vertices and root: 5.7220458984375e-06\n",
      "invalidation_d = 12000\n",
      "smooth_neighborhood = 1\n",
      "cc_vertex_thresh = 10\n"
     ]
    },
    {
     "name": "stderr",
     "output_type": "stream",
     "text": [
      "  0%|                                                                                             | 0/1 [00:00<?, ?it/s]"
     ]
    },
    {
     "data": {
      "application/vnd.jupyter.widget-view+json": {
       "model_id": "aaa3c18db7d246c18ed6c52eb4d8880f",
       "version_major": 2,
       "version_minor": 0
      },
      "text/plain": [
       "  0%|          | 0/59 [00:00<?, ?it/s]"
      ]
     },
     "metadata": {},
     "output_type": "display_data"
    },
    {
     "name": "stderr",
     "output_type": "stream",
     "text": [
      "100%|█████████████████████████████████████████████████████████████████████████████████████| 1/1 [00:00<00:00, 74.22it/s]"
     ]
    },
    {
     "name": "stdout",
     "output_type": "stream",
     "text": [
      "meshparty_segment_size = 100\n",
      "Time for 1st pass MP skeletonization: 0.04285383224487305\n",
      "branches_touching_root = [0]\n",
      "combining close nodes\n",
      "combine_threshold = 700\n",
      "length of Graph = 3\n",
      "After combining close endpoints max(kept_branches_idx) = 0, len(kept_branches_idx) = 1\n",
      "empty_indices % = 0.0\n",
      " conflict_indices % = 0.0\n"
     ]
    },
    {
     "name": "stderr",
     "output_type": "stream",
     "text": [
      "\n"
     ]
    },
    {
     "data": {
      "application/vnd.jupyter.widget-view+json": {
       "model_id": "409e6901ce844747984f2acc02474f4f",
       "version_major": 2,
       "version_minor": 0
      },
      "text/plain": [
       "0it [00:00, ?it/s]"
      ]
     },
     "metadata": {},
     "output_type": "display_data"
    },
    {
     "data": {
      "application/vnd.jupyter.widget-view+json": {
       "model_id": "36fca33e822f436a84cbdd39841b2866",
       "version_major": 2,
       "version_minor": 0
      },
      "text/plain": [
       "  0%|          | 0/1 [00:00<?, ?it/s]"
      ]
     },
     "metadata": {},
     "output_type": "display_data"
    },
    {
     "name": "stdout",
     "output_type": "stream",
     "text": [
      "widths = [inf]\n",
      "width_median= inf\n",
      "segment_widths_median = [inf]\n",
      "Decomposing first pass: 0.0471649169921875\n",
      "Attempting to use MeshAfterParty Skeletonization and Mesh Correspondence\n",
      "Another print\n",
      "Found len(mesh_large_idx) MAP candidates: [116]\n",
      "mesh_large_connectivity: 0.000152587890625\n",
      "Finding MAP candidates connected components: 8.225440979003906e-05\n",
      "Divinding into MP and MAP pieces: 2.1457672119140625e-06\n",
      "Total time for MAP sublimb processing 3.814697265625e-06\n",
      "---- Working on MP Decomposition #0 ----\n",
      "Using Quicker soma_to_piece_touching_vertices because no MAP and only one sublimb_mesh piece \n",
      "MP filtering soma verts: 3.3855438232421875e-05\n",
      "Do Not Need to Fix MP Decomposition 0 so just continuing\n",
      "There were not both MAP and MP pieces so skipping the stitch resolving phase\n",
      "Time for decomp of Limb = 0.09209132194519043\n"
     ]
    },
    {
     "data": {
      "application/vnd.jupyter.widget-view+json": {
       "model_id": "51bbc07afb0248d6b71ae695d9d3ed1e",
       "version_major": 2,
       "version_minor": 0
      },
      "text/plain": [
       "  0%|          | 0/2 [00:00<?, ?it/s]"
      ]
     },
     "metadata": {},
     "output_type": "display_data"
    },
    {
     "name": "stdout",
     "output_type": "stream",
     "text": [
      "Removed 2 skeletal branches\n",
      "There were no branches after cleaning limb correspondence\n"
     ]
    },
    {
     "data": {
      "application/vnd.jupyter.widget-view+json": {
       "model_id": "e921c312aaf14196afc1f0ad6dd77a8a",
       "version_major": 2,
       "version_minor": 0
      },
      "text/plain": [
       "Container(figure=Figure(box_center=[0.5, 0.5, 0.5], box_size=[1.0, 1.0, 1.0], camera=PerspectiveCamera(fov=45.…"
      ]
     },
     "metadata": {},
     "output_type": "display_data"
    },
    {
     "name": "stdout",
     "output_type": "stream",
     "text": [
      "--> time = 0.1402449607849121\n",
      "Floating 21: <trimesh.Trimesh(vertices.shape=(59, 3), faces.shape=(114, 3))>\n",
      "invalidation_d = 12000\n",
      "use_adaptive_invalidation_d= True\n",
      "axon_width_preprocess_limb_max = 200\n",
      "filter_end_node_length= 4000\n",
      "filter_end_node_length_meshparty = 1000\n",
      "invalidation_d = 12000\n",
      "root_curr = None\n",
      "Time for preparing soma vertices and root: 5.7220458984375e-06\n",
      "invalidation_d = 12000\n",
      "smooth_neighborhood = 1\n",
      "cc_vertex_thresh = 10\n"
     ]
    },
    {
     "name": "stderr",
     "output_type": "stream",
     "text": [
      "  0%|                                                                                             | 0/1 [00:00<?, ?it/s]"
     ]
    },
    {
     "data": {
      "application/vnd.jupyter.widget-view+json": {
       "model_id": "5fad63d2d99b4d6284c5e4023f12cbdd",
       "version_major": 2,
       "version_minor": 0
      },
      "text/plain": [
       "  0%|          | 0/58 [00:00<?, ?it/s]"
      ]
     },
     "metadata": {},
     "output_type": "display_data"
    },
    {
     "name": "stderr",
     "output_type": "stream",
     "text": [
      "100%|█████████████████████████████████████████████████████████████████████████████████████| 1/1 [00:00<00:00, 75.53it/s]"
     ]
    },
    {
     "name": "stdout",
     "output_type": "stream",
     "text": [
      "meshparty_segment_size = 100\n",
      "Time for 1st pass MP skeletonization: 0.03015279769897461\n",
      "branches_touching_root = [0]\n",
      "combining close nodes\n",
      "combine_threshold = 700\n",
      "length of Graph = 4\n",
      "After combining close endpoints max(kept_branches_idx) = 0, len(kept_branches_idx) = 1\n",
      "empty_indices % = 0.0\n",
      " conflict_indices % = 0.0\n"
     ]
    },
    {
     "name": "stderr",
     "output_type": "stream",
     "text": [
      "\n"
     ]
    },
    {
     "data": {
      "application/vnd.jupyter.widget-view+json": {
       "model_id": "04046399180a48eca798b4b28c6bf4fe",
       "version_major": 2,
       "version_minor": 0
      },
      "text/plain": [
       "0it [00:00, ?it/s]"
      ]
     },
     "metadata": {},
     "output_type": "display_data"
    },
    {
     "data": {
      "application/vnd.jupyter.widget-view+json": {
       "model_id": "05d964ddf2d2408db460d82f8dcc2563",
       "version_major": 2,
       "version_minor": 0
      },
      "text/plain": [
       "  0%|          | 0/1 [00:00<?, ?it/s]"
      ]
     },
     "metadata": {},
     "output_type": "display_data"
    },
    {
     "name": "stdout",
     "output_type": "stream",
     "text": [
      "widths = [inf]\n",
      "width_median= inf\n",
      "segment_widths_median = [inf]\n",
      "Decomposing first pass: 0.04334688186645508\n",
      "Attempting to use MeshAfterParty Skeletonization and Mesh Correspondence\n",
      "Another print\n",
      "Found len(mesh_large_idx) MAP candidates: [114]\n",
      "mesh_large_connectivity: 0.00013017654418945312\n",
      "Finding MAP candidates connected components: 7.367134094238281e-05\n",
      "Divinding into MP and MAP pieces: 1.430511474609375e-06\n",
      "Total time for MAP sublimb processing 3.337860107421875e-06\n",
      "---- Working on MP Decomposition #0 ----\n",
      "Using Quicker soma_to_piece_touching_vertices because no MAP and only one sublimb_mesh piece \n",
      "MP filtering soma verts: 2.7418136596679688e-05\n",
      "Do Not Need to Fix MP Decomposition 0 so just continuing\n",
      "There were not both MAP and MP pieces so skipping the stitch resolving phase\n",
      "Time for decomp of Limb = 0.07532954216003418\n"
     ]
    },
    {
     "data": {
      "application/vnd.jupyter.widget-view+json": {
       "model_id": "ee9bddf00484405dbcd8dd57eadab684",
       "version_major": 2,
       "version_minor": 0
      },
      "text/plain": [
       "  0%|          | 0/2 [00:00<?, ?it/s]"
      ]
     },
     "metadata": {},
     "output_type": "display_data"
    },
    {
     "name": "stdout",
     "output_type": "stream",
     "text": [
      "Removed 2 skeletal branches\n",
      "There were no branches after cleaning limb correspondence\n"
     ]
    },
    {
     "data": {
      "application/vnd.jupyter.widget-view+json": {
       "model_id": "d8ef53d70e1f442db1f2713e25cc1206",
       "version_major": 2,
       "version_minor": 0
      },
      "text/plain": [
       "Container(figure=Figure(box_center=[0.5, 0.5, 0.5], box_size=[1.0, 1.0, 1.0], camera=PerspectiveCamera(fov=45.…"
      ]
     },
     "metadata": {},
     "output_type": "display_data"
    },
    {
     "name": "stdout",
     "output_type": "stream",
     "text": [
      "--> time = 0.12568330764770508\n",
      "Floating 22: <trimesh.Trimesh(vertices.shape=(58, 3), faces.shape=(112, 3))>\n",
      "invalidation_d = 12000\n",
      "use_adaptive_invalidation_d= True\n",
      "axon_width_preprocess_limb_max = 200\n",
      "filter_end_node_length= 4000\n",
      "filter_end_node_length_meshparty = 1000\n",
      "invalidation_d = 12000\n",
      "root_curr = None\n",
      "Time for preparing soma vertices and root: 7.867813110351562e-06\n",
      "invalidation_d = 12000\n",
      "smooth_neighborhood = 1\n",
      "cc_vertex_thresh = 10\n"
     ]
    },
    {
     "name": "stderr",
     "output_type": "stream",
     "text": [
      "  0%|                                                                                             | 0/1 [00:00<?, ?it/s]"
     ]
    },
    {
     "data": {
      "application/vnd.jupyter.widget-view+json": {
       "model_id": "22ed07900525486e98f28b0a5628cbbb",
       "version_major": 2,
       "version_minor": 0
      },
      "text/plain": [
       "  0%|          | 0/57 [00:00<?, ?it/s]"
      ]
     },
     "metadata": {},
     "output_type": "display_data"
    },
    {
     "name": "stderr",
     "output_type": "stream",
     "text": [
      "100%|█████████████████████████████████████████████████████████████████████████████████████| 1/1 [00:00<00:00, 65.14it/s]"
     ]
    },
    {
     "name": "stdout",
     "output_type": "stream",
     "text": [
      "meshparty_segment_size = 100\n",
      "Time for 1st pass MP skeletonization: 0.0434267520904541\n",
      "branches_touching_root = [0]\n",
      "combining close nodes\n",
      "combine_threshold = 700\n",
      "length of Graph = 4\n",
      "After combining close endpoints max(kept_branches_idx) = 0, len(kept_branches_idx) = 1\n",
      "empty_indices % = 0.0\n",
      " conflict_indices % = 0.0\n"
     ]
    },
    {
     "name": "stderr",
     "output_type": "stream",
     "text": [
      "\n"
     ]
    },
    {
     "data": {
      "application/vnd.jupyter.widget-view+json": {
       "model_id": "a5632f69408d47439f83a6d3890b298e",
       "version_major": 2,
       "version_minor": 0
      },
      "text/plain": [
       "0it [00:00, ?it/s]"
      ]
     },
     "metadata": {},
     "output_type": "display_data"
    },
    {
     "data": {
      "application/vnd.jupyter.widget-view+json": {
       "model_id": "84ee56c9cf614d29922268277ad6b671",
       "version_major": 2,
       "version_minor": 0
      },
      "text/plain": [
       "  0%|          | 0/1 [00:00<?, ?it/s]"
      ]
     },
     "metadata": {},
     "output_type": "display_data"
    },
    {
     "name": "stdout",
     "output_type": "stream",
     "text": [
      "widths = [inf]\n",
      "width_median= inf\n",
      "segment_widths_median = [inf]\n",
      "Decomposing first pass: 0.03941488265991211\n",
      "Attempting to use MeshAfterParty Skeletonization and Mesh Correspondence\n",
      "Another print\n",
      "Found len(mesh_large_idx) MAP candidates: [112]\n",
      "mesh_large_connectivity: 0.0001380443572998047\n",
      "Finding MAP candidates connected components: 0.00012111663818359375\n",
      "Divinding into MP and MAP pieces: 2.384185791015625e-06\n",
      "Total time for MAP sublimb processing 3.0994415283203125e-06\n",
      "---- Working on MP Decomposition #0 ----\n",
      "Using Quicker soma_to_piece_touching_vertices because no MAP and only one sublimb_mesh piece \n",
      "MP filtering soma verts: 2.6702880859375e-05\n",
      "Do Not Need to Fix MP Decomposition 0 so just continuing\n",
      "There were not both MAP and MP pieces so skipping the stitch resolving phase\n",
      "Time for decomp of Limb = 0.08459234237670898\n"
     ]
    },
    {
     "data": {
      "application/vnd.jupyter.widget-view+json": {
       "model_id": "e3990ee617df49588434960ca012da70",
       "version_major": 2,
       "version_minor": 0
      },
      "text/plain": [
       "  0%|          | 0/2 [00:00<?, ?it/s]"
      ]
     },
     "metadata": {},
     "output_type": "display_data"
    },
    {
     "name": "stdout",
     "output_type": "stream",
     "text": [
      "Removed 2 skeletal branches\n",
      "There were no branches after cleaning limb correspondence\n"
     ]
    },
    {
     "data": {
      "application/vnd.jupyter.widget-view+json": {
       "model_id": "9db6faf4a7744e29842b8d75c1c9f78d",
       "version_major": 2,
       "version_minor": 0
      },
      "text/plain": [
       "Container(figure=Figure(box_center=[0.5, 0.5, 0.5], box_size=[1.0, 1.0, 1.0], camera=PerspectiveCamera(fov=45.…"
      ]
     },
     "metadata": {},
     "output_type": "display_data"
    },
    {
     "name": "stdout",
     "output_type": "stream",
     "text": [
      "--> time = 0.1306614875793457\n",
      "Floating 23: <trimesh.Trimesh(vertices.shape=(52, 3), faces.shape=(100, 3))>\n",
      "invalidation_d = 12000\n",
      "use_adaptive_invalidation_d= True\n",
      "axon_width_preprocess_limb_max = 200\n",
      "filter_end_node_length= 4000\n",
      "filter_end_node_length_meshparty = 1000\n",
      "invalidation_d = 12000\n",
      "root_curr = None\n",
      "Time for preparing soma vertices and root: 8.344650268554688e-06\n",
      "invalidation_d = 12000\n",
      "smooth_neighborhood = 1\n",
      "cc_vertex_thresh = 10\n"
     ]
    },
    {
     "name": "stderr",
     "output_type": "stream",
     "text": [
      "  0%|                                                                                             | 0/1 [00:00<?, ?it/s]"
     ]
    },
    {
     "data": {
      "application/vnd.jupyter.widget-view+json": {
       "model_id": "85bdc0f6dc164ac5948a7421309c5832",
       "version_major": 2,
       "version_minor": 0
      },
      "text/plain": [
       "  0%|          | 0/51 [00:00<?, ?it/s]"
      ]
     },
     "metadata": {},
     "output_type": "display_data"
    },
    {
     "name": "stderr",
     "output_type": "stream",
     "text": [
      "100%|█████████████████████████████████████████████████████████████████████████████████████| 1/1 [00:00<00:00, 49.82it/s]"
     ]
    },
    {
     "name": "stdout",
     "output_type": "stream",
     "text": [
      "meshparty_segment_size = 100\n",
      "Time for 1st pass MP skeletonization: 0.04868340492248535\n",
      "branches_touching_root = [0]\n",
      "combining close nodes\n",
      "combine_threshold = 700\n",
      "length of Graph = 2\n",
      "After combining close endpoints max(kept_branches_idx) = 0, len(kept_branches_idx) = 1\n",
      "empty_indices % = 0.0\n",
      " conflict_indices % = 0.0\n"
     ]
    },
    {
     "name": "stderr",
     "output_type": "stream",
     "text": [
      "\n"
     ]
    },
    {
     "data": {
      "application/vnd.jupyter.widget-view+json": {
       "model_id": "a3a4fdb9252a4355af218794358b42db",
       "version_major": 2,
       "version_minor": 0
      },
      "text/plain": [
       "0it [00:00, ?it/s]"
      ]
     },
     "metadata": {},
     "output_type": "display_data"
    },
    {
     "data": {
      "application/vnd.jupyter.widget-view+json": {
       "model_id": "e5dca95b4c794d40a26d638d32edc63b",
       "version_major": 2,
       "version_minor": 0
      },
      "text/plain": [
       "  0%|          | 0/1 [00:00<?, ?it/s]"
      ]
     },
     "metadata": {},
     "output_type": "display_data"
    },
    {
     "name": "stdout",
     "output_type": "stream",
     "text": [
      "widths = [inf]\n",
      "width_median= inf\n",
      "segment_widths_median = [inf]\n",
      "Decomposing first pass: 0.035041093826293945\n",
      "Attempting to use MeshAfterParty Skeletonization and Mesh Correspondence\n",
      "Another print\n",
      "Found len(mesh_large_idx) MAP candidates: [100]\n",
      "mesh_large_connectivity: 9.679794311523438e-05\n",
      "Finding MAP candidates connected components: 5.841255187988281e-05\n",
      "Divinding into MP and MAP pieces: 9.5367431640625e-07\n",
      "Total time for MAP sublimb processing 2.86102294921875e-06\n",
      "---- Working on MP Decomposition #0 ----\n",
      "Using Quicker soma_to_piece_touching_vertices because no MAP and only one sublimb_mesh piece \n",
      "MP filtering soma verts: 1.9311904907226562e-05\n",
      "Do Not Need to Fix MP Decomposition 0 so just continuing\n",
      "There were not both MAP and MP pieces so skipping the stitch resolving phase\n",
      "Time for decomp of Limb = 0.08527040481567383\n"
     ]
    },
    {
     "data": {
      "application/vnd.jupyter.widget-view+json": {
       "model_id": "b151608aa9384b1abe82688248487aee",
       "version_major": 2,
       "version_minor": 0
      },
      "text/plain": [
       "  0%|          | 0/2 [00:00<?, ?it/s]"
      ]
     },
     "metadata": {},
     "output_type": "display_data"
    },
    {
     "name": "stdout",
     "output_type": "stream",
     "text": [
      "Removed 2 skeletal branches\n",
      "There were no branches after cleaning limb correspondence\n"
     ]
    },
    {
     "data": {
      "application/vnd.jupyter.widget-view+json": {
       "model_id": "018138feb53748c99282e944dfa8ea39",
       "version_major": 2,
       "version_minor": 0
      },
      "text/plain": [
       "Container(figure=Figure(box_center=[0.5, 0.5, 0.5], box_size=[1.0, 1.0, 1.0], camera=PerspectiveCamera(fov=45.…"
      ]
     },
     "metadata": {},
     "output_type": "display_data"
    },
    {
     "name": "stdout",
     "output_type": "stream",
     "text": [
      "--> time = 0.13902020454406738\n"
     ]
    },
    {
     "data": {
      "application/vnd.jupyter.widget-view+json": {
       "model_id": "bab0f8954cbc406280fbf6cacb334680",
       "version_major": 2,
       "version_minor": 0
      },
      "text/plain": [
       "0it [00:00, ?it/s]"
      ]
     },
     "metadata": {},
     "output_type": "display_data"
    },
    {
     "name": "stdout",
     "output_type": "stream",
     "text": [
      "\n",
      "\n",
      "--- Working on 1-to-1 correspondence-----\n",
      "max(original_labels),len(original_labels) = (1, 2)\n",
      "empty_indices % = 0.07532997102693421\n",
      " conflict_indices % = 0.001900878389772048\n"
     ]
    },
    {
     "data": {
      "application/vnd.jupyter.widget-view+json": {
       "model_id": "bbacc30d3e294ec4b7d604d5298e8057",
       "version_major": 2,
       "version_minor": 0
      },
      "text/plain": [
       "  0%|          | 0/86 [00:00<?, ?it/s]"
      ]
     },
     "metadata": {},
     "output_type": "display_data"
    },
    {
     "data": {
      "application/vnd.jupyter.widget-view+json": {
       "model_id": "1bfbfa3af94e457f8c6f81f0a1ba60b2",
       "version_major": 2,
       "version_minor": 0
      },
      "text/plain": [
       "  0%|          | 0/2 [00:00<?, ?it/s]"
      ]
     },
     "metadata": {},
     "output_type": "display_data"
    },
    {
     "name": "stdout",
     "output_type": "stream",
     "text": [
      "main_branch = 37\n"
     ]
    },
    {
     "data": {
      "application/vnd.jupyter.widget-view+json": {
       "model_id": "d2c31a19e90542478779e6649583c3d3",
       "version_major": 2,
       "version_minor": 0
      },
      "text/plain": [
       "0it [00:00, ?it/s]"
      ]
     },
     "metadata": {},
     "output_type": "display_data"
    },
    {
     "name": "stdout",
     "output_type": "stream",
     "text": [
      "\n",
      "\n",
      "--- Working on 1-to-1 correspondence-----\n",
      "max(original_labels),len(original_labels) = (1, 2)\n",
      "empty_indices % = 0.039514076070679846\n",
      " conflict_indices % = 0.0026954177897574125\n"
     ]
    },
    {
     "data": {
      "application/vnd.jupyter.widget-view+json": {
       "model_id": "bc2bc7fec5834bc0b9dd501563c9ae32",
       "version_major": 2,
       "version_minor": 0
      },
      "text/plain": [
       "  0%|          | 0/61 [00:00<?, ?it/s]"
      ]
     },
     "metadata": {},
     "output_type": "display_data"
    },
    {
     "data": {
      "application/vnd.jupyter.widget-view+json": {
       "model_id": "86637945ab36459f8abb28fd8c94ab48",
       "version_major": 2,
       "version_minor": 0
      },
      "text/plain": [
       "  0%|          | 0/2 [00:00<?, ?it/s]"
      ]
     },
     "metadata": {},
     "output_type": "display_data"
    },
    {
     "name": "stdout",
     "output_type": "stream",
     "text": [
      "main_branch = 41\n"
     ]
    },
    {
     "data": {
      "application/vnd.jupyter.widget-view+json": {
       "model_id": "51178b55ce1e47b9966dd8f586ee6592",
       "version_major": 2,
       "version_minor": 0
      },
      "text/plain": [
       "0it [00:00, ?it/s]"
      ]
     },
     "metadata": {},
     "output_type": "display_data"
    },
    {
     "name": "stdout",
     "output_type": "stream",
     "text": [
      "\n",
      "\n",
      "--- Working on 1-to-1 correspondence-----\n",
      "max(original_labels),len(original_labels) = (1, 2)\n",
      "empty_indices % = 0.03688220618973771\n",
      " conflict_indices % = 0.0027644798058121503\n"
     ]
    },
    {
     "data": {
      "application/vnd.jupyter.widget-view+json": {
       "model_id": "73600b30996c44e487dfe97c6a0ba634",
       "version_major": 2,
       "version_minor": 0
      },
      "text/plain": [
       "  0%|          | 0/37 [00:00<?, ?it/s]"
      ]
     },
     "metadata": {},
     "output_type": "display_data"
    },
    {
     "data": {
      "application/vnd.jupyter.widget-view+json": {
       "model_id": "834217fa618e4c9bb78fc0cc0facf4bf",
       "version_major": 2,
       "version_minor": 0
      },
      "text/plain": [
       "  0%|          | 0/2 [00:00<?, ?it/s]"
      ]
     },
     "metadata": {},
     "output_type": "display_data"
    },
    {
     "name": "stdout",
     "output_type": "stream",
     "text": [
      "main_branch = 40\n"
     ]
    },
    {
     "data": {
      "application/vnd.jupyter.widget-view+json": {
       "model_id": "002d38719f064a0eb27772fcb72d981f",
       "version_major": 2,
       "version_minor": 0
      },
      "text/plain": [
       "0it [00:00, ?it/s]"
      ]
     },
     "metadata": {},
     "output_type": "display_data"
    },
    {
     "name": "stdout",
     "output_type": "stream",
     "text": [
      "\n",
      "\n",
      "--- Working on 1-to-1 correspondence-----\n",
      "max(original_labels),len(original_labels) = (1, 2)\n",
      "empty_indices % = 0.057849019432255754\n",
      " conflict_indices % = 0.00390436106384884\n"
     ]
    },
    {
     "data": {
      "application/vnd.jupyter.widget-view+json": {
       "model_id": "76365ac23c84425f887d3156ad278e74",
       "version_major": 2,
       "version_minor": 0
      },
      "text/plain": [
       "  0%|          | 0/69 [00:00<?, ?it/s]"
      ]
     },
     "metadata": {},
     "output_type": "display_data"
    },
    {
     "data": {
      "application/vnd.jupyter.widget-view+json": {
       "model_id": "089cd53642d6454dac74012df4c2851e",
       "version_major": 2,
       "version_minor": 0
      },
      "text/plain": [
       "  0%|          | 0/2 [00:00<?, ?it/s]"
      ]
     },
     "metadata": {},
     "output_type": "display_data"
    },
    {
     "name": "stdout",
     "output_type": "stream",
     "text": [
      "main_branch = 37\n"
     ]
    },
    {
     "data": {
      "application/vnd.jupyter.widget-view+json": {
       "model_id": "af77995095bc4a1eb70e9bfc1336cd42",
       "version_major": 2,
       "version_minor": 0
      },
      "text/plain": [
       "0it [00:00, ?it/s]"
      ]
     },
     "metadata": {},
     "output_type": "display_data"
    },
    {
     "name": "stdout",
     "output_type": "stream",
     "text": [
      "\n",
      "\n",
      "--- Working on 1-to-1 correspondence-----\n",
      "max(original_labels),len(original_labels) = (1, 2)\n",
      "empty_indices % = 0.02449554762690013\n",
      " conflict_indices % = 0.0035079303211105447\n"
     ]
    },
    {
     "data": {
      "application/vnd.jupyter.widget-view+json": {
       "model_id": "81fe102f51814427b3ae598a550032c1",
       "version_major": 2,
       "version_minor": 0
      },
      "text/plain": [
       "  0%|          | 0/35 [00:00<?, ?it/s]"
      ]
     },
     "metadata": {},
     "output_type": "display_data"
    },
    {
     "data": {
      "application/vnd.jupyter.widget-view+json": {
       "model_id": "9f4a49d77d0743eaa94f00d49190f56a",
       "version_major": 2,
       "version_minor": 0
      },
      "text/plain": [
       "  0%|          | 0/2 [00:00<?, ?it/s]"
      ]
     },
     "metadata": {},
     "output_type": "display_data"
    },
    {
     "name": "stdout",
     "output_type": "stream",
     "text": [
      "main_branch = 42\n"
     ]
    },
    {
     "data": {
      "application/vnd.jupyter.widget-view+json": {
       "model_id": "d59a03d1962c483898899338d35a85b8",
       "version_major": 2,
       "version_minor": 0
      },
      "text/plain": [
       "0it [00:00, ?it/s]"
      ]
     },
     "metadata": {},
     "output_type": "display_data"
    },
    {
     "name": "stdout",
     "output_type": "stream",
     "text": [
      "\n",
      "\n",
      "--- Working on 1-to-1 correspondence-----\n",
      "max(original_labels),len(original_labels) = (1, 2)\n",
      "empty_indices % = 0.026542848786194794\n",
      " conflict_indices % = 0.004058204153261188\n"
     ]
    },
    {
     "data": {
      "application/vnd.jupyter.widget-view+json": {
       "model_id": "d39beb411cfb448b8fe56920290010e7",
       "version_major": 2,
       "version_minor": 0
      },
      "text/plain": [
       "  0%|          | 0/36 [00:00<?, ?it/s]"
      ]
     },
     "metadata": {},
     "output_type": "display_data"
    },
    {
     "data": {
      "application/vnd.jupyter.widget-view+json": {
       "model_id": "c7040bf736dd4438acaa638da741460a",
       "version_major": 2,
       "version_minor": 0
      },
      "text/plain": [
       "  0%|          | 0/2 [00:00<?, ?it/s]"
      ]
     },
     "metadata": {},
     "output_type": "display_data"
    },
    {
     "name": "stdout",
     "output_type": "stream",
     "text": [
      "main_branch = 42\n"
     ]
    },
    {
     "data": {
      "application/vnd.jupyter.widget-view+json": {
       "model_id": "bac2f6da23a74136af497ce953235860",
       "version_major": 2,
       "version_minor": 0
      },
      "text/plain": [
       "0it [00:00, ?it/s]"
      ]
     },
     "metadata": {},
     "output_type": "display_data"
    },
    {
     "name": "stdout",
     "output_type": "stream",
     "text": [
      "\n",
      "\n",
      "--- Working on 1-to-1 correspondence-----\n",
      "max(original_labels),len(original_labels) = (1, 2)\n",
      "empty_indices % = 0.0339943342776204\n",
      " conflict_indices % = 0.013831028161973005\n"
     ]
    },
    {
     "data": {
      "application/vnd.jupyter.widget-view+json": {
       "model_id": "62f37275afef4e1789088b6e2f510f4b",
       "version_major": 2,
       "version_minor": 0
      },
      "text/plain": [
       "  0%|          | 0/16 [00:00<?, ?it/s]"
      ]
     },
     "metadata": {},
     "output_type": "display_data"
    },
    {
     "data": {
      "application/vnd.jupyter.widget-view+json": {
       "model_id": "d1ce104e85fc445980a8d6198557f15d",
       "version_major": 2,
       "version_minor": 0
      },
      "text/plain": [
       "  0%|          | 0/2 [00:00<?, ?it/s]"
      ]
     },
     "metadata": {},
     "output_type": "display_data"
    },
    {
     "name": "stdout",
     "output_type": "stream",
     "text": [
      "main_branch = 69\n"
     ]
    },
    {
     "data": {
      "application/vnd.jupyter.widget-view+json": {
       "model_id": "f34c3ea1f75a46bb9c7fdb729725648e",
       "version_major": 2,
       "version_minor": 0
      },
      "text/plain": [
       "0it [00:00, ?it/s]"
      ]
     },
     "metadata": {},
     "output_type": "display_data"
    },
    {
     "name": "stdout",
     "output_type": "stream",
     "text": [
      "\n",
      "\n",
      "--- Working on 1-to-1 correspondence-----\n",
      "max(original_labels),len(original_labels) = (1, 2)\n",
      "empty_indices % = 0.07030165341411082\n",
      " conflict_indices % = 0.008771929824561403\n"
     ]
    },
    {
     "data": {
      "application/vnd.jupyter.widget-view+json": {
       "model_id": "21ba0790d7f44d238ef555b567a84f34",
       "version_major": 2,
       "version_minor": 0
      },
      "text/plain": [
       "  0%|          | 0/28 [00:00<?, ?it/s]"
      ]
     },
     "metadata": {},
     "output_type": "display_data"
    },
    {
     "data": {
      "application/vnd.jupyter.widget-view+json": {
       "model_id": "97d61bc2a2b3499983189915e4d029b3",
       "version_major": 2,
       "version_minor": 0
      },
      "text/plain": [
       "  0%|          | 0/2 [00:00<?, ?it/s]"
      ]
     },
     "metadata": {},
     "output_type": "display_data"
    },
    {
     "name": "stdout",
     "output_type": "stream",
     "text": [
      "main_branch = 67\n"
     ]
    },
    {
     "data": {
      "application/vnd.jupyter.widget-view+json": {
       "model_id": "f500b7572e1d4691980436f3a59b3300",
       "version_major": 2,
       "version_minor": 0
      },
      "text/plain": [
       "0it [00:00, ?it/s]"
      ]
     },
     "metadata": {},
     "output_type": "display_data"
    },
    {
     "name": "stdout",
     "output_type": "stream",
     "text": [
      "\n",
      "\n",
      "--- Working on 1-to-1 correspondence-----\n",
      "max(original_labels),len(original_labels) = (1, 2)\n",
      "empty_indices % = 0.05984145640051014\n",
      " conflict_indices % = 0.004976368501337868\n"
     ]
    },
    {
     "data": {
      "application/vnd.jupyter.widget-view+json": {
       "model_id": "33c35a75815b48b284ff8cbc135a07a5",
       "version_major": 2,
       "version_minor": 0
      },
      "text/plain": [
       "  0%|          | 0/48 [00:00<?, ?it/s]"
      ]
     },
     "metadata": {},
     "output_type": "display_data"
    },
    {
     "data": {
      "application/vnd.jupyter.widget-view+json": {
       "model_id": "e1bfa4cbab81499786fb5f6e80754bab",
       "version_major": 2,
       "version_minor": 0
      },
      "text/plain": [
       "  0%|          | 0/2 [00:00<?, ?it/s]"
      ]
     },
     "metadata": {},
     "output_type": "display_data"
    },
    {
     "name": "stdout",
     "output_type": "stream",
     "text": [
      "main_branch = 37\n"
     ]
    },
    {
     "data": {
      "application/vnd.jupyter.widget-view+json": {
       "model_id": "60d95f9fb4614823bb9475986c6cca12",
       "version_major": 2,
       "version_minor": 0
      },
      "text/plain": [
       "0it [00:00, ?it/s]"
      ]
     },
     "metadata": {},
     "output_type": "display_data"
    },
    {
     "name": "stdout",
     "output_type": "stream",
     "text": [
      "\n",
      "\n",
      "--- Working on 1-to-1 correspondence-----\n",
      "max(original_labels),len(original_labels) = (1, 2)\n",
      "empty_indices % = 0.08466290218668283\n",
      " conflict_indices % = 0.0059877970212604695\n"
     ]
    },
    {
     "data": {
      "application/vnd.jupyter.widget-view+json": {
       "model_id": "c9c05c1548cf4616b31fb92cd14fc89a",
       "version_major": 2,
       "version_minor": 0
      },
      "text/plain": [
       "  0%|          | 0/41 [00:00<?, ?it/s]"
      ]
     },
     "metadata": {},
     "output_type": "display_data"
    },
    {
     "data": {
      "application/vnd.jupyter.widget-view+json": {
       "model_id": "06ec6daea8f147679cce69771eb18ac6",
       "version_major": 2,
       "version_minor": 0
      },
      "text/plain": [
       "  0%|          | 0/2 [00:00<?, ?it/s]"
      ]
     },
     "metadata": {},
     "output_type": "display_data"
    },
    {
     "name": "stdout",
     "output_type": "stream",
     "text": [
      "main_branch = 37\n"
     ]
    },
    {
     "data": {
      "application/vnd.jupyter.widget-view+json": {
       "model_id": "bd0c1685485043adabe9e4e90d47ce77",
       "version_major": 2,
       "version_minor": 0
      },
      "text/plain": [
       "0it [00:00, ?it/s]"
      ]
     },
     "metadata": {},
     "output_type": "display_data"
    },
    {
     "name": "stdout",
     "output_type": "stream",
     "text": [
      "\n",
      "\n",
      "--- Working on 1-to-1 correspondence-----\n",
      "max(original_labels),len(original_labels) = (1, 2)\n",
      "empty_indices % = 0.054484973617802246\n",
      " conflict_indices % = 0.02144987382427162\n"
     ]
    },
    {
     "data": {
      "application/vnd.jupyter.widget-view+json": {
       "model_id": "e3c77957c15c4127838d57fd3e7f67d3",
       "version_major": 2,
       "version_minor": 0
      },
      "text/plain": [
       "  0%|          | 0/23 [00:00<?, ?it/s]"
      ]
     },
     "metadata": {},
     "output_type": "display_data"
    },
    {
     "data": {
      "application/vnd.jupyter.widget-view+json": {
       "model_id": "5ff997e68cb647d5b5193221dcf9512e",
       "version_major": 2,
       "version_minor": 0
      },
      "text/plain": [
       "  0%|          | 0/2 [00:00<?, ?it/s]"
      ]
     },
     "metadata": {},
     "output_type": "display_data"
    },
    {
     "name": "stdout",
     "output_type": "stream",
     "text": [
      "main_branch = 35\n"
     ]
    },
    {
     "data": {
      "application/vnd.jupyter.widget-view+json": {
       "model_id": "e9b7cacfa5e542a5aaa9d7f3c6e382c4",
       "version_major": 2,
       "version_minor": 0
      },
      "text/plain": [
       "0it [00:00, ?it/s]"
      ]
     },
     "metadata": {},
     "output_type": "display_data"
    },
    {
     "name": "stdout",
     "output_type": "stream",
     "text": [
      "\n",
      "\n",
      "--- Working on 1-to-1 correspondence-----\n",
      "max(original_labels),len(original_labels) = (1, 2)\n",
      "empty_indices % = 0.18127936393205638\n",
      " conflict_indices % = 0.0\n"
     ]
    },
    {
     "data": {
      "application/vnd.jupyter.widget-view+json": {
       "model_id": "7227269bb7f74369b483431bf0d44a06",
       "version_major": 2,
       "version_minor": 0
      },
      "text/plain": [
       "  0%|          | 0/14 [00:00<?, ?it/s]"
      ]
     },
     "metadata": {},
     "output_type": "display_data"
    },
    {
     "data": {
      "application/vnd.jupyter.widget-view+json": {
       "model_id": "4cf8ec5379d943c58880c9b2153ab29e",
       "version_major": 2,
       "version_minor": 0
      },
      "text/plain": [
       "  0%|          | 0/2 [00:00<?, ?it/s]"
      ]
     },
     "metadata": {},
     "output_type": "display_data"
    },
    {
     "name": "stdout",
     "output_type": "stream",
     "text": [
      "main_branch = 12\n",
      "Total time for stitching floating pieces = 86.26924562454224\n",
      "Total time for Concept Networks = 3.871325969696045\n",
      "Total time for all mesh and skeletonization decomp = 746.2488996982574\n",
      "No soma volume ratios so computing them now\n",
      "Using Poisson Surface Reconstruction for watertightness in soma_volume_ratio\n",
      "xvfb-run -n 2494 -s \"-screen 0 800x600x24\" meshlabserver $@  -i /NEURD_Chenlab/Applications/Tutorials/Auto_Proof_Pipeline/Single_Soma_Exc/Poisson_temp/neuron_249091.off -o /NEURD_Chenlab/Applications/Tutorials/Auto_Proof_Pipeline/Single_Soma_Exc/Poisson_temp/neuron_249091_poisson.off -s /NEURD_Chenlab/Applications/Tutorials/Auto_Proof_Pipeline/Single_Soma_Exc/Poisson_temp/poisson_655525.mls\n",
      "removed temporary input file: /NEURD_Chenlab/Applications/Tutorials/Auto_Proof_Pipeline/Single_Soma_Exc/Poisson_temp/neuron_249091.off\n",
      "removed temporary output file: /NEURD_Chenlab/Applications/Tutorials/Auto_Proof_Pipeline/Single_Soma_Exc/Poisson_temp/neuron_249091_poisson.off\n",
      "/NEURD_Chenlab/Applications/Tutorials/Auto_Proof_Pipeline/Single_Soma_Exc/Poisson_temp/poisson_655525.mls is being deleted....\n"
     ]
    },
    {
     "ename": "TypeError",
     "evalue": "only integer scalar arrays can be converted to a scalar index",
     "output_type": "error",
     "traceback": [
      "\u001b[0;31m---------------------------------------------------------------------------\u001b[0m",
      "\u001b[0;31mTypeError\u001b[0m                                 Traceback (most recent call last)",
      "Cell \u001b[0;32mIn[37], line 3\u001b[0m\n\u001b[1;32m      1\u001b[0m \u001b[38;5;28;01mfrom\u001b[39;00m \u001b[38;5;21;01mneurd\u001b[39;00m \u001b[38;5;28;01mimport\u001b[39;00m neuron\n\u001b[0;32m----> 3\u001b[0m neuron_obj \u001b[38;5;241m=\u001b[39m \u001b[43mneuron\u001b[49m\u001b[38;5;241;43m.\u001b[39;49m\u001b[43mNeuron\u001b[49m\u001b[43m(\u001b[49m\n\u001b[1;32m      4\u001b[0m \u001b[43m    \u001b[49m\u001b[43mmesh\u001b[49m\u001b[43m \u001b[49m\u001b[38;5;241;43m=\u001b[39;49m\u001b[43m \u001b[49m\u001b[43mmesh\u001b[49m\u001b[43m,\u001b[49m\n\u001b[1;32m      5\u001b[0m \u001b[43m    \u001b[49m\u001b[43msegment_id\u001b[49m\u001b[43m \u001b[49m\u001b[38;5;241;43m=\u001b[39;49m\u001b[43m \u001b[49m\u001b[43msegment_id\u001b[49m\u001b[43m,\u001b[49m\u001b[43m \u001b[49m\u001b[38;5;66;43;03m# don't need this explicitely if segment_id is already in products\u001b[39;49;00m\n\u001b[1;32m      6\u001b[0m \u001b[43m    \u001b[49m\u001b[43mpipeline_products\u001b[49m\u001b[43m \u001b[49m\u001b[38;5;241;43m=\u001b[39;49m\u001b[43m \u001b[49m\u001b[43mproducts\u001b[49m\u001b[43m,\u001b[49m\n\u001b[1;32m      7\u001b[0m \u001b[43m    \u001b[49m\u001b[43msuppress_preprocessing_print\u001b[49m\u001b[38;5;241;43m=\u001b[39;49m\u001b[38;5;28;43;01mFalse\u001b[39;49;00m\u001b[43m,\u001b[49m\n\u001b[1;32m      8\u001b[0m \u001b[43m    \u001b[49m\u001b[43msuppress_output\u001b[49m\u001b[38;5;241;43m=\u001b[39;49m\u001b[38;5;28;43;01mFalse\u001b[39;49;00m\u001b[43m,\u001b[49m\n\u001b[1;32m      9\u001b[0m \u001b[43m)\u001b[49m\n\u001b[1;32m     11\u001b[0m neuron_obj\n",
      "File \u001b[0;32m/usr/local/lib/python3.8/dist-packages/neurd/neuron.py:2497\u001b[0m, in \u001b[0;36mNeuron.__init__\u001b[0;34m(self, mesh, segment_id, description, nucleus_id, split_index, preprocessed_data, fill_hole_size, decomposition_type, meshparty_adaptive_correspondence_after_creation, calculate_spines, widths_to_calculate, suppress_preprocessing_print, computed_attribute_dict, somas, branch_skeleton_data, ignore_warnings, suppress_output, suppress_all_output, preprocessing_version, limb_to_branch_objects, glia_faces, nuclei_faces, glia_meshes, nuclei_meshes, original_mesh_idx, labels, preprocess_neuron_kwargs, spines_kwargs, pipeline_products)\u001b[0m\n\u001b[1;32m   2495\u001b[0m \u001b[38;5;28;01melse\u001b[39;00m:\n\u001b[1;32m   2496\u001b[0m     \u001b[38;5;28mprint\u001b[39m(\u001b[38;5;124m\"\u001b[39m\u001b[38;5;124mNo soma volume ratios so computing them now\u001b[39m\u001b[38;5;124m\"\u001b[39m)                                                          \n\u001b[0;32m-> 2497\u001b[0m     preprocessed_data[\u001b[38;5;124m\"\u001b[39m\u001b[38;5;124msoma_volume_ratios\u001b[39m\u001b[38;5;124m\"\u001b[39m] \u001b[38;5;241m=\u001b[39m [sm\u001b[38;5;241m.\u001b[39msoma_volume_ratio(j) \u001b[38;5;28;01mfor\u001b[39;00m j \u001b[38;5;129;01min\u001b[39;00m soma_meshes]\n\u001b[1;32m   2499\u001b[0m \u001b[38;5;66;03m# -------- 6/9 addition: synapses that are saved off--------\u001b[39;00m\n\u001b[1;32m   2500\u001b[0m \u001b[38;5;28;01mif\u001b[39;00m \u001b[38;5;124m\"\u001b[39m\u001b[38;5;124msoma_synapses\u001b[39m\u001b[38;5;124m\"\u001b[39m \u001b[38;5;129;01min\u001b[39;00m preprocessed_data\u001b[38;5;241m.\u001b[39mkeys():\n",
      "File \u001b[0;32m/usr/local/lib/python3.8/dist-packages/neurd/neuron.py:2497\u001b[0m, in \u001b[0;36m<listcomp>\u001b[0;34m(.0)\u001b[0m\n\u001b[1;32m   2495\u001b[0m \u001b[38;5;28;01melse\u001b[39;00m:\n\u001b[1;32m   2496\u001b[0m     \u001b[38;5;28mprint\u001b[39m(\u001b[38;5;124m\"\u001b[39m\u001b[38;5;124mNo soma volume ratios so computing them now\u001b[39m\u001b[38;5;124m\"\u001b[39m)                                                          \n\u001b[0;32m-> 2497\u001b[0m     preprocessed_data[\u001b[38;5;124m\"\u001b[39m\u001b[38;5;124msoma_volume_ratios\u001b[39m\u001b[38;5;124m\"\u001b[39m] \u001b[38;5;241m=\u001b[39m [\u001b[43msm\u001b[49m\u001b[38;5;241;43m.\u001b[39;49m\u001b[43msoma_volume_ratio\u001b[49m\u001b[43m(\u001b[49m\u001b[43mj\u001b[49m\u001b[43m)\u001b[49m \u001b[38;5;28;01mfor\u001b[39;00m j \u001b[38;5;129;01min\u001b[39;00m soma_meshes]\n\u001b[1;32m   2499\u001b[0m \u001b[38;5;66;03m# -------- 6/9 addition: synapses that are saved off--------\u001b[39;00m\n\u001b[1;32m   2500\u001b[0m \u001b[38;5;28;01mif\u001b[39;00m \u001b[38;5;124m\"\u001b[39m\u001b[38;5;124msoma_synapses\u001b[39m\u001b[38;5;124m\"\u001b[39m \u001b[38;5;129;01min\u001b[39;00m preprocessed_data\u001b[38;5;241m.\u001b[39mkeys():\n",
      "File \u001b[0;32m/usr/local/lib/python3.8/dist-packages/neurd/soma_extraction_utils.py:104\u001b[0m, in \u001b[0;36msoma_volume_ratio\u001b[0;34m(current_mesh, watertight_method, max_value)\u001b[0m\n\u001b[1;32m     98\u001b[0m     \u001b[38;5;66;03m#run the Poisson Surface reconstruction and get the largest piece\u001b[39;00m\n\u001b[1;32m     99\u001b[0m     new_mesh_inner,poisson_file_obj \u001b[38;5;241m=\u001b[39m Poisson_obj_temp(vertices\u001b[38;5;241m=\u001b[39mlrg_mesh\u001b[38;5;241m.\u001b[39mvertices,\n\u001b[1;32m    100\u001b[0m            faces\u001b[38;5;241m=\u001b[39mlrg_mesh\u001b[38;5;241m.\u001b[39mfaces,\n\u001b[1;32m    101\u001b[0m            return_mesh\u001b[38;5;241m=\u001b[39m\u001b[38;5;28;01mTrue\u001b[39;00m,\n\u001b[1;32m    102\u001b[0m            delete_temp_files\u001b[38;5;241m=\u001b[39m\u001b[38;5;28;01mTrue\u001b[39;00m,\n\u001b[1;32m    103\u001b[0m            segment_id\u001b[38;5;241m=\u001b[39mrandom\u001b[38;5;241m.\u001b[39mrandint(\u001b[38;5;241m0\u001b[39m,\u001b[38;5;241m999999\u001b[39m))\n\u001b[0;32m--> 104\u001b[0m     lrg_mesh \u001b[38;5;241m=\u001b[39m \u001b[43mlargest_mesh_piece\u001b[49m\u001b[43m(\u001b[49m\u001b[43mnew_mesh_inner\u001b[49m\u001b[43m)\u001b[49m\n\u001b[1;32m    105\u001b[0m \u001b[38;5;28;01melif\u001b[39;00m watertight_method \u001b[38;5;241m==\u001b[39m \u001b[38;5;124m\"\u001b[39m\u001b[38;5;124mfill_holes\u001b[39m\u001b[38;5;124m\"\u001b[39m:\n\u001b[1;32m    106\u001b[0m     \u001b[38;5;28mprint\u001b[39m(\u001b[38;5;124m\"\u001b[39m\u001b[38;5;124mUsing the close holes feature for watertightness in soma_volume_ratio\u001b[39m\u001b[38;5;124m\"\u001b[39m)\n",
      "File \u001b[0;32m/usr/local/lib/python3.8/dist-packages/neurd/soma_extraction_utils.py:74\u001b[0m, in \u001b[0;36mlargest_mesh_piece\u001b[0;34m(msh)\u001b[0m\n\u001b[1;32m     72\u001b[0m mesh_splits_inner \u001b[38;5;241m=\u001b[39m msh\u001b[38;5;241m.\u001b[39msplit(only_watertight\u001b[38;5;241m=\u001b[39m\u001b[38;5;28;01mFalse\u001b[39;00m)\n\u001b[1;32m     73\u001b[0m total_mesh_split_lengths_inner \u001b[38;5;241m=\u001b[39m [\u001b[38;5;28mlen\u001b[39m(k\u001b[38;5;241m.\u001b[39mfaces) \u001b[38;5;28;01mfor\u001b[39;00m k \u001b[38;5;129;01min\u001b[39;00m mesh_splits_inner]\n\u001b[0;32m---> 74\u001b[0m ordered_mesh_splits_inner \u001b[38;5;241m=\u001b[39m \u001b[43mmesh_splits_inner\u001b[49m\u001b[43m[\u001b[49m\u001b[43mnp\u001b[49m\u001b[38;5;241;43m.\u001b[39;49m\u001b[43mflip\u001b[49m\u001b[43m(\u001b[49m\u001b[43mnp\u001b[49m\u001b[38;5;241;43m.\u001b[39;49m\u001b[43margsort\u001b[49m\u001b[43m(\u001b[49m\u001b[43mtotal_mesh_split_lengths_inner\u001b[49m\u001b[43m)\u001b[49m\u001b[43m)\u001b[49m\u001b[43m]\u001b[49m\n\u001b[1;32m     75\u001b[0m \u001b[38;5;28;01mreturn\u001b[39;00m ordered_mesh_splits_inner[\u001b[38;5;241m0\u001b[39m]\n",
      "\u001b[0;31mTypeError\u001b[0m: only integer scalar arrays can be converted to a scalar index"
     ]
    }
   ],
   "source": [
    "from neurd import neuron\n",
    "\n",
    "neuron_obj = neuron.Neuron(\n",
    "    mesh = mesh,\n",
    "    segment_id = segment_id, # don't need this explicitely if segment_id is already in products\n",
    "    pipeline_products = products,\n",
    "    suppress_preprocessing_print=False,\n",
    "    suppress_output=False,\n",
    ")\n",
    "\n",
    "neuron_obj"
   ]
  },
  {
   "cell_type": "code",
   "execution_count": 39,
   "id": "5467bcfe",
   "metadata": {},
   "outputs": [
    {
     "ename": "NameError",
     "evalue": "name 'neuron_obj' is not defined",
     "output_type": "error",
     "traceback": [
      "\u001b[0;31m---------------------------------------------------------------------------\u001b[0m",
      "\u001b[0;31mNameError\u001b[0m                                 Traceback (most recent call last)",
      "Cell \u001b[0;32mIn[39], line 2\u001b[0m\n\u001b[1;32m      1\u001b[0m nviz\u001b[38;5;241m.\u001b[39mvisualize_neuron(\n\u001b[0;32m----> 2\u001b[0m     \u001b[43mneuron_obj\u001b[49m,\n\u001b[1;32m      3\u001b[0m     limb_branch_dict\u001b[38;5;241m=\u001b[39m\u001b[38;5;124m\"\u001b[39m\u001b[38;5;124mall\u001b[39m\u001b[38;5;124m\"\u001b[39m\n\u001b[1;32m      4\u001b[0m )\n",
      "\u001b[0;31mNameError\u001b[0m: name 'neuron_obj' is not defined"
     ]
    }
   ],
   "source": [
    "nviz.visualize_neuron(\n",
    "    neuron_obj,\n",
    "    limb_branch_dict=\"all\"\n",
    ")"
   ]
  },
  {
   "cell_type": "markdown",
   "id": "0d43b744",
   "metadata": {},
   "source": [
    "# Calculate statistics"
   ]
  },
  {
   "cell_type": "code",
   "execution_count": 32,
   "id": "cac08fd6",
   "metadata": {},
   "outputs": [
    {
     "data": {
      "text/plain": [
       "<datasci_tools.pipeline.StageProducts at 0x7f4426b28850>"
      ]
     },
     "execution_count": 32,
     "metadata": {},
     "output_type": "execute_result"
    }
   ],
   "source": [
    "decomp_products = neuron_obj.calculate_decomposition_products(\n",
    "    store_in_obj = True,\n",
    ")\n",
    "\n",
    "decomp_products"
   ]
  },
  {
   "cell_type": "code",
   "execution_count": 33,
   "id": "fa148fc5",
   "metadata": {},
   "outputs": [
    {
     "name": "stdout",
     "output_type": "stream",
     "text": [
      "{\n",
      "  'decimation':\n",
      "  {\n",
      "    'decimation_parameters':\n",
      "    {\n",
      "      'decimation_ratio':0.25,\n",
      "    },\n",
      "    'segment_id':32414,\n",
      "  },\n",
      "  'soma_identification':\n",
      "  {\n",
      "    'glia_meshes':[],\n",
      "    'nuclei_meshes':[<trimesh.Trimesh(vertices.shape=(54, 3), faces.shape=(18, 3))>, <trimesh.Trimesh(vertices.shape=(4, 3), faces.shape=(2, 3))>, <trimesh.Trimesh(vertices.shape=(3, 3), faces.shape=(1, 3))>, <trimesh.Trimesh(vertices.shape=(3, 3), faces.shape=(1, 3))>],\n",
      "    'soma_extraction_parameters':\n",
      "    {\n",
      "    },\n",
      "    'soma_meshes':[<trimesh.Trimesh(vertices.shape=(40159, 3), faces.shape=(79672, 3))>],\n",
      "    'soma_run_time':74.73318791389465,\n",
      "    'soma_sdfs':array([0.808672]),\n",
      "  },\n",
      "  'decomposition':\n",
      "  {\n",
      "    'bbox_volume':1.152083844966394,\n",
      "    'bbox_x_max':1285750.0,\n",
      "    'bbox_x_max_soma_relative':65183.36356420722,\n",
      "    'bbox_x_min':1191260.0,\n",
      "    'bbox_x_min_soma_relative':-29306.63643579278,\n",
      "    'bbox_y_max':1293642.4680380581,\n",
      "    'bbox_y_max_soma_relative':76223.39815334976,\n",
      "    'bbox_y_min':1191340.0,\n",
      "    'bbox_y_min_soma_relative':-26079.069884708384,\n",
      "    'bbox_z_max':187156.0,\n",
      "    'bbox_z_max_soma_relative':40470.7763853526,\n",
      "    'bbox_z_min':67973.6,\n",
      "    'bbox_z_min_soma_relative':-78711.6236146474,\n",
      "    'branch_length_mean':17.109252856126496,\n",
      "    'branch_length_median':13.58742361674746,\n",
      "    'centroid_volume':436.21756640348303,\n",
      "    'centroid_x':305141,\n",
      "    'centroid_x_nm':1220566.6364357928,\n",
      "    'centroid_y':304354,\n",
      "    'centroid_y_nm':1217419.0698847084,\n",
      "    'centroid_z':3667,\n",
      "    'centroid_z_nm':146685.2236146474,\n",
      "    'max_limb_n_branches':19,\n",
      "    'max_limb_skeletal_length':334260.2489411123,\n",
      "    'max_soma_area':872.3165406736205,\n",
      "    'median_branch_length':12649.812,\n",
      "    'n_branches':54,\n",
      "    'n_error_limbs':0,\n",
      "    'n_faces':358086,\n",
      "    'n_limbs':7,\n",
      "    'n_long_branches':0,\n",
      "    'n_medium_branches':45,\n",
      "    'n_multi_soma_touching_limbs':0,\n",
      "    'n_not_processed_soma_containing_meshes':0,\n",
      "    'n_same_soma_multi_touching_limbs':0,\n",
      "    'n_short_branches':9,\n",
      "    'n_somas':1,\n",
      "    'n_spine_eligible_branches':53,\n",
      "    'n_spines':33,\n",
      "    'n_vertices':178983,\n",
      "    'skeletal_length':867102.116040677,\n",
      "    'skeletal_length_eligible':867005.763,\n",
      "    'skeleton':array([[[1211100.        , 1237820.        ,  112726.        ],\n",
      "        [1211120.        , 1237780.        ,  112751.        ]],\n",
      "\n",
      "       [[1211120.        , 1237780.        ,  112751.        ],\n",
      "        [1211250.        , 1237590.        ,  112820.        ]],\n",
      "\n",
      "       [[1211250.        , 1237590.        ,  112820.        ],\n",
      "        [1211290.        , 1237530.        ,  112840.        ]],\n",
      "\n",
      "       ...,\n",
      "\n",
      "       [[1220566.63643579, 1217419.06988471,  146685.22361465],\n",
      "        [1212750.        , 1219730.        ,  145809.        ]],\n",
      "\n",
      "       [[1220566.63643579, 1217419.06988471,  146685.22361465],\n",
      "        [1216710.        , 1213500.        ,  139205.        ]],\n",
      "\n",
      "       [[1220566.63643579, 1217419.06988471,  146685.22361465],\n",
      "        [1220170.        , 1217310.        ,  142104.        ]]]),\n",
      "    'spine_density':3.805780125492386e-05,\n",
      "    'spine_density_eligible':3.806203073646697e-05,\n",
      "    'spine_volume_density':1617.4578693708193,\n",
      "    'spine_volume_density_eligible':1617.6376224826568,\n",
      "    'spine_volume_median':33954438.56840006,\n",
      "    'spine_volume_per_branch_eligible':26462285.6818506,\n",
      "    'spines_per_branch':0.6111111111111112,\n",
      "    'spines_per_branch_eligible':0.623,\n",
      "    'total_spine_volume':1402501141.1380818,\n",
      "    'width_90_perc':651.767,\n",
      "    'width_median':365.914,\n",
      "    'width_no_spine_90_perc':651.767,\n",
      "    'width_no_spine_median':358.433,\n",
      "  },\n",
      "}\n",
      "\n"
     ]
    }
   ],
   "source": [
    "print(neuron_obj.pipeline_products)"
   ]
  },
  {
   "cell_type": "markdown",
   "id": "d090f774",
   "metadata": {},
   "source": [
    "# Saving off neuron"
   ]
  },
  {
   "cell_type": "code",
   "execution_count": 34,
   "id": "9486c4e6",
   "metadata": {},
   "outputs": [
    {
     "name": "stdout",
     "output_type": "stream",
     "text": [
      "Total time for soma meshes compression = 0.17027544975280762\n",
      "Total time for insignificant_limbs,inside_pieces,non_soma_touching_meshes,not_processed_soma_containing_meshes compression = 1.0206191539764404\n",
      "Total time for limb_meshes compression = 0.5105800628662109\n",
      "    Starting Limb Correspondence Compression\n"
     ]
    },
    {
     "data": {
      "application/vnd.jupyter.widget-view+json": {
       "model_id": "bec172a6f69f41359456501745b8fb46",
       "version_major": 2,
       "version_minor": 0
      },
      "text/plain": [
       "  0%|          | 0/19 [00:00<?, ?it/s]"
      ]
     },
     "metadata": {},
     "output_type": "display_data"
    },
    {
     "data": {
      "application/vnd.jupyter.widget-view+json": {
       "model_id": "66393d6112f3490aa83178d2be132f06",
       "version_major": 2,
       "version_minor": 0
      },
      "text/plain": [
       "  0%|          | 0/16 [00:00<?, ?it/s]"
      ]
     },
     "metadata": {},
     "output_type": "display_data"
    },
    {
     "data": {
      "application/vnd.jupyter.widget-view+json": {
       "model_id": "f81ddd8cc5ea472886161099d6130361",
       "version_major": 2,
       "version_minor": 0
      },
      "text/plain": [
       "  0%|          | 0/9 [00:00<?, ?it/s]"
      ]
     },
     "metadata": {},
     "output_type": "display_data"
    },
    {
     "data": {
      "application/vnd.jupyter.widget-view+json": {
       "model_id": "dd5f953773194e6890775df98a173dcb",
       "version_major": 2,
       "version_minor": 0
      },
      "text/plain": [
       "  0%|          | 0/3 [00:00<?, ?it/s]"
      ]
     },
     "metadata": {},
     "output_type": "display_data"
    },
    {
     "data": {
      "application/vnd.jupyter.widget-view+json": {
       "model_id": "4feb3421c65b49dfb85b489125f3e487",
       "version_major": 2,
       "version_minor": 0
      },
      "text/plain": [
       "  0%|          | 0/5 [00:00<?, ?it/s]"
      ]
     },
     "metadata": {},
     "output_type": "display_data"
    },
    {
     "data": {
      "application/vnd.jupyter.widget-view+json": {
       "model_id": "5b6cb2f0059344628100ccf80c9126b8",
       "version_major": 2,
       "version_minor": 0
      },
      "text/plain": [
       "  0%|          | 0/1 [00:00<?, ?it/s]"
      ]
     },
     "metadata": {},
     "output_type": "display_data"
    },
    {
     "data": {
      "application/vnd.jupyter.widget-view+json": {
       "model_id": "83dcb5b1cdf74b74b0238c9b08adef54",
       "version_major": 2,
       "version_minor": 0
      },
      "text/plain": [
       "  0%|          | 0/1 [00:00<?, ?it/s]"
      ]
     },
     "metadata": {},
     "output_type": "display_data"
    },
    {
     "name": "stdout",
     "output_type": "stream",
     "text": [
      "Total time for new_limb_correspondence compression = 2.271036148071289\n",
      "Cleared mesh: <trimesh.Trimesh(vertices.shape=(54, 3), faces.shape=(18, 3))>:139930996849344\n",
      "Cleared mesh: <trimesh.Trimesh(vertices.shape=(4, 3), faces.shape=(2, 3))>:139930996764144\n",
      "Cleared mesh: <trimesh.Trimesh(vertices.shape=(3, 3), faces.shape=(1, 3))>:139930994935792\n",
      "Cleared mesh: <trimesh.Trimesh(vertices.shape=(3, 3), faces.shape=(1, 3))>:139930981219488\n",
      "Cleared mesh: <trimesh.Trimesh(vertices.shape=(40159, 3), faces.shape=(79672, 3))>:139930985627904\n",
      "Total time for compression = 8.523629665374756\n",
      "\n",
      "\n",
      "---Finished outputing neuron at location: /NEURD_Chenlab/Applications/Tutorials/Auto_Proof_Pipeline/Single_Soma_Exc/32414---\n",
      "saved neuron filepath = 32414\n"
     ]
    },
    {
     "data": {
      "text/plain": [
       "'32414.pbz2'"
      ]
     },
     "execution_count": 34,
     "metadata": {},
     "output_type": "execute_result"
    }
   ],
   "source": [
    "vdi.save_neuron_obj(\n",
    "    neuron_obj,\n",
    "    verbose = True\n",
    ")"
   ]
  },
  {
   "cell_type": "markdown",
   "id": "aa2fc99c",
   "metadata": {},
   "source": [
    "# Reloading the Neuron"
   ]
  },
  {
   "cell_type": "code",
   "execution_count": 40,
   "id": "e6ce238a",
   "metadata": {},
   "outputs": [
    {
     "name": "stdout",
     "output_type": "stream",
     "text": [
      "Decompressing Neuron in minimal output mode...please wait\n"
     ]
    }
   ],
   "source": [
    "neuron_obj_rec = vdi.load_neuron_obj(\n",
    "    segment_id = segment_id,\n",
    "    #mesh_decimated = mesh_decimated\n",
    ")"
   ]
  },
  {
   "cell_type": "code",
   "execution_count": 41,
   "id": "78e4533d",
   "metadata": {},
   "outputs": [
    {
     "name": "stdout",
     "output_type": "stream",
     "text": [
      "\n",
      " Working on visualization type: mesh\n",
      "\n",
      " Working on visualization type: skeleton\n"
     ]
    },
    {
     "data": {
      "application/vnd.jupyter.widget-view+json": {
       "model_id": "d5d7a00b14b645778b7a34790eb23746",
       "version_major": 2,
       "version_minor": 0
      },
      "text/plain": [
       "Container(figure=Figure(box_center=[0.5, 0.5, 0.5], box_size=[1.0, 1.0, 1.0], camera=PerspectiveCamera(fov=45.…"
      ]
     },
     "metadata": {},
     "output_type": "display_data"
    }
   ],
   "source": [
    "nviz.visualize_neuron(\n",
    "    neuron_obj_rec,\n",
    "    limb_branch_dict=\"all\"\n",
    ")"
   ]
  },
  {
   "cell_type": "code",
   "execution_count": 43,
   "id": "2c3edd21-dbb6-41bf-96c7-6d83cb3b9952",
   "metadata": {},
   "outputs": [
    {
     "name": "stdout",
     "output_type": "stream",
     "text": [
      "{\n",
      "  'decimation':\n",
      "  {\n",
      "    'decimation_parameters':\n",
      "    {\n",
      "      'decimation_ratio':0.25,\n",
      "    },\n",
      "    'segment_id':32414,\n",
      "  },\n",
      "  'soma_identification':\n",
      "  {\n",
      "    'glia_meshes':[],\n",
      "    'nuclei_meshes':[<trimesh.Trimesh(vertices.shape=(54, 3), faces.shape=(18, 3))>, <trimesh.Trimesh(vertices.shape=(4, 3), faces.shape=(2, 3))>, <trimesh.Trimesh(vertices.shape=(3, 3), faces.shape=(1, 3))>, <trimesh.Trimesh(vertices.shape=(3, 3), faces.shape=(1, 3))>],\n",
      "    'soma_extraction_parameters':\n",
      "    {\n",
      "    },\n",
      "    'soma_meshes':[<trimesh.Trimesh(vertices.shape=(40159, 3), faces.shape=(79672, 3))>],\n",
      "    'soma_run_time':74.73318791389465,\n",
      "    'soma_sdfs':array([0.808672]),\n",
      "  },\n",
      "  'decomposition':\n",
      "  {\n",
      "    'bbox_volume':1.152083844966394,\n",
      "    'bbox_x_max':1285750.0,\n",
      "    'bbox_x_max_soma_relative':65183.36356420722,\n",
      "    'bbox_x_min':1191260.0,\n",
      "    'bbox_x_min_soma_relative':-29306.63643579278,\n",
      "    'bbox_y_max':1293642.4680380581,\n",
      "    'bbox_y_max_soma_relative':76223.39815334976,\n",
      "    'bbox_y_min':1191340.0,\n",
      "    'bbox_y_min_soma_relative':-26079.069884708384,\n",
      "    'bbox_z_max':187156.0,\n",
      "    'bbox_z_max_soma_relative':40470.7763853526,\n",
      "    'bbox_z_min':67973.6,\n",
      "    'bbox_z_min_soma_relative':-78711.6236146474,\n",
      "    'branch_length_mean':17.109252856126496,\n",
      "    'branch_length_median':13.58742361674746,\n",
      "    'centroid_volume':436.21756640348303,\n",
      "    'centroid_x':305141,\n",
      "    'centroid_x_nm':1220566.6364357928,\n",
      "    'centroid_y':304354,\n",
      "    'centroid_y_nm':1217419.0698847084,\n",
      "    'centroid_z':3667,\n",
      "    'centroid_z_nm':146685.2236146474,\n",
      "    'max_limb_n_branches':19,\n",
      "    'max_limb_skeletal_length':334260.2489411123,\n",
      "    'max_soma_area':872.3165406736205,\n",
      "    'median_branch_length':12649.812,\n",
      "    'n_branches':54,\n",
      "    'n_error_limbs':0,\n",
      "    'n_faces':358086,\n",
      "    'n_limbs':7,\n",
      "    'n_long_branches':0,\n",
      "    'n_medium_branches':45,\n",
      "    'n_multi_soma_touching_limbs':0,\n",
      "    'n_not_processed_soma_containing_meshes':0,\n",
      "    'n_same_soma_multi_touching_limbs':0,\n",
      "    'n_short_branches':9,\n",
      "    'n_somas':1,\n",
      "    'n_spine_eligible_branches':53,\n",
      "    'n_spines':33,\n",
      "    'n_vertices':178983,\n",
      "    'skeletal_length':867102.116040677,\n",
      "    'skeletal_length_eligible':867005.763,\n",
      "    'skeleton':array([[[1211100.        , 1237820.        ,  112726.        ],\n",
      "        [1211120.        , 1237780.        ,  112751.        ]],\n",
      "\n",
      "       [[1211120.        , 1237780.        ,  112751.        ],\n",
      "        [1211250.        , 1237590.        ,  112820.        ]],\n",
      "\n",
      "       [[1211250.        , 1237590.        ,  112820.        ],\n",
      "        [1211290.        , 1237530.        ,  112840.        ]],\n",
      "\n",
      "       ...,\n",
      "\n",
      "       [[1220566.63643579, 1217419.06988471,  146685.22361465],\n",
      "        [1212750.        , 1219730.        ,  145809.        ]],\n",
      "\n",
      "       [[1220566.63643579, 1217419.06988471,  146685.22361465],\n",
      "        [1216710.        , 1213500.        ,  139205.        ]],\n",
      "\n",
      "       [[1220566.63643579, 1217419.06988471,  146685.22361465],\n",
      "        [1220170.        , 1217310.        ,  142104.        ]]]),\n",
      "    'spine_density':3.805780125492386e-05,\n",
      "    'spine_density_eligible':3.806203073646697e-05,\n",
      "    'spine_volume_density':1617.4578693708193,\n",
      "    'spine_volume_density_eligible':1617.6376224826568,\n",
      "    'spine_volume_median':33954438.56840006,\n",
      "    'spine_volume_per_branch_eligible':26462285.6818506,\n",
      "    'spines_per_branch':0.6111111111111112,\n",
      "    'spines_per_branch_eligible':0.623,\n",
      "    'total_spine_volume':1402501141.1380818,\n",
      "    'width_90_perc':651.767,\n",
      "    'width_median':365.914,\n",
      "    'width_no_spine_90_perc':651.767,\n",
      "    'width_no_spine_median':358.433,\n",
      "  },\n",
      "}\n",
      "\n"
     ]
    }
   ],
   "source": [
    "print(neuron_obj_rec.pipeline_products)"
   ]
  },
  {
   "cell_type": "markdown",
   "id": "12c62d98",
   "metadata": {},
   "source": [
    "# Exporting Branch meshes"
   ]
  },
  {
   "cell_type": "code",
   "execution_count": 44,
   "id": "04a5567a",
   "metadata": {},
   "outputs": [
    {
     "name": "stdout",
     "output_type": "stream",
     "text": [
      "limb_name = L0\n",
      "\n",
      " Working on visualization type: mesh\n",
      "\n",
      " Working on visualization type: skeleton\n"
     ]
    },
    {
     "data": {
      "application/vnd.jupyter.widget-view+json": {
       "model_id": "7b39aac378bc42d4b98a77fd28c918e0",
       "version_major": 2,
       "version_minor": 0
      },
      "text/plain": [
       "Container(figure=Figure(box_center=[0.5, 0.5, 0.5], box_size=[1.0, 1.0, 1.0], camera=PerspectiveCamera(fov=45.…"
      ]
     },
     "metadata": {},
     "output_type": "display_data"
    },
    {
     "name": "stdout",
     "output_type": "stream",
     "text": [
      "No limb name was given so using L0 because was the limb in the first key\n"
     ]
    },
    {
     "data": {
      "image/png": "[encoded data removed]",
      "text/plain": [
       "<Figure size 4000x2000 with 1 Axes>"
      ]
     },
     "metadata": {},
     "output_type": "display_data"
    }
   ],
   "source": [
    "nviz.plot_limb(neuron_obj_rec,0)"
   ]
  },
  {
   "cell_type": "code",
   "execution_count": 37,
   "id": "6591a4f0",
   "metadata": {},
   "outputs": [
    {
     "data": {
      "application/vnd.jupyter.widget-view+json": {
       "model_id": "50634c60f0934aaaa5e2b128579c9d0b",
       "version_major": 2,
       "version_minor": 0
      },
      "text/plain": [
       "Container(figure=Figure(box_center=[0.5, 0.5, 0.5], box_size=[1.0, 1.0, 1.0], camera=PerspectiveCamera(fov=45.…"
      ]
     },
     "metadata": {},
     "output_type": "display_data"
    }
   ],
   "source": [
    "branch_idx = 3\n",
    "limb_idx = 0\n",
    "\n",
    "branch_mesh = neuron_obj_rec[limb_idx][branch_idx].mesh\n",
    "ipvu.plot_objects(branch_mesh)"
   ]
  },
  {
   "cell_type": "code",
   "execution_count": 38,
   "id": "c3e9c894",
   "metadata": {},
   "outputs": [],
   "source": [
    "_ = branch_mesh.export(f\"{segment_id}_limb_{limb_idx}_branch_{branch_idx}.off\")"
   ]
  },
  {
   "cell_type": "markdown",
   "id": "06b5f069",
   "metadata": {},
   "source": [
    "# Step 4A: Multi Soma Split Suggestions"
   ]
  },
  {
   "cell_type": "code",
   "execution_count": 39,
   "id": "0729b033",
   "metadata": {},
   "outputs": [
    {
     "data": {
      "image/png": "[encoded data removed]",
      "text/plain": [
       "<Figure size 640x480 with 1 Axes>"
      ]
     },
     "metadata": {},
     "output_type": "display_data"
    }
   ],
   "source": [
    "from neurd import neuron_visualizations as nviz\n",
    "nviz.plot_soma_limb_concept_network(\n",
    "    neuron_obj\n",
    ")"
   ]
  },
  {
   "cell_type": "code",
   "execution_count": 40,
   "id": "3ea8a7ec",
   "metadata": {},
   "outputs": [],
   "source": [
    "multi_soma_split_parameters = dict()"
   ]
  },
  {
   "cell_type": "code",
   "execution_count": 41,
   "id": "6b654969",
   "metadata": {},
   "outputs": [],
   "source": [
    "_ = neuron_obj.calculate_multi_soma_split_suggestions(\n",
    "    plot = True,\n",
    "    store_in_obj = True,\n",
    "    **multi_soma_split_parameters\n",
    ")\n"
   ]
  },
  {
   "cell_type": "code",
   "execution_count": 42,
   "id": "a8012cfa",
   "metadata": {},
   "outputs": [],
   "source": [
    "neuron_obj.pipeline_products.multi_soma_split_suggestions.multi_soma_split_parameters = multi_soma_split_parameters"
   ]
  },
  {
   "cell_type": "markdown",
   "id": "2206b4cc",
   "metadata": {},
   "source": [
    "# Step 4B: Multi Soma Split Execution"
   ]
  },
  {
   "cell_type": "code",
   "execution_count": 43,
   "id": "cc8bc52a",
   "metadata": {},
   "outputs": [
    {
     "name": "stdout",
     "output_type": "stream",
     "text": [
      "No error limbs to processs so just returning the original neuron\n"
     ]
    }
   ],
   "source": [
    "neuron_list = neuron_obj.multi_soma_split_execution(\n",
    "    verbose = False,\n",
    ")"
   ]
  },
  {
   "cell_type": "code",
   "execution_count": 44,
   "id": "1239884b",
   "metadata": {},
   "outputs": [
    {
     "name": "stdout",
     "output_type": "stream",
     "text": [
      "{\n",
      "  'decimation':\n",
      "  {\n",
      "    'decimation_parameters':\n",
      "    {\n",
      "      'decimation_ratio':0.25,\n",
      "    },\n",
      "    'segment_id':32414,\n",
      "  },\n",
      "  'soma_identification':\n",
      "  {\n",
      "    'glia_meshes':[],\n",
      "    'nuclei_meshes':[<trimesh.Trimesh(vertices.shape=(54, 3), faces.shape=(18, 3))>, <trimesh.Trimesh(vertices.shape=(4, 3), faces.shape=(2, 3))>, <trimesh.Trimesh(vertices.shape=(3, 3), faces.shape=(1, 3))>, <trimesh.Trimesh(vertices.shape=(3, 3), faces.shape=(1, 3))>],\n",
      "    'soma_extraction_parameters':\n",
      "    {\n",
      "    },\n",
      "    'soma_meshes':[<trimesh.Trimesh(vertices.shape=(40159, 3), faces.shape=(79672, 3))>],\n",
      "    'soma_run_time':74.73318791389465,\n",
      "    'soma_sdfs':array([0.808672]),\n",
      "  },\n",
      "  'decomposition':\n",
      "  {\n",
      "    'bbox_volume':1.152083844966394,\n",
      "    'bbox_x_max':1285750.0,\n",
      "    'bbox_x_max_soma_relative':65183.36356420722,\n",
      "    'bbox_x_min':1191260.0,\n",
      "    'bbox_x_min_soma_relative':-29306.63643579278,\n",
      "    'bbox_y_max':1293642.4680380581,\n",
      "    'bbox_y_max_soma_relative':76223.39815334976,\n",
      "    'bbox_y_min':1191340.0,\n",
      "    'bbox_y_min_soma_relative':-26079.069884708384,\n",
      "    'bbox_z_max':187156.0,\n",
      "    'bbox_z_max_soma_relative':40470.7763853526,\n",
      "    'bbox_z_min':67973.6,\n",
      "    'bbox_z_min_soma_relative':-78711.6236146474,\n",
      "    'branch_length_mean':17.109252856126496,\n",
      "    'branch_length_median':13.58742361674746,\n",
      "    'centroid_volume':436.21756640348303,\n",
      "    'centroid_x':305141,\n",
      "    'centroid_x_nm':1220566.6364357928,\n",
      "    'centroid_y':304354,\n",
      "    'centroid_y_nm':1217419.0698847084,\n",
      "    'centroid_z':3667,\n",
      "    'centroid_z_nm':146685.2236146474,\n",
      "    'max_limb_n_branches':19,\n",
      "    'max_limb_skeletal_length':334260.2489411123,\n",
      "    'max_soma_area':872.3165406736205,\n",
      "    'median_branch_length':12649.812,\n",
      "    'n_branches':54,\n",
      "    'n_error_limbs':0,\n",
      "    'n_faces':358086,\n",
      "    'n_limbs':7,\n",
      "    'n_long_branches':0,\n",
      "    'n_medium_branches':45,\n",
      "    'n_multi_soma_touching_limbs':0,\n",
      "    'n_not_processed_soma_containing_meshes':0,\n",
      "    'n_same_soma_multi_touching_limbs':0,\n",
      "    'n_short_branches':9,\n",
      "    'n_somas':1,\n",
      "    'n_spine_eligible_branches':53,\n",
      "    'n_spines':33,\n",
      "    'n_vertices':178983,\n",
      "    'skeletal_length':867102.116040677,\n",
      "    'skeletal_length_eligible':867005.763,\n",
      "    'skeleton':array([[[1211100.        , 1237820.        ,  112726.        ],\n",
      "        [1211120.        , 1237780.        ,  112751.        ]],\n",
      "\n",
      "       [[1211120.        , 1237780.        ,  112751.        ],\n",
      "        [1211250.        , 1237590.        ,  112820.        ]],\n",
      "\n",
      "       [[1211250.        , 1237590.        ,  112820.        ],\n",
      "        [1211290.        , 1237530.        ,  112840.        ]],\n",
      "\n",
      "       ...,\n",
      "\n",
      "       [[1220566.63643579, 1217419.06988471,  146685.22361465],\n",
      "        [1212750.        , 1219730.        ,  145809.        ]],\n",
      "\n",
      "       [[1220566.63643579, 1217419.06988471,  146685.22361465],\n",
      "        [1216710.        , 1213500.        ,  139205.        ]],\n",
      "\n",
      "       [[1220566.63643579, 1217419.06988471,  146685.22361465],\n",
      "        [1220170.        , 1217310.        ,  142104.        ]]]),\n",
      "    'spine_density':3.805780125492386e-05,\n",
      "    'spine_density_eligible':3.806203073646697e-05,\n",
      "    'spine_volume_density':1617.4578693708193,\n",
      "    'spine_volume_density_eligible':1617.6376224826568,\n",
      "    'spine_volume_median':33954438.56840006,\n",
      "    'spine_volume_per_branch_eligible':26462285.6818506,\n",
      "    'spines_per_branch':0.6111111111111112,\n",
      "    'spines_per_branch_eligible':0.623,\n",
      "    'total_spine_volume':1402501141.1380818,\n",
      "    'width_90_perc':651.767,\n",
      "    'width_median':365.914,\n",
      "    'width_no_spine_90_perc':651.767,\n",
      "    'width_no_spine_median':358.433,\n",
      "  },\n",
      "  'multi_soma_split_suggestions':\n",
      "  {\n",
      "    'multi_soma_split_parameters':\n",
      "    {\n",
      "    },\n",
      "    'n_paths_cut':0,\n",
      "    'red_blue_split_results':\n",
      "    {\n",
      "    },\n",
      "    'split_results':\n",
      "    {\n",
      "    },\n",
      "  },\n",
      "  'multi_soma_split_execution':\n",
      "  {\n",
      "    'multi_soma_errored_limbs_area':[],\n",
      "    'multi_soma_errored_limbs_skeletal_length':[],\n",
      "    'multi_soma_n_multi_soma_errors':0,\n",
      "    'multi_soma_n_same_soma_errors':0,\n",
      "    'multiplicity':1,\n",
      "    'split_index':0,\n",
      "  },\n",
      "}\n",
      "\n"
     ]
    }
   ],
   "source": [
    "n1 = neuron_list[0]\n",
    "print(n1.pipeline_products)"
   ]
  },
  {
   "cell_type": "markdown",
   "id": "a2dcd901",
   "metadata": {},
   "source": [
    "# Step 5: Cell Typing"
   ]
  },
  {
   "cell_type": "code",
   "execution_count": 45,
   "id": "023dd7aa",
   "metadata": {},
   "outputs": [],
   "source": [
    "from neurd import neuron_pipeline_utils as npu"
   ]
  },
  {
   "cell_type": "code",
   "execution_count": 46,
   "id": "b17ecdd9",
   "metadata": {},
   "outputs": [
    {
     "name": "stdout",
     "output_type": "stream",
     "text": [
      "\n",
      "Number of segments: 2\n",
      "\n",
      "\n",
      "Number of segments: 2\n",
      "\n",
      "\n",
      "Number of segments: 2\n",
      "\n",
      "\n",
      "Number of segments: 1\n",
      "\n",
      "\n",
      "Number of segments: 1\n",
      "\n",
      "\n",
      "Number of segments: 1\n",
      "\n",
      "\n",
      "Number of segments: 1\n",
      "\n",
      "\n",
      "Number of segments: 1\n",
      "\n",
      "\n",
      "Number of segments: 1\n",
      "\n",
      "\n",
      "Number of segments: 2\n",
      "\n",
      "\n",
      "Number of segments: 2\n",
      "\n",
      "\n",
      "Number of segments: 2\n",
      "\n",
      "\n",
      "Number of segments: 1\n",
      "\n",
      "\n",
      "Number of segments: 2\n",
      "\n",
      "\n",
      "Number of segments: 2\n",
      "\n",
      "\n",
      "Number of segments: 2\n",
      "\n",
      "\n",
      "Number of segments: 2\n",
      "\n",
      "\n",
      "Number of segments: 3\n",
      "\n",
      "\n",
      "Number of segments: 1\n",
      "\n",
      "\n",
      "Number of segments: 1\n",
      "\n",
      "\n",
      "Number of segments: 1\n",
      "\n",
      "\n",
      "Number of segments: 1\n",
      "\n",
      "\n",
      "Number of segments: 1\n",
      "\n",
      "\n",
      "Number of segments: 1\n",
      "\n",
      "\n",
      "Number of segments: 2\n",
      "\n",
      "\n",
      "Number of segments: 2\n",
      "\n",
      "\n",
      "Number of segments: 2\n",
      "\n",
      "\n",
      "Number of segments: 1\n",
      "\n",
      "\n",
      "Number of segments: 2\n",
      "\n",
      "\n",
      "Number of segments: 3\n",
      "\n",
      "\n",
      "Number of segments: 1\n",
      "\n",
      "\n",
      "Number of segments: 3\n",
      "\n",
      "\n",
      "Number of segments: 3\n",
      "\n",
      "\n",
      "Number of segments: 1\n",
      "\n",
      "\n",
      "Number of segments: 1\n",
      "\n",
      "\n",
      "Number of segments: 1\n",
      "\n",
      "\n",
      "Number of segments: 1\n",
      "\n",
      "\n",
      "Number of segments: 3\n",
      "\n",
      "\n",
      "Number of segments: 1\n",
      "\n",
      "\n",
      "Number of segments: 1\n",
      "\n",
      "\n",
      "Number of segments: 1\n",
      "\n",
      "\n",
      "Number of segments: 2\n",
      "\n",
      "\n",
      "Number of segments: 2\n",
      "\n",
      "\n",
      "Number of segments: 2\n",
      "\n",
      "\n",
      "Number of segments: 2\n",
      "\n",
      "\n",
      "Number of segments: 2\n",
      "\n",
      "\n",
      "Number of segments: 2\n",
      "\n",
      "\n",
      "Number of segments: 2\n",
      "\n",
      "\n",
      "Number of segments: 1\n",
      "\n",
      "\n",
      "Number of segments: 2\n",
      "\n",
      "\n",
      "Number of segments: 2\n",
      "\n",
      "\n",
      "Number of segments: 3\n",
      "\n",
      "\n",
      "Number of segments: 3\n",
      "\n",
      "\n",
      "Number of segments: 3\n",
      "\n",
      "\n",
      "Number of segments: 2\n",
      "\n",
      "\n",
      "Number of segments: 1\n",
      "\n",
      "\n",
      "Number of segments: 3\n",
      "\n",
      "\n",
      "Number of segments: 1\n",
      "\n",
      "\n",
      "Number of segments: 1\n",
      "\n",
      "\n",
      "Number of segments: 1\n",
      "\n",
      "\n",
      "Number of segments: 2\n",
      "\n",
      "\n",
      "Number of segments: 2\n",
      "\n",
      "\n",
      "Number of segments: 2\n",
      "\n",
      "\n",
      "Number of segments: 2\n",
      "\n",
      "\n",
      "Number of segments: 2\n",
      "\n",
      "\n",
      "Number of segments: 3\n",
      "\n",
      "\n",
      "Number of segments: 1\n",
      "\n",
      "\n",
      "Number of segments: 2\n",
      "\n",
      "\n",
      "Number of segments: 1\n",
      "\n",
      "\n",
      "Number of segments: 3\n",
      "\n",
      "\n",
      "Number of segments: 3\n",
      "\n",
      "\n",
      "Number of segments: 3\n",
      "\n",
      "\n",
      "Number of segments: 1\n",
      "\n",
      "\n",
      "Number of segments: 1\n",
      "\n",
      "\n",
      "Number of segments: 1\n",
      "\n",
      "\n",
      "Number of segments: 1\n",
      "\n",
      "\n",
      "Number of segments: 1\n",
      "\n",
      "\n",
      "Number of segments: 1\n",
      "\n",
      "\n",
      "Number of segments: 1\n",
      "\n",
      "\n",
      "Number of segments: 2\n",
      "\n",
      "\n",
      "Number of segments: 2\n",
      "\n",
      "\n",
      "Number of segments: 2\n",
      "\n",
      "\n",
      "Number of segments: 3\n",
      "\n",
      "\n",
      "Number of segments: 2\n",
      "\n",
      "\n",
      "Number of segments: 1\n",
      "\n",
      "\n",
      "Number of segments: 1\n",
      "\n",
      "\n",
      "Number of segments: 1\n",
      "\n",
      "\n",
      "Number of segments: 1\n",
      "\n",
      "\n",
      "Number of segments: 1\n",
      "\n",
      "\n",
      "Number of segments: 2\n",
      "\n",
      "\n",
      "Number of segments: 2\n",
      "\n",
      "\n",
      "Number of segments: 2\n",
      "\n",
      "\n",
      "Number of segments: 2\n",
      "\n",
      "\n",
      "Number of segments: 1\n",
      "\n",
      "\n",
      "Number of segments: 2\n",
      "\n",
      "\n",
      "Number of segments: 2\n",
      "\n",
      "branches_without_postsyn_req query = \n",
      "skeletal_length > 10000  and ((synapse_density_offset_endpoint_upstream < 0.00015) or (n_synapses_offset_endpoint_upstream <= 2)) and (n_synapses_pre_offset_endpoint_upstream <= 1) and (width_new > 95) and (width_new < 650) and (n_synapses_spine_offset_endpoint_upstream < 3)\n",
      "No limb branch to plot\n",
      "Starting axon branch was not the limb starting node so generating border vertices and computing upstream branch\n",
      "upstream_node_to_axon_starting_branch = 10\n",
      "invalidation_d = 1500\n",
      "use_adaptive_invalidation_d= False\n",
      "axon_width_preprocess_limb_max = 200\n",
      "filter_end_node_length= 1150\n",
      "filter_end_node_length_meshparty = 1150\n",
      "invalidation_d = 1500\n",
      "root_curr = [1224389.875    1226609.875     153199.859375]\n",
      "Time for preparing soma vertices and root: 0.0005404949188232422\n",
      "invalidation_d = 1500\n",
      "smooth_neighborhood = 0\n",
      "cc_vertex_thresh = 10\n"
     ]
    },
    {
     "name": "stderr",
     "output_type": "stream",
     "text": [
      "100%|█████████████████████████████████████████████████████████████████████████████████████| 1/1 [00:00<00:00,  3.94it/s]\n"
     ]
    },
    {
     "name": "stdout",
     "output_type": "stream",
     "text": [
      "meshparty_segment_size = 100\n",
      "Time for 1st pass MP skeletonization: 0.4525949954986572\n",
      "connecting at the root\n",
      "branches_touching_root = [44]\n",
      "combining close nodes\n",
      "combine_threshold = 1300\n",
      "length of Graph = 1455\n",
      "After combining close endpoints max(kept_branches_idx) = 44, len(kept_branches_idx) = 41\n",
      "empty_indices % = 0.0\n",
      " conflict_indices % = 0.10211429446912823\n",
      "Decomposing first pass: 1.851210117340088\n",
      "Only Using MeshParty Skeletonization and Mesh Correspondence\n",
      "Another print\n",
      "Divinding into MP and MAP pieces: 1.0251998901367188e-05\n",
      "Total time for MAP sublimb processing 3.337860107421875e-06\n",
      "---- Working on MP Decomposition #0 ----\n",
      "Using Quicker soma_to_piece_touching_vertices because no MAP and only one sublimb_mesh piece \n",
      "MP filtering soma verts: 1.8596649169921875e-05\n",
      "Fixing Possible Soma Extension Branch for Sublimb 0\n",
      "Total time for mesh KDTree = 0.003751516342163086\n",
      "sbv[0].reshape(-1,3) = [[1224389.875    1226609.875     153199.859375]]\n",
      "closest_sk_pt_coord BEFORE = [1224265.63693452 1227782.88131246  152227.72652551]\n",
      "current_skeleton.shape = (67, 2, 3)\n",
      "node_for_stitch = 20: [1224265.63693452 1227782.88131246  152227.72652551]\n",
      "node_for_stitch AFTER = 20: [1224265.63693452 1227782.88131246  152227.72652551]\n",
      "possible_node_loc = [ 0 45 67]\n",
      "possible_node_loc AFTER = [ 0 45 67]\n",
      "curr_shortest_path = [20, 25.0, 29.0, 28.0, 32.0, 35.0, 37.0, 39.0, 40.0, 43.0, 44.0, 45]\n",
      "Current stitch point was not a branch or endpoint, shortest_path_length to one = 1006.2501735254658\n",
      "Changing the stitch point becasue the distance to end or branch node was 1006.2501735254658\n",
      "New stitch point has degree 1\n",
      "change_status for create soma extending pieces = True\n",
      "closest_sk_pt_coord AFTER = [1224540.      1227810.125    151324.90625]\n",
      "skipping soma 0 because closest skeleton node was already end node\n",
      "endpoints_must_keep = {0: array([[1224540.     , 1227810.125  ,  151324.90625]])}\n",
      "match_sk_branches = [12]\n",
      "The new branch info was none so skipping \n",
      "\n",
      "No soma extending branch was added for this sublimb even though it had a soma border (means they already existed)\n",
      "MP (because soma touching verts) soma extension add: 0.02477717399597168\n",
      "There were not both MAP and MP pieces so skipping the stitch resolving phase\n",
      "Time for decomp of Limb = 2.3841161727905273\n",
      "Number of matching vertices = 71\n",
      "Only one endpoint after filtering away the endpoints that are not on the skeleton\n",
      "Removed 5 skeletal branches\n",
      "26479 26480\n",
      "For marked faces: None\n",
      "empty_indices % = 0.01200906344410876\n",
      " conflict_indices % = 0.0\n",
      "Limb Correspondence before stitching = 33\n",
      "Filtering away non soma floating pieces near the soma\n",
      "Before filter # of pieces = 7\n",
      "AFTER filter # of pieces = 0\n",
      "Readjusting starting axon branch skeleton\n",
      "Fixing the axon starting branch endpoint to align with upstream branch\n",
      "concept_network_dict = {0: [<datasci_tools.networkx_utils.GraphOrderedEdges object at 0x7f440e961a60>]}\n",
      "\n",
      "\n",
      "----Working on seperate_graph 0----\n",
      "\n",
      "\n",
      "---------Working on soma_idx = 0, soma_group_idx 0, endpt = [1223540. 1223830.  149727.]---------\n",
      "Starting_edge inside branches_to_conept = [[1223540. 1223830.  149727.]\n",
      " [1225030. 1227000.  151546.]]\n",
      "At the start, starting_node (in terms of the skeleton, that shouldn't match the starting edge) = [37]\n",
      "printing out current edge:\n",
      "[[1223540. 1223830.  149727.]\n",
      " [1225030. 1227000.  151546.]]\n",
      "edge_endpoints_to_process was empty so exiting loop after 44 iterations\n",
      "starting_node in concept map (that should match the starting edge) = 33\n",
      "Total time for branches to concept conversion = 0.2814650535583496\n",
      "\n",
      "Done generating concept network \n",
      "\n",
      "\n",
      "\n",
      "Number of segments: 13\n",
      "\n",
      "\n",
      "Number of segments: 28\n",
      "\n",
      "\n",
      "Number of segments: 28\n",
      "\n",
      "\n",
      "Number of segments: 21\n",
      "\n",
      "\n",
      "Number of segments: 43\n",
      "\n",
      "\n",
      "Number of segments: 23\n",
      "\n",
      "\n",
      "Number of segments: 24\n",
      "\n",
      "\n",
      "Number of segments: 9\n",
      "\n",
      "\n",
      "Number of segments: 53\n",
      "\n",
      "\n",
      "Number of segments: 33\n",
      "\n",
      "\n",
      "Number of segments: 54\n",
      "\n",
      "\n",
      "Number of segments: 49\n",
      "\n",
      "\n",
      "Number of segments: 13\n",
      "\n",
      "\n",
      "Number of segments: 14\n",
      "\n",
      "\n",
      "Number of segments: 20\n",
      "\n"
     ]
    },
    {
     "ename": "KeyError",
     "evalue": "'limb_idx'",
     "output_type": "error",
     "traceback": [
      "\u001b[0;31m---------------------------------------------------------------------------\u001b[0m",
      "\u001b[0;31mKeyError\u001b[0m                                  Traceback (most recent call last)",
      "Cell \u001b[0;32mIn[46], line 1\u001b[0m\n\u001b[0;32m----> 1\u001b[0m neuron_obj_axon \u001b[38;5;241m=\u001b[39m \u001b[43mnpu\u001b[49m\u001b[38;5;241;43m.\u001b[39;49m\u001b[43mcell_type_ax_dendr_stage\u001b[49m\u001b[43m(\u001b[49m\n\u001b[1;32m      2\u001b[0m \u001b[43m    \u001b[49m\u001b[43mn1\u001b[49m\u001b[43m,\u001b[49m\n\u001b[1;32m      3\u001b[0m \u001b[43m    \u001b[49m\u001b[43mmesh_decimated\u001b[49m\u001b[43m \u001b[49m\u001b[38;5;241;43m=\u001b[39;49m\u001b[43m \u001b[49m\u001b[43mmesh_decimated\u001b[49m\u001b[43m,\u001b[49m\n\u001b[1;32m      4\u001b[0m \u001b[43m    \u001b[49m\u001b[43mplot_axon\u001b[49m\u001b[43m \u001b[49m\u001b[38;5;241;43m=\u001b[39;49m\u001b[43m \u001b[49m\u001b[38;5;28;43;01mFalse\u001b[39;49;00m\u001b[43m,\u001b[49m\n\u001b[1;32m      5\u001b[0m \u001b[43m)\u001b[49m\n",
      "File \u001b[0;32m/usr/local/lib/python3.8/dist-packages/neurd/neuron_pipeline_utils.py:239\u001b[0m, in \u001b[0;36mcell_type_ax_dendr_stage\u001b[0;34m(neuron_obj, mesh_decimated, store_in_obj, return_stage_products, verbose, plot_initial_neuron, plot_floating_end_nodes_limb_branch_dict, plot_downstream_path_limb_branch, plot_after_simplification, filter_low_branch_cluster_dendrite, plot_limb_branch_filter_away_low_branch, plot_synapses, segment_id, synapse_filepath, plot_spines, plot_spines_and_sk_filter_for_syn, plot_spines_and_sk_filter_for_spine, inh_exc_class_to_use_for_axon, plot_aligned_neuron_with_syn_sp, filter_dendrite_on_axon, plot_initial_axon, plot_axon_on_dendrite, plot_high_fidelity_axon, plot_boutons_web, plot_axon)\u001b[0m\n\u001b[1;32m    232\u001b[0m     \u001b[38;5;28mprint\u001b[39m(\u001b[38;5;124mf\u001b[39m\u001b[38;5;124m\"\u001b[39m\u001b[38;5;124me_i_class = \u001b[39m\u001b[38;5;132;01m{\u001b[39;00me_i_class\u001b[38;5;132;01m}\u001b[39;00m\u001b[38;5;124m with cell_type_used = \u001b[39m\u001b[38;5;132;01m{\u001b[39;00mcell_type_used\u001b[38;5;132;01m}\u001b[39;00m\u001b[38;5;124m\"\u001b[39m)\n\u001b[1;32m    235\u001b[0m \u001b[38;5;66;03m# 7) Label the axon\u001b[39;00m\n\u001b[1;32m    236\u001b[0m (o_neuron_unalign,\n\u001b[1;32m    237\u001b[0m filtering_info,\n\u001b[1;32m    238\u001b[0m axon_angles_dict,\n\u001b[0;32m--> 239\u001b[0m G_axon_labeled,)\u001b[38;5;241m=\u001b[39m\u001b[43mau\u001b[49m\u001b[38;5;241;43m.\u001b[39;49m\u001b[43mcomplete_axon_processing\u001b[49m\u001b[43m(\u001b[49m\n\u001b[1;32m    240\u001b[0m \u001b[43m            \u001b[49m\u001b[43mneuron_obj_attr\u001b[49m\u001b[43m,\u001b[49m\n\u001b[1;32m    241\u001b[0m \u001b[43m            \u001b[49m\u001b[43mcell_type\u001b[49m\u001b[43m \u001b[49m\u001b[38;5;241;43m=\u001b[39;49m\u001b[43m \u001b[49m\u001b[43me_i_class\u001b[49m\u001b[43m,\u001b[49m\n\u001b[1;32m    242\u001b[0m \u001b[43m            \u001b[49m\u001b[43madd_synapses_and_head_neck_shaft_spines\u001b[49m\u001b[43m \u001b[49m\u001b[38;5;241;43m=\u001b[39;49m\u001b[43m \u001b[49m\u001b[38;5;28;43;01mFalse\u001b[39;49;00m\u001b[43m,\u001b[49m\n\u001b[1;32m    243\u001b[0m \u001b[43m            \u001b[49m\u001b[43mvalidation\u001b[49m\u001b[43m \u001b[49m\u001b[38;5;241;43m=\u001b[39;49m\u001b[43m \u001b[49m\u001b[38;5;28;43;01mFalse\u001b[39;49;00m\u001b[43m,\u001b[49m\n\u001b[1;32m    244\u001b[0m \u001b[43m            \u001b[49m\u001b[43mplot_initial_axon\u001b[49m\u001b[38;5;241;43m=\u001b[39;49m\u001b[43mplot_initial_axon\u001b[49m\u001b[43m,\u001b[49m\n\u001b[1;32m    245\u001b[0m \u001b[43m            \u001b[49m\u001b[43mplot_axon_on_dendrite\u001b[49m\u001b[38;5;241;43m=\u001b[39;49m\u001b[43mplot_axon_on_dendrite\u001b[49m\u001b[43m,\u001b[49m\n\u001b[1;32m    246\u001b[0m \u001b[43m            \u001b[49m\u001b[43mreturn_filtering_info\u001b[49m\u001b[43m \u001b[49m\u001b[38;5;241;43m=\u001b[39;49m\u001b[43m \u001b[49m\u001b[38;5;28;43;01mTrue\u001b[39;49;00m\u001b[43m,\u001b[49m\n\u001b[1;32m    247\u001b[0m \u001b[43m            \u001b[49m\u001b[43mreturn_axon_angle_info\u001b[49m\u001b[43m \u001b[49m\u001b[38;5;241;43m=\u001b[39;49m\u001b[43m \u001b[49m\u001b[38;5;28;43;01mTrue\u001b[39;49;00m\u001b[43m,\u001b[49m\n\u001b[1;32m    248\u001b[0m \u001b[43m            \u001b[49m\u001b[43mplot_high_fidelity_axon\u001b[49m\u001b[43m \u001b[49m\u001b[38;5;241;43m=\u001b[39;49m\u001b[43m \u001b[49m\u001b[43mplot_high_fidelity_axon\u001b[49m\u001b[43m,\u001b[49m\n\u001b[1;32m    249\u001b[0m \u001b[43m            \u001b[49m\u001b[43mplot_boutons_web\u001b[49m\u001b[43m \u001b[49m\u001b[38;5;241;43m=\u001b[39;49m\u001b[43m \u001b[49m\u001b[43mplot_boutons_web\u001b[49m\u001b[43m,\u001b[49m\n\u001b[1;32m    250\u001b[0m \u001b[43m            \u001b[49m\u001b[43madd_synapses_after_high_fidelity_axon\u001b[49m\u001b[43m \u001b[49m\u001b[38;5;241;43m=\u001b[39;49m\u001b[43m \u001b[49m\u001b[38;5;28;43;01mTrue\u001b[39;49;00m\u001b[43m,\u001b[49m\n\u001b[1;32m    251\u001b[0m \u001b[43m            \u001b[49m\u001b[43mfilter_dendrite_on_axon\u001b[49m\u001b[43m \u001b[49m\u001b[38;5;241;43m=\u001b[39;49m\u001b[43m \u001b[49m\u001b[43mfilter_dendrite_on_axon\u001b[49m\u001b[43m,\u001b[49m\n\u001b[1;32m    252\u001b[0m \u001b[43m            \u001b[49m\u001b[43mreturn_G_axon_labeled\u001b[49m\u001b[43m \u001b[49m\u001b[38;5;241;43m=\u001b[39;49m\u001b[43m \u001b[49m\u001b[38;5;28;43;01mTrue\u001b[39;49;00m\u001b[43m,\u001b[49m\n\u001b[1;32m    253\u001b[0m \u001b[43m            \u001b[49m\u001b[43moriginal_mesh\u001b[49m\u001b[43m \u001b[49m\u001b[38;5;241;43m=\u001b[39;49m\u001b[43m \u001b[49m\u001b[43mmesh_decimated\u001b[49m\u001b[43m,\u001b[49m\n\u001b[1;32m    254\u001b[0m \u001b[43m            \u001b[49m\u001b[43mverbose\u001b[49m\u001b[43m \u001b[49m\u001b[38;5;241;43m=\u001b[39;49m\u001b[43m \u001b[49m\u001b[43mverbose\u001b[49m\u001b[43m)\u001b[49m\n\u001b[1;32m    256\u001b[0m \u001b[38;5;28;01mif\u001b[39;00m plot_axon:\n\u001b[1;32m    257\u001b[0m     nviz\u001b[38;5;241m.\u001b[39mplot_axon(o_neuron_unalign)\n",
      "File \u001b[0;32m/usr/local/lib/python3.8/dist-packages/neurd/axon_utils.py:3239\u001b[0m, in \u001b[0;36mcomplete_axon_processing\u001b[0;34m(neuron_obj, cell_type, add_synapses_and_head_neck_shaft_spines, validation, perform_axon_classification, plot_initial_axon, rotation_function, unrotation_function, label_merge_errors, plot_axon_on_dendrite, plot_dendrite_on_axon, plot_high_fidelity_axon, plot_boutons_web, add_synapses_after_high_fidelity_axon, verbose, add_axon_description, return_filtering_info, return_axon_angle_info, filter_dendrite_on_axon, neuron_simplification, return_G_axon_labeled, original_mesh, **kwargs)\u001b[0m\n\u001b[1;32m   3237\u001b[0m \u001b[38;5;28;01mif\u001b[39;00m verbose:\n\u001b[1;32m   3238\u001b[0m     \u001b[38;5;28mprint\u001b[39m(\u001b[38;5;124mf\u001b[39m\u001b[38;5;124m\"\u001b[39m\u001b[38;5;124mReadding Synapses to the high fidelity axon after all processing donw\u001b[39m\u001b[38;5;124m\"\u001b[39m)\n\u001b[0;32m-> 3239\u001b[0m neuron_obj_with_web \u001b[38;5;241m=\u001b[39m \u001b[43msyu\u001b[49m\u001b[38;5;241;43m.\u001b[39;49m\u001b[43madd_synapses_to_neuron_obj\u001b[49m\u001b[43m(\u001b[49m\u001b[43mneuron_obj_with_web\u001b[49m\u001b[43m,\u001b[49m\n\u001b[1;32m   3240\u001b[0m \u001b[43m        \u001b[49m\u001b[43mvalidation\u001b[49m\u001b[43m \u001b[49m\u001b[38;5;241;43m=\u001b[39;49m\u001b[43m \u001b[49m\u001b[43mvalidation\u001b[49m\u001b[43m,\u001b[49m\n\u001b[1;32m   3241\u001b[0m \u001b[43m        \u001b[49m\u001b[43mverbose\u001b[49m\u001b[43m  \u001b[49m\u001b[38;5;241;43m=\u001b[39;49m\u001b[43m \u001b[49m\u001b[43mverbose\u001b[49m\u001b[43m,\u001b[49m\n\u001b[1;32m   3242\u001b[0m \u001b[43m        \u001b[49m\u001b[43moriginal_mesh\u001b[49m\u001b[43m \u001b[49m\u001b[38;5;241;43m=\u001b[39;49m\u001b[43m \u001b[49m\u001b[43moriginal_mesh\u001b[49m\u001b[43m,\u001b[49m\n\u001b[1;32m   3243\u001b[0m \u001b[43m        \u001b[49m\u001b[43mplot_valid_error_synapses\u001b[49m\u001b[43m \u001b[49m\u001b[38;5;241;43m=\u001b[39;49m\u001b[43m \u001b[49m\u001b[38;5;28;43;01mFalse\u001b[39;49;00m\u001b[43m,\u001b[49m\n\u001b[1;32m   3244\u001b[0m \u001b[43m        \u001b[49m\u001b[43mcalculate_synapse_soma_distance\u001b[49m\u001b[43m \u001b[49m\u001b[38;5;241;43m=\u001b[39;49m\u001b[43m \u001b[49m\u001b[38;5;28;43;01mTrue\u001b[39;49;00m\u001b[43m,\u001b[49m\n\u001b[1;32m   3245\u001b[0m \u001b[43m        \u001b[49m\u001b[43madd_valid_synapses\u001b[49m\u001b[43m \u001b[49m\u001b[38;5;241;43m=\u001b[39;49m\u001b[43m \u001b[49m\u001b[38;5;28;43;01mTrue\u001b[39;49;00m\u001b[43m,\u001b[49m\n\u001b[1;32m   3246\u001b[0m \u001b[43m        \u001b[49m\u001b[43madd_error_synapses\u001b[49m\u001b[38;5;241;43m=\u001b[39;49m\u001b[38;5;28;43;01mFalse\u001b[39;49;00m\u001b[43m,\u001b[49m\n\u001b[1;32m   3247\u001b[0m \u001b[43m        \u001b[49m\u001b[43mlimb_branch_dict_to_add_synapses\u001b[49m\u001b[38;5;241;43m=\u001b[39;49m\u001b[43mneuron_obj_with_web\u001b[49m\u001b[38;5;241;43m.\u001b[39;49m\u001b[43maxon_limb_branch_dict\u001b[49m\u001b[43m,\u001b[49m\n\u001b[1;32m   3248\u001b[0m \u001b[43m        \u001b[49m\u001b[38;5;241;43m*\u001b[39;49m\u001b[38;5;241;43m*\u001b[39;49m\u001b[43mkwargs\u001b[49m\u001b[43m)\u001b[49m\n\u001b[1;32m   3250\u001b[0m \u001b[38;5;28;01mif\u001b[39;00m verbose:\n\u001b[1;32m   3251\u001b[0m     \u001b[38;5;28mprint\u001b[39m(\u001b[38;5;124mf\u001b[39m\u001b[38;5;124m\"\u001b[39m\u001b[38;5;124mAfter add_synapses_after_high_fidelity_axon: # of neuron_obj.synapses_somas = \u001b[39m\u001b[38;5;132;01m{\u001b[39;00m\u001b[38;5;28mlen\u001b[39m(neuron_obj\u001b[38;5;241m.\u001b[39msynapses_somas)\u001b[38;5;132;01m}\u001b[39;00m\u001b[38;5;124m\"\u001b[39m)\n",
      "File \u001b[0;32m/usr/local/lib/python3.8/dist-packages/neurd/synapse_utils.py:1491\u001b[0m, in \u001b[0;36madd_synapses_to_neuron_obj\u001b[0;34m(neuron_obj, segment_id, validation, verbose, original_mesh, plot_valid_error_synapses, calculate_synapse_soma_distance, add_valid_synapses, add_error_synapses, limb_branch_dict_to_add_synapses, **kwargs)\u001b[0m\n\u001b[1;32m   1489\u001b[0m     \u001b[38;5;28;01mif\u001b[39;00m verbose:\n\u001b[1;32m   1490\u001b[0m         \u001b[38;5;28mprint\u001b[39m(\u001b[38;5;124mf\u001b[39m\u001b[38;5;124m\"\u001b[39m\u001b[38;5;130;01m\\n\u001b[39;00m\u001b[38;5;124m---Step 5: Adding Soma distances to synapse objects---\u001b[39m\u001b[38;5;124m\"\u001b[39m)\n\u001b[0;32m-> 1491\u001b[0m     \u001b[43msyu\u001b[49m\u001b[38;5;241;43m.\u001b[39;49m\u001b[43mcalculate_neuron_soma_distance\u001b[49m\u001b[43m(\u001b[49m\u001b[43mneuron_obj\u001b[49m\u001b[43m)\u001b[49m\n\u001b[1;32m   1494\u001b[0m syu\u001b[38;5;241m.\u001b[39mset_limb_branch_idx_to_synapses(neuron_obj)\n\u001b[1;32m   1496\u001b[0m \u001b[38;5;28;01mreturn\u001b[39;00m neuron_obj\n",
      "File \u001b[0;32m/usr/local/lib/python3.8/dist-packages/neurd/synapse_utils.py:1053\u001b[0m, in \u001b[0;36mcalculate_neuron_soma_distance\u001b[0;34m(neuron_obj, verbose, store_soma_placeholder, store_error_placeholder)\u001b[0m\n\u001b[1;32m   1051\u001b[0m \u001b[38;5;28;01mif\u001b[39;00m verbose:\n\u001b[1;32m   1052\u001b[0m     \u001b[38;5;28mprint\u001b[39m(\u001b[38;5;124mf\u001b[39m\u001b[38;5;124m\"\u001b[39m\u001b[38;5;124mPutting Error Placeholders\u001b[39m\u001b[38;5;124m\"\u001b[39m)\n\u001b[0;32m-> 1053\u001b[0m \u001b[38;5;28;01mfor\u001b[39;00m syn \u001b[38;5;129;01min\u001b[39;00m \u001b[43mneuron_obj\u001b[49m\u001b[38;5;241;43m.\u001b[39;49m\u001b[43msynapses_error\u001b[49m:\n\u001b[1;32m   1054\u001b[0m     syn\u001b[38;5;241m.\u001b[39msoma_distance \u001b[38;5;241m=\u001b[39m \u001b[38;5;241m-\u001b[39m\u001b[38;5;241m1\u001b[39m\n\u001b[1;32m   1055\u001b[0m \u001b[38;5;28;01mif\u001b[39;00m verbose:\n",
      "File \u001b[0;32m/usr/local/lib/python3.8/dist-packages/neurd/neuron.py:4079\u001b[0m, in \u001b[0;36mNeuron.synapses_error\u001b[0;34m(self)\u001b[0m\n\u001b[1;32m   4077\u001b[0m \u001b[38;5;129m@property\u001b[39m\n\u001b[1;32m   4078\u001b[0m \u001b[38;5;28;01mdef\u001b[39;00m \u001b[38;5;21msynapses_error\u001b[39m(\u001b[38;5;28mself\u001b[39m):\n\u001b[0;32m-> 4079\u001b[0m     \u001b[38;5;28;01mreturn\u001b[39;00m \u001b[43msyu\u001b[49m\u001b[38;5;241;43m.\u001b[39;49m\u001b[43msynapses_error\u001b[49m\u001b[43m(\u001b[49m\u001b[38;5;28;43mself\u001b[39;49m\u001b[43m)\u001b[49m\n",
      "File \u001b[0;32m/usr/local/lib/python3.8/dist-packages/neurd/synapse_utils.py:1699\u001b[0m, in \u001b[0;36msynapses_error\u001b[0;34m(neuron_obj, error_synapses_names, presyns_on_dendrite_as_errors, verbose)\u001b[0m\n\u001b[1;32m   1687\u001b[0m \u001b[38;5;28;01mdef\u001b[39;00m \u001b[38;5;21msynapses_error\u001b[39m(neuron_obj,\n\u001b[1;32m   1688\u001b[0m                     error_synapses_names\u001b[38;5;241m=\u001b[39m\u001b[38;5;28;01mNone\u001b[39;00m,\n\u001b[1;32m   1689\u001b[0m                     presyns_on_dendrite_as_errors \u001b[38;5;241m=\u001b[39m presyns_on_dendrite_as_errors,\n\u001b[1;32m   1690\u001b[0m                     verbose\u001b[38;5;241m=\u001b[39m\u001b[38;5;28;01mFalse\u001b[39;00m):\n\u001b[1;32m   1691\u001b[0m \u001b[38;5;250m    \u001b[39m\u001b[38;5;124;03m\"\"\"\u001b[39;00m\n\u001b[1;32m   1692\u001b[0m \u001b[38;5;124;03m    Will get all of the errored synapses stored in the object\u001b[39;00m\n\u001b[1;32m   1693\u001b[0m \u001b[38;5;124;03m    \u001b[39;00m\n\u001b[1;32m   1694\u001b[0m \u001b[38;5;124;03m    syu.error_synpases(neuron_obj,\u001b[39;00m\n\u001b[1;32m   1695\u001b[0m \u001b[38;5;124;03m                verbose = True)\u001b[39;00m\n\u001b[1;32m   1696\u001b[0m \u001b[38;5;124;03m    \"\"\"\u001b[39;00m\n\u001b[0;32m-> 1699\u001b[0m     error_syns \u001b[38;5;241m=\u001b[39m \u001b[43msyu\u001b[49m\u001b[38;5;241;43m.\u001b[39;49m\u001b[43mquery_synapses\u001b[49m\u001b[43m(\u001b[49m\u001b[43mneuron_obj\u001b[49m\u001b[43m,\u001b[49m\n\u001b[1;32m   1700\u001b[0m \u001b[43m                      \u001b[49m\u001b[43mquery\u001b[49m\u001b[43m \u001b[49m\u001b[38;5;241;43m=\u001b[39;49m\u001b[43m \u001b[49m\u001b[43merror_query\u001b[49m\u001b[43m(\u001b[49m\u001b[43m)\u001b[49m\u001b[43m,\u001b[49m\n\u001b[1;32m   1701\u001b[0m \u001b[43m                    \u001b[49m\u001b[43mreturn_synapses\u001b[49m\u001b[38;5;241;43m=\u001b[39;49m\u001b[38;5;28;43;01mTrue\u001b[39;49;00m\u001b[43m,\u001b[49m\n\u001b[1;32m   1702\u001b[0m \u001b[43m                      \u001b[49m\u001b[43mverbose\u001b[49m\u001b[43m \u001b[49m\u001b[38;5;241;43m=\u001b[39;49m\u001b[43m \u001b[49m\u001b[38;5;28;43;01mFalse\u001b[39;49;00m\u001b[43m)\u001b[49m\n\u001b[1;32m   1703\u001b[0m     \u001b[38;5;28;01mreturn\u001b[39;00m error_syns\n",
      "File \u001b[0;32m/usr/local/lib/python3.8/dist-packages/neurd/synapse_utils.py:1926\u001b[0m, in \u001b[0;36mquery_synapses\u001b[0;34m(neuron_obj, query, return_df, return_index, return_synapses, return_column, local_dict, limb_branch_dict, verbose, plot, synapse_size, **kwargs)\u001b[0m\n\u001b[1;32m   1894\u001b[0m \u001b[38;5;28;01mdef\u001b[39;00m \u001b[38;5;21mquery_synapses\u001b[39m(neuron_obj,\n\u001b[1;32m   1895\u001b[0m                   query,\n\u001b[1;32m   1896\u001b[0m                   return_df\u001b[38;5;241m=\u001b[39m\u001b[38;5;28;01mFalse\u001b[39;00m,\n\u001b[0;32m   (...)\u001b[0m\n\u001b[1;32m   1904\u001b[0m                    synapse_size \u001b[38;5;241m=\u001b[39m \u001b[38;5;241m1\u001b[39m,\n\u001b[1;32m   1905\u001b[0m                   \u001b[38;5;241m*\u001b[39m\u001b[38;5;241m*\u001b[39mkwargs):\n\u001b[1;32m   1906\u001b[0m \u001b[38;5;250m    \u001b[39m\u001b[38;5;124;03m\"\"\"\u001b[39;00m\n\u001b[1;32m   1907\u001b[0m \u001b[38;5;124;03m    Purpose: To return a dataframe \u001b[39;00m\n\u001b[1;32m   1908\u001b[0m \u001b[38;5;124;03m    \u001b[39;00m\n\u001b[0;32m   (...)\u001b[0m\n\u001b[1;32m   1923\u001b[0m \u001b[38;5;124;03m                      )\u001b[39;00m\n\u001b[1;32m   1924\u001b[0m \u001b[38;5;124;03m    \"\"\"\u001b[39;00m\n\u001b[0;32m-> 1926\u001b[0m     synapse_df \u001b[38;5;241m=\u001b[39m \u001b[43msyu\u001b[49m\u001b[38;5;241;43m.\u001b[39;49m\u001b[43msynapses_df\u001b[49m\u001b[43m(\u001b[49m\u001b[43mneuron_obj\u001b[49m\u001b[43m,\u001b[49m\u001b[38;5;241;43m*\u001b[39;49m\u001b[38;5;241;43m*\u001b[39;49m\u001b[43mkwargs\u001b[49m\u001b[43m)\u001b[49m\n\u001b[1;32m   1927\u001b[0m     query_df \u001b[38;5;241m=\u001b[39m synapse_df\u001b[38;5;241m.\u001b[39mquery(query,\n\u001b[1;32m   1928\u001b[0m                     local_dict\u001b[38;5;241m=\u001b[39mlocal_dict)\n\u001b[1;32m   1930\u001b[0m     \u001b[38;5;28;01mif\u001b[39;00m limb_branch_dict \u001b[38;5;129;01mis\u001b[39;00m \u001b[38;5;129;01mnot\u001b[39;00m \u001b[38;5;28;01mNone\u001b[39;00m \u001b[38;5;129;01mand\u001b[39;00m \u001b[38;5;28mlen\u001b[39m(query_df)\u001b[38;5;241m>\u001b[39m\u001b[38;5;241m0\u001b[39m:\n",
      "File \u001b[0;32m/usr/local/lib/python3.8/dist-packages/neurd/synapse_utils.py:1856\u001b[0m, in \u001b[0;36msynapses_df\u001b[0;34m(neuron_obj, synapse_types_to_process, verbose, add_compartment_coarse_fine, decode_head_neck_shaft_idx, **kwargs)\u001b[0m\n\u001b[1;32m   1853\u001b[0m     \u001b[38;5;28mprint\u001b[39m(\u001b[38;5;124mf\u001b[39m\u001b[38;5;124m\"\u001b[39m\u001b[38;5;124m# of synapses processed = \u001b[39m\u001b[38;5;132;01m{\u001b[39;00m\u001b[38;5;28mlen\u001b[39m(synapse_dicts)\u001b[38;5;132;01m}\u001b[39;00m\u001b[38;5;124m\"\u001b[39m)\n\u001b[1;32m   1855\u001b[0m df \u001b[38;5;241m=\u001b[39m pu\u001b[38;5;241m.\u001b[39mdicts_to_dataframe(synapse_dicts)\n\u001b[0;32m-> 1856\u001b[0m df \u001b[38;5;241m=\u001b[39m \u001b[43mnru\u001b[49m\u001b[38;5;241;43m.\u001b[39;49m\u001b[43madd_limb_branch_combined_name_to_df\u001b[49m\u001b[43m(\u001b[49m\n\u001b[1;32m   1857\u001b[0m \u001b[43m    \u001b[49m\u001b[43mdf\u001b[49m\u001b[43m,\u001b[49m\n\u001b[1;32m   1858\u001b[0m \u001b[43m\u001b[49m\u001b[43m)\u001b[49m\n\u001b[1;32m   1860\u001b[0m df \u001b[38;5;241m=\u001b[39m annotate_synapse_df(\n\u001b[1;32m   1861\u001b[0m     df,\n\u001b[1;32m   1862\u001b[0m     add_compartment_coarse_fine\u001b[38;5;241m=\u001b[39madd_compartment_coarse_fine,\n\u001b[1;32m   1863\u001b[0m     decode_head_neck_shaft_idx \u001b[38;5;241m=\u001b[39m decode_head_neck_shaft_idx,\n\u001b[1;32m   1864\u001b[0m     )\n\u001b[1;32m   1865\u001b[0m \u001b[38;5;28;01mreturn\u001b[39;00m df\n",
      "File \u001b[0;32m/usr/local/lib/python3.8/dist-packages/neurd/neuron_utils.py:9511\u001b[0m, in \u001b[0;36madd_limb_branch_combined_name_to_df\u001b[0;34m(df, limb_column, branch_column, limb_branch_column)\u001b[0m\n\u001b[1;32m   9498\u001b[0m \u001b[38;5;28;01mdef\u001b[39;00m \u001b[38;5;21madd_limb_branch_combined_name_to_df\u001b[39m(\n\u001b[1;32m   9499\u001b[0m     df,\n\u001b[1;32m   9500\u001b[0m     limb_column \u001b[38;5;241m=\u001b[39m \u001b[38;5;124m\"\u001b[39m\u001b[38;5;124mlimb_idx\u001b[39m\u001b[38;5;124m\"\u001b[39m,\n\u001b[1;32m   9501\u001b[0m     branch_column \u001b[38;5;241m=\u001b[39m \u001b[38;5;124m\"\u001b[39m\u001b[38;5;124mbranch_idx\u001b[39m\u001b[38;5;124m\"\u001b[39m,\n\u001b[1;32m   9502\u001b[0m     limb_branch_column \u001b[38;5;241m=\u001b[39m \u001b[38;5;124m\"\u001b[39m\u001b[38;5;124mlimb_branch\u001b[39m\u001b[38;5;124m\"\u001b[39m,\n\u001b[1;32m   9503\u001b[0m     ):\n\u001b[1;32m   9504\u001b[0m \u001b[38;5;250m    \u001b[39m\u001b[38;5;124;03m\"\"\"\u001b[39;00m\n\u001b[1;32m   9505\u001b[0m \u001b[38;5;124;03m    Purpose: To add the limb_branch column to\u001b[39;00m\n\u001b[1;32m   9506\u001b[0m \u001b[38;5;124;03m    a dataframe\u001b[39;00m\n\u001b[1;32m   9507\u001b[0m \n\u001b[1;32m   9508\u001b[0m \u001b[38;5;124;03m    Pseudocode\u001b[39;00m\n\u001b[1;32m   9509\u001b[0m \u001b[38;5;124;03m    \"\"\"\u001b[39;00m\n\u001b[0;32m-> 9511\u001b[0m     limbs \u001b[38;5;241m=\u001b[39m [nru\u001b[38;5;241m.\u001b[39mget_limb_string_name(k) \u001b[38;5;28;01mfor\u001b[39;00m k \u001b[38;5;129;01min\u001b[39;00m \u001b[43mdf\u001b[49m\u001b[43m[\u001b[49m\u001b[43mlimb_column\u001b[49m\u001b[43m]\u001b[49m\u001b[38;5;241m.\u001b[39mto_list()]\n\u001b[1;32m   9512\u001b[0m     branches \u001b[38;5;241m=\u001b[39m [\u001b[38;5;28mint\u001b[39m(k) \u001b[38;5;28;01mif\u001b[39;00m \u001b[38;5;129;01mnot\u001b[39;00m np\u001b[38;5;241m.\u001b[39misnan(k) \u001b[38;5;28;01melse\u001b[39;00m \u001b[38;5;241m-\u001b[39m\u001b[38;5;241m1\u001b[39m \u001b[38;5;28;01mfor\u001b[39;00m k \u001b[38;5;129;01min\u001b[39;00m df[branch_column]\u001b[38;5;241m.\u001b[39mto_list()]\n\u001b[1;32m   9513\u001b[0m     df[limb_branch_column] \u001b[38;5;241m=\u001b[39m [\u001b[38;5;124mf\u001b[39m\u001b[38;5;124m\"\u001b[39m\u001b[38;5;132;01m{\u001b[39;00mk\u001b[38;5;132;01m}\u001b[39;00m\u001b[38;5;124m_\u001b[39m\u001b[38;5;132;01m{\u001b[39;00mv\u001b[38;5;132;01m}\u001b[39;00m\u001b[38;5;124m\"\u001b[39m \u001b[38;5;28;01mfor\u001b[39;00m k,v \u001b[38;5;129;01min\u001b[39;00m \u001b[38;5;28mzip\u001b[39m(limbs,branches)]\n",
      "File \u001b[0;32m/usr/local/lib/python3.8/dist-packages/pandas/core/frame.py:3761\u001b[0m, in \u001b[0;36mDataFrame.__getitem__\u001b[0;34m(self, key)\u001b[0m\n\u001b[1;32m   3759\u001b[0m \u001b[38;5;28;01mif\u001b[39;00m \u001b[38;5;28mself\u001b[39m\u001b[38;5;241m.\u001b[39mcolumns\u001b[38;5;241m.\u001b[39mnlevels \u001b[38;5;241m>\u001b[39m \u001b[38;5;241m1\u001b[39m:\n\u001b[1;32m   3760\u001b[0m     \u001b[38;5;28;01mreturn\u001b[39;00m \u001b[38;5;28mself\u001b[39m\u001b[38;5;241m.\u001b[39m_getitem_multilevel(key)\n\u001b[0;32m-> 3761\u001b[0m indexer \u001b[38;5;241m=\u001b[39m \u001b[38;5;28;43mself\u001b[39;49m\u001b[38;5;241;43m.\u001b[39;49m\u001b[43mcolumns\u001b[49m\u001b[38;5;241;43m.\u001b[39;49m\u001b[43mget_loc\u001b[49m\u001b[43m(\u001b[49m\u001b[43mkey\u001b[49m\u001b[43m)\u001b[49m\n\u001b[1;32m   3762\u001b[0m \u001b[38;5;28;01mif\u001b[39;00m is_integer(indexer):\n\u001b[1;32m   3763\u001b[0m     indexer \u001b[38;5;241m=\u001b[39m [indexer]\n",
      "File \u001b[0;32m/usr/local/lib/python3.8/dist-packages/pandas/core/indexes/range.py:349\u001b[0m, in \u001b[0;36mRangeIndex.get_loc\u001b[0;34m(self, key)\u001b[0m\n\u001b[1;32m    347\u001b[0m         \u001b[38;5;28;01mraise\u001b[39;00m \u001b[38;5;167;01mKeyError\u001b[39;00m(key) \u001b[38;5;28;01mfrom\u001b[39;00m \u001b[38;5;21;01merr\u001b[39;00m\n\u001b[1;32m    348\u001b[0m \u001b[38;5;28;01mif\u001b[39;00m \u001b[38;5;28misinstance\u001b[39m(key, Hashable):\n\u001b[0;32m--> 349\u001b[0m     \u001b[38;5;28;01mraise\u001b[39;00m \u001b[38;5;167;01mKeyError\u001b[39;00m(key)\n\u001b[1;32m    350\u001b[0m \u001b[38;5;28mself\u001b[39m\u001b[38;5;241m.\u001b[39m_check_indexing_error(key)\n\u001b[1;32m    351\u001b[0m \u001b[38;5;28;01mraise\u001b[39;00m \u001b[38;5;167;01mKeyError\u001b[39;00m(key)\n",
      "\u001b[0;31mKeyError\u001b[0m: 'limb_idx'"
     ]
    },
    {
     "name": "stdout",
     "output_type": "stream",
     "text": [
      "\n",
      "Number of segments: 2\n",
      "\n",
      "\n",
      "Number of segments: 2\n",
      "\n",
      "\n",
      "Number of segments: 2\n",
      "\n",
      "\n",
      "Number of segments: 2\n",
      "\n",
      "\n",
      "Number of segments: 3\n",
      "\n",
      "\n",
      "Number of segments: 1\n",
      "\n",
      "\n",
      "Number of segments: 3\n",
      "\n",
      "\n",
      "Number of segments: 3\n",
      "\n",
      "\n",
      "Number of segments: 2\n",
      "\n",
      "\n",
      "Number of segments: 2\n",
      "\n",
      "\n",
      "Number of segments: 2\n",
      "\n",
      "\n",
      "Number of segments: 2\n",
      "\n",
      "\n",
      "Number of segments: 3\n",
      "\n",
      "\n",
      "Number of segments: 3\n",
      "\n",
      "\n",
      "Number of segments: 1\n",
      "\n",
      "\n",
      "Number of segments: 2\n",
      "\n",
      "\n",
      "Number of segments: 2\n",
      "\n",
      "\n",
      "Number of segments: 3\n",
      "\n",
      "\n",
      "Number of segments: 2\n",
      "\n",
      "\n",
      "Number of segments: 3\n",
      "\n",
      "\n",
      "Number of segments: 2\n",
      "\n",
      "\n",
      "Number of segments: 2\n",
      "\n",
      "\n",
      "Number of segments: 3\n",
      "\n",
      "\n",
      "Number of segments: 2\n",
      "\n",
      "\n",
      "Number of segments: 3\n",
      "\n",
      "\n",
      "Number of segments: 3\n",
      "\n",
      "\n",
      "Number of segments: 1\n",
      "\n",
      "\n",
      "Number of segments: 2\n",
      "\n",
      "\n",
      "Number of segments: 2\n",
      "\n",
      "\n",
      "Number of segments: 2\n",
      "\n",
      "\n",
      "Number of segments: 2\n",
      "\n",
      "\n",
      "Number of segments: 2\n",
      "\n",
      "\n",
      "Number of segments: 2\n",
      "\n",
      "\n",
      "Number of segments: 2\n",
      "\n",
      "\n",
      "Number of segments: 3\n",
      "\n",
      "\n",
      "Number of segments: 3\n",
      "\n",
      "\n",
      "Number of segments: 2\n",
      "\n",
      "\n",
      "Number of segments: 3\n",
      "\n",
      "\n",
      "Number of segments: 2\n",
      "\n",
      "\n",
      "Number of segments: 2\n",
      "\n",
      "\n",
      "Number of segments: 2\n",
      "\n",
      "\n",
      "Number of segments: 2\n",
      "\n",
      "\n",
      "Number of segments: 2\n",
      "\n",
      "\n",
      "Number of segments: 2\n",
      "\n",
      "\n",
      "Number of segments: 2\n",
      "\n",
      "\n",
      "Number of segments: 2\n",
      "\n",
      "\n",
      "Number of segments: 2\n",
      "\n",
      "\n",
      "Number of segments: 1\n",
      "\n",
      "\n",
      "Number of segments: 1\n",
      "\n",
      "\n",
      "Number of segments: 3\n",
      "\n",
      "\n",
      "Number of segments: 1\n",
      "\n",
      "\n",
      "Number of segments: 1\n",
      "\n",
      "\n",
      "Number of segments: 1\n",
      "\n",
      "\n",
      "Number of segments: 2\n",
      "\n",
      "\n",
      "Number of segments: 2\n",
      "\n",
      "\n",
      "Number of segments: 2\n",
      "\n",
      "\n",
      "Number of segments: 2\n",
      "\n",
      "\n",
      "Number of segments: 2\n",
      "\n",
      "\n",
      "Number of segments: 3\n",
      "\n",
      "\n",
      "Number of segments: 3\n",
      "\n",
      "\n",
      "Number of segments: 1\n",
      "\n",
      "\n",
      "Number of segments: 3\n",
      "\n",
      "\n",
      "Number of segments: 2\n",
      "\n",
      "\n",
      "Number of segments: 1\n",
      "\n",
      "\n",
      "Number of segments: 2\n",
      "\n",
      "\n",
      "Number of segments: 1\n",
      "\n",
      "\n",
      "Number of segments: 1\n",
      "\n",
      "\n",
      "Number of segments: 1\n",
      "\n",
      "\n",
      "Number of segments: 2\n",
      "\n",
      "\n",
      "Number of segments: 2\n",
      "\n",
      "\n",
      "Number of segments: 2\n",
      "\n",
      "\n",
      "Number of segments: 2\n",
      "\n",
      "\n",
      "Number of segments: 3\n",
      "\n",
      "\n",
      "Number of segments: 3\n",
      "\n",
      "\n",
      "Number of segments: 1\n",
      "\n",
      "\n",
      "Number of segments: 2\n",
      "\n",
      "\n",
      "Number of segments: 2\n",
      "\n",
      "\n",
      "Number of segments: 1\n",
      "\n",
      "\n",
      "Number of segments: 1\n",
      "\n",
      "\n",
      "Number of segments: 2\n",
      "\n",
      "\n",
      "Number of segments: 1\n",
      "\n",
      "\n",
      "Number of segments: 1\n",
      "\n",
      "\n",
      "Number of segments: 2\n",
      "\n",
      "\n",
      "Number of segments: 2\n",
      "\n",
      "\n",
      "Number of segments: 2\n",
      "\n",
      "\n",
      "Number of segments: 2\n",
      "\n",
      "\n",
      "Number of segments: 3\n",
      "\n",
      "\n",
      "Number of segments: 3\n",
      "\n",
      "\n",
      "Number of segments: 2\n",
      "\n",
      "\n",
      "Number of segments: 2\n",
      "\n",
      "\n",
      "Number of segments: 2\n",
      "\n",
      "\n",
      "Number of segments: 3\n",
      "\n",
      "\n",
      "Number of segments: 2\n",
      "\n",
      "\n",
      "Number of segments: 2\n",
      "\n",
      "\n",
      "Number of segments: 2\n",
      "\n",
      "\n",
      "Number of segments: 2\n",
      "\n",
      "\n",
      "Number of segments: 2\n",
      "\n",
      "\n",
      "Number of segments: 2\n",
      "\n",
      "\n",
      "Number of segments: 1\n",
      "\n",
      "\n",
      "Number of segments: 1\n",
      "\n",
      "\n",
      "Number of segments: 3\n",
      "\n",
      "\n",
      "Number of segments: 2\n",
      "\n",
      "\n",
      "Number of segments: 2\n",
      "\n",
      "\n",
      "Number of segments: 2\n",
      "\n",
      "\n",
      "Number of segments: 1\n",
      "\n",
      "\n",
      "Number of segments: 1\n",
      "\n",
      "\n",
      "Number of segments: 1\n",
      "\n",
      "\n",
      "Number of segments: 3\n",
      "\n",
      "\n",
      "Number of segments: 3\n",
      "\n",
      "\n",
      "Number of segments: 3\n",
      "\n",
      "\n",
      "Number of segments: 3\n",
      "\n",
      "\n",
      "Number of segments: 3\n",
      "\n",
      "\n",
      "Number of segments: 3\n",
      "\n",
      "\n",
      "Number of segments: 1\n",
      "\n",
      "\n",
      "Number of segments: 2\n",
      "\n",
      "\n",
      "Number of segments: 2\n",
      "\n",
      "\n",
      "Number of segments: 2\n",
      "\n",
      "\n",
      "Number of segments: 2\n",
      "\n",
      "\n",
      "Number of segments: 2\n",
      "\n",
      "\n",
      "Number of segments: 2\n",
      "\n",
      "\n",
      "Number of segments: 2\n",
      "\n",
      "\n",
      "Number of segments: 3\n",
      "\n",
      "\n",
      "Number of segments: 1\n",
      "\n",
      "\n",
      "Number of segments: 1\n",
      "\n",
      "\n",
      "Number of segments: 2\n",
      "\n",
      "\n",
      "Number of segments: 3\n",
      "\n",
      "\n",
      "Number of segments: 2\n",
      "\n",
      "\n",
      "Number of segments: 2\n",
      "\n",
      "\n",
      "Number of segments: 3\n",
      "\n",
      "\n",
      "Number of segments: 4\n",
      "\n",
      "\n",
      "Number of segments: 4\n",
      "\n",
      "\n",
      "Number of segments: 1\n",
      "\n",
      "\n",
      "Number of segments: 4\n",
      "\n",
      "\n",
      "Number of segments: 3\n",
      "\n",
      "\n",
      "Number of segments: 2\n",
      "\n",
      "\n",
      "Number of segments: 2\n",
      "\n",
      "\n",
      "Number of segments: 3\n",
      "\n",
      "\n",
      "Number of segments: 1\n",
      "\n",
      "\n",
      "Number of segments: 3\n",
      "\n",
      "\n",
      "Number of segments: 4\n",
      "\n",
      "\n",
      "Number of segments: 3\n",
      "\n",
      "\n",
      "Number of segments: 3\n",
      "\n",
      "\n",
      "Number of segments: 3\n",
      "\n",
      "\n",
      "Number of segments: 1\n",
      "\n",
      "\n",
      "Number of segments: 2\n",
      "\n",
      "\n",
      "Number of segments: 2\n",
      "\n",
      "\n",
      "Number of segments: 2\n",
      "\n",
      "\n",
      "Number of segments: 3\n",
      "\n",
      "\n",
      "Number of segments: 3\n",
      "\n",
      "\n",
      "Number of segments: 2\n",
      "\n",
      "\n",
      "Number of segments: 2\n",
      "\n",
      "\n",
      "Number of segments: 3\n",
      "\n",
      "\n",
      "Number of segments: 2\n",
      "\n",
      "\n",
      "Number of segments: 2\n",
      "\n",
      "\n",
      "Number of segments: 2\n",
      "\n",
      "\n",
      "Number of segments: 2\n",
      "\n",
      "\n",
      "Number of segments: 2\n",
      "\n",
      "\n",
      "Number of segments: 2\n",
      "\n",
      "\n",
      "Number of segments: 1\n",
      "\n",
      "\n",
      "Number of segments: 1\n",
      "\n",
      "\n",
      "Number of segments: 2\n",
      "\n",
      "\n",
      "Number of segments: 1\n",
      "\n",
      "\n",
      "Number of segments: 2\n",
      "\n",
      "\n",
      "Number of segments: 2\n",
      "\n",
      "\n",
      "Number of segments: 1\n",
      "\n",
      "\n",
      "Number of segments: 3\n",
      "\n",
      "\n",
      "Number of segments: 3\n",
      "\n",
      "\n",
      "Number of segments: 2\n",
      "\n",
      "\n",
      "Number of segments: 2\n",
      "\n",
      "\n",
      "Number of segments: 2\n",
      "\n",
      "\n",
      "Number of segments: 2\n",
      "\n",
      "\n",
      "Number of segments: 1\n",
      "\n",
      "\n",
      "Number of segments: 3\n",
      "\n",
      "\n",
      "Number of segments: 2\n",
      "\n",
      "\n",
      "Number of segments: 4\n",
      "\n",
      "\n",
      "Number of segments: 2\n",
      "\n",
      "\n",
      "Number of segments: 3\n",
      "\n",
      "\n",
      "Number of segments: 3\n",
      "\n",
      "\n",
      "Number of segments: 3\n",
      "\n",
      "\n",
      "Number of segments: 1\n",
      "\n",
      "\n",
      "Number of segments: 2\n",
      "\n",
      "\n",
      "Number of segments: 4\n",
      "\n",
      "\n",
      "Number of segments: 2\n",
      "\n",
      "\n",
      "Number of segments: 3\n",
      "\n",
      "\n",
      "Number of segments: 3\n",
      "\n",
      "\n",
      "Number of segments: 1\n",
      "\n",
      "\n",
      "Number of segments: 5\n",
      "\n",
      "\n",
      "Number of segments: 3\n",
      "\n",
      "\n",
      "Number of segments: 3\n",
      "\n",
      "\n",
      "Number of segments: 2\n",
      "\n",
      "\n",
      "Number of segments: 3\n",
      "\n",
      "\n",
      "Number of segments: 2\n",
      "\n",
      "\n",
      "Number of segments: 3\n",
      "\n",
      "\n",
      "Number of segments: 2\n",
      "\n",
      "\n",
      "Number of segments: 2\n",
      "\n",
      "\n",
      "Number of segments: 2\n",
      "\n",
      "\n",
      "Number of segments: 2\n",
      "\n",
      "\n",
      "Number of segments: 1\n",
      "\n",
      "\n",
      "Number of segments: 1\n",
      "\n",
      "\n",
      "Number of segments: 2\n",
      "\n",
      "\n",
      "Number of segments: 2\n",
      "\n",
      "\n",
      "Number of segments: 2\n",
      "\n",
      "\n",
      "Number of segments: 2\n",
      "\n",
      "\n",
      "Number of segments: 2\n",
      "\n",
      "\n",
      "Number of segments: 2\n",
      "\n",
      "\n",
      "Number of segments: 2\n",
      "\n",
      "\n",
      "Number of segments: 2\n",
      "\n",
      "\n",
      "Number of segments: 3\n",
      "\n",
      "\n",
      "Number of segments: 4\n",
      "\n",
      "\n",
      "Number of segments: 2\n",
      "\n",
      "\n",
      "Number of segments: 2\n",
      "\n",
      "\n",
      "Number of segments: 2\n",
      "\n",
      "\n",
      "Number of segments: 3\n",
      "\n",
      "\n",
      "Number of segments: 2\n",
      "\n",
      "\n",
      "Number of segments: 3\n",
      "\n",
      "\n",
      "Number of segments: 2\n",
      "\n",
      "\n",
      "Number of segments: 3\n",
      "\n",
      "\n",
      "Number of segments: 4\n",
      "\n",
      "\n",
      "Number of segments: 2\n",
      "\n",
      "\n",
      "Number of segments: 2\n",
      "\n",
      "\n",
      "Number of segments: 2\n",
      "\n",
      "\n",
      "Number of segments: 2\n",
      "\n",
      "\n",
      "Number of segments: 2\n",
      "\n",
      "\n",
      "Number of segments: 2\n",
      "\n",
      "\n",
      "Number of segments: 2\n",
      "\n",
      "\n",
      "Number of segments: 2\n",
      "\n",
      "\n",
      "Number of segments: 2\n",
      "\n",
      "\n",
      "Number of segments: 2\n",
      "\n",
      "\n",
      "Number of segments: 2\n",
      "\n",
      "\n",
      "Number of segments: 2\n",
      "\n",
      "\n",
      "Number of segments: 2\n",
      "\n",
      "\n",
      "Number of segments: 2\n",
      "\n",
      "\n",
      "Number of segments: 2\n",
      "\n",
      "\n",
      "Number of segments: 2\n",
      "\n",
      "\n",
      "Number of segments: 2\n",
      "\n",
      "\n",
      "Number of segments: 2\n",
      "\n",
      "\n",
      "Number of segments: 2\n",
      "\n",
      "\n",
      "Number of segments: 1\n",
      "\n",
      "\n",
      "Number of segments: 3\n",
      "\n",
      "\n",
      "Number of segments: 2\n",
      "\n",
      "\n",
      "Number of segments: 2\n",
      "\n",
      "\n",
      "Number of segments: 2\n",
      "\n",
      "\n",
      "Number of segments: 2\n",
      "\n",
      "\n",
      "Number of segments: 2\n",
      "\n",
      "\n",
      "Number of segments: 3\n",
      "\n",
      "\n",
      "Number of segments: 2\n",
      "\n",
      "\n",
      "Number of segments: 2\n",
      "\n",
      "\n",
      "Number of segments: 2\n",
      "\n",
      "\n",
      "Number of segments: 2\n",
      "\n",
      "\n",
      "Number of segments: 2\n",
      "\n",
      "\n",
      "Number of segments: 2\n",
      "\n",
      "\n",
      "Number of segments: 2\n",
      "\n",
      "\n",
      "Number of segments: 3\n",
      "\n",
      "\n",
      "Number of segments: 2\n",
      "\n",
      "\n",
      "Number of segments: 2\n",
      "\n",
      "\n",
      "Number of segments: 3\n",
      "\n",
      "\n",
      "Number of segments: 3\n",
      "\n",
      "\n",
      "Number of segments: 2\n",
      "\n",
      "\n",
      "Number of segments: 2\n",
      "\n",
      "\n",
      "Number of segments: 2\n",
      "\n",
      "\n",
      "Number of segments: 2\n",
      "\n",
      "\n",
      "Number of segments: 2\n",
      "\n",
      "\n",
      "Number of segments: 2\n",
      "\n",
      "\n",
      "Number of segments: 2\n",
      "\n",
      "\n",
      "Number of segments: 2\n",
      "\n",
      "\n",
      "Number of segments: 4\n",
      "\n",
      "\n",
      "Number of segments: 2\n",
      "\n",
      "\n",
      "Number of segments: 2\n",
      "\n",
      "\n",
      "Number of segments: 1\n",
      "\n",
      "\n",
      "Number of segments: 3\n",
      "\n",
      "\n",
      "Number of segments: 3\n",
      "\n",
      "\n",
      "Number of segments: 3\n",
      "\n",
      "\n",
      "Number of segments: 2\n",
      "\n",
      "\n",
      "Number of segments: 2\n",
      "\n",
      "\n",
      "Number of segments: 3\n",
      "\n",
      "\n",
      "Number of segments: 2\n",
      "\n",
      "\n",
      "Number of segments: 2\n",
      "\n",
      "\n",
      "Number of segments: 2\n",
      "\n",
      "\n",
      "Number of segments: 1\n",
      "\n",
      "\n",
      "Number of segments: 2\n",
      "\n",
      "\n",
      "Number of segments: 2\n",
      "\n",
      "\n",
      "Number of segments: 2\n",
      "\n",
      "\n",
      "Number of segments: 2\n",
      "\n",
      "\n",
      "Number of segments: 2\n",
      "\n",
      "\n",
      "Number of segments: 2\n",
      "\n",
      "\n",
      "Number of segments: 2\n",
      "\n",
      "\n",
      "Number of segments: 3\n",
      "\n",
      "\n",
      "Number of segments: 2\n",
      "\n",
      "\n",
      "Number of segments: 2\n",
      "\n",
      "\n",
      "Number of segments: 2\n",
      "\n",
      "\n",
      "Number of segments: 1\n",
      "\n",
      "\n",
      "Number of segments: 1\n",
      "\n",
      "\n",
      "Number of segments: 2\n",
      "\n",
      "\n",
      "Number of segments: 2\n",
      "\n",
      "\n",
      "Number of segments: 1\n",
      "\n",
      "\n",
      "Number of segments: 2\n",
      "\n",
      "\n",
      "Number of segments: 2\n",
      "\n",
      "\n",
      "Number of segments: 2\n",
      "\n",
      "\n",
      "Number of segments: 2\n",
      "\n",
      "\n",
      "Number of segments: 2\n",
      "\n",
      "\n",
      "Number of segments: 2\n",
      "\n",
      "\n",
      "Number of segments: 2\n",
      "\n",
      "\n",
      "Number of segments: 2\n",
      "\n",
      "\n",
      "Number of segments: 2\n",
      "\n",
      "\n",
      "Number of segments: 2\n",
      "\n",
      "\n",
      "Number of segments: 2\n",
      "\n",
      "\n",
      "Number of segments: 2\n",
      "\n",
      "\n",
      "Number of segments: 2\n",
      "\n",
      "\n",
      "Number of segments: 2\n",
      "\n",
      "\n",
      "Number of segments: 2\n",
      "\n",
      "\n",
      "Number of segments: 2\n",
      "\n",
      "\n",
      "Number of segments: 2\n",
      "\n",
      "\n",
      "Number of segments: 2\n",
      "\n",
      "\n",
      "Number of segments: 2\n",
      "\n",
      "\n",
      "Number of segments: 1\n",
      "\n",
      "\n",
      "Number of segments: 2\n",
      "\n",
      "\n",
      "Number of segments: 3\n",
      "\n",
      "\n",
      "Number of segments: 1\n",
      "\n",
      "\n",
      "Number of segments: 2\n",
      "\n",
      "\n",
      "Number of segments: 2\n",
      "\n",
      "\n",
      "Number of segments: 2\n",
      "\n",
      "\n",
      "Number of segments: 2\n",
      "\n",
      "\n",
      "Number of segments: 2\n",
      "\n",
      "\n",
      "Number of segments: 2\n",
      "\n",
      "\n",
      "Number of segments: 2\n",
      "\n",
      "\n",
      "Number of segments: 2\n",
      "\n",
      "\n",
      "Number of segments: 3\n",
      "\n",
      "\n",
      "Number of segments: 3\n",
      "\n",
      "\n",
      "Number of segments: 3\n",
      "\n",
      "\n",
      "Number of segments: 1\n",
      "\n",
      "\n",
      "Number of segments: 1\n",
      "\n",
      "\n",
      "Number of segments: 1\n",
      "\n",
      "\n",
      "Number of segments: 2\n",
      "\n",
      "\n",
      "Number of segments: 2\n",
      "\n",
      "\n",
      "Number of segments: 2\n",
      "\n",
      "\n",
      "Number of segments: 4\n",
      "\n",
      "\n",
      "Number of segments: 5\n",
      "\n",
      "\n",
      "Number of segments: 6\n",
      "\n",
      "\n",
      "Number of segments: 3\n",
      "\n",
      "\n",
      "Number of segments: 4\n",
      "\n",
      "\n",
      "Number of segments: 4\n",
      "\n",
      "\n",
      "Number of segments: 3\n",
      "\n",
      "\n",
      "Number of segments: 4\n",
      "\n",
      "\n",
      "Number of segments: 3\n",
      "\n"
     ]
    },
    {
     "name": "stdout",
     "output_type": "stream",
     "text": [
      "\n",
      "Number of segments: 3\n",
      "\n",
      "\n",
      "Number of segments: 3\n",
      "\n",
      "\n",
      "Number of segments: 3\n",
      "\n",
      "\n",
      "Number of segments: 3\n",
      "\n",
      "\n",
      "Number of segments: 3\n",
      "\n",
      "\n",
      "Number of segments: 4\n",
      "\n",
      "\n",
      "Number of segments: 1\n",
      "\n",
      "\n",
      "Number of segments: 4\n",
      "\n",
      "\n",
      "Number of segments: 3\n",
      "\n",
      "\n",
      "Number of segments: 2\n",
      "\n",
      "\n",
      "Number of segments: 3\n",
      "\n",
      "\n",
      "Number of segments: 3\n",
      "\n",
      "\n",
      "Number of segments: 2\n",
      "\n",
      "\n",
      "Number of segments: 3\n",
      "\n",
      "\n",
      "Number of segments: 2\n",
      "\n",
      "\n",
      "Number of segments: 1\n",
      "\n",
      "\n",
      "Number of segments: 2\n",
      "\n",
      "\n",
      "Number of segments: 4\n",
      "\n",
      "\n",
      "Number of segments: 2\n",
      "\n",
      "\n",
      "Number of segments: 2\n",
      "\n",
      "\n",
      "Number of segments: 2\n",
      "\n",
      "\n",
      "Number of segments: 2\n",
      "\n",
      "\n",
      "Number of segments: 2\n",
      "\n",
      "\n",
      "Number of segments: 2\n",
      "\n",
      "\n",
      "Number of segments: 2\n",
      "\n",
      "\n",
      "Number of segments: 3\n",
      "\n",
      "\n",
      "Number of segments: 4\n",
      "\n",
      "\n",
      "Number of segments: 3\n",
      "\n",
      "\n",
      "Number of segments: 1\n",
      "\n",
      "\n",
      "Number of segments: 3\n",
      "\n",
      "\n",
      "Number of segments: 2\n",
      "\n",
      "\n",
      "Number of segments: 2\n",
      "\n",
      "\n",
      "Number of segments: 4\n",
      "\n",
      "\n",
      "Number of segments: 2\n",
      "\n",
      "\n",
      "Number of segments: 2\n",
      "\n",
      "\n",
      "Number of segments: 2\n",
      "\n",
      "\n",
      "Number of segments: 1\n",
      "\n",
      "\n",
      "Number of segments: 2\n",
      "\n",
      "\n",
      "Number of segments: 3\n",
      "\n",
      "\n",
      "Number of segments: 2\n",
      "\n",
      "\n",
      "Number of segments: 2\n",
      "\n",
      "\n",
      "Number of segments: 2\n",
      "\n",
      "\n",
      "Number of segments: 2\n",
      "\n",
      "\n",
      "Number of segments: 3\n",
      "\n",
      "\n",
      "Number of segments: 3\n",
      "\n",
      "\n",
      "Number of segments: 2\n",
      "\n",
      "\n",
      "Number of segments: 1\n",
      "\n",
      "\n",
      "Number of segments: 3\n",
      "\n",
      "\n",
      "Number of segments: 2\n",
      "\n",
      "\n",
      "Number of segments: 2\n",
      "\n",
      "\n",
      "Number of segments: 2\n",
      "\n",
      "\n",
      "Number of segments: 3\n",
      "\n",
      "\n",
      "Number of segments: 4\n",
      "\n",
      "\n",
      "Number of segments: 4\n",
      "\n",
      "\n",
      "Number of segments: 2\n",
      "\n",
      "\n",
      "Number of segments: 2\n",
      "\n",
      "\n",
      "Number of segments: 2\n",
      "\n",
      "\n",
      "Number of segments: 3\n",
      "\n",
      "\n",
      "Number of segments: 1\n",
      "\n",
      "\n",
      "Number of segments: 3\n",
      "\n",
      "\n",
      "Number of segments: 2\n",
      "\n",
      "\n",
      "Number of segments: 3\n",
      "\n",
      "\n",
      "Number of segments: 3\n",
      "\n",
      "\n",
      "Number of segments: 2\n",
      "\n",
      "\n",
      "Number of segments: 2\n",
      "\n",
      "\n",
      "Number of segments: 2\n",
      "\n",
      "\n",
      "Number of segments: 2\n",
      "\n",
      "\n",
      "Number of segments: 2\n",
      "\n",
      "\n",
      "Number of segments: 2\n",
      "\n",
      "\n",
      "Number of segments: 2\n",
      "\n",
      "\n",
      "Number of segments: 2\n",
      "\n",
      "\n",
      "Number of segments: 3\n",
      "\n",
      "\n",
      "Number of segments: 2\n",
      "\n",
      "\n",
      "Number of segments: 3\n",
      "\n",
      "\n",
      "Number of segments: 2\n",
      "\n",
      "\n",
      "Number of segments: 1\n",
      "\n",
      "\n",
      "Number of segments: 3\n",
      "\n",
      "\n",
      "Number of segments: 4\n",
      "\n",
      "\n",
      "Number of segments: 2\n",
      "\n",
      "\n",
      "Number of segments: 2\n",
      "\n",
      "\n",
      "Number of segments: 2\n",
      "\n",
      "\n",
      "Number of segments: 3\n",
      "\n",
      "\n",
      "Number of segments: 4\n",
      "\n",
      "\n",
      "Number of segments: 4\n",
      "\n",
      "\n",
      "Number of segments: 4\n",
      "\n",
      "\n",
      "Number of segments: 5\n",
      "\n",
      "\n",
      "Number of segments: 5\n",
      "\n",
      "\n",
      "Number of segments: 2\n",
      "\n",
      "\n",
      "Number of segments: 2\n",
      "\n",
      "\n",
      "Number of segments: 3\n",
      "\n",
      "\n",
      "Number of segments: 2\n",
      "\n",
      "\n",
      "Number of segments: 2\n",
      "\n",
      "\n",
      "Number of segments: 2\n",
      "\n",
      "\n",
      "Number of segments: 2\n",
      "\n",
      "\n",
      "Number of segments: 2\n",
      "\n",
      "\n",
      "Number of segments: 2\n",
      "\n",
      "\n",
      "Number of segments: 2\n",
      "\n",
      "\n",
      "Number of segments: 2\n",
      "\n",
      "\n",
      "Number of segments: 2\n",
      "\n",
      "\n",
      "Number of segments: 2\n",
      "\n",
      "\n",
      "Number of segments: 2\n",
      "\n",
      "\n",
      "Number of segments: 2\n",
      "\n",
      "\n",
      "Number of segments: 2\n",
      "\n",
      "\n",
      "Number of segments: 2\n",
      "\n",
      "\n",
      "Number of segments: 2\n",
      "\n",
      "\n",
      "Number of segments: 2\n",
      "\n",
      "\n",
      "Number of segments: 2\n",
      "\n",
      "\n",
      "Number of segments: 3\n",
      "\n",
      "\n",
      "Number of segments: 2\n",
      "\n",
      "\n",
      "Number of segments: 3\n",
      "\n",
      "\n",
      "Number of segments: 3\n",
      "\n",
      "\n",
      "Number of segments: 2\n",
      "\n",
      "\n",
      "Number of segments: 5\n",
      "\n",
      "\n",
      "Number of segments: 5\n",
      "\n",
      "\n",
      "Number of segments: 1\n",
      "\n",
      "\n",
      "Number of segments: 3\n",
      "\n",
      "\n",
      "Number of segments: 4\n",
      "\n",
      "\n",
      "Number of segments: 2\n",
      "\n",
      "\n",
      "Number of segments: 3\n",
      "\n",
      "\n",
      "Number of segments: 4\n",
      "\n",
      "\n",
      "Number of segments: 2\n",
      "\n",
      "\n",
      "Number of segments: 2\n",
      "\n",
      "\n",
      "Number of segments: 2\n",
      "\n",
      "\n",
      "Number of segments: 1\n",
      "\n",
      "\n",
      "Number of segments: 4\n",
      "\n",
      "\n",
      "Number of segments: 4\n",
      "\n",
      "\n",
      "Number of segments: 1\n",
      "\n",
      "\n",
      "Number of segments: 1\n",
      "\n",
      "\n",
      "Number of segments: 2\n",
      "\n",
      "\n",
      "Number of segments: 2\n",
      "\n",
      "\n",
      "Number of segments: 2\n",
      "\n",
      "\n",
      "Number of segments: 2\n",
      "\n",
      "\n",
      "Number of segments: 2\n",
      "\n",
      "\n",
      "Number of segments: 2\n",
      "\n",
      "\n",
      "Number of segments: 2\n",
      "\n",
      "\n",
      "Number of segments: 2\n",
      "\n",
      "\n",
      "Number of segments: 2\n",
      "\n",
      "\n",
      "Number of segments: 3\n",
      "\n",
      "\n",
      "Number of segments: 2\n",
      "\n",
      "\n",
      "Number of segments: 2\n",
      "\n",
      "\n",
      "Number of segments: 2\n",
      "\n",
      "\n",
      "Number of segments: 1\n",
      "\n",
      "\n",
      "Number of segments: 1\n",
      "\n",
      "\n",
      "Number of segments: 1\n",
      "\n",
      "\n",
      "Number of segments: 2\n",
      "\n",
      "\n",
      "Number of segments: 2\n",
      "\n",
      "\n",
      "Number of segments: 2\n",
      "\n",
      "\n",
      "Number of segments: 2\n",
      "\n",
      "\n",
      "Number of segments: 2\n",
      "\n",
      "\n",
      "Number of segments: 2\n",
      "\n",
      "\n",
      "Number of segments: 2\n",
      "\n",
      "\n",
      "Number of segments: 2\n",
      "\n",
      "\n",
      "Number of segments: 2\n",
      "\n",
      "\n",
      "Number of segments: 2\n",
      "\n",
      "\n",
      "Number of segments: 3\n",
      "\n",
      "\n",
      "Number of segments: 3\n",
      "\n",
      "\n",
      "Number of segments: 2\n",
      "\n",
      "\n",
      "Number of segments: 2\n",
      "\n",
      "\n",
      "Number of segments: 3\n",
      "\n",
      "\n",
      "Number of segments: 1\n",
      "\n",
      "\n",
      "Number of segments: 2\n",
      "\n",
      "\n",
      "Number of segments: 3\n",
      "\n",
      "\n",
      "Number of segments: 1\n",
      "\n",
      "\n",
      "Number of segments: 2\n",
      "\n",
      "\n",
      "Number of segments: 2\n",
      "\n",
      "\n",
      "Number of segments: 1\n",
      "\n",
      "\n",
      "Number of segments: 3\n",
      "\n",
      "\n",
      "Number of segments: 3\n",
      "\n",
      "\n",
      "Number of segments: 1\n",
      "\n",
      "\n",
      "Number of segments: 2\n",
      "\n",
      "\n",
      "Number of segments: 2\n",
      "\n",
      "\n",
      "Number of segments: 1\n",
      "\n",
      "\n",
      "Number of segments: 1\n",
      "\n",
      "\n",
      "Number of segments: 2\n",
      "\n",
      "\n",
      "Number of segments: 2\n",
      "\n",
      "\n",
      "Number of segments: 2\n",
      "\n",
      "\n",
      "Number of segments: 2\n",
      "\n",
      "\n",
      "Number of segments: 2\n",
      "\n",
      "\n",
      "Number of segments: 1\n",
      "\n",
      "\n",
      "Number of segments: 2\n",
      "\n",
      "\n",
      "Number of segments: 2\n",
      "\n",
      "\n",
      "Number of segments: 2\n",
      "\n",
      "\n",
      "Number of segments: 2\n",
      "\n",
      "\n",
      "Number of segments: 2\n",
      "\n",
      "\n",
      "Number of segments: 2\n",
      "\n",
      "\n",
      "Number of segments: 2\n",
      "\n",
      "\n",
      "Number of segments: 2\n",
      "\n",
      "\n",
      "Number of segments: 2\n",
      "\n",
      "\n",
      "Number of segments: 2\n",
      "\n",
      "\n",
      "Number of segments: 2\n",
      "\n",
      "\n",
      "Number of segments: 1\n",
      "\n",
      "\n",
      "Number of segments: 2\n",
      "\n",
      "\n",
      "Number of segments: 2\n",
      "\n",
      "\n",
      "Number of segments: 2\n",
      "\n",
      "\n",
      "Number of segments: 2\n",
      "\n",
      "\n",
      "Number of segments: 2\n",
      "\n",
      "\n",
      "Number of segments: 2\n",
      "\n",
      "\n",
      "Number of segments: 2\n",
      "\n",
      "\n",
      "Number of segments: 3\n",
      "\n",
      "\n",
      "Number of segments: 3\n",
      "\n",
      "\n",
      "Number of segments: 3\n",
      "\n",
      "\n",
      "Number of segments: 2\n",
      "\n",
      "\n",
      "Number of segments: 2\n",
      "\n",
      "\n",
      "Number of segments: 3\n",
      "\n",
      "\n",
      "Number of segments: 2\n",
      "\n",
      "\n",
      "Number of segments: 2\n",
      "\n",
      "\n",
      "Number of segments: 2\n",
      "\n",
      "\n",
      "Number of segments: 2\n",
      "\n",
      "\n",
      "Number of segments: 2\n",
      "\n",
      "\n",
      "Number of segments: 3\n",
      "\n",
      "\n",
      "Number of segments: 1\n",
      "\n",
      "\n",
      "Number of segments: 1\n",
      "\n",
      "\n",
      "Number of segments: 3\n",
      "\n",
      "\n",
      "Number of segments: 1\n",
      "\n",
      "\n",
      "Number of segments: 1\n",
      "\n",
      "\n",
      "Number of segments: 1\n",
      "\n",
      "\n",
      "Number of segments: 1\n",
      "\n",
      "\n",
      "Number of segments: 1\n",
      "\n",
      "\n",
      "Number of segments: 2\n",
      "\n",
      "\n",
      "Number of segments: 2\n",
      "\n",
      "\n",
      "Number of segments: 2\n",
      "\n",
      "\n",
      "Number of segments: 2\n",
      "\n",
      "\n",
      "Number of segments: 2\n",
      "\n",
      "\n",
      "Number of segments: 2\n",
      "\n",
      "\n",
      "Number of segments: 2\n",
      "\n",
      "\n",
      "Number of segments: 2\n",
      "\n",
      "\n",
      "Number of segments: 2\n",
      "\n",
      "\n",
      "Number of segments: 2\n",
      "\n",
      "\n",
      "Number of segments: 2\n",
      "\n",
      "\n",
      "Number of segments: 2\n",
      "\n",
      "\n",
      "Number of segments: 2\n",
      "\n",
      "\n",
      "Number of segments: 1\n",
      "\n",
      "\n",
      "Number of segments: 2\n",
      "\n",
      "\n",
      "Number of segments: 2\n",
      "\n",
      "\n",
      "Number of segments: 2\n",
      "\n",
      "\n",
      "Number of segments: 2\n",
      "\n",
      "\n",
      "Number of segments: 2\n",
      "\n",
      "\n",
      "Number of segments: 1\n",
      "\n",
      "\n",
      "Number of segments: 2\n",
      "\n",
      "\n",
      "Number of segments: 2\n",
      "\n",
      "\n",
      "Number of segments: 2\n",
      "\n",
      "\n",
      "Number of segments: 1\n",
      "\n",
      "\n",
      "Number of segments: 2\n",
      "\n",
      "\n",
      "Number of segments: 1\n",
      "\n",
      "\n",
      "Number of segments: 2\n",
      "\n",
      "\n",
      "Number of segments: 3\n",
      "\n",
      "\n",
      "Number of segments: 2\n",
      "\n",
      "\n",
      "Number of segments: 2\n",
      "\n",
      "\n",
      "Number of segments: 2\n",
      "\n",
      "\n",
      "Number of segments: 2\n",
      "\n",
      "\n",
      "Number of segments: 2\n",
      "\n",
      "\n",
      "Number of segments: 2\n",
      "\n",
      "\n",
      "Number of segments: 2\n",
      "\n",
      "\n",
      "Number of segments: 1\n",
      "\n",
      "\n",
      "Number of segments: 2\n",
      "\n",
      "\n",
      "Number of segments: 1\n",
      "\n",
      "\n",
      "Number of segments: 1\n",
      "\n",
      "\n",
      "Number of segments: 1\n",
      "\n",
      "\n",
      "Number of segments: 2\n",
      "\n",
      "\n",
      "Number of segments: 2\n",
      "\n",
      "\n",
      "Number of segments: 2\n",
      "\n",
      "\n",
      "Number of segments: 1\n",
      "\n",
      "\n",
      "Number of segments: 2\n",
      "\n",
      "\n",
      "Number of segments: 2\n",
      "\n",
      "\n",
      "Number of segments: 1\n",
      "\n",
      "\n",
      "Number of segments: 3\n",
      "\n",
      "\n",
      "Number of segments: 3\n",
      "\n",
      "\n",
      "Number of segments: 2\n",
      "\n",
      "\n",
      "Number of segments: 2\n",
      "\n",
      "\n",
      "Number of segments: 2\n",
      "\n",
      "\n",
      "Number of segments: 2\n",
      "\n",
      "\n",
      "Number of segments: 2\n",
      "\n",
      "\n",
      "Number of segments: 2\n",
      "\n",
      "\n",
      "Number of segments: 1\n",
      "\n",
      "\n",
      "Number of segments: 1\n",
      "\n",
      "\n",
      "Number of segments: 1\n",
      "\n",
      "\n",
      "Number of segments: 2\n",
      "\n",
      "\n",
      "Number of segments: 2\n",
      "\n",
      "\n",
      "Number of segments: 2\n",
      "\n",
      "\n",
      "Number of segments: 1\n",
      "\n",
      "\n",
      "Number of segments: 1\n",
      "\n",
      "\n",
      "Number of segments: 2\n",
      "\n",
      "\n",
      "Number of segments: 2\n",
      "\n",
      "\n",
      "Number of segments: 2\n",
      "\n",
      "\n",
      "Number of segments: 2\n",
      "\n",
      "\n",
      "Number of segments: 2\n",
      "\n",
      "\n",
      "Number of segments: 2\n",
      "\n",
      "\n",
      "Number of segments: 2\n",
      "\n",
      "\n",
      "Number of segments: 2\n",
      "\n",
      "\n",
      "Number of segments: 2\n",
      "\n",
      "\n",
      "Number of segments: 3\n",
      "\n",
      "\n",
      "Number of segments: 1\n",
      "\n",
      "\n",
      "Number of segments: 2\n",
      "\n",
      "\n",
      "Number of segments: 3\n",
      "\n",
      "\n",
      "Number of segments: 2\n",
      "\n",
      "\n",
      "Number of segments: 3\n",
      "\n",
      "\n",
      "Number of segments: 3\n",
      "\n",
      "\n",
      "Number of segments: 2\n",
      "\n",
      "\n",
      "Number of segments: 2\n",
      "\n",
      "\n",
      "Number of segments: 2\n",
      "\n",
      "\n",
      "Number of segments: 2\n",
      "\n",
      "\n",
      "Number of segments: 2\n",
      "\n",
      "\n",
      "Number of segments: 2\n",
      "\n",
      "\n",
      "Number of segments: 1\n",
      "\n",
      "\n",
      "Number of segments: 2\n",
      "\n",
      "\n",
      "Number of segments: 2\n",
      "\n",
      "\n",
      "Number of segments: 2\n",
      "\n",
      "\n",
      "Number of segments: 2\n",
      "\n",
      "\n",
      "Number of segments: 2\n",
      "\n",
      "\n",
      "Number of segments: 2\n",
      "\n",
      "\n",
      "Number of segments: 2\n",
      "\n",
      "\n",
      "Number of segments: 2\n",
      "\n",
      "\n",
      "Number of segments: 3\n",
      "\n",
      "\n",
      "Number of segments: 3\n",
      "\n",
      "\n",
      "Number of segments: 3\n",
      "\n",
      "\n",
      "Number of segments: 2\n",
      "\n",
      "\n",
      "Number of segments: 2\n",
      "\n",
      "\n",
      "Number of segments: 2\n",
      "\n",
      "\n",
      "Number of segments: 2\n",
      "\n",
      "\n",
      "Number of segments: 3\n",
      "\n",
      "\n",
      "Number of segments: 5\n",
      "\n",
      "\n",
      "Number of segments: 2\n",
      "\n",
      "\n",
      "Number of segments: 2\n",
      "\n",
      "\n",
      "Number of segments: 2\n",
      "\n",
      "\n",
      "Number of segments: 2\n",
      "\n",
      "\n",
      "Number of segments: 2\n",
      "\n",
      "\n",
      "Number of segments: 2\n",
      "\n",
      "\n",
      "Number of segments: 2\n",
      "\n",
      "\n",
      "Number of segments: 3\n",
      "\n",
      "\n",
      "Number of segments: 2\n",
      "\n",
      "\n",
      "Number of segments: 2\n",
      "\n",
      "\n",
      "Number of segments: 2\n",
      "\n",
      "\n",
      "Number of segments: 2\n",
      "\n",
      "\n",
      "Number of segments: 2\n",
      "\n",
      "\n",
      "Number of segments: 2\n",
      "\n",
      "\n",
      "Number of segments: 2\n",
      "\n",
      "\n",
      "Number of segments: 4\n",
      "\n",
      "\n",
      "Number of segments: 3\n",
      "\n",
      "\n",
      "Number of segments: 4\n",
      "\n",
      "\n",
      "Number of segments: 2\n",
      "\n",
      "\n",
      "Number of segments: 2\n",
      "\n",
      "\n",
      "Number of segments: 2\n",
      "\n",
      "\n",
      "Number of segments: 2\n",
      "\n"
     ]
    },
    {
     "name": "stdout",
     "output_type": "stream",
     "text": [
      "\n",
      "Number of segments: 2\n",
      "\n",
      "\n",
      "Number of segments: 2\n",
      "\n",
      "\n",
      "Number of segments: 2\n",
      "\n",
      "\n",
      "Number of segments: 2\n",
      "\n",
      "\n",
      "Number of segments: 3\n",
      "\n",
      "\n",
      "Number of segments: 1\n",
      "\n",
      "\n",
      "Number of segments: 2\n",
      "\n",
      "\n",
      "Number of segments: 2\n",
      "\n",
      "\n",
      "Number of segments: 3\n",
      "\n",
      "\n",
      "Number of segments: 3\n",
      "\n",
      "\n",
      "Number of segments: 3\n",
      "\n",
      "\n",
      "Number of segments: 2\n",
      "\n",
      "\n",
      "Number of segments: 2\n",
      "\n",
      "\n",
      "Number of segments: 2\n",
      "\n",
      "\n",
      "Number of segments: 3\n",
      "\n",
      "\n",
      "Number of segments: 2\n",
      "\n",
      "\n",
      "Number of segments: 4\n",
      "\n",
      "\n",
      "Number of segments: 2\n",
      "\n",
      "\n",
      "Number of segments: 3\n",
      "\n",
      "\n",
      "Number of segments: 3\n",
      "\n",
      "\n",
      "Number of segments: 2\n",
      "\n",
      "\n",
      "Number of segments: 2\n",
      "\n",
      "\n",
      "Number of segments: 2\n",
      "\n",
      "\n",
      "Number of segments: 2\n",
      "\n",
      "\n",
      "Number of segments: 2\n",
      "\n",
      "\n",
      "Number of segments: 2\n",
      "\n",
      "\n",
      "Number of segments: 2\n",
      "\n",
      "\n",
      "Number of segments: 2\n",
      "\n",
      "\n",
      "Number of segments: 2\n",
      "\n",
      "\n",
      "Number of segments: 2\n",
      "\n",
      "\n",
      "Number of segments: 2\n",
      "\n",
      "\n",
      "Number of segments: 2\n",
      "\n",
      "\n",
      "Number of segments: 2\n",
      "\n",
      "\n",
      "Number of segments: 2\n",
      "\n",
      "\n",
      "Number of segments: 3\n",
      "\n",
      "\n",
      "Number of segments: 2\n",
      "\n",
      "\n",
      "Number of segments: 2\n",
      "\n",
      "\n",
      "Number of segments: 2\n",
      "\n",
      "\n",
      "Number of segments: 2\n",
      "\n",
      "\n",
      "Number of segments: 3\n",
      "\n",
      "\n",
      "Number of segments: 3\n",
      "\n",
      "\n",
      "Number of segments: 2\n",
      "\n",
      "\n",
      "Number of segments: 3\n",
      "\n",
      "\n",
      "Number of segments: 3\n",
      "\n",
      "\n",
      "Number of segments: 3\n",
      "\n",
      "\n",
      "Number of segments: 3\n",
      "\n",
      "\n",
      "Number of segments: 5\n",
      "\n",
      "\n",
      "Number of segments: 2\n",
      "\n",
      "\n",
      "Number of segments: 4\n",
      "\n",
      "\n",
      "Number of segments: 4\n",
      "\n",
      "\n",
      "Number of segments: 1\n",
      "\n",
      "\n",
      "Number of segments: 3\n",
      "\n",
      "\n",
      "Number of segments: 2\n",
      "\n",
      "\n",
      "Number of segments: 2\n",
      "\n",
      "\n",
      "Number of segments: 3\n",
      "\n",
      "\n",
      "Number of segments: 3\n",
      "\n",
      "\n",
      "Number of segments: 2\n",
      "\n",
      "\n",
      "Number of segments: 2\n",
      "\n",
      "\n",
      "Number of segments: 2\n",
      "\n",
      "\n",
      "Number of segments: 1\n",
      "\n",
      "\n",
      "Number of segments: 1\n",
      "\n",
      "\n",
      "Number of segments: 1\n",
      "\n",
      "\n",
      "Number of segments: 2\n",
      "\n",
      "\n",
      "Number of segments: 2\n",
      "\n",
      "\n",
      "Number of segments: 2\n",
      "\n",
      "\n",
      "Number of segments: 3\n",
      "\n",
      "\n",
      "Number of segments: 3\n",
      "\n",
      "\n",
      "Number of segments: 3\n",
      "\n",
      "\n",
      "Number of segments: 2\n",
      "\n",
      "\n",
      "Number of segments: 2\n",
      "\n",
      "\n",
      "Number of segments: 2\n",
      "\n",
      "\n",
      "Number of segments: 2\n",
      "\n",
      "\n",
      "Number of segments: 2\n",
      "\n",
      "\n",
      "Number of segments: 2\n",
      "\n",
      "\n",
      "Number of segments: 3\n",
      "\n",
      "\n",
      "Number of segments: 3\n",
      "\n",
      "\n",
      "Number of segments: 3\n",
      "\n",
      "\n",
      "Number of segments: 1\n",
      "\n",
      "\n",
      "Number of segments: 1\n",
      "\n",
      "\n",
      "Number of segments: 1\n",
      "\n",
      "\n",
      "Number of segments: 2\n",
      "\n",
      "\n",
      "Number of segments: 2\n",
      "\n",
      "\n",
      "Number of segments: 2\n",
      "\n",
      "\n",
      "Number of segments: 2\n",
      "\n",
      "\n",
      "Number of segments: 2\n",
      "\n",
      "\n",
      "Number of segments: 2\n",
      "\n",
      "\n",
      "Number of segments: 1\n",
      "\n",
      "\n",
      "Number of segments: 1\n",
      "\n",
      "\n",
      "Number of segments: 1\n",
      "\n",
      "\n",
      "Number of segments: 2\n",
      "\n",
      "\n",
      "Number of segments: 2\n",
      "\n",
      "\n",
      "Number of segments: 2\n",
      "\n",
      "\n",
      "Number of segments: 2\n",
      "\n",
      "\n",
      "Number of segments: 2\n",
      "\n",
      "\n",
      "Number of segments: 2\n",
      "\n",
      "\n",
      "Number of segments: 2\n",
      "\n",
      "\n",
      "Number of segments: 2\n",
      "\n",
      "\n",
      "Number of segments: 2\n",
      "\n",
      "\n",
      "Number of segments: 2\n",
      "\n",
      "\n",
      "Number of segments: 2\n",
      "\n",
      "\n",
      "Number of segments: 2\n",
      "\n",
      "\n",
      "Number of segments: 2\n",
      "\n",
      "\n",
      "Number of segments: 3\n",
      "\n",
      "\n",
      "Number of segments: 3\n",
      "\n",
      "\n",
      "Number of segments: 3\n",
      "\n",
      "\n",
      "Number of segments: 3\n",
      "\n",
      "\n",
      "Number of segments: 3\n",
      "\n",
      "\n",
      "Number of segments: 4\n",
      "\n",
      "\n",
      "Number of segments: 4\n",
      "\n",
      "\n",
      "Number of segments: 4\n",
      "\n",
      "\n",
      "Number of segments: 2\n",
      "\n",
      "\n",
      "Number of segments: 2\n",
      "\n",
      "\n",
      "Number of segments: 2\n",
      "\n",
      "\n",
      "Number of segments: 1\n",
      "\n",
      "\n",
      "Number of segments: 3\n",
      "\n",
      "\n",
      "Number of segments: 3\n",
      "\n",
      "\n",
      "Number of segments: 2\n",
      "\n",
      "\n",
      "Number of segments: 2\n",
      "\n",
      "\n",
      "Number of segments: 2\n",
      "\n",
      "\n",
      "Number of segments: 2\n",
      "\n",
      "\n",
      "Number of segments: 3\n",
      "\n",
      "\n",
      "Number of segments: 2\n",
      "\n",
      "\n",
      "Number of segments: 2\n",
      "\n",
      "\n",
      "Number of segments: 2\n",
      "\n",
      "\n",
      "Number of segments: 2\n",
      "\n",
      "\n",
      "Number of segments: 2\n",
      "\n",
      "\n",
      "Number of segments: 2\n",
      "\n",
      "\n",
      "Number of segments: 2\n",
      "\n",
      "\n",
      "Number of segments: 2\n",
      "\n",
      "\n",
      "Number of segments: 3\n",
      "\n",
      "\n",
      "Number of segments: 3\n",
      "\n",
      "\n",
      "Number of segments: 3\n",
      "\n",
      "\n",
      "Number of segments: 4\n",
      "\n",
      "\n",
      "Number of segments: 4\n",
      "\n",
      "\n",
      "Number of segments: 2\n",
      "\n",
      "\n",
      "Number of segments: 4\n",
      "\n",
      "\n",
      "Number of segments: 4\n",
      "\n",
      "\n",
      "Number of segments: 1\n",
      "\n",
      "\n",
      "Number of segments: 1\n",
      "\n",
      "\n",
      "Number of segments: 3\n",
      "\n",
      "\n",
      "Number of segments: 2\n",
      "\n",
      "\n",
      "Number of segments: 2\n",
      "\n",
      "\n",
      "Number of segments: 2\n",
      "\n",
      "\n",
      "Number of segments: 2\n",
      "\n",
      "\n",
      "Number of segments: 2\n",
      "\n",
      "\n",
      "Number of segments: 2\n",
      "\n",
      "\n",
      "Number of segments: 2\n",
      "\n",
      "\n",
      "Number of segments: 1\n",
      "\n",
      "\n",
      "Number of segments: 2\n",
      "\n",
      "\n",
      "Number of segments: 2\n",
      "\n",
      "\n",
      "Number of segments: 2\n",
      "\n",
      "\n",
      "Number of segments: 2\n",
      "\n",
      "\n",
      "Number of segments: 1\n",
      "\n",
      "\n",
      "Number of segments: 1\n",
      "\n",
      "\n",
      "Number of segments: 2\n",
      "\n",
      "\n",
      "Number of segments: 2\n",
      "\n",
      "\n",
      "Number of segments: 2\n",
      "\n",
      "\n",
      "Number of segments: 2\n",
      "\n",
      "\n",
      "Number of segments: 2\n",
      "\n",
      "\n",
      "Number of segments: 2\n",
      "\n",
      "\n",
      "Number of segments: 4\n",
      "\n",
      "\n",
      "Number of segments: 2\n",
      "\n",
      "\n",
      "Number of segments: 2\n",
      "\n",
      "\n",
      "Number of segments: 1\n",
      "\n",
      "\n",
      "Number of segments: 2\n",
      "\n",
      "\n",
      "Number of segments: 2\n",
      "\n",
      "\n",
      "Number of segments: 2\n",
      "\n",
      "\n",
      "Number of segments: 2\n",
      "\n",
      "\n",
      "Number of segments: 2\n",
      "\n",
      "\n",
      "Number of segments: 2\n",
      "\n",
      "\n",
      "Number of segments: 1\n",
      "\n",
      "\n",
      "Number of segments: 3\n",
      "\n",
      "\n",
      "Number of segments: 3\n",
      "\n",
      "\n",
      "Number of segments: 1\n",
      "\n",
      "\n",
      "Number of segments: 1\n",
      "\n",
      "\n",
      "Number of segments: 2\n",
      "\n",
      "\n",
      "Number of segments: 2\n",
      "\n",
      "\n",
      "Number of segments: 2\n",
      "\n",
      "\n",
      "Number of segments: 2\n",
      "\n",
      "\n",
      "Number of segments: 1\n",
      "\n",
      "\n",
      "Number of segments: 3\n",
      "\n",
      "\n",
      "Number of segments: 3\n",
      "\n",
      "\n",
      "Number of segments: 2\n",
      "\n",
      "\n",
      "Number of segments: 3\n",
      "\n",
      "\n",
      "Number of segments: 3\n",
      "\n",
      "\n",
      "Number of segments: 2\n",
      "\n",
      "\n",
      "Number of segments: 2\n",
      "\n",
      "\n",
      "Number of segments: 2\n",
      "\n",
      "\n",
      "Number of segments: 1\n",
      "\n",
      "\n",
      "Number of segments: 3\n",
      "\n",
      "\n",
      "Number of segments: 1\n",
      "\n",
      "\n",
      "Number of segments: 2\n",
      "\n",
      "\n",
      "Number of segments: 2\n",
      "\n",
      "\n",
      "Number of segments: 2\n",
      "\n",
      "\n",
      "Number of segments: 2\n",
      "\n",
      "\n",
      "Number of segments: 1\n",
      "\n",
      "\n",
      "Number of segments: 2\n",
      "\n",
      "\n",
      "Number of segments: 2\n",
      "\n",
      "\n",
      "Number of segments: 2\n",
      "\n",
      "\n",
      "Number of segments: 2\n",
      "\n",
      "\n",
      "Number of segments: 1\n",
      "\n",
      "\n",
      "Number of segments: 1\n",
      "\n",
      "\n",
      "Number of segments: 1\n",
      "\n",
      "\n",
      "Number of segments: 1\n",
      "\n",
      "\n",
      "Number of segments: 2\n",
      "\n",
      "\n",
      "Number of segments: 2\n",
      "\n",
      "\n",
      "Number of segments: 1\n",
      "\n",
      "\n",
      "Number of segments: 1\n",
      "\n",
      "\n",
      "Number of segments: 1\n",
      "\n",
      "\n",
      "Number of segments: 2\n",
      "\n",
      "\n",
      "Number of segments: 2\n",
      "\n",
      "\n",
      "Number of segments: 2\n",
      "\n",
      "\n",
      "Number of segments: 2\n",
      "\n",
      "\n",
      "Number of segments: 3\n",
      "\n",
      "\n",
      "Number of segments: 3\n",
      "\n",
      "\n",
      "Number of segments: 2\n",
      "\n",
      "\n",
      "Number of segments: 2\n",
      "\n",
      "\n",
      "Number of segments: 3\n",
      "\n",
      "\n",
      "Number of segments: 2\n",
      "\n",
      "\n",
      "Number of segments: 2\n",
      "\n",
      "\n",
      "Number of segments: 2\n",
      "\n",
      "\n",
      "Number of segments: 1\n",
      "\n",
      "\n",
      "Number of segments: 2\n",
      "\n",
      "\n",
      "Number of segments: 2\n",
      "\n",
      "\n",
      "Number of segments: 2\n",
      "\n",
      "\n",
      "Number of segments: 2\n",
      "\n",
      "\n",
      "Number of segments: 2\n",
      "\n",
      "\n",
      "Number of segments: 2\n",
      "\n",
      "\n",
      "Number of segments: 2\n",
      "\n",
      "\n",
      "Number of segments: 2\n",
      "\n",
      "\n",
      "Number of segments: 2\n",
      "\n",
      "\n",
      "Number of segments: 2\n",
      "\n",
      "\n",
      "Number of segments: 3\n",
      "\n",
      "\n",
      "Number of segments: 2\n",
      "\n",
      "\n",
      "Number of segments: 3\n",
      "\n",
      "\n",
      "Number of segments: 3\n",
      "\n",
      "\n",
      "Number of segments: 2\n",
      "\n",
      "\n",
      "Number of segments: 2\n",
      "\n",
      "\n",
      "Number of segments: 2\n",
      "\n",
      "\n",
      "Number of segments: 2\n",
      "\n",
      "\n",
      "Number of segments: 2\n",
      "\n",
      "\n",
      "Number of segments: 2\n",
      "\n",
      "\n",
      "Number of segments: 2\n",
      "\n",
      "\n",
      "Number of segments: 3\n",
      "\n",
      "\n",
      "Number of segments: 3\n",
      "\n",
      "\n",
      "Number of segments: 1\n",
      "\n",
      "\n",
      "Number of segments: 6\n",
      "\n",
      "\n",
      "Number of segments: 5\n",
      "\n",
      "\n",
      "Number of segments: 2\n",
      "\n",
      "\n",
      "Number of segments: 3\n",
      "\n",
      "\n",
      "Number of segments: 3\n",
      "\n",
      "\n",
      "Number of segments: 2\n",
      "\n",
      "\n",
      "Number of segments: 2\n",
      "\n",
      "\n",
      "Number of segments: 2\n",
      "\n",
      "\n",
      "Number of segments: 2\n",
      "\n",
      "\n",
      "Number of segments: 2\n",
      "\n",
      "\n",
      "Number of segments: 2\n",
      "\n",
      "\n",
      "Number of segments: 2\n",
      "\n",
      "\n",
      "Number of segments: 2\n",
      "\n",
      "\n",
      "Number of segments: 2\n",
      "\n",
      "\n",
      "Number of segments: 4\n",
      "\n",
      "\n",
      "Number of segments: 4\n",
      "\n",
      "\n",
      "Number of segments: 4\n",
      "\n",
      "\n",
      "Number of segments: 2\n",
      "\n",
      "\n",
      "Number of segments: 2\n",
      "\n",
      "\n",
      "Number of segments: 2\n",
      "\n",
      "\n",
      "Number of segments: 2\n",
      "\n",
      "\n",
      "Number of segments: 1\n",
      "\n",
      "\n",
      "Number of segments: 3\n",
      "\n",
      "\n",
      "Number of segments: 1\n",
      "\n",
      "\n",
      "Number of segments: 3\n",
      "\n",
      "\n",
      "Number of segments: 4\n",
      "\n",
      "\n",
      "Number of segments: 2\n",
      "\n",
      "\n",
      "Number of segments: 2\n",
      "\n",
      "\n",
      "Number of segments: 2\n",
      "\n",
      "\n",
      "Number of segments: 2\n",
      "\n",
      "\n",
      "Number of segments: 4\n",
      "\n",
      "\n",
      "Number of segments: 4\n",
      "\n",
      "\n",
      "Number of segments: 2\n",
      "\n",
      "\n",
      "Number of segments: 2\n",
      "\n",
      "\n",
      "Number of segments: 3\n",
      "\n",
      "\n",
      "Number of segments: 2\n",
      "\n",
      "\n",
      "Number of segments: 2\n",
      "\n",
      "\n",
      "Number of segments: 2\n",
      "\n",
      "\n",
      "Number of segments: 2\n",
      "\n",
      "\n",
      "Number of segments: 2\n",
      "\n",
      "\n",
      "Number of segments: 5\n",
      "\n",
      "\n",
      "Number of segments: 2\n",
      "\n",
      "\n",
      "Number of segments: 2\n",
      "\n",
      "\n",
      "Number of segments: 4\n",
      "\n",
      "\n",
      "Number of segments: 2\n",
      "\n",
      "\n",
      "Number of segments: 2\n",
      "\n",
      "\n",
      "Number of segments: 2\n",
      "\n",
      "\n",
      "Number of segments: 2\n",
      "\n",
      "\n",
      "Number of segments: 2\n",
      "\n",
      "\n",
      "Number of segments: 2\n",
      "\n",
      "\n",
      "Number of segments: 1\n",
      "\n",
      "\n",
      "Number of segments: 4\n",
      "\n",
      "\n",
      "Number of segments: 4\n",
      "\n",
      "\n",
      "Number of segments: 2\n",
      "\n",
      "\n",
      "Number of segments: 2\n",
      "\n",
      "\n",
      "Number of segments: 2\n",
      "\n",
      "\n",
      "Number of segments: 1\n",
      "\n",
      "\n",
      "Number of segments: 2\n",
      "\n",
      "\n",
      "Number of segments: 2\n",
      "\n",
      "\n",
      "Number of segments: 2\n",
      "\n",
      "\n",
      "Number of segments: 2\n",
      "\n",
      "\n",
      "Number of segments: 2\n",
      "\n",
      "\n",
      "Number of segments: 2\n",
      "\n",
      "\n",
      "Number of segments: 2\n",
      "\n",
      "\n",
      "Number of segments: 4\n",
      "\n",
      "\n",
      "Number of segments: 2\n",
      "\n",
      "\n",
      "Number of segments: 2\n",
      "\n",
      "\n",
      "Number of segments: 2\n",
      "\n",
      "\n",
      "Number of segments: 2\n",
      "\n",
      "\n",
      "Number of segments: 2\n",
      "\n",
      "\n",
      "Number of segments: 2\n",
      "\n",
      "\n",
      "Number of segments: 2\n",
      "\n",
      "\n",
      "Number of segments: 2\n",
      "\n",
      "\n",
      "Number of segments: 4\n",
      "\n",
      "\n",
      "Number of segments: 3\n",
      "\n",
      "\n",
      "Number of segments: 3\n",
      "\n",
      "\n",
      "Number of segments: 4\n",
      "\n",
      "\n",
      "Number of segments: 2\n",
      "\n",
      "\n",
      "Number of segments: 2\n",
      "\n",
      "\n",
      "Number of segments: 2\n",
      "\n",
      "\n",
      "Number of segments: 2\n",
      "\n",
      "\n",
      "Number of segments: 2\n",
      "\n",
      "\n",
      "Number of segments: 2\n",
      "\n",
      "\n",
      "Number of segments: 2\n",
      "\n",
      "\n",
      "Number of segments: 2\n",
      "\n",
      "\n",
      "Number of segments: 3\n",
      "\n",
      "\n",
      "Number of segments: 2\n",
      "\n",
      "\n",
      "Number of segments: 2\n",
      "\n",
      "\n",
      "Number of segments: 2\n",
      "\n",
      "\n",
      "Number of segments: 1\n",
      "\n",
      "\n",
      "Number of segments: 1\n",
      "\n",
      "\n",
      "Number of segments: 1\n",
      "\n",
      "\n",
      "Number of segments: 2\n",
      "\n",
      "\n",
      "Number of segments: 2\n",
      "\n",
      "\n",
      "Number of segments: 2\n",
      "\n",
      "\n",
      "Number of segments: 2\n",
      "\n",
      "\n",
      "Number of segments: 2\n",
      "\n",
      "\n",
      "Number of segments: 2\n",
      "\n"
     ]
    },
    {
     "name": "stdout",
     "output_type": "stream",
     "text": [
      "\n",
      "Number of segments: 1\n",
      "\n",
      "\n",
      "Number of segments: 2\n",
      "\n",
      "\n",
      "Number of segments: 2\n",
      "\n",
      "\n",
      "Number of segments: 2\n",
      "\n",
      "\n",
      "Number of segments: 2\n",
      "\n",
      "\n",
      "Number of segments: 2\n",
      "\n",
      "\n",
      "Number of segments: 3\n",
      "\n",
      "\n",
      "Number of segments: 4\n",
      "\n",
      "\n",
      "Number of segments: 4\n",
      "\n",
      "\n",
      "Number of segments: 2\n",
      "\n",
      "\n",
      "Number of segments: 1\n",
      "\n",
      "\n",
      "Number of segments: 1\n",
      "\n",
      "\n",
      "Number of segments: 2\n",
      "\n",
      "\n",
      "Number of segments: 1\n",
      "\n",
      "\n",
      "Number of segments: 2\n",
      "\n",
      "\n",
      "Number of segments: 2\n",
      "\n",
      "\n",
      "Number of segments: 2\n",
      "\n",
      "\n",
      "Number of segments: 2\n",
      "\n",
      "\n",
      "Number of segments: 1\n",
      "\n",
      "\n",
      "Number of segments: 3\n",
      "\n",
      "\n",
      "Number of segments: 3\n",
      "\n",
      "\n",
      "Number of segments: 2\n",
      "\n",
      "\n",
      "Number of segments: 2\n",
      "\n",
      "\n",
      "Number of segments: 2\n",
      "\n",
      "\n",
      "Number of segments: 1\n",
      "\n",
      "\n",
      "Number of segments: 1\n",
      "\n",
      "\n",
      "Number of segments: 2\n",
      "\n",
      "\n",
      "Number of segments: 3\n",
      "\n",
      "\n",
      "Number of segments: 3\n",
      "\n",
      "\n",
      "Number of segments: 3\n",
      "\n",
      "\n",
      "Number of segments: 2\n",
      "\n",
      "\n",
      "Number of segments: 2\n",
      "\n",
      "\n",
      "Number of segments: 2\n",
      "\n",
      "\n",
      "Number of segments: 1\n",
      "\n",
      "\n",
      "Number of segments: 1\n",
      "\n",
      "\n",
      "Number of segments: 2\n",
      "\n",
      "\n",
      "Number of segments: 2\n",
      "\n",
      "\n",
      "Number of segments: 2\n",
      "\n",
      "\n",
      "Number of segments: 2\n",
      "\n",
      "\n",
      "Number of segments: 2\n",
      "\n",
      "\n",
      "Number of segments: 2\n",
      "\n",
      "\n",
      "Number of segments: 2\n",
      "\n",
      "\n",
      "Number of segments: 2\n",
      "\n",
      "\n",
      "Number of segments: 2\n",
      "\n",
      "\n",
      "Number of segments: 2\n",
      "\n",
      "\n",
      "Number of segments: 1\n",
      "\n",
      "\n",
      "Number of segments: 3\n",
      "\n",
      "\n",
      "Number of segments: 3\n",
      "\n",
      "\n",
      "Number of segments: 1\n",
      "\n",
      "\n",
      "Number of segments: 1\n",
      "\n",
      "\n",
      "Number of segments: 1\n",
      "\n",
      "\n",
      "Number of segments: 2\n",
      "\n",
      "\n",
      "Number of segments: 2\n",
      "\n",
      "\n",
      "Number of segments: 2\n",
      "\n",
      "\n",
      "Number of segments: 1\n",
      "\n",
      "\n",
      "Number of segments: 2\n",
      "\n",
      "\n",
      "Number of segments: 2\n",
      "\n",
      "\n",
      "Number of segments: 2\n",
      "\n",
      "\n",
      "Number of segments: 1\n",
      "\n",
      "\n",
      "Number of segments: 2\n",
      "\n",
      "\n",
      "Number of segments: 1\n",
      "\n",
      "\n",
      "Number of segments: 1\n",
      "\n",
      "\n",
      "Number of segments: 1\n",
      "\n",
      "\n",
      "Number of segments: 2\n",
      "\n",
      "\n",
      "Number of segments: 2\n",
      "\n",
      "\n",
      "Number of segments: 2\n",
      "\n",
      "\n",
      "Number of segments: 1\n",
      "\n",
      "\n",
      "Number of segments: 2\n",
      "\n",
      "\n",
      "Number of segments: 1\n",
      "\n",
      "\n",
      "Number of segments: 1\n",
      "\n",
      "\n",
      "Number of segments: 2\n",
      "\n",
      "\n",
      "Number of segments: 2\n",
      "\n",
      "\n",
      "Number of segments: 1\n",
      "\n",
      "\n",
      "Number of segments: 1\n",
      "\n",
      "\n",
      "Number of segments: 1\n",
      "\n",
      "\n",
      "Number of segments: 1\n",
      "\n",
      "\n",
      "Number of segments: 1\n",
      "\n",
      "\n",
      "Number of segments: 1\n",
      "\n",
      "\n",
      "Number of segments: 5\n",
      "\n",
      "\n",
      "Number of segments: 6\n",
      "\n",
      "\n",
      "Number of segments: 4\n",
      "\n",
      "\n",
      "Number of segments: 3\n",
      "\n",
      "\n",
      "Number of segments: 4\n",
      "\n",
      "\n",
      "Number of segments: 5\n",
      "\n",
      "\n",
      "Number of segments: 5\n",
      "\n",
      "\n",
      "Number of segments: 4\n",
      "\n",
      "\n",
      "Number of segments: 5\n",
      "\n",
      "\n",
      "Number of segments: 1\n",
      "\n",
      "\n",
      "Number of segments: 3\n",
      "\n",
      "\n",
      "Number of segments: 3\n",
      "\n",
      "\n",
      "Number of segments: 3\n",
      "\n",
      "\n",
      "Number of segments: 4\n",
      "\n",
      "\n",
      "Number of segments: 7\n",
      "\n",
      "\n",
      "Number of segments: 2\n",
      "\n",
      "\n",
      "Number of segments: 1\n",
      "\n",
      "\n",
      "Number of segments: 2\n",
      "\n",
      "\n",
      "Number of segments: 1\n",
      "\n",
      "\n",
      "Number of segments: 2\n",
      "\n",
      "\n",
      "Number of segments: 4\n",
      "\n",
      "\n",
      "Number of segments: 1\n",
      "\n",
      "\n",
      "Number of segments: 2\n",
      "\n",
      "\n",
      "Number of segments: 2\n",
      "\n",
      "\n",
      "Number of segments: 1\n",
      "\n",
      "\n",
      "Number of segments: 1\n",
      "\n",
      "\n",
      "Number of segments: 1\n",
      "\n",
      "\n",
      "Number of segments: 1\n",
      "\n",
      "\n",
      "Number of segments: 2\n",
      "\n",
      "\n",
      "Number of segments: 3\n",
      "\n",
      "\n",
      "Number of segments: 2\n",
      "\n",
      "\n",
      "Number of segments: 2\n",
      "\n",
      "\n",
      "Number of segments: 2\n",
      "\n",
      "\n",
      "Number of segments: 1\n",
      "\n",
      "\n",
      "Number of segments: 3\n",
      "\n",
      "\n",
      "Number of segments: 3\n",
      "\n",
      "\n",
      "Number of segments: 1\n",
      "\n",
      "\n",
      "Number of segments: 1\n",
      "\n",
      "\n",
      "Number of segments: 1\n",
      "\n",
      "\n",
      "Number of segments: 1\n",
      "\n",
      "\n",
      "Number of segments: 1\n",
      "\n",
      "\n",
      "Number of segments: 3\n",
      "\n",
      "\n",
      "Number of segments: 3\n",
      "\n",
      "\n",
      "Number of segments: 3\n",
      "\n",
      "\n",
      "Number of segments: 4\n",
      "\n",
      "\n",
      "Number of segments: 3\n",
      "\n",
      "\n",
      "Number of segments: 3\n",
      "\n",
      "\n",
      "Number of segments: 5\n",
      "\n",
      "\n",
      "Number of segments: 2\n",
      "\n",
      "\n",
      "Number of segments: 2\n",
      "\n",
      "\n",
      "Number of segments: 3\n",
      "\n",
      "\n",
      "Number of segments: 1\n",
      "\n",
      "\n",
      "Number of segments: 2\n",
      "\n",
      "\n",
      "Number of segments: 2\n",
      "\n",
      "\n",
      "Number of segments: 2\n",
      "\n",
      "\n",
      "Number of segments: 3\n",
      "\n",
      "\n",
      "Number of segments: 4\n",
      "\n",
      "\n",
      "Number of segments: 2\n",
      "\n",
      "\n",
      "Number of segments: 2\n",
      "\n",
      "\n",
      "Number of segments: 2\n",
      "\n",
      "\n",
      "Number of segments: 1\n",
      "\n",
      "\n",
      "Number of segments: 2\n",
      "\n",
      "\n",
      "Number of segments: 3\n",
      "\n",
      "\n",
      "Number of segments: 3\n",
      "\n",
      "\n",
      "Number of segments: 3\n",
      "\n",
      "\n",
      "Number of segments: 4\n",
      "\n",
      "\n",
      "Number of segments: 1\n",
      "\n",
      "\n",
      "Number of segments: 3\n",
      "\n",
      "\n",
      "Number of segments: 3\n",
      "\n",
      "\n",
      "Number of segments: 2\n",
      "\n",
      "\n",
      "Number of segments: 2\n",
      "\n",
      "\n",
      "Number of segments: 2\n",
      "\n",
      "\n",
      "Number of segments: 3\n",
      "\n",
      "\n",
      "Number of segments: 3\n",
      "\n",
      "\n",
      "Number of segments: 4\n",
      "\n",
      "\n",
      "Number of segments: 3\n",
      "\n",
      "\n",
      "Number of segments: 2\n",
      "\n",
      "\n",
      "Number of segments: 5\n",
      "\n",
      "\n",
      "Number of segments: 2\n",
      "\n",
      "\n",
      "Number of segments: 2\n",
      "\n",
      "\n",
      "Number of segments: 2\n",
      "\n",
      "\n",
      "Number of segments: 2\n",
      "\n",
      "\n",
      "Number of segments: 2\n",
      "\n",
      "\n",
      "Number of segments: 3\n",
      "\n",
      "\n",
      "Number of segments: 2\n",
      "\n",
      "\n",
      "Number of segments: 2\n",
      "\n",
      "\n",
      "Number of segments: 2\n",
      "\n",
      "\n",
      "Number of segments: 2\n",
      "\n",
      "\n",
      "Number of segments: 2\n",
      "\n",
      "\n",
      "Number of segments: 2\n",
      "\n",
      "\n",
      "Number of segments: 2\n",
      "\n",
      "\n",
      "Number of segments: 2\n",
      "\n",
      "\n",
      "Number of segments: 2\n",
      "\n",
      "\n",
      "Number of segments: 2\n",
      "\n",
      "\n",
      "Number of segments: 3\n",
      "\n",
      "\n",
      "Number of segments: 2\n",
      "\n",
      "\n",
      "Number of segments: 1\n",
      "\n",
      "\n",
      "Number of segments: 2\n",
      "\n",
      "\n",
      "Number of segments: 3\n",
      "\n",
      "\n",
      "Number of segments: 1\n",
      "\n",
      "\n",
      "Number of segments: 3\n",
      "\n",
      "\n",
      "Number of segments: 3\n",
      "\n",
      "\n",
      "Number of segments: 2\n",
      "\n",
      "\n",
      "Number of segments: 2\n",
      "\n",
      "\n",
      "Number of segments: 2\n",
      "\n",
      "\n",
      "Number of segments: 2\n",
      "\n",
      "\n",
      "Number of segments: 2\n",
      "\n",
      "\n",
      "Number of segments: 2\n",
      "\n",
      "\n",
      "Number of segments: 1\n",
      "\n",
      "\n",
      "Number of segments: 2\n",
      "\n",
      "\n",
      "Number of segments: 2\n",
      "\n",
      "\n",
      "Number of segments: 1\n",
      "\n",
      "\n",
      "Number of segments: 1\n",
      "\n",
      "\n",
      "Number of segments: 1\n",
      "\n",
      "\n",
      "Number of segments: 3\n",
      "\n",
      "\n",
      "Number of segments: 3\n",
      "\n",
      "\n",
      "Number of segments: 3\n",
      "\n",
      "\n",
      "Number of segments: 1\n",
      "\n",
      "\n",
      "Number of segments: 3\n",
      "\n",
      "\n",
      "Number of segments: 3\n",
      "\n",
      "\n",
      "Number of segments: 2\n",
      "\n",
      "\n",
      "Number of segments: 2\n",
      "\n",
      "\n",
      "Number of segments: 2\n",
      "\n",
      "\n",
      "Number of segments: 1\n",
      "\n",
      "\n",
      "Number of segments: 2\n",
      "\n",
      "\n",
      "Number of segments: 2\n",
      "\n",
      "\n",
      "Number of segments: 3\n",
      "\n",
      "\n",
      "Number of segments: 2\n",
      "\n",
      "\n",
      "Number of segments: 4\n",
      "\n",
      "\n",
      "Number of segments: 2\n",
      "\n",
      "\n",
      "Number of segments: 2\n",
      "\n",
      "\n",
      "Number of segments: 2\n",
      "\n",
      "\n",
      "Number of segments: 2\n",
      "\n",
      "\n",
      "Number of segments: 2\n",
      "\n",
      "\n",
      "Number of segments: 3\n",
      "\n",
      "\n",
      "Number of segments: 2\n",
      "\n",
      "\n",
      "Number of segments: 2\n",
      "\n",
      "\n",
      "Number of segments: 2\n",
      "\n",
      "\n",
      "Number of segments: 3\n",
      "\n",
      "\n",
      "Number of segments: 3\n",
      "\n",
      "\n",
      "Number of segments: 3\n",
      "\n",
      "\n",
      "Number of segments: 2\n",
      "\n",
      "\n",
      "Number of segments: 2\n",
      "\n",
      "\n",
      "Number of segments: 2\n",
      "\n",
      "\n",
      "Number of segments: 2\n",
      "\n",
      "\n",
      "Number of segments: 3\n",
      "\n",
      "\n",
      "Number of segments: 3\n",
      "\n",
      "\n",
      "Number of segments: 2\n",
      "\n",
      "\n",
      "Number of segments: 2\n",
      "\n",
      "\n",
      "Number of segments: 2\n",
      "\n",
      "\n",
      "Number of segments: 2\n",
      "\n",
      "\n",
      "Number of segments: 2\n",
      "\n",
      "\n",
      "Number of segments: 3\n",
      "\n",
      "\n",
      "Number of segments: 2\n",
      "\n",
      "\n",
      "Number of segments: 2\n",
      "\n",
      "\n",
      "Number of segments: 2\n",
      "\n",
      "\n",
      "Number of segments: 2\n",
      "\n",
      "\n",
      "Number of segments: 2\n",
      "\n",
      "\n",
      "Number of segments: 2\n",
      "\n",
      "\n",
      "Number of segments: 1\n",
      "\n",
      "\n",
      "Number of segments: 3\n",
      "\n",
      "\n",
      "Number of segments: 3\n",
      "\n",
      "\n",
      "Number of segments: 2\n",
      "\n",
      "\n",
      "Number of segments: 2\n",
      "\n",
      "\n",
      "Number of segments: 2\n",
      "\n",
      "\n",
      "Number of segments: 2\n",
      "\n",
      "\n",
      "Number of segments: 2\n",
      "\n",
      "\n",
      "Number of segments: 2\n",
      "\n",
      "\n",
      "Number of segments: 1\n",
      "\n",
      "\n",
      "Number of segments: 2\n",
      "\n",
      "\n",
      "Number of segments: 2\n",
      "\n",
      "\n",
      "Number of segments: 1\n",
      "\n",
      "\n",
      "Number of segments: 1\n",
      "\n",
      "\n",
      "Number of segments: 2\n",
      "\n",
      "\n",
      "Number of segments: 2\n",
      "\n",
      "\n",
      "Number of segments: 2\n",
      "\n",
      "\n",
      "Number of segments: 2\n",
      "\n",
      "\n",
      "Number of segments: 1\n",
      "\n",
      "\n",
      "Number of segments: 1\n",
      "\n",
      "\n",
      "Number of segments: 2\n",
      "\n",
      "\n",
      "Number of segments: 2\n",
      "\n",
      "\n",
      "Number of segments: 2\n",
      "\n",
      "\n",
      "Number of segments: 2\n",
      "\n",
      "\n",
      "Number of segments: 3\n",
      "\n",
      "\n",
      "Number of segments: 3\n",
      "\n",
      "\n",
      "Number of segments: 4\n",
      "\n",
      "\n",
      "Number of segments: 3\n",
      "\n",
      "\n",
      "Number of segments: 3\n",
      "\n",
      "\n",
      "Number of segments: 3\n",
      "\n",
      "\n",
      "Number of segments: 2\n",
      "\n",
      "\n",
      "Number of segments: 2\n",
      "\n",
      "\n",
      "Number of segments: 3\n",
      "\n",
      "\n",
      "Number of segments: 2\n",
      "\n",
      "\n",
      "Number of segments: 3\n",
      "\n",
      "\n",
      "Number of segments: 3\n",
      "\n",
      "\n",
      "Number of segments: 3\n",
      "\n",
      "\n",
      "Number of segments: 4\n",
      "\n",
      "\n",
      "Number of segments: 7\n",
      "\n",
      "\n",
      "Number of segments: 2\n",
      "\n",
      "\n",
      "Number of segments: 2\n",
      "\n",
      "\n",
      "Number of segments: 2\n",
      "\n",
      "\n",
      "Number of segments: 2\n",
      "\n",
      "\n",
      "Number of segments: 2\n",
      "\n",
      "\n",
      "Number of segments: 2\n",
      "\n",
      "\n",
      "Number of segments: 2\n",
      "\n",
      "\n",
      "Number of segments: 3\n",
      "\n",
      "\n",
      "Number of segments: 3\n",
      "\n",
      "\n",
      "Number of segments: 2\n",
      "\n",
      "\n",
      "Number of segments: 2\n",
      "\n",
      "\n",
      "Number of segments: 2\n",
      "\n",
      "\n",
      "Number of segments: 2\n",
      "\n",
      "\n",
      "Number of segments: 2\n",
      "\n",
      "\n",
      "Number of segments: 2\n",
      "\n",
      "\n",
      "Number of segments: 2\n",
      "\n",
      "\n",
      "Number of segments: 2\n",
      "\n",
      "\n",
      "Number of segments: 3\n",
      "\n",
      "\n",
      "Number of segments: 2\n",
      "\n",
      "\n",
      "Number of segments: 4\n",
      "\n",
      "\n",
      "Number of segments: 5\n",
      "\n",
      "\n",
      "Number of segments: 1\n",
      "\n",
      "\n",
      "Number of segments: 2\n",
      "\n",
      "\n",
      "Number of segments: 2\n",
      "\n",
      "\n",
      "Number of segments: 2\n",
      "\n",
      "\n",
      "Number of segments: 2\n",
      "\n",
      "\n",
      "Number of segments: 2\n",
      "\n",
      "\n",
      "Number of segments: 2\n",
      "\n",
      "\n",
      "Number of segments: 2\n",
      "\n",
      "\n",
      "Number of segments: 2\n",
      "\n",
      "\n",
      "Number of segments: 2\n",
      "\n",
      "\n",
      "Number of segments: 2\n",
      "\n",
      "\n",
      "Number of segments: 5\n",
      "\n",
      "\n",
      "Number of segments: 2\n",
      "\n",
      "\n",
      "Number of segments: 2\n",
      "\n",
      "\n",
      "Number of segments: 2\n",
      "\n",
      "\n",
      "Number of segments: 2\n",
      "\n",
      "\n",
      "Number of segments: 2\n",
      "\n",
      "\n",
      "Number of segments: 3\n",
      "\n",
      "\n",
      "Number of segments: 2\n",
      "\n",
      "\n",
      "Number of segments: 2\n",
      "\n",
      "\n",
      "Number of segments: 3\n",
      "\n",
      "\n",
      "Number of segments: 3\n",
      "\n",
      "\n",
      "Number of segments: 3\n",
      "\n",
      "\n",
      "Number of segments: 3\n",
      "\n",
      "\n",
      "Number of segments: 2\n",
      "\n",
      "\n",
      "Number of segments: 2\n",
      "\n",
      "\n",
      "Number of segments: 2\n",
      "\n",
      "\n",
      "Number of segments: 2\n",
      "\n",
      "\n",
      "Number of segments: 2\n",
      "\n",
      "\n",
      "Number of segments: 2\n",
      "\n",
      "\n",
      "Number of segments: 2\n",
      "\n",
      "\n",
      "Number of segments: 2\n",
      "\n",
      "\n",
      "Number of segments: 2\n",
      "\n",
      "\n",
      "Number of segments: 1\n",
      "\n",
      "\n",
      "Number of segments: 3\n",
      "\n",
      "\n",
      "Number of segments: 3\n",
      "\n",
      "\n",
      "Number of segments: 2\n",
      "\n",
      "\n",
      "Number of segments: 2\n",
      "\n",
      "\n",
      "Number of segments: 2\n",
      "\n",
      "\n",
      "Number of segments: 2\n",
      "\n",
      "\n",
      "Number of segments: 2\n",
      "\n",
      "\n",
      "Number of segments: 5\n",
      "\n",
      "\n",
      "Number of segments: 3\n",
      "\n",
      "\n",
      "Number of segments: 3\n",
      "\n",
      "\n",
      "Number of segments: 3\n",
      "\n",
      "\n"
     ]
    },
    {
     "name": "stdout",
     "output_type": "stream",
     "text": [
      "Number of segments: 1\n",
      "\n",
      "\n",
      "Number of segments: 4\n",
      "\n",
      "\n",
      "Number of segments: 4\n",
      "\n",
      "\n",
      "Number of segments: 2\n",
      "\n",
      "\n",
      "Number of segments: 2\n",
      "\n",
      "\n",
      "Number of segments: 2\n",
      "\n",
      "\n",
      "Number of segments: 2\n",
      "\n",
      "\n",
      "Number of segments: 3\n",
      "\n",
      "\n",
      "Number of segments: 3\n",
      "\n",
      "\n",
      "Number of segments: 2\n",
      "\n",
      "\n",
      "Number of segments: 2\n",
      "\n",
      "\n",
      "Number of segments: 2\n",
      "\n",
      "\n",
      "Number of segments: 1\n",
      "\n",
      "\n",
      "Number of segments: 4\n",
      "\n",
      "\n",
      "Number of segments: 3\n",
      "\n",
      "\n",
      "Number of segments: 2\n",
      "\n",
      "\n",
      "Number of segments: 2\n",
      "\n",
      "\n",
      "Number of segments: 2\n",
      "\n",
      "\n",
      "Number of segments: 2\n",
      "\n",
      "\n",
      "Number of segments: 2\n",
      "\n",
      "\n",
      "Number of segments: 2\n",
      "\n",
      "\n",
      "Number of segments: 1\n",
      "\n",
      "\n",
      "Number of segments: 2\n",
      "\n",
      "\n",
      "Number of segments: 4\n",
      "\n",
      "\n",
      "Number of segments: 2\n",
      "\n",
      "\n",
      "Number of segments: 3\n",
      "\n",
      "\n",
      "Number of segments: 3\n",
      "\n",
      "\n",
      "Number of segments: 2\n",
      "\n",
      "\n",
      "Number of segments: 2\n",
      "\n",
      "\n",
      "Number of segments: 3\n",
      "\n",
      "\n",
      "Number of segments: 2\n",
      "\n",
      "\n",
      "Number of segments: 2\n",
      "\n",
      "\n",
      "Number of segments: 2\n",
      "\n",
      "\n",
      "Number of segments: 2\n",
      "\n",
      "\n",
      "Number of segments: 1\n",
      "\n",
      "\n",
      "Number of segments: 2\n",
      "\n",
      "\n",
      "Number of segments: 2\n",
      "\n",
      "\n",
      "Number of segments: 2\n",
      "\n",
      "\n",
      "Number of segments: 2\n",
      "\n",
      "\n",
      "Number of segments: 2\n",
      "\n",
      "\n",
      "Number of segments: 1\n",
      "\n",
      "\n",
      "Number of segments: 1\n",
      "\n",
      "\n",
      "Number of segments: 2\n",
      "\n",
      "\n",
      "Number of segments: 2\n",
      "\n",
      "\n",
      "Number of segments: 3\n",
      "\n",
      "\n",
      "Number of segments: 1\n",
      "\n",
      "\n",
      "Number of segments: 3\n",
      "\n",
      "\n",
      "Number of segments: 3\n",
      "\n",
      "\n",
      "Number of segments: 2\n",
      "\n",
      "\n",
      "Number of segments: 2\n",
      "\n",
      "\n",
      "Number of segments: 3\n",
      "\n",
      "\n",
      "Number of segments: 2\n",
      "\n",
      "\n",
      "Number of segments: 2\n",
      "\n",
      "\n",
      "Number of segments: 2\n",
      "\n",
      "\n",
      "Number of segments: 2\n",
      "\n",
      "\n",
      "Number of segments: 2\n",
      "\n",
      "\n",
      "Number of segments: 3\n",
      "\n",
      "\n",
      "Number of segments: 2\n",
      "\n",
      "\n",
      "Number of segments: 2\n",
      "\n",
      "\n",
      "Number of segments: 2\n",
      "\n",
      "\n",
      "Number of segments: 2\n",
      "\n",
      "\n",
      "Number of segments: 2\n",
      "\n",
      "\n",
      "Number of segments: 2\n",
      "\n",
      "\n",
      "Number of segments: 3\n",
      "\n",
      "\n",
      "Number of segments: 3\n",
      "\n",
      "\n",
      "Number of segments: 3\n",
      "\n",
      "\n",
      "Number of segments: 2\n",
      "\n",
      "\n",
      "Number of segments: 2\n",
      "\n",
      "\n",
      "Number of segments: 2\n",
      "\n",
      "\n",
      "Number of segments: 2\n",
      "\n",
      "\n",
      "Number of segments: 2\n",
      "\n",
      "\n",
      "Number of segments: 2\n",
      "\n",
      "\n",
      "Number of segments: 2\n",
      "\n",
      "\n",
      "Number of segments: 1\n",
      "\n",
      "\n",
      "Number of segments: 2\n",
      "\n",
      "\n",
      "Number of segments: 2\n",
      "\n",
      "\n",
      "Number of segments: 2\n",
      "\n",
      "\n",
      "Number of segments: 2\n",
      "\n",
      "\n",
      "Number of segments: 2\n",
      "\n",
      "\n",
      "Number of segments: 2\n",
      "\n",
      "\n",
      "Number of segments: 2\n",
      "\n",
      "\n",
      "Number of segments: 2\n",
      "\n",
      "\n",
      "Number of segments: 3\n",
      "\n",
      "\n",
      "Number of segments: 4\n",
      "\n",
      "\n",
      "Number of segments: 2\n",
      "\n",
      "\n",
      "Number of segments: 2\n",
      "\n",
      "\n",
      "Number of segments: 3\n",
      "\n",
      "\n",
      "Number of segments: 2\n",
      "\n",
      "\n",
      "Number of segments: 2\n",
      "\n",
      "\n",
      "Number of segments: 2\n",
      "\n",
      "\n",
      "Number of segments: 1\n",
      "\n",
      "\n",
      "Number of segments: 1\n",
      "\n",
      "\n",
      "Number of segments: 1\n",
      "\n",
      "\n",
      "Number of segments: 2\n",
      "\n",
      "\n",
      "Number of segments: 2\n",
      "\n",
      "\n",
      "Number of segments: 2\n",
      "\n",
      "\n",
      "Number of segments: 1\n",
      "\n",
      "\n",
      "Number of segments: 1\n",
      "\n",
      "\n",
      "Number of segments: 2\n",
      "\n",
      "\n",
      "Number of segments: 1\n",
      "\n",
      "\n",
      "Number of segments: 2\n",
      "\n",
      "\n",
      "Number of segments: 1\n",
      "\n",
      "\n",
      "Number of segments: 2\n",
      "\n",
      "\n",
      "Number of segments: 2\n",
      "\n",
      "\n",
      "Number of segments: 2\n",
      "\n",
      "\n",
      "Number of segments: 1\n",
      "\n",
      "\n",
      "Number of segments: 1\n",
      "\n",
      "\n",
      "Number of segments: 3\n",
      "\n",
      "\n",
      "Number of segments: 1\n",
      "\n",
      "\n",
      "Number of segments: 1\n",
      "\n",
      "\n",
      "Number of segments: 2\n",
      "\n",
      "\n",
      "Number of segments: 3\n",
      "\n",
      "\n",
      "Number of segments: 1\n",
      "\n",
      "\n",
      "Number of segments: 2\n",
      "\n",
      "\n",
      "Number of segments: 2\n",
      "\n",
      "\n",
      "Number of segments: 3\n",
      "\n",
      "\n",
      "Number of segments: 3\n",
      "\n",
      "\n",
      "Number of segments: 2\n",
      "\n",
      "\n",
      "Number of segments: 2\n",
      "\n",
      "\n",
      "Number of segments: 2\n",
      "\n",
      "\n",
      "Number of segments: 2\n",
      "\n",
      "\n",
      "Number of segments: 2\n",
      "\n",
      "\n",
      "Number of segments: 3\n",
      "\n",
      "\n",
      "Number of segments: 2\n",
      "\n",
      "\n",
      "Number of segments: 2\n",
      "\n",
      "\n",
      "Number of segments: 2\n",
      "\n",
      "\n",
      "Number of segments: 1\n",
      "\n",
      "\n",
      "Number of segments: 1\n",
      "\n",
      "\n",
      "Number of segments: 1\n",
      "\n",
      "\n",
      "Number of segments: 1\n",
      "\n",
      "\n",
      "Number of segments: 1\n",
      "\n",
      "\n",
      "Number of segments: 1\n",
      "\n",
      "\n",
      "Number of segments: 2\n",
      "\n",
      "\n",
      "Number of segments: 2\n",
      "\n",
      "\n",
      "Number of segments: 2\n",
      "\n",
      "\n",
      "Number of segments: 2\n",
      "\n",
      "\n",
      "Number of segments: 3\n",
      "\n",
      "\n",
      "Number of segments: 2\n",
      "\n",
      "\n",
      "Number of segments: 2\n",
      "\n",
      "\n",
      "Number of segments: 2\n",
      "\n",
      "\n",
      "Number of segments: 2\n",
      "\n",
      "\n",
      "Number of segments: 2\n",
      "\n",
      "\n",
      "Number of segments: 2\n",
      "\n",
      "\n",
      "Number of segments: 2\n",
      "\n",
      "\n",
      "Number of segments: 2\n",
      "\n",
      "\n",
      "Number of segments: 2\n",
      "\n",
      "\n",
      "Number of segments: 2\n",
      "\n",
      "\n",
      "Number of segments: 3\n",
      "\n",
      "\n",
      "Number of segments: 1\n",
      "\n",
      "\n",
      "Number of segments: 3\n",
      "\n",
      "\n",
      "Number of segments: 1\n",
      "\n",
      "\n",
      "Number of segments: 1\n",
      "\n",
      "\n",
      "Number of segments: 3\n",
      "\n",
      "\n",
      "Number of segments: 2\n",
      "\n",
      "\n",
      "Number of segments: 2\n",
      "\n",
      "\n",
      "Number of segments: 2\n",
      "\n",
      "\n",
      "Number of segments: 2\n",
      "\n",
      "\n",
      "Number of segments: 1\n",
      "\n",
      "\n",
      "Number of segments: 2\n",
      "\n",
      "\n",
      "Number of segments: 2\n",
      "\n",
      "\n",
      "Number of segments: 2\n",
      "\n",
      "\n",
      "Number of segments: 2\n",
      "\n",
      "\n",
      "Number of segments: 1\n",
      "\n",
      "\n",
      "Number of segments: 2\n",
      "\n",
      "\n",
      "Number of segments: 2\n",
      "\n",
      "\n",
      "Number of segments: 2\n",
      "\n",
      "\n",
      "Number of segments: 2\n",
      "\n",
      "\n",
      "Number of segments: 2\n",
      "\n",
      "\n",
      "Number of segments: 2\n",
      "\n",
      "\n",
      "Number of segments: 2\n",
      "\n",
      "\n",
      "Number of segments: 2\n",
      "\n",
      "\n",
      "Number of segments: 1\n",
      "\n",
      "\n",
      "Number of segments: 1\n",
      "\n",
      "\n",
      "Number of segments: 2\n",
      "\n",
      "\n",
      "Number of segments: 2\n",
      "\n",
      "\n",
      "Number of segments: 2\n",
      "\n",
      "\n",
      "Number of segments: 2\n",
      "\n",
      "\n",
      "Number of segments: 1\n",
      "\n",
      "\n",
      "Number of segments: 2\n",
      "\n",
      "\n",
      "Number of segments: 2\n",
      "\n",
      "\n",
      "Number of segments: 2\n",
      "\n",
      "\n",
      "Number of segments: 1\n",
      "\n",
      "\n",
      "Number of segments: 2\n",
      "\n",
      "\n",
      "Number of segments: 1\n",
      "\n",
      "\n",
      "Number of segments: 3\n",
      "\n",
      "\n",
      "Number of segments: 3\n",
      "\n",
      "\n",
      "Number of segments: 1\n",
      "\n",
      "\n",
      "Number of segments: 3\n",
      "\n",
      "\n",
      "Number of segments: 1\n",
      "\n",
      "\n",
      "Number of segments: 2\n",
      "\n",
      "\n",
      "Number of segments: 1\n",
      "\n",
      "\n",
      "Number of segments: 2\n",
      "\n",
      "\n",
      "Number of segments: 2\n",
      "\n",
      "\n",
      "Number of segments: 2\n",
      "\n",
      "\n",
      "Number of segments: 2\n",
      "\n",
      "\n",
      "Number of segments: 1\n",
      "\n",
      "\n",
      "Number of segments: 3\n",
      "\n",
      "\n",
      "Number of segments: 2\n",
      "\n",
      "\n",
      "Number of segments: 2\n",
      "\n",
      "\n",
      "Number of segments: 2\n",
      "\n",
      "\n",
      "Number of segments: 2\n",
      "\n",
      "\n",
      "Number of segments: 1\n",
      "\n",
      "\n",
      "Number of segments: 1\n",
      "\n",
      "\n",
      "Number of segments: 2\n",
      "\n",
      "\n",
      "Number of segments: 2\n",
      "\n",
      "\n",
      "Number of segments: 2\n",
      "\n",
      "\n",
      "Number of segments: 2\n",
      "\n",
      "\n",
      "Number of segments: 2\n",
      "\n",
      "\n",
      "Number of segments: 1\n",
      "\n",
      "\n",
      "Number of segments: 2\n",
      "\n",
      "\n",
      "Number of segments: 1\n",
      "\n",
      "\n",
      "Number of segments: 1\n",
      "\n",
      "\n",
      "Number of segments: 2\n",
      "\n",
      "\n",
      "Number of segments: 2\n",
      "\n",
      "\n",
      "Number of segments: 2\n",
      "\n",
      "\n",
      "Number of segments: 2\n",
      "\n",
      "\n",
      "Number of segments: 2\n",
      "\n",
      "\n",
      "Number of segments: 2\n",
      "\n",
      "\n",
      "Number of segments: 2\n",
      "\n",
      "\n",
      "Number of segments: 1\n",
      "\n",
      "\n",
      "Number of segments: 3\n",
      "\n",
      "\n",
      "Number of segments: 3\n",
      "\n",
      "\n",
      "Number of segments: 2\n",
      "\n",
      "\n",
      "Number of segments: 1\n",
      "\n",
      "\n",
      "Number of segments: 3\n",
      "\n",
      "\n",
      "Number of segments: 2\n",
      "\n",
      "\n",
      "Number of segments: 2\n",
      "\n",
      "\n",
      "Number of segments: 2\n",
      "\n",
      "\n",
      "Number of segments: 4\n",
      "\n",
      "\n",
      "Number of segments: 5\n",
      "\n",
      "\n",
      "Number of segments: 5\n",
      "\n",
      "\n",
      "Number of segments: 3\n",
      "\n",
      "\n",
      "Number of segments: 3\n",
      "\n",
      "\n",
      "Number of segments: 3\n",
      "\n",
      "\n",
      "Number of segments: 3\n",
      "\n",
      "\n",
      "Number of segments: 3\n",
      "\n",
      "\n",
      "Number of segments: 4\n",
      "\n",
      "\n",
      "Number of segments: 1\n",
      "\n",
      "\n",
      "Number of segments: 4\n",
      "\n",
      "\n",
      "Number of segments: 4\n",
      "\n",
      "\n",
      "Number of segments: 2\n",
      "\n",
      "\n",
      "Number of segments: 2\n",
      "\n",
      "\n",
      "Number of segments: 2\n",
      "\n",
      "\n",
      "Number of segments: 1\n",
      "\n",
      "\n",
      "Number of segments: 2\n",
      "\n",
      "\n",
      "Number of segments: 2\n",
      "\n",
      "\n",
      "Number of segments: 1\n",
      "\n",
      "\n",
      "Number of segments: 1\n",
      "\n",
      "\n",
      "Number of segments: 1\n",
      "\n",
      "\n",
      "Number of segments: 2\n",
      "\n",
      "\n",
      "Number of segments: 2\n",
      "\n",
      "\n",
      "Number of segments: 1\n",
      "\n",
      "\n",
      "Number of segments: 2\n",
      "\n",
      "\n",
      "Number of segments: 2\n",
      "\n",
      "\n",
      "Number of segments: 2\n",
      "\n",
      "\n",
      "Number of segments: 1\n",
      "\n",
      "\n",
      "Number of segments: 2\n",
      "\n",
      "\n",
      "Number of segments: 2\n",
      "\n",
      "\n",
      "Number of segments: 2\n",
      "\n",
      "\n",
      "Number of segments: 2\n",
      "\n",
      "\n",
      "Number of segments: 3\n",
      "\n",
      "\n",
      "Number of segments: 3\n",
      "\n",
      "\n",
      "Number of segments: 1\n",
      "\n",
      "\n",
      "Number of segments: 5\n",
      "\n",
      "\n",
      "Number of segments: 3\n",
      "\n",
      "\n",
      "Number of segments: 3\n",
      "\n",
      "\n",
      "Number of segments: 4\n",
      "\n",
      "\n",
      "Number of segments: 1\n",
      "\n",
      "\n",
      "Number of segments: 3\n",
      "\n",
      "\n",
      "Number of segments: 3\n",
      "\n",
      "\n",
      "Number of segments: 3\n",
      "\n",
      "\n",
      "Number of segments: 2\n",
      "\n",
      "\n",
      "Number of segments: 3\n",
      "\n",
      "\n",
      "Number of segments: 1\n",
      "\n",
      "\n",
      "Number of segments: 1\n",
      "\n",
      "\n",
      "Number of segments: 2\n",
      "\n",
      "\n",
      "Number of segments: 1\n",
      "\n",
      "\n",
      "Number of segments: 1\n",
      "\n",
      "\n",
      "Number of segments: 2\n",
      "\n",
      "\n",
      "Number of segments: 1\n",
      "\n",
      "\n",
      "Number of segments: 2\n",
      "\n",
      "\n",
      "Number of segments: 2\n",
      "\n",
      "\n",
      "Number of segments: 1\n",
      "\n",
      "\n",
      "Number of segments: 2\n",
      "\n",
      "\n",
      "Number of segments: 3\n",
      "\n",
      "\n",
      "Number of segments: 2\n",
      "\n",
      "\n",
      "Number of segments: 2\n",
      "\n",
      "\n",
      "Number of segments: 2\n",
      "\n",
      "\n",
      "Number of segments: 1\n",
      "\n",
      "\n",
      "Number of segments: 4\n",
      "\n",
      "\n",
      "Number of segments: 3\n",
      "\n",
      "\n",
      "Number of segments: 2\n",
      "\n",
      "\n",
      "Number of segments: 2\n",
      "\n",
      "\n",
      "Number of segments: 3\n",
      "\n",
      "\n",
      "Number of segments: 2\n",
      "\n",
      "\n",
      "Number of segments: 2\n",
      "\n",
      "\n",
      "Number of segments: 2\n",
      "\n",
      "\n",
      "Number of segments: 1\n",
      "\n",
      "\n",
      "Number of segments: 3\n",
      "\n",
      "\n",
      "Number of segments: 3\n",
      "\n",
      "\n",
      "Number of segments: 3\n",
      "\n",
      "\n",
      "Number of segments: 3\n",
      "\n",
      "\n",
      "Number of segments: 3\n",
      "\n",
      "\n",
      "Number of segments: 2\n",
      "\n",
      "\n",
      "Number of segments: 3\n",
      "\n",
      "\n",
      "Number of segments: 3\n",
      "\n",
      "\n",
      "Number of segments: 2\n",
      "\n",
      "\n",
      "Number of segments: 3\n",
      "\n",
      "\n",
      "Number of segments: 3\n",
      "\n",
      "\n",
      "Number of segments: 2\n",
      "\n",
      "\n",
      "Number of segments: 3\n",
      "\n",
      "\n",
      "Number of segments: 2\n",
      "\n",
      "\n",
      "Number of segments: 5\n",
      "\n",
      "\n",
      "Number of segments: 5\n",
      "\n",
      "\n",
      "Number of segments: 5\n",
      "\n",
      "\n",
      "Number of segments: 2\n",
      "\n",
      "\n",
      "Number of segments: 2\n",
      "\n",
      "\n",
      "Number of segments: 3\n",
      "\n",
      "\n",
      "Number of segments: 2\n",
      "\n",
      "\n",
      "Number of segments: 3\n",
      "\n",
      "\n",
      "Number of segments: 3\n",
      "\n",
      "\n",
      "Number of segments: 1\n",
      "\n",
      "\n",
      "Number of segments: 2\n",
      "\n",
      "\n",
      "Number of segments: 2\n",
      "\n",
      "\n",
      "Number of segments: 3\n",
      "\n",
      "\n",
      "Number of segments: 3\n",
      "\n",
      "\n",
      "Number of segments: 3\n",
      "\n",
      "\n",
      "Number of segments: 2\n",
      "\n",
      "\n",
      "Number of segments: 2\n",
      "\n",
      "\n",
      "Number of segments: 2\n",
      "\n",
      "\n",
      "Number of segments: 2\n",
      "\n",
      "\n",
      "Number of segments: 2\n",
      "\n",
      "\n",
      "Number of segments: 2\n",
      "\n",
      "\n",
      "Number of segments: 2\n",
      "\n",
      "\n",
      "Number of segments: 2\n",
      "\n",
      "\n",
      "Number of segments: 2\n",
      "\n",
      "\n",
      "Number of segments: 2\n",
      "\n",
      "\n",
      "Number of segments: 2\n",
      "\n",
      "\n",
      "Number of segments: 2\n",
      "\n",
      "\n",
      "Number of segments: 3\n",
      "\n",
      "\n",
      "Number of segments: 3\n",
      "\n",
      "\n",
      "Number of segments: 3\n",
      "\n",
      "\n",
      "Number of segments: 2\n",
      "\n",
      "\n",
      "Number of segments: 2\n",
      "\n"
     ]
    },
    {
     "name": "stdout",
     "output_type": "stream",
     "text": [
      "\n",
      "Number of segments: 2\n",
      "\n",
      "\n",
      "Number of segments: 2\n",
      "\n",
      "\n",
      "Number of segments: 2\n",
      "\n",
      "\n",
      "Number of segments: 2\n",
      "\n",
      "\n",
      "Number of segments: 3\n",
      "\n",
      "\n",
      "Number of segments: 2\n",
      "\n",
      "\n",
      "Number of segments: 2\n",
      "\n",
      "\n",
      "Number of segments: 3\n",
      "\n",
      "\n",
      "Number of segments: 4\n",
      "\n",
      "\n",
      "Number of segments: 3\n",
      "\n",
      "\n",
      "Number of segments: 2\n",
      "\n",
      "\n",
      "Number of segments: 2\n",
      "\n",
      "\n",
      "Number of segments: 2\n",
      "\n",
      "\n",
      "Number of segments: 2\n",
      "\n",
      "\n",
      "Number of segments: 3\n",
      "\n",
      "\n",
      "Number of segments: 1\n",
      "\n",
      "\n",
      "Number of segments: 1\n",
      "\n",
      "\n",
      "Number of segments: 3\n",
      "\n",
      "\n",
      "Number of segments: 3\n",
      "\n",
      "\n",
      "Number of segments: 1\n",
      "\n",
      "\n",
      "Number of segments: 3\n",
      "\n",
      "\n",
      "Number of segments: 2\n",
      "\n",
      "\n",
      "Number of segments: 2\n",
      "\n",
      "\n",
      "Number of segments: 2\n",
      "\n",
      "\n",
      "Number of segments: 2\n",
      "\n",
      "\n",
      "Number of segments: 2\n",
      "\n",
      "\n",
      "Number of segments: 3\n",
      "\n",
      "\n",
      "Number of segments: 3\n",
      "\n",
      "\n",
      "Number of segments: 2\n",
      "\n",
      "\n",
      "Number of segments: 3\n",
      "\n",
      "\n",
      "Number of segments: 2\n",
      "\n",
      "\n",
      "Number of segments: 2\n",
      "\n",
      "\n",
      "Number of segments: 2\n",
      "\n",
      "\n",
      "Number of segments: 2\n",
      "\n",
      "\n",
      "Number of segments: 2\n",
      "\n",
      "\n",
      "Number of segments: 3\n",
      "\n",
      "\n",
      "Number of segments: 5\n",
      "\n",
      "\n",
      "Number of segments: 2\n",
      "\n",
      "\n",
      "Number of segments: 2\n",
      "\n",
      "\n",
      "Number of segments: 2\n",
      "\n",
      "\n",
      "Number of segments: 2\n",
      "\n",
      "\n",
      "Number of segments: 2\n",
      "\n",
      "\n",
      "Number of segments: 3\n",
      "\n",
      "\n",
      "Number of segments: 2\n",
      "\n",
      "\n",
      "Number of segments: 2\n",
      "\n",
      "\n",
      "Number of segments: 2\n",
      "\n",
      "\n",
      "Number of segments: 2\n",
      "\n",
      "\n",
      "Number of segments: 2\n",
      "\n",
      "\n",
      "Number of segments: 2\n",
      "\n",
      "\n",
      "Number of segments: 2\n",
      "\n",
      "\n",
      "Number of segments: 2\n",
      "\n",
      "\n",
      "Number of segments: 2\n",
      "\n",
      "\n",
      "Number of segments: 2\n",
      "\n",
      "\n",
      "Number of segments: 3\n",
      "\n",
      "\n",
      "Number of segments: 3\n",
      "\n",
      "\n",
      "Number of segments: 2\n",
      "\n",
      "\n",
      "Number of segments: 2\n",
      "\n",
      "\n",
      "Number of segments: 2\n",
      "\n",
      "\n",
      "Number of segments: 2\n",
      "\n",
      "\n",
      "Number of segments: 2\n",
      "\n",
      "\n",
      "Number of segments: 2\n",
      "\n",
      "\n",
      "Number of segments: 2\n",
      "\n",
      "\n",
      "Number of segments: 2\n",
      "\n",
      "\n",
      "Number of segments: 2\n",
      "\n",
      "\n",
      "Number of segments: 2\n",
      "\n",
      "\n",
      "Number of segments: 2\n",
      "\n",
      "\n",
      "Number of segments: 2\n",
      "\n",
      "\n",
      "Number of segments: 2\n",
      "\n",
      "\n",
      "Number of segments: 2\n",
      "\n",
      "\n",
      "Number of segments: 2\n",
      "\n",
      "\n",
      "Number of segments: 1\n",
      "\n",
      "\n",
      "Number of segments: 2\n",
      "\n",
      "\n",
      "Number of segments: 2\n",
      "\n",
      "\n",
      "Number of segments: 2\n",
      "\n",
      "\n",
      "Number of segments: 2\n",
      "\n",
      "\n",
      "Number of segments: 2\n",
      "\n",
      "\n",
      "Number of segments: 3\n",
      "\n",
      "\n",
      "Number of segments: 2\n",
      "\n",
      "\n",
      "Number of segments: 2\n",
      "\n",
      "\n",
      "Number of segments: 2\n",
      "\n",
      "\n",
      "Number of segments: 2\n",
      "\n",
      "\n",
      "Number of segments: 2\n",
      "\n",
      "\n",
      "Number of segments: 2\n",
      "\n",
      "\n",
      "Number of segments: 2\n",
      "\n",
      "\n",
      "Number of segments: 2\n",
      "\n",
      "\n",
      "Number of segments: 2\n",
      "\n",
      "\n",
      "Number of segments: 2\n",
      "\n",
      "\n",
      "Number of segments: 2\n",
      "\n",
      "\n",
      "Number of segments: 2\n",
      "\n",
      "\n",
      "Number of segments: 2\n",
      "\n",
      "\n",
      "Number of segments: 2\n",
      "\n",
      "\n",
      "Number of segments: 1\n",
      "\n",
      "\n",
      "Number of segments: 1\n",
      "\n",
      "\n",
      "Number of segments: 2\n",
      "\n",
      "\n",
      "Number of segments: 2\n",
      "\n",
      "\n",
      "Number of segments: 2\n",
      "\n",
      "\n",
      "Number of segments: 2\n",
      "\n",
      "\n",
      "Number of segments: 2\n",
      "\n",
      "\n",
      "Number of segments: 2\n",
      "\n",
      "\n",
      "Number of segments: 2\n",
      "\n",
      "\n",
      "Number of segments: 1\n",
      "\n",
      "\n",
      "Number of segments: 1\n",
      "\n",
      "\n",
      "Number of segments: 2\n",
      "\n",
      "\n",
      "Number of segments: 2\n",
      "\n",
      "\n",
      "Number of segments: 2\n",
      "\n",
      "\n",
      "Number of segments: 3\n",
      "\n",
      "\n",
      "Number of segments: 2\n",
      "\n",
      "\n",
      "Number of segments: 2\n",
      "\n",
      "\n",
      "Number of segments: 2\n",
      "\n",
      "\n",
      "Number of segments: 2\n",
      "\n",
      "\n",
      "Number of segments: 2\n",
      "\n",
      "\n",
      "Number of segments: 3\n",
      "\n",
      "\n",
      "Number of segments: 2\n",
      "\n",
      "\n",
      "Number of segments: 2\n",
      "\n",
      "\n",
      "Number of segments: 2\n",
      "\n",
      "\n",
      "Number of segments: 1\n",
      "\n",
      "\n",
      "Number of segments: 2\n",
      "\n",
      "\n",
      "Number of segments: 2\n",
      "\n",
      "\n",
      "Number of segments: 1\n",
      "\n",
      "\n",
      "Number of segments: 2\n",
      "\n",
      "\n",
      "Number of segments: 2\n",
      "\n",
      "\n",
      "Number of segments: 2\n",
      "\n",
      "\n",
      "Number of segments: 2\n",
      "\n",
      "\n",
      "Number of segments: 2\n",
      "\n",
      "\n",
      "Number of segments: 1\n",
      "\n",
      "\n",
      "Number of segments: 2\n",
      "\n",
      "\n",
      "Number of segments: 2\n",
      "\n",
      "\n",
      "Number of segments: 1\n",
      "\n",
      "\n",
      "Number of segments: 2\n",
      "\n",
      "\n",
      "Number of segments: 2\n",
      "\n",
      "\n",
      "Number of segments: 2\n",
      "\n",
      "\n",
      "Number of segments: 2\n",
      "\n",
      "\n",
      "Number of segments: 2\n",
      "\n",
      "\n",
      "Number of segments: 2\n",
      "\n",
      "\n",
      "Number of segments: 3\n",
      "\n",
      "\n",
      "Number of segments: 3\n",
      "\n",
      "\n",
      "Number of segments: 2\n",
      "\n",
      "\n",
      "Number of segments: 2\n",
      "\n",
      "\n",
      "Number of segments: 2\n",
      "\n",
      "\n",
      "Number of segments: 2\n",
      "\n",
      "\n",
      "Number of segments: 2\n",
      "\n",
      "\n",
      "Number of segments: 2\n",
      "\n",
      "\n",
      "Number of segments: 2\n",
      "\n",
      "\n",
      "Number of segments: 2\n",
      "\n",
      "\n",
      "Number of segments: 2\n",
      "\n",
      "\n",
      "Number of segments: 2\n",
      "\n",
      "\n",
      "Number of segments: 2\n",
      "\n",
      "\n",
      "Number of segments: 2\n",
      "\n",
      "\n",
      "Number of segments: 1\n",
      "\n",
      "\n",
      "Number of segments: 1\n",
      "\n",
      "\n",
      "Number of segments: 1\n",
      "\n",
      "\n",
      "Number of segments: 2\n",
      "\n",
      "\n",
      "Number of segments: 2\n",
      "\n",
      "\n",
      "Number of segments: 2\n",
      "\n",
      "\n",
      "Number of segments: 2\n",
      "\n",
      "\n",
      "Number of segments: 2\n",
      "\n",
      "\n",
      "Number of segments: 2\n",
      "\n",
      "\n",
      "Number of segments: 2\n",
      "\n",
      "\n",
      "Number of segments: 2\n",
      "\n",
      "\n",
      "Number of segments: 2\n",
      "\n",
      "\n",
      "Number of segments: 2\n",
      "\n",
      "\n",
      "Number of segments: 2\n",
      "\n",
      "\n",
      "Number of segments: 2\n",
      "\n",
      "\n",
      "Number of segments: 1\n",
      "\n",
      "\n",
      "Number of segments: 1\n",
      "\n",
      "\n",
      "Number of segments: 2\n",
      "\n",
      "\n",
      "Number of segments: 1\n",
      "\n",
      "\n",
      "Number of segments: 1\n",
      "\n",
      "\n",
      "Number of segments: 3\n",
      "\n",
      "\n",
      "Number of segments: 2\n",
      "\n",
      "\n",
      "Number of segments: 1\n",
      "\n",
      "\n",
      "Number of segments: 1\n",
      "\n",
      "\n",
      "Number of segments: 2\n",
      "\n",
      "\n",
      "Number of segments: 1\n",
      "\n",
      "\n",
      "Number of segments: 2\n",
      "\n",
      "\n",
      "Number of segments: 2\n",
      "\n",
      "\n",
      "Number of segments: 3\n",
      "\n",
      "\n",
      "Number of segments: 3\n",
      "\n",
      "\n",
      "Number of segments: 1\n",
      "\n",
      "\n",
      "Number of segments: 1\n",
      "\n",
      "\n",
      "Number of segments: 2\n",
      "\n",
      "\n",
      "Number of segments: 1\n",
      "\n",
      "\n",
      "Number of segments: 1\n",
      "\n",
      "\n",
      "Number of segments: 1\n",
      "\n",
      "\n",
      "Number of segments: 1\n",
      "\n",
      "\n",
      "Number of segments: 1\n",
      "\n",
      "\n",
      "Number of segments: 1\n",
      "\n",
      "\n",
      "Number of segments: 1\n",
      "\n",
      "\n",
      "Number of segments: 1\n",
      "\n",
      "\n",
      "Number of segments: 2\n",
      "\n",
      "\n",
      "Number of segments: 3\n",
      "\n",
      "\n",
      "Number of segments: 3\n",
      "\n",
      "\n",
      "Number of segments: 2\n",
      "\n",
      "\n",
      "Number of segments: 1\n",
      "\n",
      "\n",
      "Number of segments: 1\n",
      "\n",
      "\n",
      "Number of segments: 1\n",
      "\n",
      "\n",
      "Number of segments: 2\n",
      "\n",
      "\n",
      "Number of segments: 2\n",
      "\n",
      "\n",
      "Number of segments: 2\n",
      "\n",
      "\n",
      "Number of segments: 2\n",
      "\n",
      "\n",
      "Number of segments: 1\n",
      "\n",
      "\n",
      "Number of segments: 2\n",
      "\n",
      "\n",
      "Number of segments: 2\n",
      "\n",
      "\n",
      "Number of segments: 1\n",
      "\n",
      "\n",
      "Number of segments: 2\n",
      "\n",
      "\n",
      "Number of segments: 1\n",
      "\n",
      "\n",
      "Number of segments: 3\n",
      "\n",
      "\n",
      "Number of segments: 3\n",
      "\n",
      "\n",
      "Number of segments: 1\n",
      "\n",
      "\n",
      "Number of segments: 1\n",
      "\n",
      "\n",
      "Number of segments: 1\n",
      "\n",
      "\n",
      "Number of segments: 1\n",
      "\n",
      "\n",
      "Number of segments: 1\n",
      "\n",
      "\n",
      "Number of segments: 2\n",
      "\n",
      "\n",
      "Number of segments: 1\n",
      "\n",
      "\n",
      "Number of segments: 2\n",
      "\n",
      "\n",
      "Number of segments: 2\n",
      "\n",
      "\n",
      "Number of segments: 2\n",
      "\n",
      "\n",
      "Number of segments: 2\n",
      "\n",
      "\n",
      "Number of segments: 2\n",
      "\n",
      "\n",
      "Number of segments: 2\n",
      "\n",
      "\n",
      "Number of segments: 2\n",
      "\n",
      "\n",
      "Number of segments: 2\n",
      "\n",
      "\n",
      "Number of segments: 1\n",
      "\n",
      "\n",
      "Number of segments: 2\n",
      "\n",
      "\n",
      "Number of segments: 2\n",
      "\n",
      "\n",
      "Number of segments: 2\n",
      "\n",
      "\n",
      "Number of segments: 2\n",
      "\n",
      "\n",
      "Number of segments: 1\n",
      "\n",
      "\n",
      "Number of segments: 2\n",
      "\n",
      "\n",
      "Number of segments: 1\n",
      "\n",
      "\n",
      "Number of segments: 2\n",
      "\n",
      "\n",
      "Number of segments: 2\n",
      "\n",
      "\n",
      "Number of segments: 2\n",
      "\n",
      "\n",
      "Number of segments: 2\n",
      "\n",
      "\n",
      "Number of segments: 2\n",
      "\n",
      "\n",
      "Number of segments: 2\n",
      "\n",
      "\n",
      "Number of segments: 2\n",
      "\n",
      "\n",
      "Number of segments: 1\n",
      "\n",
      "\n",
      "Number of segments: 1\n",
      "\n",
      "\n",
      "Number of segments: 1\n",
      "\n",
      "\n",
      "Number of segments: 1\n",
      "\n",
      "\n",
      "Number of segments: 1\n",
      "\n",
      "\n",
      "Number of segments: 2\n",
      "\n",
      "\n",
      "Number of segments: 2\n",
      "\n",
      "\n",
      "Number of segments: 2\n",
      "\n",
      "\n",
      "Number of segments: 2\n",
      "\n",
      "\n",
      "Number of segments: 2\n",
      "\n",
      "\n",
      "Number of segments: 2\n",
      "\n",
      "\n",
      "Number of segments: 2\n",
      "\n",
      "\n",
      "Number of segments: 2\n",
      "\n",
      "\n",
      "Number of segments: 1\n",
      "\n",
      "\n",
      "Number of segments: 1\n",
      "\n",
      "\n",
      "Number of segments: 7\n",
      "\n",
      "\n",
      "Number of segments: 7\n",
      "\n",
      "\n",
      "Number of segments: 10\n",
      "\n",
      "\n",
      "Number of segments: 3\n",
      "\n",
      "\n",
      "Number of segments: 3\n",
      "\n",
      "\n",
      "Number of segments: 3\n",
      "\n",
      "\n",
      "Number of segments: 1\n",
      "\n",
      "\n",
      "Number of segments: 3\n",
      "\n",
      "\n",
      "Number of segments: 3\n",
      "\n",
      "\n",
      "Number of segments: 2\n",
      "\n",
      "\n",
      "Number of segments: 2\n",
      "\n",
      "\n",
      "Number of segments: 2\n",
      "\n",
      "\n",
      "Number of segments: 4\n",
      "\n",
      "\n",
      "Number of segments: 6\n",
      "\n",
      "\n",
      "Number of segments: 1\n",
      "\n",
      "\n",
      "Number of segments: 2\n",
      "\n",
      "\n",
      "Number of segments: 3\n",
      "\n",
      "\n",
      "Number of segments: 2\n",
      "\n",
      "\n",
      "Number of segments: 2\n",
      "\n",
      "\n",
      "Number of segments: 2\n",
      "\n",
      "\n",
      "Number of segments: 3\n",
      "\n",
      "\n",
      "Number of segments: 2\n",
      "\n",
      "\n",
      "Number of segments: 2\n",
      "\n",
      "\n",
      "Number of segments: 2\n",
      "\n",
      "\n",
      "Number of segments: 2\n",
      "\n",
      "\n",
      "Number of segments: 2\n",
      "\n",
      "\n",
      "Number of segments: 3\n",
      "\n",
      "\n",
      "Number of segments: 2\n",
      "\n",
      "\n",
      "Number of segments: 2\n",
      "\n",
      "\n",
      "Number of segments: 2\n",
      "\n",
      "\n",
      "Number of segments: 2\n",
      "\n",
      "\n",
      "Number of segments: 2\n",
      "\n",
      "\n",
      "Number of segments: 2\n",
      "\n",
      "\n",
      "Number of segments: 2\n",
      "\n",
      "\n",
      "Number of segments: 2\n",
      "\n",
      "\n",
      "Number of segments: 2\n",
      "\n",
      "\n",
      "Number of segments: 2\n",
      "\n",
      "\n",
      "Number of segments: 1\n",
      "\n",
      "\n",
      "Number of segments: 3\n",
      "\n",
      "\n",
      "Number of segments: 2\n",
      "\n",
      "\n",
      "Number of segments: 2\n",
      "\n",
      "\n",
      "Number of segments: 2\n",
      "\n",
      "\n",
      "Number of segments: 1\n",
      "\n",
      "\n",
      "Number of segments: 3\n",
      "\n",
      "\n",
      "Number of segments: 2\n",
      "\n",
      "\n",
      "Number of segments: 3\n",
      "\n",
      "\n",
      "Number of segments: 3\n",
      "\n",
      "\n",
      "Number of segments: 2\n",
      "\n",
      "\n",
      "Number of segments: 1\n",
      "\n",
      "\n",
      "Number of segments: 2\n",
      "\n",
      "\n",
      "Number of segments: 2\n",
      "\n",
      "\n",
      "Number of segments: 2\n",
      "\n",
      "\n",
      "Number of segments: 2\n",
      "\n",
      "\n",
      "Number of segments: 2\n",
      "\n",
      "\n",
      "Number of segments: 2\n",
      "\n",
      "\n",
      "Number of segments: 1\n",
      "\n",
      "\n",
      "Number of segments: 2\n",
      "\n",
      "\n",
      "Number of segments: 2\n",
      "\n",
      "\n",
      "Number of segments: 2\n",
      "\n",
      "\n",
      "Number of segments: 2\n",
      "\n",
      "\n",
      "Number of segments: 1\n",
      "\n",
      "\n",
      "Number of segments: 1\n",
      "\n",
      "\n",
      "Number of segments: 2\n",
      "\n",
      "\n",
      "Number of segments: 2\n",
      "\n",
      "\n",
      "Number of segments: 2\n",
      "\n",
      "\n",
      "Number of segments: 2\n",
      "\n",
      "\n",
      "Number of segments: 1\n",
      "\n",
      "\n",
      "Number of segments: 1\n",
      "\n",
      "\n",
      "Number of segments: 1\n",
      "\n",
      "branches_without_postsyn_req query = \n",
      "skeletal_length > 10000  and ((synapse_density_offset_endpoint_upstream < 0.00015) or (n_synapses_offset_endpoint_upstream <= 2)) and (n_synapses_pre_offset_endpoint_upstream <= 1) and (width_new > 95) and (width_new < 650) and (n_synapses_spine_offset_endpoint_upstream < 3)\n",
      "No limb branch to plot\n",
      "Starting axon branch was the starting node so using border vertices and NOT computing upstream branch\n",
      "upstream_node_to_axon_starting_branch = None\n"
     ]
    },
    {
     "name": "stdout",
     "output_type": "stream",
     "text": [
      "invalidation_d = 1500\n",
      "use_adaptive_invalidation_d= False\n",
      "axon_width_preprocess_limb_max = 200\n",
      "filter_end_node_length= 1150\n",
      "filter_end_node_length_meshparty = 1150\n",
      "invalidation_d = 1500\n",
      "root_curr = [ 552945.2  757231.5 1044509. ]\n",
      "Time for preparing soma vertices and root: 0.0002758502960205078\n",
      "invalidation_d = 1500\n",
      "smooth_neighborhood = 0\n",
      "cc_vertex_thresh = 10\n"
     ]
    },
    {
     "name": "stderr",
     "output_type": "stream",
     "text": [
      "100%|██████████| 1/1 [00:00<00:00,  1.02it/s]\n"
     ]
    },
    {
     "name": "stdout",
     "output_type": "stream",
     "text": [
      "meshparty_segment_size = 100\n",
      "Time for 1st pass MP skeletonization: 1.4520647525787354\n",
      "branches_touching_root = [16]\n",
      "combining close nodes\n",
      "combine_threshold = 1300\n",
      "length of Graph = 13106\n",
      "After combining close endpoints max(kept_branches_idx) = 230, len(kept_branches_idx) = 190\n",
      "empty_indices % = 0.0\n",
      " conflict_indices % = 0.05154251788018087\n",
      "Decomposing first pass: 11.920819997787476\n",
      "Only Using MeshParty Skeletonization and Mesh Correspondence\n",
      "Another print\n",
      "Divinding into MP and MAP pieces: 8.344650268554688e-06\n",
      "Total time for MAP sublimb processing 2.86102294921875e-06\n",
      "---- Working on MP Decomposition #0 ----\n",
      "Using Quicker soma_to_piece_touching_vertices because no MAP and only one sublimb_mesh piece \n",
      "MP filtering soma verts: 2.6702880859375e-05\n",
      "Fixing Possible Soma Extension Branch for Sublimb 0\n",
      "Total time for mesh KDTree = 0.01077127456665039\n",
      "sbv[0].reshape(-1,3) = [[ 552945.2  757231.5 1044509. ]]\n",
      "closest_sk_pt_coord BEFORE = [ 552495.72569604  757785.38871569 1044811.89960749]\n",
      "current_skeleton.shape = (126, 2, 3)\n",
      "node_for_stitch = 8: [ 552495.72569604  757785.38871569 1044811.89960749]\n",
      "node_for_stitch AFTER = 8: [ 552495.72569604  757785.38871569 1044811.89960749]\n",
      "possible_node_loc = [  7 126]\n",
      "possible_node_loc AFTER = [  7 126]\n",
      "curr_shortest_path = [8, 6.0, 5.0, 3.0, 1.0, 0.0, 2.0, 4.0, 7]\n",
      "Current stitch point was not a branch or endpoint, shortest_path_length to one = 772.9164913562157\n",
      "Changing the stitch point becasue the distance to end or branch node was 772.9164913562157\n",
      "New stitch point has degree 1\n",
      "change_status for create soma extending pieces = True\n",
      "closest_sk_pt_coord AFTER = [ 552491.   757414.8 1044274. ]\n",
      "skipping soma 0 because closest skeleton node was already end node\n",
      "endpoints_must_keep = {0: array([[ 552491. ,  757414.8, 1044274. ]])}\n",
      "match_sk_branches = [14]\n",
      "The new branch info was none so skipping \n",
      "\n",
      "No soma extending branch was added for this sublimb even though it had a soma border (means they already existed)\n",
      "MP (because soma touching verts) soma extension add: 0.06405448913574219\n",
      "There were not both MAP and MP pieces so skipping the stitch resolving phase\n",
      "Time for decomp of Limb = 13.727815866470337\n",
      "Number of matching vertices = 21\n",
      "Only one endpoint after filtering away the endpoints that are not on the skeleton\n",
      "Removed 0 skeletal branches\n",
      "80873 80874\n",
      "For marked faces: None\n",
      "empty_indices % = 0.0\n",
      " conflict_indices % = 0.0\n",
      "Limb Correspondence before stitching = 190\n",
      "Filtering away non soma floating pieces near the soma\n",
      "Before filter # of pieces = 1\n",
      "AFTER filter # of pieces = 0\n",
      "concept_network_dict = {0: [<datasci_tools.networkx_utils.GraphOrderedEdges object at 0x7f9976397b20>]}\n",
      "\n",
      "\n",
      "----Working on seperate_graph 0----\n",
      "\n",
      "\n",
      "---------Working on soma_idx = 0, soma_group_idx 0, endpt = [ 552491.   757414.8 1044274. ]---------\n",
      "Starting_edge inside branches_to_conept = [[ 552491.   757414.8 1044274. ]\n",
      " [ 557123.1  763979.5 1052678. ]]\n",
      "At the start, starting_node (in terms of the skeleton, that shouldn't match the starting edge) = [105]\n",
      "printing out current edge:\n",
      "[[ 552491.   757414.8 1044274. ]\n",
      " [ 557123.1  763979.5 1052678. ]]\n",
      "edge_endpoints_to_process was empty so exiting loop after 190 iterations\n",
      "starting_node in concept map (that should match the starting edge) = 106\n",
      "Total time for branches to concept conversion = 0.6866188049316406\n",
      "\n",
      "Done generating concept network \n",
      "\n",
      "\n",
      "\n",
      "Number of segments: 5\n",
      "\n",
      "\n",
      "Number of segments: 8\n",
      "\n",
      "\n",
      "Number of segments: 5\n",
      "\n",
      "\n",
      "Number of segments: 8\n",
      "\n",
      "\n",
      "Number of segments: 6\n",
      "\n",
      "\n",
      "Number of segments: 7\n",
      "\n",
      "\n",
      "Number of segments: 2\n",
      "\n",
      "\n",
      "Number of segments: 3\n",
      "\n",
      "\n",
      "Number of segments: 2\n",
      "\n",
      "\n",
      "Number of segments: 13\n",
      "\n",
      "\n",
      "Number of segments: 5\n",
      "\n",
      "\n",
      "Number of segments: 6\n",
      "\n",
      "\n",
      "Number of segments: 6\n",
      "\n",
      "\n",
      "Number of segments: 6\n",
      "\n",
      "\n",
      "Number of segments: 6\n",
      "\n",
      "\n",
      "Number of segments: 6\n",
      "\n",
      "\n",
      "Number of segments: 6\n",
      "\n",
      "\n",
      "Number of segments: 3\n",
      "\n",
      "\n",
      "Number of segments: 4\n",
      "\n",
      "\n",
      "Number of segments: 7\n",
      "\n",
      "\n",
      "Number of segments: 8\n",
      "\n",
      "\n",
      "Number of segments: 3\n",
      "\n",
      "\n",
      "Number of segments: 8\n",
      "\n",
      "\n",
      "Number of segments: 4\n",
      "\n",
      "\n",
      "Number of segments: 4\n",
      "\n",
      "\n",
      "Number of segments: 12\n",
      "\n",
      "\n",
      "Number of segments: 2\n",
      "\n",
      "\n",
      "Number of segments: 3\n",
      "\n",
      "\n",
      "Number of segments: 2\n",
      "\n",
      "\n",
      "Number of segments: 5\n",
      "\n",
      "\n",
      "Number of segments: 4\n",
      "\n",
      "\n",
      "Number of segments: 5\n",
      "\n",
      "\n",
      "Number of segments: 5\n",
      "\n",
      "\n",
      "Number of segments: 3\n",
      "\n",
      "\n",
      "Number of segments: 5\n",
      "\n",
      "\n",
      "Number of segments: 8\n",
      "\n",
      "\n",
      "Number of segments: 8\n",
      "\n",
      "\n",
      "Number of segments: 5\n",
      "\n",
      "\n",
      "Number of segments: 8\n",
      "\n",
      "\n",
      "Number of segments: 4\n",
      "\n",
      "\n",
      "Number of segments: 3\n",
      "\n",
      "\n",
      "Number of segments: 1\n",
      "\n",
      "\n",
      "Number of segments: 6\n",
      "\n",
      "\n",
      "Number of segments: 7\n",
      "\n",
      "\n",
      "Number of segments: 31\n",
      "\n",
      "\n",
      "Number of segments: 3\n",
      "\n",
      "\n",
      "Number of segments: 2\n",
      "\n",
      "\n",
      "Number of segments: 9\n",
      "\n",
      "\n",
      "Number of segments: 14\n",
      "\n",
      "\n",
      "Number of segments: 25\n",
      "\n",
      "\n",
      "Number of segments: 22\n",
      "\n",
      "\n",
      "Number of segments: 5\n",
      "\n",
      "\n",
      "Number of segments: 9\n",
      "\n",
      "\n",
      "Number of segments: 5\n",
      "\n",
      "\n",
      "Number of segments: 2\n",
      "\n",
      "\n",
      "Number of segments: 7\n",
      "\n",
      "\n",
      "Number of segments: 8\n",
      "\n",
      "\n",
      "Number of segments: 5\n",
      "\n",
      "\n",
      "Number of segments: 7\n",
      "\n",
      "\n",
      "Number of segments: 8\n",
      "\n",
      "\n",
      "Number of segments: 11\n",
      "\n",
      "\n",
      "Number of segments: 2\n",
      "\n",
      "\n",
      "Number of segments: 2\n",
      "\n",
      "\n",
      "Number of segments: 7\n",
      "\n",
      "\n",
      "Number of segments: 14\n",
      "\n",
      "\n",
      "Number of segments: 2\n",
      "\n",
      "\n",
      "Number of segments: 1\n",
      "\n",
      "\n",
      "Number of segments: 5\n",
      "\n",
      "\n",
      "Number of segments: 10\n",
      "\n",
      "\n",
      "Number of segments: 7\n",
      "\n",
      "\n",
      "Number of segments: 6\n",
      "\n",
      "\n",
      "Number of segments: 12\n",
      "\n",
      "\n",
      "Number of segments: 3\n",
      "\n",
      "\n",
      "Number of segments: 5\n",
      "\n",
      "\n",
      "Number of segments: 7\n",
      "\n",
      "\n",
      "Number of segments: 13\n",
      "\n",
      "\n",
      "Number of segments: 7\n",
      "\n",
      "\n",
      "Number of segments: 4\n",
      "\n",
      "\n",
      "Number of segments: 2\n",
      "\n",
      "\n",
      "Number of segments: 11\n",
      "\n",
      "\n",
      "Number of segments: 9\n",
      "\n",
      "\n",
      "Number of segments: 12\n",
      "\n",
      "\n",
      "Number of segments: 15\n",
      "\n",
      "\n",
      "Number of segments: 14\n",
      "\n",
      "\n",
      "Number of segments: 10\n",
      "\n",
      "\n",
      "Number of segments: 4\n",
      "\n",
      "\n",
      "Number of segments: 4\n",
      "\n",
      "\n",
      "Number of segments: 16\n",
      "\n",
      "\n",
      "Number of segments: 4\n",
      "\n",
      "\n",
      "Number of segments: 6\n",
      "\n",
      "\n",
      "Number of segments: 9\n",
      "\n",
      "\n",
      "Number of segments: 8\n",
      "\n",
      "\n",
      "Number of segments: 2\n",
      "\n",
      "\n",
      "Number of segments: 3\n",
      "\n",
      "\n",
      "Number of segments: 5\n",
      "\n",
      "\n",
      "Number of segments: 6\n",
      "\n",
      "\n",
      "Number of segments: 6\n",
      "\n",
      "\n",
      "Number of segments: 3\n",
      "\n",
      "\n",
      "Number of segments: 4\n",
      "\n",
      "\n",
      "Number of segments: 9\n",
      "\n",
      "\n",
      "Number of segments: 16\n",
      "\n",
      "\n",
      "Number of segments: 11\n",
      "\n",
      "\n",
      "Number of segments: 13\n",
      "\n",
      "\n",
      "Number of segments: 22\n",
      "\n",
      "\n",
      "Number of segments: 19\n",
      "\n",
      "\n",
      "Number of segments: 11\n",
      "\n",
      "\n",
      "Number of segments: 27\n",
      "\n",
      "\n",
      "Number of segments: 11\n",
      "\n",
      "\n",
      "Number of segments: 36\n",
      "\n",
      "\n",
      "Number of segments: 10\n",
      "\n",
      "\n",
      "Number of segments: 12\n",
      "\n",
      "\n",
      "Number of segments: 12\n",
      "\n",
      "\n",
      "Number of segments: 37\n",
      "\n",
      "\n",
      "Number of segments: 30\n",
      "\n",
      "\n",
      "Number of segments: 9\n",
      "\n",
      "\n",
      "Number of segments: 45\n",
      "\n",
      "\n",
      "Number of segments: 47\n",
      "\n",
      "\n",
      "Number of segments: 15\n",
      "\n",
      "\n",
      "Number of segments: 19\n",
      "\n",
      "\n",
      "Number of segments: 8\n",
      "\n",
      "\n",
      "Number of segments: 14\n",
      "\n",
      "\n",
      "Number of segments: 18\n",
      "\n",
      "\n",
      "Number of segments: 13\n",
      "\n",
      "\n",
      "Number of segments: 12\n",
      "\n",
      "\n",
      "Number of segments: 12\n",
      "\n",
      "\n",
      "Number of segments: 25\n",
      "\n",
      "\n",
      "Number of segments: 20\n",
      "\n",
      "\n",
      "Number of segments: 13\n",
      "\n",
      "\n",
      "Number of segments: 12\n",
      "\n",
      "\n",
      "Number of segments: 7\n",
      "\n",
      "\n",
      "Number of segments: 21\n",
      "\n",
      "\n",
      "Number of segments: 12\n",
      "\n",
      "\n",
      "Number of segments: 30\n",
      "\n",
      "\n",
      "Number of segments: 32\n",
      "\n",
      "\n",
      "Number of segments: 34\n",
      "\n",
      "\n",
      "Number of segments: 10\n",
      "\n",
      "\n",
      "Number of segments: 15\n",
      "\n",
      "\n",
      "Number of segments: 10\n",
      "\n",
      "\n",
      "Number of segments: 16\n",
      "\n",
      "\n",
      "Number of segments: 12\n",
      "\n",
      "\n",
      "Number of segments: 26\n",
      "\n",
      "\n",
      "Number of segments: 13\n",
      "\n",
      "\n",
      "Number of segments: 13\n",
      "\n",
      "\n",
      "Number of segments: 8\n",
      "\n",
      "\n",
      "Number of segments: 16\n",
      "\n",
      "\n",
      "Number of segments: 11\n",
      "\n",
      "\n",
      "Number of segments: 21\n",
      "\n",
      "\n",
      "Number of segments: 29\n",
      "\n",
      "\n",
      "Number of segments: 11\n",
      "\n",
      "\n",
      "Number of segments: 7\n",
      "\n",
      "\n",
      "Number of segments: 13\n",
      "\n",
      "\n",
      "Number of segments: 17\n",
      "\n",
      "\n",
      "Number of segments: 20\n",
      "\n",
      "\n",
      "Number of segments: 25\n",
      "\n",
      "\n",
      "Number of segments: 17\n",
      "\n",
      "\n",
      "Number of segments: 9\n",
      "\n",
      "\n",
      "Number of segments: 8\n",
      "\n",
      "\n",
      "Number of segments: 16\n",
      "\n",
      "\n",
      "Number of segments: 10\n",
      "\n",
      "\n",
      "Number of segments: 11\n",
      "\n",
      "\n",
      "Number of segments: 19\n",
      "\n",
      "\n",
      "Number of segments: 24\n",
      "\n",
      "\n",
      "Number of segments: 14\n",
      "\n",
      "\n",
      "Number of segments: 18\n",
      "\n",
      "\n",
      "Number of segments: 5\n",
      "\n",
      "\n",
      "Number of segments: 5\n",
      "\n",
      "\n",
      "Number of segments: 15\n",
      "\n",
      "\n",
      "Number of segments: 8\n",
      "\n",
      "\n",
      "Number of segments: 10\n",
      "\n",
      "\n",
      "Number of segments: 14\n",
      "\n",
      "\n",
      "Number of segments: 17\n",
      "\n",
      "\n",
      "Number of segments: 12\n",
      "\n"
     ]
    }
   ],
   "source": [
    "neuron_obj_axon = npu.cell_type_ax_dendr_stage(\n",
    "    n1,\n",
    "    mesh_decimated = mesh_decimated,\n",
    "    plot_axon = False,\n",
    ")"
   ]
  },
  {
   "cell_type": "code",
   "execution_count": null,
   "id": "ef29fb5b",
   "metadata": {},
   "outputs": [],
   "source": [
    "nviz.plot_axon(\n",
    "    neuron_obj_axon\n",
    ")"
   ]
  },
  {
   "cell_type": "markdown",
   "id": "e4359d09",
   "metadata": {},
   "source": [
    "# Autoproofreading Stage"
   ]
  },
  {
   "cell_type": "code",
   "execution_count": null,
   "id": "458fa42f",
   "metadata": {},
   "outputs": [],
   "source": [
    "neuron_obj_proof = npu.auto_proof_stage(\n",
    "    neuron_obj_axon,\n",
    "    mesh_decimated = mesh_decimated,\n",
    "    calculate_after_proof_stats = False,\n",
    ")"
   ]
  },
  {
   "cell_type": "code",
   "execution_count": null,
   "id": "c7e31a9e",
   "metadata": {},
   "outputs": [],
   "source": [
    "_ = npu.after_auto_proof_stats(\n",
    "    neuron_obj_proof,\n",
    "    store_in_obj = True,\n",
    ")"
   ]
  },
  {
   "cell_type": "markdown",
   "id": "86446328",
   "metadata": {},
   "source": [
    "# Saving off the autoproofread neuron"
   ]
  },
  {
   "cell_type": "code",
   "execution_count": null,
   "id": "fb8c945e",
   "metadata": {},
   "outputs": [],
   "source": [
    "vdi.save_neuron_obj_auto_proof(\n",
    "    neuron_obj_proof,\n",
    ")"
   ]
  },
  {
   "cell_type": "markdown",
   "id": "788253a7",
   "metadata": {},
   "source": [
    "# Plotting the final neuron"
   ]
  },
  {
   "cell_type": "code",
   "execution_count": null,
   "id": "96df2c4e",
   "metadata": {},
   "outputs": [],
   "source": [
    "from neurd import synapse_utils as syu"
   ]
  },
  {
   "cell_type": "code",
   "execution_count": null,
   "id": "6eb2997d",
   "metadata": {},
   "outputs": [],
   "source": [
    "from datasci_tools import ipyvolume_utils as ipvu\n",
    "ipvu.plot_objects(\n",
    "    neuron_obj_axon.mesh,\n",
    "    meshes = [neuron_obj_proof.mesh],\n",
    "    meshes_colors=\"red\"\n",
    ")"
   ]
  },
  {
   "cell_type": "code",
   "execution_count": null,
   "id": "60c5c168",
   "metadata": {},
   "outputs": [],
   "source": [
    "syu.plot_synapses(neuron_obj_proof)"
   ]
  },
  {
   "cell_type": "code",
   "execution_count": null,
   "id": "4069451e",
   "metadata": {},
   "outputs": [],
   "source": [
    "syu.plot_synapses_error_from_neuron_obj(neuron_obj_proof)    "
   ]
  },
  {
   "cell_type": "code",
   "execution_count": null,
   "id": "c3ba8212",
   "metadata": {},
   "outputs": [],
   "source": [
    "syu.plot_synapses_valid_from_neuron_obj(neuron_obj_proof)  "
   ]
  },
  {
   "cell_type": "code",
   "execution_count": null,
   "id": "a1174825",
   "metadata": {},
   "outputs": [],
   "source": [
    "nviz.plot_compartments(neuron_obj_proof)"
   ]
  },
  {
   "cell_type": "code",
   "execution_count": null,
   "id": "a7eb4315",
   "metadata": {},
   "outputs": [],
   "source": []
  },
  {
   "cell_type": "code",
   "execution_count": null,
   "id": "8843c624-5210-4f4e-8459-2beb758ab1a3",
   "metadata": {},
   "outputs": [],
   "source": [
    "%load_ext autoreload\n",
    "%autoreload 2"
   ]
  },
  {
   "cell_type": "code",
   "execution_count": null,
   "id": "2fa5bebf-fdf7-4099-b07d-c95442f906c1",
   "metadata": {},
   "outputs": [],
   "source": []
  },
  {
   "cell_type": "code",
   "execution_count": null,
   "id": "81cc6b6b-8411-4a92-9d9c-5af12b50bd17",
   "metadata": {},
   "outputs": [],
   "source": []
  }
 ],
 "metadata": {
  "kernelspec": {
   "display_name": "Python 3 (ipykernel)",
   "language": "python",
   "name": "python3"
  },
  "language_info": {
   "codemirror_mode": {
    "name": "ipython",
    "version": 3
   },
   "file_extension": ".py",
   "mimetype": "text/x-python",
   "name": "python",
   "nbconvert_exporter": "python",
   "pygments_lexer": "ipython3",
   "version": "3.8.0"
  }
 },
 "nbformat": 4,
 "nbformat_minor": 5
}

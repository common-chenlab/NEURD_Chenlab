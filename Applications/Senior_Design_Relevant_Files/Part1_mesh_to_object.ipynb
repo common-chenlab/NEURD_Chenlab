{
 "cells": [
  {
   "cell_type": "markdown",
   "id": "1a99a672-ed4b-42f9-827d-a5bafb3cd2ef",
   "metadata": {},
   "source": [
    "Part 1: Raw mesh --> decimation --> autoproofreading --> save object"
   ]
  },
  {
   "cell_type": "code",
   "execution_count": 1,
   "id": "4fe1715b-aa44-4554-982f-0ad5b919a595",
   "metadata": {},
   "outputs": [
    {
     "name": "stderr",
     "output_type": "stream",
     "text": [
      "/usr/local/lib/python3.8/dist-packages/python_jsonschema_objects/__init__.py:113: UserWarning: Schema id not specified. Defaulting to 'self'\n",
      "  warnings.warn(\"Schema id not specified. Defaulting to 'self'\")\n"
     ]
    }
   ],
   "source": [
    "%load_ext autoreload\n",
    "%autoreload 2\n",
    "\n",
    "import neurd\n",
    "from mesh_tools import trimesh_utils as tu\n",
    "from datasci_tools import ipyvolume_utils as ipvu\n",
    "from neurd import neuron_visualizations as nviz\n",
    "from pathlib import Path\n",
    "from neurd.vdi_microns import volume_data_interface as vdi\n",
    "vdi.set_parameters_for_directory_modules()"
   ]
  },
  {
   "cell_type": "code",
   "execution_count": 2,
   "id": "f14162cc-281d-4be7-8fce-952fc093a300",
   "metadata": {},
   "outputs": [],
   "source": [
    "# load data \n",
    "segment_id = 864691135567721964\n",
    "\n",
    "mesh = vdi.fetch_segment_id_mesh(\n",
    "    segment_id,\n",
    "    plot = True\n",
    ")\n",
    "mesh"
   ]
  },
  {
   "cell_type": "code",
   "execution_count": 4,
   "id": "5374f1c7-383b-4d19-819e-06091ce42c5a",
   "metadata": {},
   "outputs": [
    {
     "data": {
      "text/plain": [
       "<datasci_tools.pipeline.PipelineProducts at 0x7f3e7cb5dca0>"
      ]
     },
     "execution_count": 4,
     "metadata": {},
     "output_type": "execute_result"
    }
   ],
   "source": [
    "from datasci_tools import pipeline\n",
    "\n",
    "products = pipeline.PipelineProducts()\n",
    "products"
   ]
  },
  {
   "cell_type": "code",
   "execution_count": null,
   "id": "61f29328-e315-4a2b-b129-7054a4a26ab3",
   "metadata": {},
   "outputs": [],
   "source": [
    "# decimate mesh \n",
    "\n",
    "decimation_parameters = dict(\n",
    "    decimation_ratio =0.25,\n",
    ")\n",
    "\n",
    "mesh_decimated = tu.decimate(\n",
    "    mesh,\n",
    "    **decimation_parameters\n",
    ")\n",
    "\n",
    "# saving any parameters used or output products for later use\n",
    "products.set_stage_attrs(\n",
    "    stage = \"decimation\",\n",
    "    attr_dict = dict(\n",
    "        decimation_parameters = decimation_parameters,\n",
    "        segment_id = segment_id,\n",
    "    ), \n",
    ")\n",
    "\n",
    "print(products)"
   ]
  },
  {
   "cell_type": "code",
   "execution_count": null,
   "id": "456a39a1-a812-44dd-89ed-e41789119e82",
   "metadata": {},
   "outputs": [],
   "source": [
    "# Decomposition + Saving Neuron\n",
    "\n",
    "from neurd import neuron\n",
    "\n",
    "neuron_obj = neuron.Neuron(\n",
    "    mesh = mesh,\n",
    "    segment_id = segment_id, # don't need this explicitely if segment_id is already in products\n",
    "    pipeline_products = products,\n",
    "    suppress_preprocessing_print=False,\n",
    "    suppress_output=False,\n",
    ")\n",
    "\n",
    "neuron_obj\n",
    "\n",
    "vdi.save_neuron_obj(\n",
    "    neuron_obj,\n",
    "    verbose = True\n",
    ")"
   ]
  },
  {
   "cell_type": "markdown",
   "id": "11912e90-e88c-4c6a-9144-0eb78f803435",
   "metadata": {},
   "source": [
    "Step 3: Autoproofreading"
   ]
  },
  {
   "cell_type": "code",
   "execution_count": null,
   "id": "0f3d85c7-61e8-4089-8976-276eee1536a4",
   "metadata": {
    "scrolled": true
   },
   "outputs": [],
   "source": [
    "# autoproofread neuron\n",
    "\n",
    "# reload neuron\n",
    "neuron_obj_rec = vdi.load_neuron_obj(\n",
    "    segment_id = segment_id,\n",
    "    #mesh_decimated = mesh_decimated\n",
    ")\n",
    "\n",
    "# generate neuron list\n",
    "neuron_list = neuron_obj_rec.multi_soma_split_execution(\n",
    "    verbose = False,\n",
    ")\n",
    "n1 = neuron_list[0]"
   ]
  },
  {
   "cell_type": "code",
   "execution_count": null,
   "id": "184713e1-bdc1-440e-8116-0638f568486e",
   "metadata": {},
   "outputs": [],
   "source": [
    "# cell typing to return neuron_obj_axon\n",
    "\n",
    "from neurd import neuron_pipeline_utils as npu\n",
    "\n",
    "neuron_obj_axon = npu.cell_type_ax_dendr_stage(\n",
    "    n1,\n",
    "    mesh_decimated = mesh_decimated,\n",
    "    plot_axon = False,\n",
    ")\n"
   ]
  },
  {
   "cell_type": "code",
   "execution_count": null,
   "id": "c7e31a9e",
   "metadata": {},
   "outputs": [],
   "source": [
    "\n",
    "# autoproof\n",
    "neuron_obj_proof = npu.auto_proof_stage(\n",
    "    neuron_obj_axon,\n",
    "    mesh_decimated = mesh_decimated,\n",
    "    calculate_after_proof_stats = False,\n",
    ")\n",
    "\n",
    "_ = npu.after_auto_proof_stats(\n",
    "    neuron_obj_proof,\n",
    "    store_in_obj = True,\n",
    ")\n",
    "vdi.save_neuron_obj_auto_proof(\n",
    "    neuron_obj_proof,\n",
    ")\n"
   ]
  }
 ],
 "metadata": {
  "kernelspec": {
   "display_name": "Python 3 (ipykernel)",
   "language": "python",
   "name": "python3"
  },
  "language_info": {
   "codemirror_mode": {
    "name": "ipython",
    "version": 3
   },
   "file_extension": ".py",
   "mimetype": "text/x-python",
   "name": "python",
   "nbconvert_exporter": "python",
   "pygments_lexer": "ipython3",
   "version": "3.8.0"
  }
 },
 "nbformat": 4,
 "nbformat_minor": 5
}

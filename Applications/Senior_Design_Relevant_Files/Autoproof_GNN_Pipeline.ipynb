{
 "cells": [
  {
   "cell_type": "code",
   "execution_count": 1,
   "id": "4fe1715b-aa44-4554-982f-0ad5b919a595",
   "metadata": {},
   "outputs": [
    {
     "name": "stderr",
     "output_type": "stream",
     "text": [
      "/usr/local/lib/python3.8/dist-packages/python_jsonschema_objects/__init__.py:113: UserWarning: Schema id not specified. Defaulting to 'self'\n",
      "  warnings.warn(\"Schema id not specified. Defaulting to 'self'\")\n"
     ]
    }
   ],
   "source": [
    "# \n",
    "\n",
    "%load_ext autoreload\n",
    "%autoreload 2\n",
    "\n",
    "\n",
    "import neurd\n",
    "from mesh_tools import trimesh_utils as tu\n",
    "from datasci_tools import ipyvolume_utils as ipvu\n",
    "from neurd import neuron_visualizations as nviz\n",
    "from pathlib import Path\n",
    "from neurd.vdi_microns import volume_data_interface as vdi\n",
    "vdi.set_parameters_for_directory_modules()\n",
    "\n"
   ]
  },
  {
   "cell_type": "code",
   "execution_count": 2,
   "id": "f14162cc-281d-4be7-8fce-952fc093a300",
   "metadata": {},
   "outputs": [],
   "source": [
    "segment_id = 864691135567721964"
   ]
  },
  {
   "cell_type": "code",
   "execution_count": 3,
   "id": "50c890e2-a9bd-43cc-822e-876378aa7fee",
   "metadata": {},
   "outputs": [
    {
     "name": "stderr",
     "output_type": "stream",
     "text": [
      "/usr/local/lib/python3.8/dist-packages/traittypes/traittypes.py:97: UserWarning: Given trait value dtype \"float64\" does not match required type \"float64\". A coerced copy has been created.\n",
      "  warnings.warn(\n"
     ]
    },
    {
     "data": {
      "application/vnd.jupyter.widget-view+json": {
       "model_id": "37cf7d34521b4a6ea9898ce495efb1c0",
       "version_major": 2,
       "version_minor": 0
      },
      "text/plain": [
       "Container(figure=Figure(box_center=[0.5, 0.5, 0.5], box_size=[1.0, 1.0, 1.0], camera=PerspectiveCamera(fov=45.…"
      ]
     },
     "metadata": {},
     "output_type": "display_data"
    },
    {
     "data": {
      "text/plain": [
       "<trimesh.Trimesh(vertices.shape=(451453, 3), faces.shape=(899885, 3), name=`864691135567721964.off`)>"
      ]
     },
     "execution_count": 3,
     "metadata": {},
     "output_type": "execute_result"
    }
   ],
   "source": [
    "mesh = vdi.fetch_segment_id_mesh(\n",
    "    segment_id,\n",
    "    plot = True\n",
    ")\n",
    "mesh"
   ]
  },
  {
   "cell_type": "code",
   "execution_count": 4,
   "id": "5374f1c7-383b-4d19-819e-06091ce42c5a",
   "metadata": {},
   "outputs": [
    {
     "data": {
      "text/plain": [
       "<datasci_tools.pipeline.PipelineProducts at 0x7f3e7cb5dca0>"
      ]
     },
     "execution_count": 4,
     "metadata": {},
     "output_type": "execute_result"
    }
   ],
   "source": [
    "from datasci_tools import pipeline\n",
    "\n",
    "products = pipeline.PipelineProducts()\n",
    "products"
   ]
  },
  {
   "cell_type": "code",
   "execution_count": null,
   "id": "61f29328-e315-4a2b-b129-7054a4a26ab3",
   "metadata": {},
   "outputs": [],
   "source": [
    "# decimation parameters \n",
    "\n",
    "decimation_parameters = dict(\n",
    "    decimation_ratio =0.25,\n",
    ")\n",
    "\n",
    "mesh_decimated = tu.decimate(\n",
    "    mesh,\n",
    "    **decimation_parameters\n",
    ")\n",
    "\n",
    "# saving any parameters used or output products for later use\n",
    "products.set_stage_attrs(\n",
    "    stage = \"decimation\",\n",
    "    attr_dict = dict(\n",
    "        decimation_parameters = decimation_parameters,\n",
    "        segment_id = segment_id,\n",
    "    ),\n",
    "    \n",
    ")\n",
    "\n",
    "print(products)\n",
    "\n"
   ]
  },
  {
   "cell_type": "code",
   "execution_count": null,
   "id": "456a39a1-a812-44dd-89ed-e41789119e82",
   "metadata": {},
   "outputs": [],
   "source": [
    "# Decomposition + Saving Neuron\n",
    "\n",
    "from neurd import neuron\n",
    "\n",
    "neuron_obj = neuron.Neuron(\n",
    "    mesh = mesh,\n",
    "    segment_id = segment_id, # don't need this explicitely if segment_id is already in products\n",
    "    pipeline_products = products,\n",
    "    suppress_preprocessing_print=False,\n",
    "    suppress_output=False,\n",
    ")\n",
    "\n",
    "neuron_obj\n",
    "\n",
    "vdi.save_neuron_obj(\n",
    "    neuron_obj,\n",
    "    verbose = True\n",
    ")\n",
    "\n"
   ]
  },
  {
   "cell_type": "code",
   "execution_count": 5,
   "id": "0f3d85c7-61e8-4089-8976-276eee1536a4",
   "metadata": {},
   "outputs": [
    {
     "name": "stdout",
     "output_type": "stream",
     "text": [
      "Decompressing Neuron in minimal output mode...please wait\n"
     ]
    },
    {
     "ename": "AttributeError",
     "evalue": "Can't get attribute '_PrimitiveAttributes' on <module 'trimesh.primitives' from '/usr/local/lib/python3.8/dist-packages/trimesh/primitives.py'>",
     "output_type": "error",
     "traceback": [
      "\u001b[0;31m---------------------------------------------------------------------------\u001b[0m",
      "\u001b[0;31mAttributeError\u001b[0m                            Traceback (most recent call last)",
      "Cell \u001b[0;32mIn[5], line 2\u001b[0m\n\u001b[1;32m      1\u001b[0m \u001b[38;5;66;03m# reload neuron\u001b[39;00m\n\u001b[0;32m----> 2\u001b[0m neuron_obj_rec \u001b[38;5;241m=\u001b[39m \u001b[43mvdi\u001b[49m\u001b[38;5;241;43m.\u001b[39;49m\u001b[43mload_neuron_obj\u001b[49m\u001b[43m(\u001b[49m\n\u001b[1;32m      3\u001b[0m \u001b[43m    \u001b[49m\u001b[43msegment_id\u001b[49m\u001b[43m \u001b[49m\u001b[38;5;241;43m=\u001b[39;49m\u001b[43m \u001b[49m\u001b[43msegment_id\u001b[49m\u001b[43m,\u001b[49m\n\u001b[1;32m      4\u001b[0m \u001b[43m    \u001b[49m\u001b[38;5;66;43;03m#mesh_decimated = mesh_decimated\u001b[39;49;00m\n\u001b[1;32m      5\u001b[0m \u001b[43m)\u001b[49m\n",
      "File \u001b[0;32m/usr/local/lib/python3.8/dist-packages/neurd/vdi_default.py:286\u001b[0m, in \u001b[0;36mDataInterfaceBoilerplate.load_neuron_obj\u001b[0;34m(self, segment_id, mesh_decimated, mesh_filepath, meshes_directory, filepath, directory, filename, suffix, verbose, **kwargs)\u001b[0m\n\u001b[1;32m    282\u001b[0m         filename \u001b[38;5;241m=\u001b[39m \u001b[38;5;124mf\u001b[39m\u001b[38;5;124m\"\u001b[39m\u001b[38;5;132;01m{\u001b[39;00msegment_id\u001b[38;5;132;01m}\u001b[39;00m\u001b[38;5;132;01m{\u001b[39;00msuffix\u001b[38;5;132;01m}\u001b[39;00m\u001b[38;5;124m\"\u001b[39m\n\u001b[1;32m    284\u001b[0m     filepath \u001b[38;5;241m=\u001b[39m Path(directory) \u001b[38;5;241m/\u001b[39m Path(filename)\n\u001b[0;32m--> 286\u001b[0m \u001b[38;5;28;01mreturn\u001b[39;00m \u001b[43mnru\u001b[49m\u001b[38;5;241;43m.\u001b[39;49m\u001b[43mdecompress_neuron\u001b[49m\u001b[43m(\u001b[49m\n\u001b[1;32m    287\u001b[0m \u001b[43m    \u001b[49m\u001b[43mfilepath\u001b[49m\u001b[43m \u001b[49m\u001b[38;5;241;43m=\u001b[39;49m\u001b[43m \u001b[49m\u001b[43mfilepath\u001b[49m\u001b[43m,\u001b[49m\n\u001b[1;32m    288\u001b[0m \u001b[43m    \u001b[49m\u001b[43moriginal_mesh\u001b[49m\u001b[43m \u001b[49m\u001b[38;5;241;43m=\u001b[39;49m\u001b[43m \u001b[49m\u001b[43mmesh_decimated\u001b[49m\u001b[43m,\u001b[49m\n\u001b[1;32m    289\u001b[0m \u001b[43m    \u001b[49m\u001b[38;5;241;43m*\u001b[39;49m\u001b[38;5;241;43m*\u001b[39;49m\u001b[43mkwargs\u001b[49m\n\u001b[1;32m    290\u001b[0m \u001b[43m\u001b[49m\u001b[43m)\u001b[49m\n",
      "File \u001b[0;32m/usr/local/lib/python3.8/dist-packages/neurd/neuron_utils.py:1620\u001b[0m, in \u001b[0;36mdecompress_neuron\u001b[0;34m(filepath, original_mesh, suppress_output, debug_time, using_original_mesh)\u001b[0m\n\u001b[1;32m   1616\u001b[0m \u001b[38;5;28;01mwith\u001b[39;00m su\u001b[38;5;241m.\u001b[39msuppress_stdout_stderr() \u001b[38;5;28;01mif\u001b[39;00m suppress_output \u001b[38;5;28;01melse\u001b[39;00m su\u001b[38;5;241m.\u001b[39mdummy_context_mgr():\n\u001b[1;32m   1618\u001b[0m     decompr_time \u001b[38;5;241m=\u001b[39m time\u001b[38;5;241m.\u001b[39mtime()\n\u001b[0;32m-> 1620\u001b[0m     loaded_compression \u001b[38;5;241m=\u001b[39m \u001b[43msu\u001b[49m\u001b[38;5;241;43m.\u001b[39;49m\u001b[43mdecompress_pickle\u001b[49m\u001b[43m(\u001b[49m\u001b[43mfilepath\u001b[49m\u001b[43m)\u001b[49m\n\u001b[1;32m   1621\u001b[0m     \u001b[38;5;28mprint\u001b[39m(\u001b[38;5;124mf\u001b[39m\u001b[38;5;124m\"\u001b[39m\u001b[38;5;124mInside decompress neuron and decomposition_type = \u001b[39m\u001b[38;5;132;01m{\u001b[39;00mloaded_compression[\u001b[38;5;124m'\u001b[39m\u001b[38;5;124mdecomposition_type\u001b[39m\u001b[38;5;124m'\u001b[39m]\u001b[38;5;132;01m}\u001b[39;00m\u001b[38;5;124m\"\u001b[39m)\n\u001b[1;32m   1623\u001b[0m     \u001b[38;5;28;01mif\u001b[39;00m debug_time:\n",
      "File \u001b[0;32m/usr/local/lib/python3.8/dist-packages/datasci_tools/system_utils.py:284\u001b[0m, in \u001b[0;36mdecompress_pickle\u001b[0;34m(filename)\u001b[0m\n\u001b[1;32m    281\u001b[0m     filename \u001b[38;5;241m+\u001b[39m\u001b[38;5;241m=\u001b[39m \u001b[38;5;124m\"\u001b[39m\u001b[38;5;124m.pbz2\u001b[39m\u001b[38;5;124m\"\u001b[39m\n\u001b[1;32m    283\u001b[0m data \u001b[38;5;241m=\u001b[39m bz2\u001b[38;5;241m.\u001b[39mBZ2File(filename, \u001b[38;5;124m'\u001b[39m\u001b[38;5;124mrb\u001b[39m\u001b[38;5;124m'\u001b[39m)\n\u001b[0;32m--> 284\u001b[0m data \u001b[38;5;241m=\u001b[39m \u001b[43mcPickle\u001b[49m\u001b[38;5;241;43m.\u001b[39;49m\u001b[43mload\u001b[49m\u001b[43m(\u001b[49m\u001b[43mdata\u001b[49m\u001b[43m)\u001b[49m\n\u001b[1;32m    285\u001b[0m \u001b[38;5;28;01mreturn\u001b[39;00m data\n",
      "\u001b[0;31mAttributeError\u001b[0m: Can't get attribute '_PrimitiveAttributes' on <module 'trimesh.primitives' from '/usr/local/lib/python3.8/dist-packages/trimesh/primitives.py'>"
     ]
    }
   ],
   "source": [
    "# reload neuron\n",
    "neuron_obj_rec = vdi.load_neuron_obj(\n",
    "    segment_id = segment_id,\n",
    "    #mesh_decimated = mesh_decimated     ### <-- unable to reload for some reason??\n",
    ")"
   ]
  },
  {
   "cell_type": "code",
   "execution_count": null,
   "id": "184713e1-bdc1-440e-8116-0638f568486e",
   "metadata": {},
   "outputs": [],
   "source": [
    "# cell typing\n",
    "\n",
    "\n",
    "\n"
   ]
  },
  {
   "cell_type": "code",
   "execution_count": null,
   "id": "6be288cc-d032-4fda-a6ed-95c5c03865dc",
   "metadata": {},
   "outputs": [],
   "source": []
  }
 ],
 "metadata": {
  "kernelspec": {
   "display_name": "Python 3 (ipykernel)",
   "language": "python",
   "name": "python3"
  },
  "language_info": {
   "codemirror_mode": {
    "name": "ipython",
    "version": 3
   },
   "file_extension": ".py",
   "mimetype": "text/x-python",
   "name": "python",
   "nbconvert_exporter": "python",
   "pygments_lexer": "ipython3",
   "version": "3.8.0"
  }
 },
 "nbformat": 4,
 "nbformat_minor": 5
}
